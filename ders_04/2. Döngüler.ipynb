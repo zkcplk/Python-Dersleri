{
 "cells": [
  {
   "cell_type": "markdown",
   "id": "30f6e290",
   "metadata": {},
   "source": [
    "# DÖNGÜLER"
   ]
  },
  {
   "cell_type": "markdown",
   "id": "c4a83d5c",
   "metadata": {},
   "source": [
    "## 1. For in döngüsü\n",
    "### *list*, *tuple* ve *set* veri türlerinde for in döngüsü"
   ]
  },
  {
   "cell_type": "code",
   "execution_count": 1,
   "id": "9aab58e1",
   "metadata": {},
   "outputs": [],
   "source": [
    "# hepsinde aynı şekilde çalışır.\n",
    "\n",
    "liste = [1, 2, 3, 4, 5]\n",
    "demet = (1, 2, 3, 4, 5)\n",
    "küme = {1, 2, 3, 4, 5}"
   ]
  },
  {
   "cell_type": "code",
   "execution_count": 2,
   "id": "5108a34b",
   "metadata": {},
   "outputs": [
    {
     "name": "stdout",
     "output_type": "stream",
     "text": [
      "1\n",
      "2\n",
      "3\n",
      "4\n",
      "5\n"
     ]
    }
   ],
   "source": [
    "for i in liste:  # koşullu ifadelerde belirttiğimiz gibi, döngü içindeki kodlar 1 tab boşlukla yazılır.\n",
    "    print(i)"
   ]
  },
  {
   "cell_type": "markdown",
   "id": "c42551c7",
   "metadata": {},
   "source": [
    "### *dict* veri türünde for in döngüsü"
   ]
  },
  {
   "cell_type": "code",
   "execution_count": 3,
   "id": "8ea2703a",
   "metadata": {},
   "outputs": [],
   "source": [
    "sozluk = {\"bir\": 1, \"iki\": 2, \"üç\": 3}"
   ]
  },
  {
   "cell_type": "code",
   "execution_count": 4,
   "id": "c04f1e32",
   "metadata": {},
   "outputs": [
    {
     "name": "stdout",
     "output_type": "stream",
     "text": [
      "bir\n",
      "iki\n",
      "üç\n"
     ]
    }
   ],
   "source": [
    "for i in sozluk:  # sadece anahtarlar gelir.\n",
    "    print(i)"
   ]
  },
  {
   "cell_type": "code",
   "execution_count": 5,
   "id": "8202af8a",
   "metadata": {},
   "outputs": [
    {
     "data": {
      "text/plain": [
       "True"
      ]
     },
     "execution_count": 5,
     "metadata": {},
     "output_type": "execute_result"
    }
   ],
   "source": [
    "\"bir\" in sozluk   # in operatörünün sadece anahtarlarda arama yapabileceğini daha önce belirtmiştik."
   ]
  },
  {
   "cell_type": "code",
   "execution_count": 6,
   "id": "b229b95f",
   "metadata": {},
   "outputs": [
    {
     "name": "stdout",
     "output_type": "stream",
     "text": [
      "('bir', 1)\n",
      "('iki', 2)\n",
      "('üç', 3)\n"
     ]
    }
   ],
   "source": [
    "for i in sozluk.items():  # key:value ikililerini tuple şeklinde getirir.\n",
    "    print(i)"
   ]
  },
  {
   "cell_type": "code",
   "execution_count": 7,
   "id": "9c794000",
   "metadata": {},
   "outputs": [
    {
     "name": "stdout",
     "output_type": "stream",
     "text": [
      "bir 1\n",
      "iki 2\n",
      "üç 3\n"
     ]
    }
   ],
   "source": [
    "for key, value in sozluk.items():   # i yerine key,value yazılarak; anahtar:değer ikilileri ayrı ayrı çekilebilir.\n",
    "    print(key, value)"
   ]
  },
  {
   "cell_type": "code",
   "execution_count": 8,
   "id": "2d5c812c",
   "metadata": {},
   "outputs": [
    {
     "name": "stdout",
     "output_type": "stream",
     "text": [
      "bir\n",
      "iki\n",
      "üç\n",
      "1\n",
      "2\n",
      "3\n"
     ]
    }
   ],
   "source": [
    "for k in sozluk.keys():  # sadece anahtarlar gelir.\n",
    "    print(k)\n",
    "\n",
    "for v in sozluk.values():  # sadece değerler gelir.\n",
    "    print(v)"
   ]
  },
  {
   "cell_type": "markdown",
   "id": "8319023e",
   "metadata": {},
   "source": [
    "### *str* veri türünde for in döngüsü"
   ]
  },
  {
   "cell_type": "code",
   "execution_count": 9,
   "id": "0b75cd4b",
   "metadata": {},
   "outputs": [
    {
     "name": "stdout",
     "output_type": "stream",
     "text": [
      "M\n",
      "e\n",
      "r\n",
      "h\n",
      "a\n",
      "b\n",
      "a\n"
     ]
    }
   ],
   "source": [
    "text = \"Merhaba\"\n",
    "\n",
    "for i in text:\n",
    "    print(i)"
   ]
  },
  {
   "cell_type": "markdown",
   "id": "53c79c0e",
   "metadata": {},
   "source": [
    "### *kompozit* verilerde for in döngüsü\n",
    "Elemanları demet olan bir liste kompozit verilere örnek verilebilir."
   ]
  },
  {
   "cell_type": "code",
   "execution_count": 10,
   "id": "16bf4ec6",
   "metadata": {},
   "outputs": [
    {
     "name": "stdout",
     "output_type": "stream",
     "text": [
      "(1, 2)\n",
      "1\n",
      "2\n",
      "(3, 4)\n",
      "3\n",
      "4\n",
      "(5, 6)\n",
      "5\n",
      "6\n",
      "(7, 8)\n",
      "7\n",
      "8\n"
     ]
    }
   ],
   "source": [
    "listem = [(1, 2), (3, 4), (5, 6), (7, 8)]\n",
    "\n",
    "for i in listem:\n",
    "    print(i)\n",
    "    print(i[0])\n",
    "    print(i[1])"
   ]
  },
  {
   "cell_type": "code",
   "execution_count": 11,
   "id": "9bb02385",
   "metadata": {},
   "outputs": [
    {
     "name": "stdout",
     "output_type": "stream",
     "text": [
      "1 2\n",
      "3 4\n",
      "5 6\n",
      "7 8\n"
     ]
    }
   ],
   "source": [
    "for x, y in listem:\n",
    "    print(x, y)"
   ]
  },
  {
   "cell_type": "code",
   "execution_count": 12,
   "id": "2fbfd374",
   "metadata": {},
   "outputs": [
    {
     "name": "stdout",
     "output_type": "stream",
     "text": [
      "1 2 3\n",
      "3 4 5\n",
      "5 6 7\n",
      "7 8 9\n"
     ]
    }
   ],
   "source": [
    "listem = [(1, 2, 3), (3, 4, 5), (5, 6, 7), (7, 8, 9)]\n",
    "\n",
    "for x, y, z in listem:\n",
    "    print(x, y, z)"
   ]
  },
  {
   "cell_type": "markdown",
   "id": "2bc4ab2e",
   "metadata": {},
   "source": [
    "Elemanları sözlük olan bir liste de yine kompozit bir veridir."
   ]
  },
  {
   "cell_type": "code",
   "execution_count": 15,
   "id": "ed9cc24b",
   "metadata": {},
   "outputs": [
    {
     "name": "stdout",
     "output_type": "stream",
     "text": [
      "{'bir': 1}\n",
      "{'iki': 2}\n",
      "{'üç': 3}\n"
     ]
    }
   ],
   "source": [
    "listem = [{\"bir\": 1}, {\"iki\": 2}, {\"üç\": 3}]\n",
    "\n",
    "for i in listem:\n",
    "    print(i)"
   ]
  },
  {
   "cell_type": "code",
   "execution_count": 16,
   "id": "f3f12c3d",
   "metadata": {},
   "outputs": [
    {
     "name": "stdout",
     "output_type": "stream",
     "text": [
      "bir 1\n",
      "iki 2\n",
      "üç 3\n"
     ]
    }
   ],
   "source": [
    "for i in listem:                # i değişkeni bir sözlüktür.\n",
    "    for k, v in i.items():      # i değişkeni sözlük olduğu için, key:value ikilisine bu şekilde ulaşılabilir.\n",
    "        print(k, v)"
   ]
  },
  {
   "cell_type": "markdown",
   "id": "c6593c69",
   "metadata": {},
   "source": [
    "### *range()* fonksiyonu ile oluşturulan for in döngüsü"
   ]
  },
  {
   "cell_type": "markdown",
   "id": "00a57a65",
   "metadata": {},
   "source": [
    "Bu fonksiyon, sayı dizisi oluşturabilmeyi sağlar ve üç bölümden oluşur.<br><br>\n",
    "<b>range(</b><font color=\"green\">başlangıç</font> <b style=\"color:red\">:</b> <font color=\"navy\">bitiş (<u>dahil değil</u>)</font> <b style=\"color:red\">:</b> atlama<b>)</b><br>\n",
    "\n",
    "* **başlangıç** değeri mutlaka belirtilmelidir. Sadece başlangıç belirtilirse, sıfırdan o değere kadar gidilir.\n",
    "* **bitiş** değeri hiçbir zaman dahil edilmez.\n",
    "* **atlama** değeri belirtilmezse, <b>1</b>  sayılır."
   ]
  },
  {
   "cell_type": "code",
   "execution_count": 17,
   "id": "2ba42499",
   "metadata": {},
   "outputs": [
    {
     "name": "stdout",
     "output_type": "stream",
     "text": [
      "range(0, 10)\n"
     ]
    }
   ],
   "source": [
    "print(range(10))   # print() ile yazdırılırsa, sayı dizisi gözükmez.\n",
    "                   # sadece başlangıç değeri verilirse, 0'dan başlangıç değerine kadar sayı dizisi oluşturulur."
   ]
  },
  {
   "cell_type": "code",
   "execution_count": 18,
   "id": "b6463261",
   "metadata": {},
   "outputs": [
    {
     "name": "stdout",
     "output_type": "stream",
     "text": [
      "0 1 2 3 4 5 6 7 8 9\n",
      "0 1 2 3 4 5 6 7 8 9\n"
     ]
    }
   ],
   "source": [
    "#   sayı dizisinin görülebilmesi için,\n",
    "#   range(...)'in önüne * (yıldız) karakteri eklenmesi gerekir.\n",
    "\n",
    "print(*range(10))\n",
    "print(*range(0, 10))"
   ]
  },
  {
   "cell_type": "code",
   "execution_count": 21,
   "id": "ab4f3ab0",
   "metadata": {},
   "outputs": [
    {
     "name": "stdout",
     "output_type": "stream",
     "text": [
      "0 2 4 6 8 10 12 14 16 18 20 22 24 26 28\n"
     ]
    }
   ],
   "source": [
    "print(*range(0, 30, 2))  # atlama değeri 2 olduğu için, 2şer 2şer ilerlenir."
   ]
  },
  {
   "cell_type": "code",
   "execution_count": 19,
   "id": "ab132ffc",
   "metadata": {},
   "outputs": [
    {
     "name": "stdout",
     "output_type": "stream",
     "text": [
      "30 29 28 27 26 25 24 23 22 21 20 19 18 17 16 15 14 13 12 11 10 9 8 7 6 5 4 3 2 1\n"
     ]
    }
   ],
   "source": [
    "print(*range(30, 0, -1)) # sayı dizisini tersten oluştururken, yine bitiş değeri dahil edilmez."
   ]
  },
  {
   "cell_type": "markdown",
   "id": "fa8ff635",
   "metadata": {},
   "source": [
    "<b><i>range()</i> fonksiyonunun for in döngüsündeki kullanımı</b>"
   ]
  },
  {
   "cell_type": "code",
   "execution_count": 20,
   "id": "f0ff9683",
   "metadata": {},
   "outputs": [
    {
     "name": "stdout",
     "output_type": "stream",
     "text": [
      "0\n",
      "1\n",
      "2\n",
      "3\n",
      "4\n",
      "5\n",
      "6\n",
      "7\n",
      "8\n",
      "9\n"
     ]
    }
   ],
   "source": [
    "for i in range(10):\n",
    "    print(i)"
   ]
  },
  {
   "cell_type": "code",
   "execution_count": 21,
   "id": "849dc2de",
   "metadata": {},
   "outputs": [
    {
     "name": "stdout",
     "output_type": "stream",
     "text": [
      "************\n",
      "***********\n",
      "**********\n",
      "*********\n",
      "********\n",
      "*******\n",
      "******\n",
      "*****\n",
      "****\n",
      "***\n",
      "**\n",
      "*\n"
     ]
    }
   ],
   "source": [
    "for i in range(12, 0, -1):\n",
    "    print(i * \"*\")"
   ]
  },
  {
   "cell_type": "markdown",
   "id": "87561097",
   "metadata": {},
   "source": [
    "## 2. While döngüsü\n",
    "Koşula bağlı olarak çalışan döngülerdir. Koşul geçerli olduğu sürece döngü devam eder."
   ]
  },
  {
   "cell_type": "code",
   "execution_count": 22,
   "id": "c716abad",
   "metadata": {},
   "outputs": [
    {
     "name": "stdout",
     "output_type": "stream",
     "text": [
      "1\n",
      "2\n",
      "3\n",
      "4\n",
      "5\n",
      "6\n",
      "7\n",
      "8\n",
      "9\n",
      "10\n"
     ]
    }
   ],
   "source": [
    "i = 0\n",
    "while i < 10:      # koşul\n",
    "    i += 1         # while döngüsünün kapsamındaki kodlar indent içerisinde (1 tab boşluktan sonra) yazılır.\n",
    "    print(i)"
   ]
  },
  {
   "cell_type": "markdown",
   "id": "c470c89b",
   "metadata": {},
   "source": [
    "### Sonsuz Döngü\n",
    "While döngüsünün koşulunun sürekli sağlanması (True olması) durumunda ortaya çıkan döngüdür. Bazen hatalı olarak, bazen de özellikle kullanılır."
   ]
  },
  {
   "cell_type": "code",
   "execution_count": 9,
   "id": "7457a976",
   "metadata": {},
   "outputs": [
    {
     "name": "stdout",
     "output_type": "stream",
     "text": [
      "sürekli çalışır...\n"
     ]
    }
   ],
   "source": [
    "while True:\n",
    "    # sonsuz döngüdür.\n",
    "    # sonlandırmak için PyCharm'da kırmızı kareye tıklayın.\n",
    "    # Jupyter Notebook'ta, hücre mavi olarak seçili iken iki defa hızlıca sıfıra basın, çıkan panelde Restart'a basın.\n",
    "    print(\"sürekli çalışır...\")"
   ]
  },
  {
   "cell_type": "markdown",
   "id": "6e74b4db",
   "metadata": {},
   "source": [
    "### *list* ve *tuple* veri türlerinde while döngüsü"
   ]
  },
  {
   "cell_type": "code",
   "execution_count": 1,
   "id": "adedf17b",
   "metadata": {},
   "outputs": [
    {
     "name": "stdout",
     "output_type": "stream",
     "text": [
      "python\n",
      "java\n",
      "c++\n",
      "dart\n",
      "javascript\n"
     ]
    }
   ],
   "source": [
    "ortak = [\"python\", \"java\", \"c++\", \"dart\", \"javascript\"]\n",
    "toplam = len(ortak)\n",
    "\n",
    "i = 0\n",
    "while i < toplam:\n",
    "    print(ortak[i])\n",
    "    i += 1"
   ]
  },
  {
   "cell_type": "markdown",
   "id": "93da4669",
   "metadata": {},
   "source": [
    "### *set* ve *dict* veri türlerinde while döngüsü çalışmaz!\n",
    "Bu veri türlerinde indisleme mantığı olmadığı için, while döngüsü kullanılamaz. Fakat bazı istisnalar olabilir."
   ]
  },
  {
   "cell_type": "code",
   "execution_count": 2,
   "id": "9b9b1d3d",
   "metadata": {},
   "outputs": [
    {
     "name": "stdout",
     "output_type": "stream",
     "text": [
      "python\n",
      "java\n",
      "c++\n",
      "javascript\n",
      "dart\n"
     ]
    }
   ],
   "source": [
    "# İstisna\n",
    "sozluk = {0:\"python\", 1:\"java\", 2:\"c++\", 3:\"javascript\", 4:\"dart\"}\n",
    "\n",
    "i = 0\n",
    "while i < len(sozluk):\n",
    "    print(sozluk[i])\n",
    "    i += 1"
   ]
  },
  {
   "cell_type": "markdown",
   "id": "74f81d88",
   "metadata": {},
   "source": [
    "## 3. *Break* ve *Continue* komutları\n",
    "Diğer programlama dillerindeki **break** ve **continue** komutlarıyla aynı mantıkta çalışır. Hem *for in* hem de *while* döngülerinde kullanılabilir."
   ]
  },
  {
   "cell_type": "code",
   "execution_count": 3,
   "id": "121d32c8",
   "metadata": {},
   "outputs": [
    {
     "name": "stdout",
     "output_type": "stream",
     "text": [
      "s değeri: 0\n",
      "Burada continue çalışmadı...\n",
      "s değeri: 1\n",
      "Burada continue çalışmadı...\n",
      "s değeri: 2\n",
      "Burada continue çalışmadı...\n",
      "s değeri: 3\n",
      "Burada continue çalışmadı...\n",
      "s değeri: 4\n",
      "Burada continue ÇALIŞTI\n",
      "s değeri: 5\n",
      "Burada continue ÇALIŞTI\n",
      "s değeri: 6\n"
     ]
    }
   ],
   "source": [
    "s = 0\n",
    "while s < 10:\n",
    "    print(\"s değeri: \" + str(s))\n",
    "    s += 1\n",
    "\n",
    "    if s == 7:\n",
    "        break\n",
    "    \n",
    "    if s > 4:\n",
    "        print('Burada continue ÇALIŞTI')\n",
    "        continue\n",
    "    \n",
    "    print('Burada continue çalışmadı...')"
   ]
  },
  {
   "cell_type": "markdown",
   "id": "8d6b974a",
   "metadata": {},
   "source": [
    "## 4. List Comprehension\n",
    "Bir listeyi değiştirerek veya aynısını kopyalayarak, pratik bir şekilde yeni bir liste oluşturmaya yarar. "
   ]
  },
  {
   "cell_type": "markdown",
   "id": "70e8a94b",
   "metadata": {},
   "source": [
    "<img src=\"data:image/png;base64,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\">"
   ]
  },
  {
   "cell_type": "code",
   "execution_count": 4,
   "id": "f0080b52",
   "metadata": {},
   "outputs": [
    {
     "data": {
      "text/plain": [
       "[0, 1, 2, 3, 4, 5, 6, 7, 8, 9]"
      ]
     },
     "execution_count": 4,
     "metadata": {},
     "output_type": "execute_result"
    }
   ],
   "source": [
    "# içteki for in döngüsünde elde edilen değerler, aynen yeni_liste'ye aktarılıyor.\n",
    "\n",
    "yeni_liste = [ i for i in range(10) ] \n",
    "yeni_liste"
   ]
  },
  {
   "cell_type": "code",
   "execution_count": 5,
   "id": "5fb2b86d",
   "metadata": {},
   "outputs": [
    {
     "data": {
      "text/plain": [
       "[0, 2, 4, 6, 8, 10, 12, 14, 16, 18]"
      ]
     },
     "execution_count": 5,
     "metadata": {},
     "output_type": "execute_result"
    }
   ],
   "source": [
    "# döngüyle elde edilen değerler, yeni_liste'ye eklenmeden önce 2 ile çarpılıyor.\n",
    "\n",
    "yeni_liste = [ i*2 for i in range(10) ] \n",
    "yeni_liste"
   ]
  },
  {
   "cell_type": "code",
   "execution_count": 6,
   "id": "45fd68a6",
   "metadata": {},
   "outputs": [
    {
     "data": {
      "text/plain": [
       "[2, 6, 10, 14, 18]"
      ]
     },
     "execution_count": 6,
     "metadata": {},
     "output_type": "execute_result"
    }
   ],
   "source": [
    "# döngü, sağ kısımda belirtilen koşula göre çalıştırılıyor ve \n",
    "# üretilen değerler 2 ile çarpılarak yeni_liste'ye ekleniyor.\n",
    "\n",
    "yeni_liste = [ i*2 for i in range(10) if i % 2 == 1 ] \n",
    "yeni_liste"
   ]
  },
  {
   "cell_type": "markdown",
   "id": "a5e1d8ba",
   "metadata": {},
   "source": [
    "Yukarıdaki örneklerde *range(10)* yerine daha önceden oluşturulan listeler de kullanılabilir. Ayrıca *list* içinde *tuple* gibi  kompozit veri örnekleri için de **List Comprehension** kullanılabilir."
   ]
  },
  {
   "cell_type": "code",
   "execution_count": 7,
   "id": "d90abe4c",
   "metadata": {},
   "outputs": [
    {
     "data": {
      "text/plain": [
       "[2, 4, 6, 8]"
      ]
     },
     "execution_count": 7,
     "metadata": {},
     "output_type": "execute_result"
    }
   ],
   "source": [
    "liste1 = [1,2,3,4]\n",
    "liste2 = [i * 2 for i in liste1]\n",
    "liste2"
   ]
  },
  {
   "cell_type": "code",
   "execution_count": 8,
   "id": "844553d0",
   "metadata": {},
   "outputs": [
    {
     "name": "stdout",
     "output_type": "stream",
     "text": [
      "[2, 12, 30]\n"
     ]
    }
   ],
   "source": [
    "demetlistesi = [(1, 2), (3, 4), (5, 6)]\n",
    "yeni_liste = [i * j for i, j in demetlistesi]  # her bir demet elemanındaki elemanlar çarpılarak listeye ekleniyor.\n",
    "print(yeni_liste)"
   ]
  },
  {
   "cell_type": "markdown",
   "id": "c48c83a4",
   "metadata": {},
   "source": [
    "<hr>\n",
    "<p style=\"text-align:center;font-size:12px\">\n",
    "<b>Öğr. Gör. Zeki ÇIPLAK</b><br>\n",
    "İstanbul Gedik Üniversitesi<br>\n",
    "Gedik MYO / Bilgisayar Programcılığı<br>\n",
    "<a href=\"https://linkedin.com/in/zkcplk\">LinkedIn</a> \n",
    "<a href=\"https://zkcplk.medium.com\">Blog</a> \n",
    "<a href=\"https://youtube.com/@zkcplk\">YouTube</a> \n",
    "</p>"
   ]
  }
 ],
 "metadata": {
  "kernelspec": {
   "display_name": "Python 3 (ipykernel)",
   "language": "python",
   "name": "python3"
  },
  "language_info": {
   "codemirror_mode": {
    "name": "ipython",
    "version": 3
   },
   "file_extension": ".py",
   "mimetype": "text/x-python",
   "name": "python",
   "nbconvert_exporter": "python",
   "pygments_lexer": "ipython3",
   "version": "3.9.13"
  }
 },
 "nbformat": 4,
 "nbformat_minor": 5
}
