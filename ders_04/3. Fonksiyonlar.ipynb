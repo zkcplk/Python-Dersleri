{
 "cells": [
  {
   "cell_type": "markdown",
   "id": "464e0dc1",
   "metadata": {},
   "source": [
    "# FONKSİYONLAR\n",
    "## 1. Giriş\n",
    "Fonksiyonlar, toplu iş paketleri olarak tanımlanır. Özellikle tekrar eden birçok işlem, fonksiyonlar aracılığıyla kodları tekrar tekrar yazmaya gerek kalmadan gerçekleştirilebilir. Python'da fonksiyon oluşturmak için **def** anahtar kelimesi kullanılır. Fonksiyonun içeriğindeki kodlar yazılırken, mutlaka indent bırakılmalıdır. (Indent: *4 space* veya *1 tab*)"
   ]
  },
  {
   "cell_type": "code",
   "execution_count": 1,
   "id": "087543f6",
   "metadata": {},
   "outputs": [],
   "source": [
    "def deneme():\n",
    "    print(\"deneme fonksiyonu çalıştırıldı!\")"
   ]
  },
  {
   "cell_type": "markdown",
   "id": "ea614365",
   "metadata": {},
   "source": [
    "Fonksiyonlar oluşturulduktan sonra tetiklenmelidir. Aksi halde çalışmazlar."
   ]
  },
  {
   "cell_type": "code",
   "execution_count": 2,
   "id": "7edc4433",
   "metadata": {},
   "outputs": [
    {
     "name": "stdout",
     "output_type": "stream",
     "text": [
      "deneme fonksiyonu çalıştırıldı!\n"
     ]
    }
   ],
   "source": [
    "deneme() # deneme adlı fonksiyon çağırılıyor/tetikleniyor."
   ]
  },
  {
   "cell_type": "markdown",
   "id": "405228c4",
   "metadata": {},
   "source": [
    "Fonksiyonların veri türü **type()** ile incelenirse, veri türünün **function** olduğu görülür."
   ]
  },
  {
   "cell_type": "code",
   "execution_count": 3,
   "id": "a2be9b61",
   "metadata": {},
   "outputs": [
    {
     "data": {
      "text/plain": [
       "function"
      ]
     },
     "execution_count": 3,
     "metadata": {},
     "output_type": "execute_result"
    }
   ],
   "source": [
    "type(deneme)"
   ]
  },
  {
   "cell_type": "markdown",
   "id": "27ff2192",
   "metadata": {},
   "source": [
    "Fonksiyonlar oluşturulurken, fonksiyonun nasıl çalıştığıyla ilgili bilgi vermek için üç tırnak içerisinde açıklamalar yapılabilir."
   ]
  },
  {
   "cell_type": "code",
   "execution_count": 4,
   "id": "60177eb2",
   "metadata": {},
   "outputs": [
    {
     "name": "stdout",
     "output_type": "stream",
     "text": [
      "diğer fonksiyon çalıştırıldı!\n"
     ]
    }
   ],
   "source": [
    "def diger_fonksiyon():\n",
    "    \"\"\" diger_fonksiyon hakkında açıklamalar \"\"\"\n",
    "    print(\"diğer fonksiyon çalıştırıldı!\")\n",
    "    \n",
    "diger_fonksiyon()"
   ]
  },
  {
   "cell_type": "markdown",
   "id": "54174cf5",
   "metadata": {},
   "source": [
    "## 2. Değer döndürmeyen fonksiyonlar\n",
    "Buraya kadar örneklerini verdiğimiz fonksiyonlar, değer döndürmeyen fonksiyonlardır. Değer döndürmeyen fonksiyonlar **None** sonucunu döndürürler. Fakat None, Python'da bir değer olarak sayılmadığı için, teknik olarak o fonksiyon değer döndürmemiş olur. Daha fazla ayrıntı için NoneType konusunda verilen notlar incelenebilir."
   ]
  },
  {
   "cell_type": "code",
   "execution_count": 5,
   "id": "5b4acb97",
   "metadata": {},
   "outputs": [
    {
     "name": "stdout",
     "output_type": "stream",
     "text": [
      "deneme fonksiyonu çalıştırıldı!\n",
      "None\n"
     ]
    }
   ],
   "source": [
    "deger = deneme()\n",
    "\n",
    "print(deger)"
   ]
  },
  {
   "cell_type": "code",
   "execution_count": 6,
   "id": "fab01146",
   "metadata": {},
   "outputs": [
    {
     "name": "stdout",
     "output_type": "stream",
     "text": [
      "diğer fonksiyon çalıştırıldı!\n",
      "None\n"
     ]
    }
   ],
   "source": [
    "deger = diger_fonksiyon()\n",
    "\n",
    "print(deger)"
   ]
  },
  {
   "cell_type": "markdown",
   "id": "2b650492",
   "metadata": {},
   "source": [
    "## 3. Değer döndüren fonksiyonlar\n",
    "Bir fonksiyon; çalıştırıldıktan sonra bir değişkene eşitlendiğinde, o değişkenin *None* dışında bir değer almasını sağlıyorsa, o fonksiyon değer döndüren bir fonksiyondur. Değer döndüren fonksiyonlar, **return** anahtar kelimesi ile değer döndürme işlemini gerçekleştirirler."
   ]
  },
  {
   "cell_type": "code",
   "execution_count": 7,
   "id": "b6a07342",
   "metadata": {},
   "outputs": [],
   "source": [
    "def toplama():\n",
    "    \"\"\"\n",
    "    Bu fonksiyon çalıştırıldıktan sonra, kullanıcıdan iki sayı alır.\n",
    "    Alınan sayılar matematiksel olarak toplanarak, toplam sonucu döndürülür.\n",
    "    \"\"\"\n",
    "    sayi1 = int(input(\"Lütfen birinci sayıyı giriniz: \\n\"))\n",
    "    sayi2 = int(input(\"Lütfen ikinci sayıyı giriniz: \\n\"))\n",
    "    \n",
    "    sonuc = sayi1 + sayi2\n",
    "    return sonuc"
   ]
  },
  {
   "cell_type": "code",
   "execution_count": 8,
   "id": "1c27551f",
   "metadata": {},
   "outputs": [
    {
     "name": "stdout",
     "output_type": "stream",
     "text": [
      "Lütfen birinci sayıyı giriniz: \n",
      "10\n",
      "Lütfen ikinci sayıyı giriniz: \n",
      "20\n"
     ]
    }
   ],
   "source": [
    "toplam = 0\n",
    "\n",
    "toplam = toplama()"
   ]
  },
  {
   "cell_type": "code",
   "execution_count": 9,
   "id": "af71d9a4",
   "metadata": {},
   "outputs": [
    {
     "data": {
      "text/plain": [
       "30"
      ]
     },
     "execution_count": 9,
     "metadata": {},
     "output_type": "execute_result"
    }
   ],
   "source": [
    "toplam"
   ]
  },
  {
   "cell_type": "markdown",
   "id": "5d989eb0",
   "metadata": {},
   "source": [
    "Değer döndüren bir fonksiyon içerisinde **return** kelimesinden sonra yazılan kodlar çalıştırılmaz.<br>\n",
    "Fakat böyle bir kod yazılsa da, hata vermez. Sadece fonksiyon tetiklendiğinde **return** sonrası kodlar çalıştırılmamış olur."
   ]
  },
  {
   "cell_type": "code",
   "execution_count": 10,
   "id": "485e78f4",
   "metadata": {},
   "outputs": [],
   "source": [
    "def işlem():\n",
    "    return 1\n",
    "    print(\"bu kod çalışmaz!\")"
   ]
  },
  {
   "cell_type": "code",
   "execution_count": 11,
   "id": "cd2e3c8e",
   "metadata": {},
   "outputs": [
    {
     "data": {
      "text/plain": [
       "1"
      ]
     },
     "execution_count": 11,
     "metadata": {},
     "output_type": "execute_result"
    }
   ],
   "source": [
    "işlem()"
   ]
  },
  {
   "cell_type": "markdown",
   "id": "ee38a0f5",
   "metadata": {},
   "source": [
    "## 4. Fonksiyon Parametreleri (Argümanlar)\n",
    "Parametre alan fonksiyonlar, parametreden verilen değerlere göre farklı çalışabilirler.<br>\n",
    "Örneğin bir toplama fonksiyonu, toplanacak iki sayıyı parametre olarak alıyorsa, girilen her farklı sayıda, farklı bir sonuç üretecektir. "
   ]
  },
  {
   "cell_type": "code",
   "execution_count": 12,
   "id": "eb4f4d76",
   "metadata": {},
   "outputs": [],
   "source": [
    "# hem parametreli, hem değer döndüren fonksiyon\n",
    "\n",
    "def toplama(sayi1, sayi2):\n",
    "    sonuc = sayi1 + sayi2\n",
    "    return sonuc"
   ]
  },
  {
   "cell_type": "code",
   "execution_count": 13,
   "id": "6596d06c",
   "metadata": {},
   "outputs": [
    {
     "data": {
      "text/plain": [
       "845345539"
      ]
     },
     "execution_count": 13,
     "metadata": {},
     "output_type": "execute_result"
    }
   ],
   "source": [
    "toplama(845345534,5)"
   ]
  },
  {
   "cell_type": "markdown",
   "id": "894948e1",
   "metadata": {},
   "source": [
    "*Aynı fonksiyon isminde* yeni bir fonksiyon oluşturulursa, *eski fonksiyon devre dışı* kalır. Yukarıda *toplama()* adlı parametresiz bir fonksiyon oluşturulmuştu. Daha sonra aynı isimle, yeni ve parametreli bir fonksiyon oluşturulunca, eski fonksiyon devre dışı kalmıştır. Aşağıda, parametresiz *toplama()* fonksiyonunun çalıştırıldığında, verdiği hata mesajı görülebilir."
   ]
  },
  {
   "cell_type": "code",
   "execution_count": 14,
   "id": "69806a1d",
   "metadata": {},
   "outputs": [
    {
     "ename": "TypeError",
     "evalue": "toplama() missing 2 required positional arguments: 'sayi1' and 'sayi2'",
     "output_type": "error",
     "traceback": [
      "\u001b[1;31m---------------------------------------------------------------------------\u001b[0m",
      "\u001b[1;31mTypeError\u001b[0m                                 Traceback (most recent call last)",
      "\u001b[1;32m~\\AppData\\Local\\Temp\\ipykernel_11252\\879508339.py\u001b[0m in \u001b[0;36m<module>\u001b[1;34m\u001b[0m\n\u001b[1;32m----> 1\u001b[1;33m \u001b[0mtoplama\u001b[0m\u001b[1;33m(\u001b[0m\u001b[1;33m)\u001b[0m \u001b[1;31m# argümanları girilmediği için hata meydana gelir!\u001b[0m\u001b[1;33m\u001b[0m\u001b[1;33m\u001b[0m\u001b[0m\n\u001b[0m",
      "\u001b[1;31mTypeError\u001b[0m: toplama() missing 2 required positional arguments: 'sayi1' and 'sayi2'"
     ]
    }
   ],
   "source": [
    "toplama() # argümanları girilmediği için hata meydana gelir!"
   ]
  },
  {
   "cell_type": "markdown",
   "id": "6c64b39f",
   "metadata": {},
   "source": [
    "Bir fonksiyon parametreli tanımlanmışsa, argüman girilmediğinde hata meydana gelir."
   ]
  },
  {
   "cell_type": "code",
   "execution_count": 15,
   "id": "64626c44",
   "metadata": {},
   "outputs": [],
   "source": [
    "# parametreli ve değer döndürmeyen fonksiyon\n",
    "\n",
    "def yaz(metin):\n",
    "    print(metin)"
   ]
  },
  {
   "cell_type": "code",
   "execution_count": 16,
   "id": "09298c97",
   "metadata": {},
   "outputs": [
    {
     "name": "stdout",
     "output_type": "stream",
     "text": [
      "Merhaba\n",
      "Nasılsın?\n",
      "İyi misin?\n"
     ]
    }
   ],
   "source": [
    "yaz(\"Merhaba\")\n",
    "yaz(\"Nasılsın?\")\n",
    "yaz(\"İyi misin?\")"
   ]
  },
  {
   "cell_type": "markdown",
   "id": "d33c5665",
   "metadata": {},
   "source": [
    "<b>Parametre (Parameter) ve Argüman (Argument) terimleri hakkında...</b><br>\n",
    "Parametre ve Argüman terimleri, çoğu zaman birbirinin yerine kullanılırlar. Bu çok büyük bir yanlış değildir. Fakat aslında parametre, *fonksiyon oluşturulurken* parantezler arasında virgüllerle ayrılan değerlere verilen isimdir. *Fonksiyon kullanılırken* ise parantezler arasında verilen değerler argüman olarak sayılırlar."
   ]
  },
  {
   "cell_type": "markdown",
   "id": "2794f07e",
   "metadata": {},
   "source": [
    "İç içe kullanılan fonksiyonlarda, **en önce en içteki** fonksiyon çalışır."
   ]
  },
  {
   "cell_type": "code",
   "execution_count": 17,
   "id": "6e81e7b0",
   "metadata": {},
   "outputs": [
    {
     "name": "stdout",
     "output_type": "stream",
     "text": [
      "Toplam: 30\n"
     ]
    }
   ],
   "source": [
    "yaz(\"Toplam: \" + str(toplama(10,20)))"
   ]
  },
  {
   "cell_type": "markdown",
   "id": "6515b3bc",
   "metadata": {},
   "source": [
    "Parametreli oluşturulan bir fonksiyonun argümanları girilmezse, hata meydana gelir."
   ]
  },
  {
   "cell_type": "code",
   "execution_count": 18,
   "id": "80bb27ac",
   "metadata": {},
   "outputs": [],
   "source": [
    "def carpma(s1, s2):\n",
    "    return s1 * s2"
   ]
  },
  {
   "cell_type": "code",
   "execution_count": 19,
   "id": "2971d409",
   "metadata": {},
   "outputs": [
    {
     "ename": "TypeError",
     "evalue": "carpma() missing 2 required positional arguments: 's1' and 's2'",
     "output_type": "error",
     "traceback": [
      "\u001b[1;31m---------------------------------------------------------------------------\u001b[0m",
      "\u001b[1;31mTypeError\u001b[0m                                 Traceback (most recent call last)",
      "\u001b[1;32m~\\AppData\\Local\\Temp\\ipykernel_11252\\2325127070.py\u001b[0m in \u001b[0;36m<module>\u001b[1;34m\u001b[0m\n\u001b[1;32m----> 1\u001b[1;33m \u001b[0mcarpma\u001b[0m\u001b[1;33m(\u001b[0m\u001b[1;33m)\u001b[0m\u001b[1;33m\u001b[0m\u001b[1;33m\u001b[0m\u001b[0m\n\u001b[0m",
      "\u001b[1;31mTypeError\u001b[0m: carpma() missing 2 required positional arguments: 's1' and 's2'"
     ]
    }
   ],
   "source": [
    "carpma()"
   ]
  },
  {
   "cell_type": "markdown",
   "id": "5b3091ed",
   "metadata": {},
   "source": [
    "### İsimli parametreler\n",
    "Parametreli oluşturulan fonksiyonların, bazen argümanlarının girilmesi zorunlu kılınmayabilir. Böyle durumlarda, parametrelere varsayılan (default) değer ataması yapılır. Varsayılan değere sahip parametrelerin girilmesi zorunlu değildir ve fonksiyon varsayılan değerle çalışır. Bu şekilde, argüman girilmediğinde oluşacak hataların da önüne geçilmiş olunur."
   ]
  },
  {
   "cell_type": "code",
   "execution_count": 20,
   "id": "9c244ce3",
   "metadata": {},
   "outputs": [],
   "source": [
    "def merhaba(isim=\"İsimsiz kişi\", mesaj=\"Nasılsın?\"):\n",
    "    print(\"Merhaba \" + isim + \", \" + mesaj)"
   ]
  },
  {
   "cell_type": "code",
   "execution_count": 21,
   "id": "80c1399e",
   "metadata": {},
   "outputs": [
    {
     "name": "stdout",
     "output_type": "stream",
     "text": [
      "Merhaba Python, Naber?\n"
     ]
    }
   ],
   "source": [
    "merhaba(\"Python\", \"Naber?\") # argümanını girdiğimizde girilen argümana göre çalışır. aksi durumda, varsayılan değerle çalışır."
   ]
  },
  {
   "cell_type": "markdown",
   "id": "1664b319",
   "metadata": {},
   "source": [
    "Fonksiyon argümanları belli bir sıraya göre girilmelidir. Aksi durumda yanlış çalışabilir. Örneğin, yukarıdaki **merhaba(...)** fonksiyonundaki ilk argüman *isim*'dir. İkinci argüman ise *mesaj*'dır. Kullanırken de bu sıraya göre kullanmak gerekir."
   ]
  },
  {
   "cell_type": "code",
   "execution_count": 22,
   "id": "b639bf45",
   "metadata": {},
   "outputs": [],
   "source": [
    "def mesaj(isim=\"İsimsiz\", sayı=1):\n",
    "    print(isim, \"İstanbul'a\", sayı, \"defa geldi.\")"
   ]
  },
  {
   "cell_type": "code",
   "execution_count": 23,
   "id": "3b66a003",
   "metadata": {},
   "outputs": [
    {
     "name": "stdout",
     "output_type": "stream",
     "text": [
      "Ali İstanbul'a 5 defa geldi.\n"
     ]
    }
   ],
   "source": [
    "mesaj(\"Ali\", 5)"
   ]
  },
  {
   "cell_type": "code",
   "execution_count": 24,
   "id": "f62ed5e3",
   "metadata": {},
   "outputs": [
    {
     "name": "stdout",
     "output_type": "stream",
     "text": [
      "5 İstanbul'a Ali defa geldi.\n"
     ]
    }
   ],
   "source": [
    "mesaj(5, \"Ali\") # argümanlar sıraya göre kullanılmazsa, hata meydana gelebilir veya yanlış bir sonuç çıkarabilir."
   ]
  },
  {
   "cell_type": "markdown",
   "id": "b542c173",
   "metadata": {},
   "source": [
    "Fonksiyon kullanımında, argümanların **isimleri direkt olarak belirtilirse**, fonksiyondaki sıraya göre kullanılmaları gerekmez."
   ]
  },
  {
   "cell_type": "code",
   "execution_count": 25,
   "id": "186dc6f8",
   "metadata": {},
   "outputs": [
    {
     "name": "stdout",
     "output_type": "stream",
     "text": [
      "Ayşe İstanbul'a 5 defa geldi.\n"
     ]
    }
   ],
   "source": [
    "mesaj(sayı=5, isim=\"Ayşe\")"
   ]
  },
  {
   "cell_type": "markdown",
   "id": "ddc4f9fc",
   "metadata": {},
   "source": [
    "### Tek yıldızlı parametreler\n",
    "Bir fonksiyonda sınırsız sayıda parametre oluşturmak için kullanılır. Böylece daha önce oluşturduğumuz *toplama()* fonksiyonuna ikiden daha fazla parametre girip, girilen sayıların toplanmasını sağlayabiliriz."
   ]
  },
  {
   "cell_type": "code",
   "execution_count": 26,
   "id": "17cef53a",
   "metadata": {},
   "outputs": [
    {
     "data": {
      "text/plain": [
       "(1, 2, 3, 4, 5, 6)"
      ]
     },
     "execution_count": 26,
     "metadata": {},
     "output_type": "execute_result"
    }
   ],
   "source": [
    "def toplama(*sayılar):\n",
    "    return sayılar\n",
    "\n",
    "toplama(1,2,3,4,5,6)"
   ]
  },
  {
   "cell_type": "code",
   "execution_count": 27,
   "id": "f331e46d",
   "metadata": {},
   "outputs": [
    {
     "data": {
      "text/plain": [
       "45"
      ]
     },
     "execution_count": 27,
     "metadata": {},
     "output_type": "execute_result"
    }
   ],
   "source": [
    "def toplama(*sayılar):\n",
    "    sonuc = 0\n",
    "    for i in sayılar:\n",
    "        sonuc += i\n",
    "        \n",
    "    return sonuc\n",
    "\n",
    "toplama(1,2,3,4,5,6,7,8,9)"
   ]
  },
  {
   "cell_type": "markdown",
   "id": "f57b576e",
   "metadata": {},
   "source": [
    "### Çift yıldızlı parametreler\n",
    "Bir fonksiyonda sınırsız sayıda *isimli parametre* oluşturmak için kullanılır. Aşağıda oluşturulan listele() fonksiyonunda, çift yıldızlı parametre kullanıldığı için, bu fonksiyona girilen argümanların tam bir listesini döndürebilir."
   ]
  },
  {
   "cell_type": "code",
   "execution_count": 28,
   "id": "50b3fc86",
   "metadata": {},
   "outputs": [
    {
     "name": "stdout",
     "output_type": "stream",
     "text": [
      "ünv : Gedik Üniversitesi\n",
      "bölüm : Bilgisayar Programcılığı\n",
      "sınıf : 1\n",
      "ders : Python\n"
     ]
    }
   ],
   "source": [
    "def listele(**argumanlar):\n",
    "    for k, v in argumanlar.items():\n",
    "        print(k, \":\", v)\n",
    "        \n",
    "listele(ünv=\"Gedik Üniversitesi\", bölüm=\"Bilgisayar Programcılığı\", sınıf=1, ders=\"Python\")"
   ]
  },
  {
   "cell_type": "markdown",
   "id": "8bf65b04",
   "metadata": {},
   "source": [
    "## 5. Lambda İfadesi (Lambda Expression)\n",
    "Fonksiyonları daha kısa bir şekilde ifade etmek için kullanılan yapıdır."
   ]
  },
  {
   "cell_type": "code",
   "execution_count": 29,
   "id": "2ef4ef21",
   "metadata": {},
   "outputs": [],
   "source": [
    "def cevre_hesapla(r):        # bu fonksiyon, yarıçapı verilen çemberin çevresini hesaplar.\n",
    "    return 2 * 3.14 * r"
   ]
  },
  {
   "cell_type": "code",
   "execution_count": 30,
   "id": "abf877c4",
   "metadata": {},
   "outputs": [
    {
     "data": {
      "text/plain": [
       "31.400000000000002"
      ]
     },
     "execution_count": 30,
     "metadata": {},
     "output_type": "execute_result"
    }
   ],
   "source": [
    "cevre_hesapla(5)"
   ]
  },
  {
   "cell_type": "markdown",
   "id": "e2105a7c",
   "metadata": {},
   "source": [
    "*cevre_hesapla(r)* fonksiyonunu **lambda** ifadesi ile daha kısa şekilde aşağıdaki gibi yazabiliriz. "
   ]
  },
  {
   "cell_type": "code",
   "execution_count": 31,
   "id": "9050d840",
   "metadata": {},
   "outputs": [
    {
     "data": {
      "text/plain": [
       "function"
      ]
     },
     "execution_count": 31,
     "metadata": {},
     "output_type": "execute_result"
    }
   ],
   "source": [
    "type(lambda r: 2 * 3.14 * r)  # lambda ifadesi bir fonksiyon oluşturur."
   ]
  },
  {
   "cell_type": "markdown",
   "id": "66f04729",
   "metadata": {},
   "source": [
    "Lambda ifadesi aşağıda bir değişkene eşitleniyor gibi gözükür. Fakat o değişken aslında bir fonksiyondur."
   ]
  },
  {
   "cell_type": "code",
   "execution_count": 32,
   "id": "441c43c1",
   "metadata": {},
   "outputs": [
    {
     "data": {
      "text/plain": [
       "31.400000000000002"
      ]
     },
     "execution_count": 32,
     "metadata": {},
     "output_type": "execute_result"
    }
   ],
   "source": [
    "cvr_hesapla = lambda r: 2 * 3.14 * r\n",
    "\n",
    "cvr_hesapla(5)"
   ]
  },
  {
   "cell_type": "markdown",
   "id": "732c093f",
   "metadata": {},
   "source": [
    "## 6. Fonksiyon içinde ve dışında oluşturulan değişkenler\n",
    "Bir fonksiyonun içinde oluşturulan bir değişken, yalnızca o fonksiyon içinde kullanılabilir. Buna **yerel değişken** adını verebiliriz. Fonksiyon çalışmasını bitirdikten sonra, yerel değişkenler yok edilir."
   ]
  },
  {
   "cell_type": "code",
   "execution_count": 33,
   "id": "e3b1be49",
   "metadata": {},
   "outputs": [
    {
     "name": "stdout",
     "output_type": "stream",
     "text": [
      "500\n"
     ]
    }
   ],
   "source": [
    "def deneme():\n",
    "    yerel_degisken = 500\n",
    "    print(yerel_degisken)\n",
    "    \n",
    "deneme()"
   ]
  },
  {
   "cell_type": "code",
   "execution_count": 34,
   "id": "999f085c",
   "metadata": {},
   "outputs": [
    {
     "ename": "NameError",
     "evalue": "name 'yerel_degisken' is not defined",
     "output_type": "error",
     "traceback": [
      "\u001b[1;31m---------------------------------------------------------------------------\u001b[0m",
      "\u001b[1;31mNameError\u001b[0m                                 Traceback (most recent call last)",
      "\u001b[1;32m~\\AppData\\Local\\Temp\\ipykernel_11252\\361792584.py\u001b[0m in \u001b[0;36m<module>\u001b[1;34m\u001b[0m\n\u001b[1;32m----> 1\u001b[1;33m \u001b[0myerel_degisken\u001b[0m  \u001b[1;31m# fonksiyon içerisinde oluşturulan yerel değişken, sadece o fonksiyonda çalışır.\u001b[0m\u001b[1;33m\u001b[0m\u001b[1;33m\u001b[0m\u001b[0m\n\u001b[0m",
      "\u001b[1;31mNameError\u001b[0m: name 'yerel_degisken' is not defined"
     ]
    }
   ],
   "source": [
    "yerel_degisken  # fonksiyon içerisinde oluşturulan yerel değişken, sadece o fonksiyonda çalışır."
   ]
  },
  {
   "cell_type": "markdown",
   "id": "4f044713",
   "metadata": {},
   "source": [
    "Bir değişken bir fonksiyonun dışında oluşturulursa, o fonksiyonun içerisinde kullanılabilir. Buna **global değişken** adını verebiliriz. Fakat iç içe fonksiyonlar oluşturduğumuzda, bir değişkenin bir fonksiyonun dışında olması, onun global değişken olduğu anlamına gelmez. Buna da dikkat etmek gerekir."
   ]
  },
  {
   "cell_type": "code",
   "execution_count": 35,
   "id": "5c210566",
   "metadata": {},
   "outputs": [
    {
     "name": "stdout",
     "output_type": "stream",
     "text": [
      "100\n"
     ]
    }
   ],
   "source": [
    "# bu değişken en üst seviyede tanımlıdır. \n",
    "# herhangi bir fonksiyonun içinde veya başka bir yapının kapsamı içinde değildir.\n",
    "degisken = 100        \n",
    "\n",
    "def test():\n",
    "    print(degisken)   # yazdırılmak istenen \"degisken\" fonksiyonun dışında oluşturulduğu için kullanılabilir.\n",
    "    \n",
    "test()"
   ]
  },
  {
   "cell_type": "markdown",
   "id": "b4d5ec5a",
   "metadata": {},
   "source": [
    "Bir değişken hem global hem yerel olarak tanımlanabilir. **global** komutu ile fonksiyonun dışındaki *aynı isme sahip* değişkenin değerini değiştirebiliriz."
   ]
  },
  {
   "cell_type": "code",
   "execution_count": 36,
   "id": "8e18d836",
   "metadata": {},
   "outputs": [
    {
     "name": "stdout",
     "output_type": "stream",
     "text": [
      "100\n",
      "100\n"
     ]
    }
   ],
   "source": [
    "def yazdir():\n",
    "    global z     # bu satırı silerek aynı kodu tekrar çalıştırın.\n",
    "    z = 100      # bu değişken; global komutu aktifken global z, aktif değilken yerel z değişkenidir.\n",
    "    print(z)\n",
    "    \n",
    "z = 300          # global z değişkeni\n",
    "yazdir()\n",
    "print(z)"
   ]
  },
  {
   "cell_type": "markdown",
   "id": "660b02d2",
   "metadata": {},
   "source": [
    "<hr>\n",
    "<p style=\"text-align:center;font-size:12px\">\n",
    "<b>Öğr. Gör. Zeki ÇIPLAK</b><br>\n",
    "İstanbul Gedik Üniversitesi<br>\n",
    "Gedik MYO / Bilgisayar Programcılığı<br>\n",
    "<a href=\"https://linkedin.com/in/zkcplk\">LinkedIn</a> \n",
    "<a href=\"https://zkcplk.medium.com\">Blog</a> \n",
    "<a href=\"https://youtube.com/@zkcplk\">YouTube</a> \n",
    "</p>"
   ]
  }
 ],
 "metadata": {
  "kernelspec": {
   "display_name": "Python 3 (ipykernel)",
   "language": "python",
   "name": "python3"
  },
  "language_info": {
   "codemirror_mode": {
    "name": "ipython",
    "version": 3
   },
   "file_extension": ".py",
   "mimetype": "text/x-python",
   "name": "python",
   "nbconvert_exporter": "python",
   "pygments_lexer": "ipython3",
   "version": "3.9.13"
  }
 },
 "nbformat": 4,
 "nbformat_minor": 5
}
