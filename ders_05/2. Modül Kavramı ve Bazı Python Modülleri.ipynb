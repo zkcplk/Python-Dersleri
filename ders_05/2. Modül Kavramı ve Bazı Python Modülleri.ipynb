{
 "cells": [
  {
   "cell_type": "markdown",
   "id": "6c1ab64a",
   "metadata": {},
   "source": [
    "# MODÜL KAVRAMI\n",
    "Modüller daha önce oluşturulmuş hazır kodlardır. Kütüphane olarak da adlandırılabilirler. Python'da kendi modülümüzü yazmak oldukça kolaydır."
   ]
  },
  {
   "cell_type": "markdown",
   "id": "fee72c2f",
   "metadata": {},
   "source": [
    "## Jupyter Notebook'ta kendi oluşturduğumuz modülü iki şekilde kullanabiliriz"
   ]
  },
  {
   "cell_type": "markdown",
   "id": "0ad8371e",
   "metadata": {},
   "source": [
    "* Öncelikle **modul.py** isimli ve içerisinde kodlar olan bir dosyayı, bu notebook'un bulunduğu dizine atalım."
   ]
  },
  {
   "cell_type": "markdown",
   "id": "623585fc",
   "metadata": {},
   "source": [
    "* **modul.py** dosyasını, Jupyter Notebook içinde kullanmak için **%run** komutunu kullanabiliriz."
   ]
  },
  {
   "cell_type": "code",
   "execution_count": null,
   "id": "7aac78ab",
   "metadata": {},
   "outputs": [],
   "source": [
    "%run modul.py"
   ]
  },
  {
   "cell_type": "code",
   "execution_count": null,
   "id": "f79ca2b1",
   "metadata": {},
   "outputs": [],
   "source": [
    "fonksiyon()"
   ]
  },
  {
   "cell_type": "code",
   "execution_count": null,
   "id": "ec240308",
   "metadata": {},
   "outputs": [],
   "source": [
    "degisken"
   ]
  },
  {
   "cell_type": "markdown",
   "id": "f6617539",
   "metadata": {},
   "source": [
    "## PyCharm'da ve Jupyter Notebook'ta kendi oluşturduğumuz modülü kullanmak\n",
    "Bu dosya ile aynı dizinde bulunan **index.py** dosyasını PyCharm programında çalıştırarak modulü kullanabiliriz. Bu tip bir kullanım aynı zamanda Jupyter Notebook içerisinde de geçerlidir."
   ]
  },
  {
   "cell_type": "code",
   "execution_count": 2,
   "id": "3f0e10c9",
   "metadata": {},
   "outputs": [],
   "source": [
    "import modul"
   ]
  },
  {
   "cell_type": "code",
   "execution_count": 3,
   "id": "77779e07",
   "metadata": {},
   "outputs": [
    {
     "name": "stdout",
     "output_type": "stream",
     "text": [
      "modul içindeki fonksiyon\n"
     ]
    }
   ],
   "source": [
    "modul.fonksiyon()"
   ]
  },
  {
   "cell_type": "code",
   "execution_count": 4,
   "id": "3f451b6f",
   "metadata": {},
   "outputs": [
    {
     "data": {
      "text/plain": [
       "2023"
      ]
     },
     "execution_count": 4,
     "metadata": {},
     "output_type": "execute_result"
    }
   ],
   "source": [
    "modul.degisken"
   ]
  },
  {
   "cell_type": "markdown",
   "id": "65277eb4",
   "metadata": {},
   "source": [
    "Modül içerisindeki fonksiyonların listesini almak için *dir()* fonksiyonunu kullanabiliriz."
   ]
  },
  {
   "cell_type": "code",
   "execution_count": 5,
   "id": "c4b1d780",
   "metadata": {},
   "outputs": [
    {
     "data": {
      "text/plain": [
       "['__builtins__',\n",
       " '__cached__',\n",
       " '__doc__',\n",
       " '__file__',\n",
       " '__loader__',\n",
       " '__name__',\n",
       " '__package__',\n",
       " '__spec__',\n",
       " 'degisken',\n",
       " 'fonksiyon']"
      ]
     },
     "execution_count": 5,
     "metadata": {},
     "output_type": "execute_result"
    }
   ],
   "source": [
    "dir(modul)"
   ]
  },
  {
   "cell_type": "markdown",
   "id": "b760acc9",
   "metadata": {},
   "source": [
    "Yüklemek istediğimiz modül ismini, farklı kelimelerle de ifade edebiliriz."
   ]
  },
  {
   "cell_type": "code",
   "execution_count": null,
   "id": "285f5445",
   "metadata": {},
   "outputs": [],
   "source": [
    "import modul as m"
   ]
  },
  {
   "cell_type": "code",
   "execution_count": null,
   "id": "1c8dcb74",
   "metadata": {},
   "outputs": [],
   "source": [
    "m.fonksiyon()"
   ]
  },
  {
   "cell_type": "code",
   "execution_count": null,
   "id": "a2c75456",
   "metadata": {},
   "outputs": [],
   "source": [
    "m.degisken"
   ]
  },
  {
   "cell_type": "markdown",
   "id": "fa3b7b6c",
   "metadata": {},
   "source": [
    "Bir modülün tamamını yüklemek yerine, bazı fonksiyonlarını veya değişkenlerini yükleyebiliriz. Bu kullanım, modül dosyası çok büyük olduğunda, hafıza israfı olmaması açısından önemlidir. Ayrıca bazı büyük modüllerde performansı da etkileyecektir."
   ]
  },
  {
   "cell_type": "code",
   "execution_count": null,
   "id": "b7d9935d",
   "metadata": {},
   "outputs": [],
   "source": [
    "# doğru kullanım için, notebook'u restart edip, ilk olarak bu hücreyi çalıştırın.\n",
    "from modul import fonksiyon    "
   ]
  },
  {
   "cell_type": "code",
   "execution_count": null,
   "id": "4c03e364",
   "metadata": {},
   "outputs": [],
   "source": [
    "fonksiyon()"
   ]
  },
  {
   "cell_type": "code",
   "execution_count": null,
   "id": "c241df83",
   "metadata": {},
   "outputs": [],
   "source": [
    "degisken  "
   ]
  },
  {
   "cell_type": "code",
   "execution_count": null,
   "id": "d6204736",
   "metadata": {},
   "outputs": [],
   "source": [
    "# doğru kullanım için, notebook'u restart edip, ilk olarak bu hücreyi çalıştırın.\n",
    "from modul import fonksiyon as m     "
   ]
  },
  {
   "cell_type": "code",
   "execution_count": null,
   "id": "98c52125",
   "metadata": {},
   "outputs": [],
   "source": [
    "m()"
   ]
  },
  {
   "cell_type": "markdown",
   "id": "39e510f3",
   "metadata": {},
   "source": [
    "Bilgisayarımızda yer almayan modüller de https://pypi.org/ sitesinden çekilir. Bu siteyi ziyaret ederek, daha ayrıntılı bilgi edinebilirsiniz."
   ]
  },
  {
   "cell_type": "markdown",
   "id": "eda62db8",
   "metadata": {},
   "source": [
    "# MATH MODÜLÜ\n",
    "Genel matematiksel işlemlerin yer aldığı modüldür."
   ]
  },
  {
   "cell_type": "code",
   "execution_count": 1,
   "id": "94c8c6da",
   "metadata": {},
   "outputs": [],
   "source": [
    "import math  # yazılarak proje dosyasına dahil edilebilir."
   ]
  },
  {
   "cell_type": "code",
   "execution_count": 23,
   "id": "3fa900a6",
   "metadata": {},
   "outputs": [
    {
     "data": {
      "text/plain": [
       "['__doc__',\n",
       " '__loader__',\n",
       " '__name__',\n",
       " '__package__',\n",
       " '__spec__',\n",
       " 'acos',\n",
       " 'acosh',\n",
       " 'asin',\n",
       " 'asinh',\n",
       " 'atan',\n",
       " 'atan2',\n",
       " 'atanh',\n",
       " 'ceil',\n",
       " 'comb',\n",
       " 'copysign',\n",
       " 'cos',\n",
       " 'cosh',\n",
       " 'degrees',\n",
       " 'dist',\n",
       " 'e',\n",
       " 'erf',\n",
       " 'erfc',\n",
       " 'exp',\n",
       " 'expm1',\n",
       " 'fabs',\n",
       " 'factorial',\n",
       " 'floor',\n",
       " 'fmod',\n",
       " 'frexp',\n",
       " 'fsum',\n",
       " 'gamma',\n",
       " 'gcd',\n",
       " 'hypot',\n",
       " 'inf',\n",
       " 'isclose',\n",
       " 'isfinite',\n",
       " 'isinf',\n",
       " 'isnan',\n",
       " 'isqrt',\n",
       " 'lcm',\n",
       " 'ldexp',\n",
       " 'lgamma',\n",
       " 'log',\n",
       " 'log10',\n",
       " 'log1p',\n",
       " 'log2',\n",
       " 'modf',\n",
       " 'nan',\n",
       " 'nextafter',\n",
       " 'perm',\n",
       " 'pi',\n",
       " 'pow',\n",
       " 'prod',\n",
       " 'radians',\n",
       " 'remainder',\n",
       " 'sin',\n",
       " 'sinh',\n",
       " 'sqrt',\n",
       " 'tan',\n",
       " 'tanh',\n",
       " 'tau',\n",
       " 'trunc',\n",
       " 'ulp']"
      ]
     },
     "execution_count": 23,
     "metadata": {},
     "output_type": "execute_result"
    }
   ],
   "source": [
    "dir(math)    # math modülü içerisindeki tanımlı fonksiyonların listesini verir."
   ]
  },
  {
   "cell_type": "markdown",
   "id": "cff22920",
   "metadata": {},
   "source": [
    "## math.log()\n",
    "Logaritmik işlemler için kullanılan metottur."
   ]
  },
  {
   "cell_type": "code",
   "execution_count": 8,
   "id": "c1a25a5f",
   "metadata": {},
   "outputs": [
    {
     "data": {
      "text/plain": [
       "1.3862943611198906"
      ]
     },
     "execution_count": 8,
     "metadata": {},
     "output_type": "execute_result"
    }
   ],
   "source": [
    "math.log(4)  # varsayılan olarak e sayısına göre logaritma alınır. tabanı değiştirmek için base=\"\" parametresi kullanılabilir."
   ]
  },
  {
   "cell_type": "code",
   "execution_count": 10,
   "id": "9b862347",
   "metadata": {},
   "outputs": [
    {
     "data": {
      "text/plain": [
       "2.0"
      ]
     },
     "execution_count": 10,
     "metadata": {},
     "output_type": "execute_result"
    }
   ],
   "source": [
    "math.log(4,2)  # 2 tabanına göre logaritma"
   ]
  },
  {
   "cell_type": "markdown",
   "id": "0e21be4b",
   "metadata": {},
   "source": [
    "## math.pi\n",
    "Pi sayısını döndüren modül değişkenidir."
   ]
  },
  {
   "cell_type": "code",
   "execution_count": 11,
   "id": "d726184d",
   "metadata": {},
   "outputs": [
    {
     "data": {
      "text/plain": [
       "3.141592653589793"
      ]
     },
     "execution_count": 11,
     "metadata": {},
     "output_type": "execute_result"
    }
   ],
   "source": [
    "math.pi"
   ]
  },
  {
   "cell_type": "markdown",
   "id": "ab690136",
   "metadata": {},
   "source": [
    "## math.sin()\n",
    "Sinüs fonksiyonu işlemleri için kullanılır. Argüman olarak girilen değer, radyan olmak zorundadır."
   ]
  },
  {
   "cell_type": "code",
   "execution_count": 21,
   "id": "51a48934",
   "metadata": {},
   "outputs": [
    {
     "name": "stdout",
     "output_type": "stream",
     "text": [
      "0.49999999999999994\n",
      "0.5\n"
     ]
    }
   ],
   "source": [
    "radyan = lambda derece: derece * (math.pi / 180)   # dereceyi radyana çevirme formülü \n",
    "\n",
    "print(math.sin(radyan(30)))\n",
    "print(round(math.sin(radyan(30)),1))    # round ile yuvarlanmış hali"
   ]
  },
  {
   "cell_type": "markdown",
   "id": "dfc0d3b6",
   "metadata": {},
   "source": [
    "## math.cos()\n",
    "Cosinüs fonksiyonu işlemleri için kullanılır. Argüman olarak girilen değer, radyan olmak zorundadır."
   ]
  },
  {
   "cell_type": "code",
   "execution_count": 22,
   "id": "65a14c35",
   "metadata": {},
   "outputs": [
    {
     "data": {
      "text/plain": [
       "0.5000000000000001"
      ]
     },
     "execution_count": 22,
     "metadata": {},
     "output_type": "execute_result"
    }
   ],
   "source": [
    "math.cos(radyan(60))"
   ]
  },
  {
   "cell_type": "markdown",
   "id": "dbb8063f",
   "metadata": {},
   "source": [
    "## math.ceil() ve math.floor()\n",
    "Sırasıyla; yukarı yuvarlama ve aşağı yuvarlama işlemleri için kullanılan metotlardır."
   ]
  },
  {
   "cell_type": "code",
   "execution_count": 24,
   "id": "3e0e9045",
   "metadata": {},
   "outputs": [
    {
     "data": {
      "text/plain": [
       "4"
      ]
     },
     "execution_count": 24,
     "metadata": {},
     "output_type": "execute_result"
    }
   ],
   "source": [
    "math.ceil(3.1)"
   ]
  },
  {
   "cell_type": "code",
   "execution_count": 25,
   "id": "bf3708ed",
   "metadata": {},
   "outputs": [
    {
     "data": {
      "text/plain": [
       "3"
      ]
     },
     "execution_count": 25,
     "metadata": {},
     "output_type": "execute_result"
    }
   ],
   "source": [
    "math.floor(3.1)"
   ]
  },
  {
   "cell_type": "markdown",
   "id": "a83025c4",
   "metadata": {},
   "source": [
    "## math.exp()\n",
    "Exponansiyel işlemleri için kullanılan metottur. (e sayısı) üssü (girilen sayı) şeklinde çalışır."
   ]
  },
  {
   "cell_type": "code",
   "execution_count": 27,
   "id": "a7122ab4",
   "metadata": {},
   "outputs": [
    {
     "data": {
      "text/plain": [
       "2.718281828459045"
      ]
     },
     "execution_count": 27,
     "metadata": {},
     "output_type": "execute_result"
    }
   ],
   "source": [
    "math.e          # e sayısı"
   ]
  },
  {
   "cell_type": "code",
   "execution_count": 28,
   "id": "f9b3a5cf",
   "metadata": {},
   "outputs": [
    {
     "data": {
      "text/plain": [
       "148.4131591025766"
      ]
     },
     "execution_count": 28,
     "metadata": {},
     "output_type": "execute_result"
    }
   ],
   "source": [
    "math.exp(5)     # e üssü 5"
   ]
  },
  {
   "cell_type": "code",
   "execution_count": 30,
   "id": "b7811c8f",
   "metadata": {},
   "outputs": [
    {
     "data": {
      "text/plain": [
       "148.41315910257657"
      ]
     },
     "execution_count": 30,
     "metadata": {},
     "output_type": "execute_result"
    }
   ],
   "source": [
    "math.e ** 5     # e üssü 5"
   ]
  },
  {
   "cell_type": "code",
   "execution_count": 31,
   "id": "77be63b1",
   "metadata": {},
   "outputs": [
    {
     "data": {
      "text/plain": [
       "148.41315910257657"
      ]
     },
     "execution_count": 31,
     "metadata": {},
     "output_type": "execute_result"
    }
   ],
   "source": [
    "2.718281828459045 ** 5"
   ]
  },
  {
   "cell_type": "markdown",
   "id": "195d5ecc",
   "metadata": {},
   "source": [
    "## math.pow()\n",
    "Üs alma işlemleri için kullanılan mettotur."
   ]
  },
  {
   "cell_type": "code",
   "execution_count": 32,
   "id": "89359e8f",
   "metadata": {},
   "outputs": [
    {
     "data": {
      "text/plain": [
       "9.0"
      ]
     },
     "execution_count": 32,
     "metadata": {},
     "output_type": "execute_result"
    }
   ],
   "source": [
    "math.pow(3, 2)   # float sonuç döndürür."
   ]
  },
  {
   "cell_type": "code",
   "execution_count": 34,
   "id": "c023a7dc",
   "metadata": {},
   "outputs": [
    {
     "data": {
      "text/plain": [
       "9"
      ]
     },
     "execution_count": 34,
     "metadata": {},
     "output_type": "execute_result"
    }
   ],
   "source": [
    "3 ** 2           # int sonuç döndürür."
   ]
  },
  {
   "cell_type": "markdown",
   "id": "f71c3420",
   "metadata": {},
   "source": [
    "## math.sqrt()\n",
    "Kök alma işlemleri için kullanılan metottur."
   ]
  },
  {
   "cell_type": "code",
   "execution_count": 37,
   "id": "5261f43d",
   "metadata": {},
   "outputs": [
    {
     "data": {
      "text/plain": [
       "2.8284271247461903"
      ]
     },
     "execution_count": 37,
     "metadata": {},
     "output_type": "execute_result"
    }
   ],
   "source": [
    "math.sqrt(8)"
   ]
  },
  {
   "cell_type": "markdown",
   "id": "483348c8",
   "metadata": {},
   "source": [
    "  "
   ]
  },
  {
   "cell_type": "markdown",
   "id": "16c91bbe",
   "metadata": {},
   "source": [
    "## RANDOM MODÜLÜ\n",
    "Rastgele sayı üretmek için kullanılan modüldür."
   ]
  },
  {
   "cell_type": "code",
   "execution_count": 41,
   "id": "65736fe6",
   "metadata": {},
   "outputs": [],
   "source": [
    "import random as r  # modül yükleniyor."
   ]
  },
  {
   "cell_type": "markdown",
   "id": "4b0ae477",
   "metadata": {},
   "source": [
    "## .random()\n",
    "0 ile 1.0 arası rastgele bir float sayı döndürür.<br>\n",
    "**0 <= n < 1.0** olacak şekilde float bir *n* sayısını döndürür. Dolayısıyla bu sayı asla 1.0 olmaz!"
   ]
  },
  {
   "cell_type": "code",
   "execution_count": 57,
   "id": "7e3fcdfc",
   "metadata": {},
   "outputs": [
    {
     "data": {
      "text/plain": [
       "0.21428843840936485"
      ]
     },
     "execution_count": 57,
     "metadata": {},
     "output_type": "execute_result"
    }
   ],
   "source": [
    "r.random()"
   ]
  },
  {
   "cell_type": "markdown",
   "id": "1346d1f7",
   "metadata": {},
   "source": [
    "## .uniform(min, max)  \n",
    "Parametrede girilen iki sayı arasında rastgele bir float sayı döndürür.<br>\n",
    "Şu formüle göre çalışır: **min + (max — min) * r.random()**"
   ]
  },
  {
   "cell_type": "code",
   "execution_count": 69,
   "id": "c8b500db",
   "metadata": {},
   "outputs": [
    {
     "data": {
      "text/plain": [
       "1.3775169163330756"
      ]
     },
     "execution_count": 69,
     "metadata": {},
     "output_type": "execute_result"
    }
   ],
   "source": [
    "r.uniform(1, 5)"
   ]
  },
  {
   "cell_type": "markdown",
   "id": "19e50928",
   "metadata": {},
   "source": [
    "## .randint(min, max)\n",
    "**min <= n <= max** olacak şekilde, parametrede girilen iki tam sayı arasında rastgele bir tam sayı döndürür."
   ]
  },
  {
   "cell_type": "code",
   "execution_count": 73,
   "id": "77205c55",
   "metadata": {},
   "outputs": [
    {
     "data": {
      "text/plain": [
       "11"
      ]
     },
     "execution_count": 73,
     "metadata": {},
     "output_type": "execute_result"
    }
   ],
   "source": [
    "r.randint(1, 15)"
   ]
  },
  {
   "cell_type": "markdown",
   "id": "d732a71d",
   "metadata": {},
   "source": [
    "## .sample(iterable, n)\n",
    "Parametrede verilen iterable içinden n sayıda rastgele eleman seçer ve yeni bir liste döndürür."
   ]
  },
  {
   "cell_type": "code",
   "execution_count": 106,
   "id": "ded9fcb7",
   "metadata": {},
   "outputs": [
    {
     "data": {
      "text/plain": [
       "[65, 14, 25]"
      ]
     },
     "execution_count": 106,
     "metadata": {},
     "output_type": "execute_result"
    }
   ],
   "source": [
    "liste = [12, 25, 33, 14, 65, 86, 37]   # tuple veya set de olabilir.\n",
    "r.sample(liste, 3)"
   ]
  },
  {
   "cell_type": "markdown",
   "id": "992b72b2",
   "metadata": {},
   "source": [
    "## .shuffle(liste)\n",
    "Parametrede verilen liste'deki elemanların indislerini rastgele değiştirir."
   ]
  },
  {
   "cell_type": "code",
   "execution_count": 91,
   "id": "fd172067",
   "metadata": {
    "scrolled": true
   },
   "outputs": [
    {
     "data": {
      "text/plain": [
       "['dördüncü', 'üçüncü', 'ikinci', 'beşinci', 'birinci']"
      ]
     },
     "execution_count": 91,
     "metadata": {},
     "output_type": "execute_result"
    }
   ],
   "source": [
    "# tuple değiştirilemez, set veri türünde de indis yok!\n",
    "# o yüzden sadece listelerde çalışır.\n",
    "\n",
    "liste = [\"birinci\", \"ikinci\", \"üçüncü\", \"dördüncü\", \"beşinci\"] \n",
    "r.shuffle(liste)\n",
    "\n",
    "liste"
   ]
  },
  {
   "cell_type": "markdown",
   "id": "1850f6db",
   "metadata": {},
   "source": [
    "## .choices(liste, k)\n",
    "Parametrede verilen liste'deki elemanlardan birini veya k kadarını liste halinde rastgele döndürür. Varsayılan k değeri 1'dir."
   ]
  },
  {
   "cell_type": "code",
   "execution_count": 102,
   "id": "ae398af1",
   "metadata": {},
   "outputs": [
    {
     "data": {
      "text/plain": [
       "['a']"
      ]
     },
     "execution_count": 102,
     "metadata": {},
     "output_type": "execute_result"
    }
   ],
   "source": [
    "liste = [\"a\", \"b\", \"c\", \"d\", \"e\"]\n",
    "r.choices(liste)"
   ]
  },
  {
   "cell_type": "code",
   "execution_count": 105,
   "id": "705e4e58",
   "metadata": {},
   "outputs": [
    {
     "data": {
      "text/plain": [
       "['e', 'e', 'b']"
      ]
     },
     "execution_count": 105,
     "metadata": {},
     "output_type": "execute_result"
    }
   ],
   "source": [
    "r.choices(liste, k=3)   # aynı değerler, tekrarlı olarak da döndürülebilir."
   ]
  },
  {
   "cell_type": "markdown",
   "id": "576ecfda",
   "metadata": {},
   "source": [
    "Sadece 1 tane eleman seçmek için .choice() metodu da kullanılabilir. Bu durumda döndürülen değer, liste olmaz."
   ]
  },
  {
   "cell_type": "code",
   "execution_count": 104,
   "id": "c768eea0",
   "metadata": {},
   "outputs": [
    {
     "data": {
      "text/plain": [
       "'b'"
      ]
     },
     "execution_count": 104,
     "metadata": {},
     "output_type": "execute_result"
    }
   ],
   "source": [
    "r.choice(liste)"
   ]
  },
  {
   "cell_type": "markdown",
   "id": "da8ec86a",
   "metadata": {},
   "source": [
    " "
   ]
  },
  {
   "cell_type": "markdown",
   "id": "65807605",
   "metadata": {},
   "source": [
    "# TIME MODÜLÜ"
   ]
  },
  {
   "cell_type": "code",
   "execution_count": 108,
   "id": "136dc71b",
   "metadata": {},
   "outputs": [],
   "source": [
    "import time as t"
   ]
  },
  {
   "cell_type": "code",
   "execution_count": 109,
   "id": "0ec7f803",
   "metadata": {},
   "outputs": [
    {
     "data": {
      "text/plain": [
       "['_STRUCT_TM_ITEMS',\n",
       " '__doc__',\n",
       " '__loader__',\n",
       " '__name__',\n",
       " '__package__',\n",
       " '__spec__',\n",
       " 'altzone',\n",
       " 'asctime',\n",
       " 'ctime',\n",
       " 'daylight',\n",
       " 'get_clock_info',\n",
       " 'gmtime',\n",
       " 'localtime',\n",
       " 'mktime',\n",
       " 'monotonic',\n",
       " 'monotonic_ns',\n",
       " 'perf_counter',\n",
       " 'perf_counter_ns',\n",
       " 'process_time',\n",
       " 'process_time_ns',\n",
       " 'sleep',\n",
       " 'strftime',\n",
       " 'strptime',\n",
       " 'struct_time',\n",
       " 'thread_time',\n",
       " 'thread_time_ns',\n",
       " 'time',\n",
       " 'time_ns',\n",
       " 'timezone',\n",
       " 'tzname']"
      ]
     },
     "execution_count": 109,
     "metadata": {},
     "output_type": "execute_result"
    }
   ],
   "source": [
    "dir(t)"
   ]
  },
  {
   "cell_type": "markdown",
   "id": "62cd66b0",
   "metadata": {},
   "source": [
    "## .gmtime()\n",
    "Varsayılan merkezi saat diliminde bulunan İngiltere'nin, zaman ve tarih bilgisini verir. (GMT)<br>\n",
    "Türkiye için +3 saat eklenebilir (GMT+3) veya **localtime()** metodu aynı şekilde kullanılabilir."
   ]
  },
  {
   "cell_type": "code",
   "execution_count": 129,
   "id": "b7241977",
   "metadata": {},
   "outputs": [
    {
     "data": {
      "text/plain": [
       "time.struct_time(tm_year=2023, tm_mon=2, tm_mday=26, tm_hour=12, tm_min=37, tm_sec=45, tm_wday=6, tm_yday=57, tm_isdst=0)"
      ]
     },
     "execution_count": 129,
     "metadata": {},
     "output_type": "execute_result"
    }
   ],
   "source": [
    "# yıl, ay, gün, saat, dakika, saniye, haftanın günü, yılın günü, yaz saati uygulaması (bool)\n",
    "t.gmtime()    "
   ]
  },
  {
   "cell_type": "code",
   "execution_count": 127,
   "id": "3ff3f3ea",
   "metadata": {},
   "outputs": [
    {
     "data": {
      "text/plain": [
       "[2023, 2, 26, 12, 34, 10, 6, 57, 0]"
      ]
     },
     "execution_count": 127,
     "metadata": {},
     "output_type": "execute_result"
    }
   ],
   "source": [
    "liste = list(t.gmtime())   \n",
    "liste"
   ]
  },
  {
   "cell_type": "markdown",
   "id": "502d554e",
   "metadata": {},
   "source": [
    "## .sleep()\n",
    "Kodun çalışmasına ara vermek veya geciktirmek için kullanılan metottur."
   ]
  },
  {
   "cell_type": "code",
   "execution_count": 132,
   "id": "50d5579b",
   "metadata": {},
   "outputs": [
    {
     "name": "stdout",
     "output_type": "stream",
     "text": [
      "Bundan sonra 3 saniye bekler.\n",
      "3 saniye sonra çalışır.\n"
     ]
    }
   ],
   "source": [
    "print(\"Bundan sonra 3 saniye bekler.\")\n",
    "t.sleep(3)\n",
    "print(\"3 saniye sonra çalışır.\")"
   ]
  },
  {
   "cell_type": "markdown",
   "id": "9fb1f1cc",
   "metadata": {},
   "source": [
    "  "
   ]
  },
  {
   "cell_type": "markdown",
   "id": "15ad08cc",
   "metadata": {},
   "source": [
    "# OS MODÜLÜ\n",
    "İşletim sisteminde yapılacak işlemler için kullanılan modüldür."
   ]
  },
  {
   "cell_type": "code",
   "execution_count": 133,
   "id": "68776e51",
   "metadata": {},
   "outputs": [],
   "source": [
    "import os"
   ]
  },
  {
   "cell_type": "code",
   "execution_count": 134,
   "id": "1a09bc63",
   "metadata": {
    "scrolled": true
   },
   "outputs": [
    {
     "data": {
      "text/plain": [
       "['DirEntry',\n",
       " 'F_OK',\n",
       " 'GenericAlias',\n",
       " 'Mapping',\n",
       " 'MutableMapping',\n",
       " 'O_APPEND',\n",
       " 'O_BINARY',\n",
       " 'O_CREAT',\n",
       " 'O_EXCL',\n",
       " 'O_NOINHERIT',\n",
       " 'O_RANDOM',\n",
       " 'O_RDONLY',\n",
       " 'O_RDWR',\n",
       " 'O_SEQUENTIAL',\n",
       " 'O_SHORT_LIVED',\n",
       " 'O_TEMPORARY',\n",
       " 'O_TEXT',\n",
       " 'O_TRUNC',\n",
       " 'O_WRONLY',\n",
       " 'P_DETACH',\n",
       " 'P_NOWAIT',\n",
       " 'P_NOWAITO',\n",
       " 'P_OVERLAY',\n",
       " 'P_WAIT',\n",
       " 'PathLike',\n",
       " 'R_OK',\n",
       " 'SEEK_CUR',\n",
       " 'SEEK_END',\n",
       " 'SEEK_SET',\n",
       " 'TMP_MAX',\n",
       " 'W_OK',\n",
       " 'X_OK',\n",
       " '_AddedDllDirectory',\n",
       " '_Environ',\n",
       " '__all__',\n",
       " '__builtins__',\n",
       " '__cached__',\n",
       " '__doc__',\n",
       " '__file__',\n",
       " '__loader__',\n",
       " '__name__',\n",
       " '__package__',\n",
       " '__spec__',\n",
       " '_check_methods',\n",
       " '_execvpe',\n",
       " '_exists',\n",
       " '_exit',\n",
       " '_fspath',\n",
       " '_get_exports_list',\n",
       " '_walk',\n",
       " '_wrap_close',\n",
       " 'abc',\n",
       " 'abort',\n",
       " 'access',\n",
       " 'add_dll_directory',\n",
       " 'altsep',\n",
       " 'chdir',\n",
       " 'chmod',\n",
       " 'close',\n",
       " 'closerange',\n",
       " 'cpu_count',\n",
       " 'curdir',\n",
       " 'defpath',\n",
       " 'device_encoding',\n",
       " 'devnull',\n",
       " 'dup',\n",
       " 'dup2',\n",
       " 'environ',\n",
       " 'error',\n",
       " 'execl',\n",
       " 'execle',\n",
       " 'execlp',\n",
       " 'execlpe',\n",
       " 'execv',\n",
       " 'execve',\n",
       " 'execvp',\n",
       " 'execvpe',\n",
       " 'extsep',\n",
       " 'fdopen',\n",
       " 'fsdecode',\n",
       " 'fsencode',\n",
       " 'fspath',\n",
       " 'fstat',\n",
       " 'fsync',\n",
       " 'ftruncate',\n",
       " 'get_exec_path',\n",
       " 'get_handle_inheritable',\n",
       " 'get_inheritable',\n",
       " 'get_terminal_size',\n",
       " 'getcwd',\n",
       " 'getcwdb',\n",
       " 'getenv',\n",
       " 'getlogin',\n",
       " 'getpid',\n",
       " 'getppid',\n",
       " 'isatty',\n",
       " 'kill',\n",
       " 'linesep',\n",
       " 'link',\n",
       " 'listdir',\n",
       " 'lseek',\n",
       " 'lstat',\n",
       " 'makedirs',\n",
       " 'mkdir',\n",
       " 'name',\n",
       " 'open',\n",
       " 'pardir',\n",
       " 'path',\n",
       " 'pathsep',\n",
       " 'pipe',\n",
       " 'popen',\n",
       " 'putenv',\n",
       " 'read',\n",
       " 'readlink',\n",
       " 'remove',\n",
       " 'removedirs',\n",
       " 'rename',\n",
       " 'renames',\n",
       " 'replace',\n",
       " 'rmdir',\n",
       " 'scandir',\n",
       " 'sep',\n",
       " 'set_handle_inheritable',\n",
       " 'set_inheritable',\n",
       " 'spawnl',\n",
       " 'spawnle',\n",
       " 'spawnv',\n",
       " 'spawnve',\n",
       " 'st',\n",
       " 'startfile',\n",
       " 'stat',\n",
       " 'stat_result',\n",
       " 'statvfs_result',\n",
       " 'strerror',\n",
       " 'supports_bytes_environ',\n",
       " 'supports_dir_fd',\n",
       " 'supports_effective_ids',\n",
       " 'supports_fd',\n",
       " 'supports_follow_symlinks',\n",
       " 'symlink',\n",
       " 'sys',\n",
       " 'system',\n",
       " 'terminal_size',\n",
       " 'times',\n",
       " 'times_result',\n",
       " 'truncate',\n",
       " 'umask',\n",
       " 'uname_result',\n",
       " 'unlink',\n",
       " 'unsetenv',\n",
       " 'urandom',\n",
       " 'utime',\n",
       " 'waitpid',\n",
       " 'waitstatus_to_exitcode',\n",
       " 'walk',\n",
       " 'write']"
      ]
     },
     "execution_count": 134,
     "metadata": {},
     "output_type": "execute_result"
    }
   ],
   "source": [
    "dir(os)"
   ]
  },
  {
   "cell_type": "markdown",
   "id": "ca3c9936",
   "metadata": {},
   "source": [
    "## .getcwd()\n",
    "Geçerli olan dizini elde etmek için kullanılır."
   ]
  },
  {
   "cell_type": "code",
   "execution_count": 135,
   "id": "1420aeb8",
   "metadata": {},
   "outputs": [
    {
     "data": {
      "text/plain": [
       "'C:\\\\Users\\\\Zeki\\\\Desktop\\\\ders5'"
      ]
     },
     "execution_count": 135,
     "metadata": {},
     "output_type": "execute_result"
    }
   ],
   "source": [
    "os.getcwd()"
   ]
  },
  {
   "cell_type": "markdown",
   "id": "b1564cf1",
   "metadata": {},
   "source": [
    "## .chdir() ve .listdir()\n",
    "Sırasıyla; dizin değiştirmek ve dizindeki dosyaları listelemek için kullanılan metotlardır."
   ]
  },
  {
   "cell_type": "code",
   "execution_count": 139,
   "id": "b6b0a22b",
   "metadata": {},
   "outputs": [
    {
     "data": {
      "text/plain": [
       "['chat',\n",
       " 'counter10-countdown.gif',\n",
       " 'ders5',\n",
       " 'desktop.ini',\n",
       " 'FL',\n",
       " 'FpKcStyWAAUnHZy.mp4',\n",
       " 'MP3',\n",
       " 'PROGRAMS',\n",
       " 'Python Programlama',\n",
       " 'svm.txt',\n",
       " 'YAPAY ZEKA 1. ÖĞRETİM  SINIF LİSTESİ.xlsx',\n",
       " 'yz pdfs',\n",
       " 'yön_bil.exe',\n",
       " '~$.tr.300.vec',\n",
       " 'ÇANTA']"
      ]
     },
     "execution_count": 139,
     "metadata": {},
     "output_type": "execute_result"
    }
   ],
   "source": [
    "# dizin değiştirip, dizin içindeki dosyaları listelemek\n",
    "yeni_dizin = \"C:/Users/Zeki/Desktop\"\n",
    "\n",
    "os.chdir(yeni_dizin)\n",
    "os.listdir(yeni_dizin)  # döndürülen değer liste olduğu için, istersek döngüye de alabiliriz."
   ]
  },
  {
   "cell_type": "markdown",
   "id": "0edf76ad",
   "metadata": {},
   "source": [
    "**Dizini değiştirdiğimiz için, geçerli dizin de değişir.**"
   ]
  },
  {
   "cell_type": "code",
   "execution_count": 138,
   "id": "7bfe97e5",
   "metadata": {},
   "outputs": [
    {
     "data": {
      "text/plain": [
       "'C:\\\\Users\\\\Zeki\\\\Desktop'"
      ]
     },
     "execution_count": 138,
     "metadata": {},
     "output_type": "execute_result"
    }
   ],
   "source": [
    "os.getcwd()"
   ]
  },
  {
   "cell_type": "markdown",
   "id": "249d6793",
   "metadata": {},
   "source": [
    "## .mkdir()\n",
    "Geçerli olan dizinde yeni bir klasör oluşturmak için kullanılır. Bu metotla sadece 1 klasör oluşturulabilir."
   ]
  },
  {
   "cell_type": "code",
   "execution_count": 146,
   "id": "e9641ba8",
   "metadata": {},
   "outputs": [],
   "source": [
    "os.mkdir(\"yepyeni_bir_klasör\") "
   ]
  },
  {
   "cell_type": "markdown",
   "id": "8fbc428d",
   "metadata": {},
   "source": [
    "Yukarıdaki metot yeniden çalıştırılırsa, var olan bir klasörü yeniden oluşturma hatası meydana gelir."
   ]
  },
  {
   "cell_type": "code",
   "execution_count": 147,
   "id": "9c3e66dd",
   "metadata": {},
   "outputs": [
    {
     "ename": "FileExistsError",
     "evalue": "[WinError 183] Halen varolan bir dosya oluşturulamaz: 'yepyeni_bir_klasör'",
     "output_type": "error",
     "traceback": [
      "\u001b[1;31m---------------------------------------------------------------------------\u001b[0m",
      "\u001b[1;31mFileExistsError\u001b[0m                           Traceback (most recent call last)",
      "\u001b[1;32m~\\AppData\\Local\\Temp\\ipykernel_10668\\2610976069.py\u001b[0m in \u001b[0;36m<module>\u001b[1;34m\u001b[0m\n\u001b[1;32m----> 1\u001b[1;33m \u001b[0mos\u001b[0m\u001b[1;33m.\u001b[0m\u001b[0mmkdir\u001b[0m\u001b[1;33m(\u001b[0m\u001b[1;34m\"yepyeni_bir_klasör\"\u001b[0m\u001b[1;33m)\u001b[0m\u001b[1;33m\u001b[0m\u001b[1;33m\u001b[0m\u001b[0m\n\u001b[0m",
      "\u001b[1;31mFileExistsError\u001b[0m: [WinError 183] Halen varolan bir dosya oluşturulamaz: 'yepyeni_bir_klasör'"
     ]
    }
   ],
   "source": [
    "os.mkdir(\"yepyeni_bir_klasör\")"
   ]
  },
  {
   "cell_type": "markdown",
   "id": "cff43f35",
   "metadata": {},
   "source": [
    "Bu hatayı engellemek için öncelikle böyle bir klasörün varlığı kontrol edilebilir."
   ]
  },
  {
   "cell_type": "code",
   "execution_count": 154,
   "id": "0eb5d932",
   "metadata": {},
   "outputs": [
    {
     "name": "stdout",
     "output_type": "stream",
     "text": [
      "yepyeni_bir_klasör geçerli dizinde ( C:\\Users\\Zeki\\Desktop ) oluşturuldu!\n"
     ]
    }
   ],
   "source": [
    "yeni = \"yepyeni_bir_klasör\"\n",
    "\n",
    "if not os.path.exists(yeni):\n",
    "    os.mkdir(yeni)\n",
    "    print(yeni, \"geçerli dizinde (\", os.getcwd(), \") oluşturuldu!\")\n",
    "else: \n",
    "    print(\"Hata: oluşturmak istediğiniz klasör zaten mevcut!\")"
   ]
  },
  {
   "cell_type": "markdown",
   "id": "a8f9b310",
   "metadata": {},
   "source": [
    "## .makedirs()\n",
    "İç içe çoklu klasörler oluşturmak için kullanılır."
   ]
  },
  {
   "cell_type": "code",
   "execution_count": 158,
   "id": "c82d7535",
   "metadata": {},
   "outputs": [
    {
     "name": "stdout",
     "output_type": "stream",
     "text": [
      "Hata: oluşturmak istediğiniz klasörler zaten mevcut!\n"
     ]
    }
   ],
   "source": [
    "yeni_klasorler = \"yeniler/yeni1/python/ders1\"\n",
    "\n",
    "if not os.path.exists(yeni_klasorler):\n",
    "    os.makedirs(yeni_klasorler)\n",
    "    print(yeni_klasorler, \"geçerli dizinde (\", os.getcwd(), \") oluşturuldu!\")\n",
    "else: \n",
    "    print(\"Hata: oluşturmak istediğiniz klasörler zaten mevcut!\")"
   ]
  },
  {
   "cell_type": "markdown",
   "id": "50e42342",
   "metadata": {},
   "source": [
    "## <span style=\"color:red\">.remove()</span>\n",
    "Kullanırken silinecek olan dosyanın, dizininin düzgün girildiğinden emin olunması gerekir. Aksi halde, geçerli dizindeki önemli ve silinmesi istenmeyen bir dosyanın silinmesine sebep olunabilir. "
   ]
  },
  {
   "cell_type": "code",
   "execution_count": 167,
   "id": "bf0da680",
   "metadata": {},
   "outputs": [
    {
     "name": "stdout",
     "output_type": "stream",
     "text": [
      "Hata: silmek istediğiniz dosya.txt ( C:\\Users\\Zeki\\Desktop ) dizininde zaten mevcut değil!\n"
     ]
    }
   ],
   "source": [
    "dosya = \"dosya.txt\"\n",
    "\n",
    "if os.path.exists(dosya):\n",
    "    os.remove(dosya)\n",
    "    print(\"(\", os.getcwd(), \") dizininde bulunan\", dosya, \"silindi.\")\n",
    "else: \n",
    "    print(\"Hata: silmek istediğiniz\", dosya, \"(\", os.getcwd() ,\") dizininde zaten mevcut değil!\")"
   ]
  },
  {
   "cell_type": "markdown",
   "id": "6a9be3d2",
   "metadata": {},
   "source": [
    "## .rmdir()\n",
    "Sadece boş olan klasörü siler ve sadece tek klasör siler."
   ]
  },
  {
   "cell_type": "code",
   "execution_count": 170,
   "id": "a9191fab",
   "metadata": {},
   "outputs": [],
   "source": [
    "yeni = \"yepyeni_klasor\"\n",
    "os.mkdir(yeni)"
   ]
  },
  {
   "cell_type": "code",
   "execution_count": 172,
   "id": "d98f1ba9",
   "metadata": {},
   "outputs": [
    {
     "ename": "OSError",
     "evalue": "[WinError 145] Dizin boş değil: 'yepyeni_klasor'",
     "output_type": "error",
     "traceback": [
      "\u001b[1;31m---------------------------------------------------------------------------\u001b[0m",
      "\u001b[1;31mOSError\u001b[0m                                   Traceback (most recent call last)",
      "\u001b[1;32m~\\AppData\\Local\\Temp\\ipykernel_10668\\1861192921.py\u001b[0m in \u001b[0;36m<module>\u001b[1;34m\u001b[0m\n\u001b[1;32m----> 1\u001b[1;33m \u001b[0mos\u001b[0m\u001b[1;33m.\u001b[0m\u001b[0mrmdir\u001b[0m\u001b[1;33m(\u001b[0m\u001b[0myeni\u001b[0m\u001b[1;33m)\u001b[0m \u001b[1;31m# klasör boş değilse, \"Dizin boş değil\" hatası meydana gelir.\u001b[0m\u001b[1;33m\u001b[0m\u001b[1;33m\u001b[0m\u001b[0m\n\u001b[0m",
      "\u001b[1;31mOSError\u001b[0m: [WinError 145] Dizin boş değil: 'yepyeni_klasor'"
     ]
    }
   ],
   "source": [
    "os.rmdir(yeni) # klasör boş değilse, \"Dizin boş değil\" hatası meydana gelir."
   ]
  },
  {
   "cell_type": "markdown",
   "id": "6b092ff5",
   "metadata": {},
   "source": [
    "## .removedirs()\n",
    "Sadece boş olan ve çoklu klasörleri siler."
   ]
  },
  {
   "cell_type": "code",
   "execution_count": 180,
   "id": "f33a2804",
   "metadata": {},
   "outputs": [],
   "source": [
    "yeni_klasorler = \"yeniler/yeni1/python/ders1\"\n",
    "\n",
    "os.makedirs(yeni_klasorler)"
   ]
  },
  {
   "cell_type": "code",
   "execution_count": 181,
   "id": "2923a83e",
   "metadata": {},
   "outputs": [],
   "source": [
    "os.removedirs(yeni_klasorler)  # dolu olan klasörler kalır, boş olanları siler."
   ]
  },
  {
   "cell_type": "markdown",
   "id": "06252539",
   "metadata": {},
   "source": [
    "## .rename(eski, yeni)\n",
    "Bir dosyanın ismini değiştirmek için kullanılır."
   ]
  },
  {
   "cell_type": "code",
   "execution_count": 190,
   "id": "4b21c875",
   "metadata": {},
   "outputs": [],
   "source": [
    "os.rename(\"eski.txt\",\"yeni.txt\")"
   ]
  },
  {
   "cell_type": "markdown",
   "id": "6ef3a423",
   "metadata": {},
   "source": [
    " "
   ]
  },
  {
   "cell_type": "markdown",
   "id": "2f1e2706",
   "metadata": {},
   "source": [
    "# PLATFORM MODÜLÜ\n",
    "Bilgisayarın yazılım ve donanım mimarisine ait bilgileri elde etmek için kullanılır."
   ]
  },
  {
   "cell_type": "code",
   "execution_count": 191,
   "id": "0ca77d3b",
   "metadata": {},
   "outputs": [],
   "source": [
    "import platform"
   ]
  },
  {
   "cell_type": "code",
   "execution_count": 193,
   "id": "25262ba3",
   "metadata": {},
   "outputs": [
    {
     "name": "stdout",
     "output_type": "stream",
     "text": [
      "Windows\n",
      "Windows-10-10.0.19044-SP0\n",
      "('64bit', 'WindowsPE')\n",
      "10.0.19044\n",
      "10\n",
      "('10', '10.0.19044', 'SP0', 'Multiprocessor Free')\n",
      "Intel64 Family 6 Model 142 Stepping 10, GenuineIntel\n",
      "AMD64\n",
      "3.9.13\n",
      "('3', '9', '13')\n",
      "CPython\n",
      "MSC v.1916 64 bit (AMD64)\n",
      "('main', 'Aug 25 2022 23:51:50')\n",
      "ZEKI\n",
      "['Windows', 'ZEKI', '10', '10.0.19044', 'AMD64', 'Intel64 Family 6 Model 142 Stepping 10, GenuineIntel']\n"
     ]
    }
   ],
   "source": [
    "# İşletim Sistemi ve Platform bilgileri\n",
    "print(platform.system())\n",
    "print(platform.platform())\n",
    "print(platform.architecture())\n",
    "print(platform.version())\n",
    "print(platform.release())\n",
    "print(platform.win32_ver())\n",
    "\n",
    "# İşlemci bilgileri\n",
    "print(platform.processor())\n",
    "print(platform.machine())\n",
    "\n",
    "# Python versiyonu ve diğer bilgiler\n",
    "print(platform.python_version())\n",
    "print(platform.python_version_tuple())\n",
    "print(platform.python_implementation())\n",
    "print(platform.python_compiler())\n",
    "print(platform.python_build())\n",
    "\n",
    "# Bilgisayar adı\n",
    "print(platform.node())\n",
    "\n",
    "# Birçok bilgi bir arada\n",
    "print(list(platform.uname()))"
   ]
  },
  {
   "cell_type": "markdown",
   "id": "b7c6a5d5",
   "metadata": {},
   "source": [
    "  "
   ]
  },
  {
   "cell_type": "markdown",
   "id": "60f4a62c",
   "metadata": {},
   "source": [
    "# SYS MODÜLÜ\n",
    "Çalışılan sistemden bilgi edinme ve sistem üzerinde işlem yapabilmek için kullanılır."
   ]
  },
  {
   "cell_type": "code",
   "execution_count": 195,
   "id": "e4366589",
   "metadata": {},
   "outputs": [],
   "source": [
    "import sys"
   ]
  },
  {
   "cell_type": "code",
   "execution_count": 200,
   "id": "1a075ff6",
   "metadata": {
    "scrolled": false
   },
   "outputs": [
    {
     "name": "stdout",
     "output_type": "stream",
     "text": [
      "win32\n",
      "C:\\Users\\Zeki\\anaconda3\\python.exe\n",
      "['C:\\\\Users\\\\Zeki\\\\anaconda3\\\\lib\\\\site-packages\\\\ipykernel_launcher.py', '-f', 'C:\\\\Users\\\\Zeki\\\\AppData\\\\Roaming\\\\jupyter\\\\runtime\\\\kernel-f02ccea2-05cd-4c36-96ac-bf598b0b0379.json']\n",
      "3.9.13 (main, Aug 25 2022, 23:51:50) [MSC v.1916 64 bit (AMD64)]\n",
      "['C:\\\\Users\\\\Zeki\\\\Desktop\\\\ders5', 'C:\\\\Users\\\\Zeki\\\\anaconda3\\\\python39.zip', 'C:\\\\Users\\\\Zeki\\\\anaconda3\\\\DLLs', 'C:\\\\Users\\\\Zeki\\\\anaconda3\\\\lib', 'C:\\\\Users\\\\Zeki\\\\anaconda3', '', 'C:\\\\Users\\\\Zeki\\\\AppData\\\\Roaming\\\\Python\\\\Python39\\\\site-packages', 'C:\\\\Users\\\\Zeki\\\\anaconda3\\\\lib\\\\site-packages', 'C:\\\\Users\\\\Zeki\\\\anaconda3\\\\lib\\\\site-packages\\\\win32', 'C:\\\\Users\\\\Zeki\\\\anaconda3\\\\lib\\\\site-packages\\\\win32\\\\lib', 'C:\\\\Users\\\\Zeki\\\\anaconda3\\\\lib\\\\site-packages\\\\Pythonwin', 'C:\\\\Users\\\\Zeki\\\\anaconda3\\\\lib\\\\site-packages\\\\IPython\\\\extensions', 'C:\\\\Users\\\\Zeki\\\\.ipython', 'C:/Users/Zeki/Desktop']\n",
      "('_abc', '_ast', '_bisect', '_blake2', '_codecs', '_codecs_cn', '_codecs_hk', '_codecs_iso2022', '_codecs_jp', '_codecs_kr', '_codecs_tw', '_collections', '_contextvars', '_csv', '_datetime', '_functools', '_heapq', '_imp', '_io', '_json', '_locale', '_lsprof', '_md5', '_multibytecodec', '_opcode', '_operator', '_peg_parser', '_pickle', '_random', '_sha1', '_sha256', '_sha3', '_sha512', '_signal', '_sre', '_stat', '_statistics', '_string', '_struct', '_symtable', '_thread', '_tracemalloc', '_warnings', '_weakref', '_winapi', '_xxsubinterpreters', 'array', 'atexit', 'audioop', 'binascii', 'builtins', 'cmath', 'errno', 'faulthandler', 'gc', 'itertools', 'marshal', 'math', 'mmap', 'msvcrt', 'nt', 'parser', 'sys', 'time', 'winreg', 'xxsubtype', 'zlib')\n",
      "utf-8\n",
      "C:\\Users\\Zeki\\anaconda3\n"
     ]
    },
    {
     "ename": "SystemExit",
     "evalue": "999",
     "output_type": "error",
     "traceback": [
      "An exception has occurred, use %tb to see the full traceback.\n",
      "\u001b[1;31mSystemExit\u001b[0m\u001b[1;31m:\u001b[0m 999\n"
     ]
    }
   ],
   "source": [
    "# Çalışılan sistem\n",
    "print(sys.platform)\n",
    "\n",
    "# Çalıştırılan dosyanın konumu (Python.exe)\n",
    "print(sys.executable)\n",
    "\n",
    "# Python.exe çalıştırılırken ona verilen parametreler\n",
    "print(sys.argv)\n",
    "\n",
    "# Python sistemiyle ilgili bilgiler\n",
    "print(sys.version)\n",
    "print(sys.path)\n",
    "\n",
    "# Hangi modüller kurulu?\n",
    "print(sys.builtin_module_names)\n",
    "\n",
    "# Varsayılan Karakter Seti\n",
    "print(sys.getdefaultencoding())\n",
    "\n",
    "# Environment (Ortam) Dizini\n",
    "print(sys.prefix)\n",
    "\n",
    "# Belirli bir hata koduyla çıkış yapmak için kullanılabilir.\n",
    "print(sys.exit(999))"
   ]
  },
  {
   "cell_type": "markdown",
   "id": "1bd0c5eb",
   "metadata": {},
   "source": [
    "<hr>\n",
    "<p style=\"text-align:center;font-size:12px\">\n",
    "<b>Öğr. Gör. Zeki ÇIPLAK</b><br>\n",
    "İstanbul Gedik Üniversitesi<br>\n",
    "Gedik MYO / Bilgisayar Programcılığı<br>\n",
    "<a href=\"https://linkedin.com/in/zkcplk\">LinkedIn</a> \n",
    "<a href=\"https://zkcplk.medium.com\">Blog</a> \n",
    "<a href=\"https://youtube.com/@zkcplk\">YouTube</a> \n",
    "</p>"
   ]
  }
 ],
 "metadata": {
  "kernelspec": {
   "display_name": "Python 3 (ipykernel)",
   "language": "python",
   "name": "python3"
  },
  "language_info": {
   "codemirror_mode": {
    "name": "ipython",
    "version": 3
   },
   "file_extension": ".py",
   "mimetype": "text/x-python",
   "name": "python",
   "nbconvert_exporter": "python",
   "pygments_lexer": "ipython3",
   "version": "3.9.13"
  }
 },
 "nbformat": 4,
 "nbformat_minor": 5
}
