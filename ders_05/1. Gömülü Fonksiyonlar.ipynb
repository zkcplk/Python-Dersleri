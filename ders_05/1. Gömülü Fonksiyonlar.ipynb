{
 "cells": [
  {
   "cell_type": "markdown",
   "id": "18f3fa63",
   "metadata": {},
   "source": [
    "# GÖMÜLÜ FONKSİYONLAR (Built-in Functions)"
   ]
  },
  {
   "cell_type": "markdown",
   "id": "f111d0a9",
   "metadata": {},
   "source": [
    "## help()\n",
    "Bir fonksiyonun nasıl çalıştığını öğrenmek için kullanılır."
   ]
  },
  {
   "cell_type": "code",
   "execution_count": 1,
   "id": "8a202f0e",
   "metadata": {},
   "outputs": [
    {
     "name": "stdout",
     "output_type": "stream",
     "text": [
      "Help on built-in function print in module builtins:\n",
      "\n",
      "print(...)\n",
      "    print(value, ..., sep=' ', end='\\n', file=sys.stdout, flush=False)\n",
      "    \n",
      "    Prints the values to a stream, or to sys.stdout by default.\n",
      "    Optional keyword arguments:\n",
      "    file:  a file-like object (stream); defaults to the current sys.stdout.\n",
      "    sep:   string inserted between values, default a space.\n",
      "    end:   string appended after the last value, default a newline.\n",
      "    flush: whether to forcibly flush the stream.\n",
      "\n"
     ]
    }
   ],
   "source": [
    "help(print)"
   ]
  },
  {
   "cell_type": "markdown",
   "id": "7837efef",
   "metadata": {},
   "source": [
    "## dir()\n",
    "Bir veri türüne ait metodların listesini almak için kullanılır."
   ]
  },
  {
   "cell_type": "code",
   "execution_count": 2,
   "id": "7f102501",
   "metadata": {},
   "outputs": [
    {
     "data": {
      "text/plain": [
       "['__add__',\n",
       " '__class__',\n",
       " '__contains__',\n",
       " '__delattr__',\n",
       " '__dir__',\n",
       " '__doc__',\n",
       " '__eq__',\n",
       " '__format__',\n",
       " '__ge__',\n",
       " '__getattribute__',\n",
       " '__getitem__',\n",
       " '__getnewargs__',\n",
       " '__gt__',\n",
       " '__hash__',\n",
       " '__init__',\n",
       " '__init_subclass__',\n",
       " '__iter__',\n",
       " '__le__',\n",
       " '__len__',\n",
       " '__lt__',\n",
       " '__mod__',\n",
       " '__mul__',\n",
       " '__ne__',\n",
       " '__new__',\n",
       " '__reduce__',\n",
       " '__reduce_ex__',\n",
       " '__repr__',\n",
       " '__rmod__',\n",
       " '__rmul__',\n",
       " '__setattr__',\n",
       " '__sizeof__',\n",
       " '__str__',\n",
       " '__subclasshook__',\n",
       " 'capitalize',\n",
       " 'casefold',\n",
       " 'center',\n",
       " 'count',\n",
       " 'encode',\n",
       " 'endswith',\n",
       " 'expandtabs',\n",
       " 'find',\n",
       " 'format',\n",
       " 'format_map',\n",
       " 'index',\n",
       " 'isalnum',\n",
       " 'isalpha',\n",
       " 'isascii',\n",
       " 'isdecimal',\n",
       " 'isdigit',\n",
       " 'isidentifier',\n",
       " 'islower',\n",
       " 'isnumeric',\n",
       " 'isprintable',\n",
       " 'isspace',\n",
       " 'istitle',\n",
       " 'isupper',\n",
       " 'join',\n",
       " 'ljust',\n",
       " 'lower',\n",
       " 'lstrip',\n",
       " 'maketrans',\n",
       " 'partition',\n",
       " 'removeprefix',\n",
       " 'removesuffix',\n",
       " 'replace',\n",
       " 'rfind',\n",
       " 'rindex',\n",
       " 'rjust',\n",
       " 'rpartition',\n",
       " 'rsplit',\n",
       " 'rstrip',\n",
       " 'split',\n",
       " 'splitlines',\n",
       " 'startswith',\n",
       " 'strip',\n",
       " 'swapcase',\n",
       " 'title',\n",
       " 'translate',\n",
       " 'upper',\n",
       " 'zfill']"
      ]
     },
     "execution_count": 2,
     "metadata": {},
     "output_type": "execute_result"
    }
   ],
   "source": [
    "text = \"merhaba\"\n",
    "\n",
    "dir(text)"
   ]
  },
  {
   "cell_type": "markdown",
   "id": "e8e302a7",
   "metadata": {},
   "source": [
    "## round(int, int)\n",
    "Sayılarda yuvarlama işlemi için kullanılır. İkinci parametre, virgülden sonra kaç basamak görüntüleneceğini belirler."
   ]
  },
  {
   "cell_type": "code",
   "execution_count": 3,
   "id": "b6c5e6c9",
   "metadata": {},
   "outputs": [
    {
     "data": {
      "text/plain": [
       "3"
      ]
     },
     "execution_count": 3,
     "metadata": {},
     "output_type": "execute_result"
    }
   ],
   "source": [
    "round(3.14)"
   ]
  },
  {
   "cell_type": "code",
   "execution_count": 4,
   "id": "5f469013",
   "metadata": {},
   "outputs": [
    {
     "data": {
      "text/plain": [
       "3.1"
      ]
     },
     "execution_count": 4,
     "metadata": {},
     "output_type": "execute_result"
    }
   ],
   "source": [
    "round(3.14, 1)"
   ]
  },
  {
   "cell_type": "markdown",
   "id": "629cc6ab",
   "metadata": {},
   "source": [
    "## abs(int)\n",
    "Parametrede verilen sayının mutlak değerini bulur."
   ]
  },
  {
   "cell_type": "code",
   "execution_count": 5,
   "id": "129afed8",
   "metadata": {},
   "outputs": [
    {
     "data": {
      "text/plain": [
       "1"
      ]
     },
     "execution_count": 5,
     "metadata": {},
     "output_type": "execute_result"
    }
   ],
   "source": [
    "abs(-1)"
   ]
  },
  {
   "cell_type": "markdown",
   "id": "346aefe9",
   "metadata": {},
   "source": [
    "## sum(iterable) \n",
    "Parametrede verilen list, tuple veya set gibi iterable bir verideki sayıların toplamını bulur."
   ]
  },
  {
   "cell_type": "code",
   "execution_count": 6,
   "id": "541b2cb5",
   "metadata": {},
   "outputs": [
    {
     "data": {
      "text/plain": [
       "15"
      ]
     },
     "execution_count": 6,
     "metadata": {},
     "output_type": "execute_result"
    }
   ],
   "source": [
    "sum([1,2,3,4,5])"
   ]
  },
  {
   "cell_type": "code",
   "execution_count": 7,
   "id": "bf1a87f6",
   "metadata": {},
   "outputs": [
    {
     "data": {
      "text/plain": [
       "165"
      ]
     },
     "execution_count": 7,
     "metadata": {},
     "output_type": "execute_result"
    }
   ],
   "source": [
    "demet = (11,22,33,44,55)\n",
    "\n",
    "sum(demet)"
   ]
  },
  {
   "cell_type": "markdown",
   "id": "86938163",
   "metadata": {},
   "source": [
    "## max(iterable veya sayı dizisi)\n",
    "Parametrede verilen iterable veya sayı dizisi içindeki sayılardan en büyüğünü bulur."
   ]
  },
  {
   "cell_type": "code",
   "execution_count": 8,
   "id": "37e3c81e",
   "metadata": {},
   "outputs": [
    {
     "data": {
      "text/plain": [
       "105"
      ]
     },
     "execution_count": 8,
     "metadata": {},
     "output_type": "execute_result"
    }
   ],
   "source": [
    "max(3,1,7,105,56)"
   ]
  },
  {
   "cell_type": "code",
   "execution_count": 9,
   "id": "0ee45322",
   "metadata": {},
   "outputs": [
    {
     "data": {
      "text/plain": [
       "165"
      ]
     },
     "execution_count": 9,
     "metadata": {},
     "output_type": "execute_result"
    }
   ],
   "source": [
    "max([98,33,12,165,74,-8])"
   ]
  },
  {
   "cell_type": "markdown",
   "id": "7d8c7fba",
   "metadata": {},
   "source": [
    "## min(iterable veya sayı dizisi)\n",
    "Parametrede verilen iterable veya sayı dizisi içindeki sayılardan en küçüğünü bulur."
   ]
  },
  {
   "cell_type": "code",
   "execution_count": 10,
   "id": "9b919b37",
   "metadata": {},
   "outputs": [
    {
     "data": {
      "text/plain": [
       "-8"
      ]
     },
     "execution_count": 10,
     "metadata": {},
     "output_type": "execute_result"
    }
   ],
   "source": [
    "min([98,33,12,165,74,-8])"
   ]
  },
  {
   "cell_type": "code",
   "execution_count": 11,
   "id": "f69b5c56",
   "metadata": {},
   "outputs": [
    {
     "data": {
      "text/plain": [
       "-8"
      ]
     },
     "execution_count": 11,
     "metadata": {},
     "output_type": "execute_result"
    }
   ],
   "source": [
    "min(98,33,12,165,74,-8)"
   ]
  },
  {
   "cell_type": "markdown",
   "id": "3b02c0c2",
   "metadata": {},
   "source": [
    "## pow(taban, üs)\n",
    "Üs alma işlemi için kullanılır."
   ]
  },
  {
   "cell_type": "code",
   "execution_count": 12,
   "id": "3019ac05",
   "metadata": {},
   "outputs": [
    {
     "data": {
      "text/plain": [
       "9"
      ]
     },
     "execution_count": 12,
     "metadata": {},
     "output_type": "execute_result"
    }
   ],
   "source": [
    "pow(3,2)"
   ]
  },
  {
   "cell_type": "markdown",
   "id": "2efb4f5b",
   "metadata": {},
   "source": [
    "## map(fonksiyon, iterable)\n",
    "*map()* içinde verilen iterable'ın her bir elemanı, yine *map()* içinde verilen fonksiyonun, bir parametresi olacak şekilde tek tek çalıştırılır."
   ]
  },
  {
   "cell_type": "code",
   "execution_count": 1,
   "id": "a54f0da1",
   "metadata": {},
   "outputs": [],
   "source": [
    "def karesi(sayi):       # map() içinde kullanılacak fonksiyon\n",
    "    return sayi ** 2"
   ]
  },
  {
   "cell_type": "code",
   "execution_count": 2,
   "id": "d81a6116",
   "metadata": {},
   "outputs": [],
   "source": [
    "liste = [1, 2, 3]       # map() içinde kullanılacak iterable"
   ]
  },
  {
   "cell_type": "code",
   "execution_count": 3,
   "id": "b3717b35",
   "metadata": {},
   "outputs": [
    {
     "data": {
      "text/plain": [
       "[1, 4, 9]"
      ]
     },
     "execution_count": 3,
     "metadata": {},
     "output_type": "execute_result"
    }
   ],
   "source": [
    "map_nesnesi = map(karesi, liste)\n",
    "\n",
    "list(map_nesnesi)       # map_nesnesi bir list, tuple veya set'e dönüştürülmelidir, aksi halde kullanılamaz."
   ]
  },
  {
   "cell_type": "markdown",
   "id": "7258e8ca",
   "metadata": {},
   "source": [
    "Aynı işlemi, fonksiyonu *lambda* ile ifade ederek daha kısa şekilde de gerçekleştirebiliriz."
   ]
  },
  {
   "cell_type": "code",
   "execution_count": 4,
   "id": "b2ea67e3",
   "metadata": {},
   "outputs": [
    {
     "data": {
      "text/plain": [
       "[1, 4, 9]"
      ]
     },
     "execution_count": 4,
     "metadata": {},
     "output_type": "execute_result"
    }
   ],
   "source": [
    "map_nesnesi = map(lambda sayi: sayi ** 2, liste)\n",
    "list(map_nesnesi)"
   ]
  },
  {
   "cell_type": "markdown",
   "id": "7cfccff5",
   "metadata": {},
   "source": [
    "Yukarıda *map()* fonksiyonu ile yapılan işlemi, dilersek *List Comprehension* ile de aşağıdaki gibi gerçekleştirebiliriz."
   ]
  },
  {
   "cell_type": "code",
   "execution_count": 6,
   "id": "4ab41451",
   "metadata": {},
   "outputs": [
    {
     "data": {
      "text/plain": [
       "[1, 4, 9]"
      ]
     },
     "execution_count": 6,
     "metadata": {},
     "output_type": "execute_result"
    }
   ],
   "source": [
    "[karesi(i) for i in liste]"
   ]
  },
  {
   "cell_type": "markdown",
   "id": "50982873",
   "metadata": {},
   "source": [
    "## filter(fonksiyon, iterable)\n",
    "Adından da anlaşıldığı gibi, filtreleme amaçlı kullanılır. *filter()* içinde verilen iterable'ın her bir elemanı, yine *filter()* içinde verilen fonksiyonun, bir parametresi olacak şekilde tek tek çalıştırılır. Buradaki fonksiyon parametresi, sonucu *bool* döndüren (True veya False) bir fonksiyon olmalıdır. Son olarak True sonuç döndüren iterable elemanları için yeni bir nesne oluşturulur."
   ]
  },
  {
   "cell_type": "code",
   "execution_count": 11,
   "id": "0f3827da",
   "metadata": {},
   "outputs": [],
   "source": [
    "def çift(sayi):             # filter() içinde kullanılacak bu fonksiyonun sonucu, True veya False olarak döner.\n",
    "    return sayi % 2 == 0"
   ]
  },
  {
   "cell_type": "code",
   "execution_count": 18,
   "id": "9d5a0221",
   "metadata": {},
   "outputs": [
    {
     "data": {
      "text/plain": [
       "[2, 4, 6]"
      ]
     },
     "execution_count": 18,
     "metadata": {},
     "output_type": "execute_result"
    }
   ],
   "source": [
    "filter_nesnesi = filter(çift, [1, 2, 3, 4, 5, 6, 7])\n",
    "\n",
    "list(filter_nesnesi)        # filter_nesnesi bir list, tuple veya set'e dönüştürülmelidir, aksi halde kullanılamaz."
   ]
  },
  {
   "cell_type": "markdown",
   "id": "821c6037",
   "metadata": {},
   "source": [
    "Aynı işlemi, fonksiyonu *lambda* ile ifade ederek daha kısa şekilde de gerçekleştirebiliriz."
   ]
  },
  {
   "cell_type": "code",
   "execution_count": 7,
   "id": "aa43cdb9",
   "metadata": {},
   "outputs": [
    {
     "data": {
      "text/plain": [
       "[2, 4, 6]"
      ]
     },
     "execution_count": 7,
     "metadata": {},
     "output_type": "execute_result"
    }
   ],
   "source": [
    "list(filter(lambda sayi: sayi % 2 == 0, [1, 2, 3, 4, 5, 6, 7]))"
   ]
  },
  {
   "cell_type": "markdown",
   "id": "2cc83197",
   "metadata": {},
   "source": [
    "Yukarıda *filter()* fonksiyonu ile yapılan işlemi, dilersek *List Comprehension* ile de aşağıdaki gibi gerçekleştirebiliriz."
   ]
  },
  {
   "cell_type": "code",
   "execution_count": 12,
   "id": "fecc2acc",
   "metadata": {},
   "outputs": [
    {
     "data": {
      "text/plain": [
       "[2, 4, 6]"
      ]
     },
     "execution_count": 12,
     "metadata": {},
     "output_type": "execute_result"
    }
   ],
   "source": [
    "[i for i in [1, 2, 3, 4, 5, 6, 7] if çift(i)]"
   ]
  },
  {
   "cell_type": "markdown",
   "id": "205209f8",
   "metadata": {},
   "source": [
    "## zip(iterable, ...)\n",
    "Listeleri, demetler halinde birleştirmek için kullanılır."
   ]
  },
  {
   "cell_type": "code",
   "execution_count": 20,
   "id": "96393fd1",
   "metadata": {},
   "outputs": [
    {
     "data": {
      "text/plain": [
       "[(1, 2), (4, 5), (6, 16), (13, 24)]"
      ]
     },
     "execution_count": 20,
     "metadata": {},
     "output_type": "execute_result"
    }
   ],
   "source": [
    "liste1 = [1, 4, 6, 13]\n",
    "liste2 = [2, 5, 16, 24, 38]\n",
    "\n",
    "zip_nesnesi = zip(liste1, liste2)\n",
    "list(zip_nesnesi)"
   ]
  },
  {
   "cell_type": "markdown",
   "id": "1cf83dfb",
   "metadata": {},
   "source": [
    "İkiden fazla liste de **zip()** fonksiyonu ile birleştirilebilir."
   ]
  },
  {
   "cell_type": "code",
   "execution_count": 21,
   "id": "6ac45984",
   "metadata": {},
   "outputs": [
    {
     "data": {
      "text/plain": [
       "[(1, 2, 'python'), (4, 5, 'c++'), (7, 16, 'php')]"
      ]
     },
     "execution_count": 21,
     "metadata": {},
     "output_type": "execute_result"
    }
   ],
   "source": [
    "liste1 = [1, 4, 7]\n",
    "liste2 = [2, 5, 16, 24, 38]\n",
    "liste3 = [\"python\", \"c++\", \"php\", \"javascript\", \"java\"]\n",
    "\n",
    "# her liste aynı eleman sayısına sahip olmadığı için bazı elemanlar eşleştirilmez.\n",
    "# sadece eşleştirilen elemanlar yeni oluşturulan listede yer alır.\n",
    "list(zip(liste1, liste2, liste3))"
   ]
  },
  {
   "cell_type": "markdown",
   "id": "37776b17",
   "metadata": {},
   "source": [
    "Farklı listeler, aynı for döngüsünde **zip()** fonksiyonu ile birlikte ele alınabilir."
   ]
  },
  {
   "cell_type": "code",
   "execution_count": 22,
   "id": "36120370",
   "metadata": {},
   "outputs": [
    {
     "name": "stdout",
     "output_type": "stream",
     "text": [
      "ali adlı öğrencinin aldığı not: 60\n",
      "can adlı öğrencinin aldığı not: 72\n",
      "mehmet adlı öğrencinin aldığı not: 61\n",
      "sude adlı öğrencinin aldığı not: 75\n",
      "aysu adlı öğrencinin aldığı not: 90\n",
      "şebnem adlı öğrencinin aldığı not: 65\n",
      "irem adlı öğrencinin aldığı not: 58\n",
      "emre adlı öğrencinin aldığı not: 94\n"
     ]
    }
   ],
   "source": [
    "notlar = [60, 72, 61, 75, 90, 65, 58, 94]\n",
    "ogrenciler = [\"ali\", \"can\", \"mehmet\", \"sude\", \"aysu\", \"şebnem\", \"irem\", \"emre\"]\n",
    "\n",
    "for x,y in zip(notlar, ogrenciler):\n",
    "    print(f\"{y} adlı öğrencinin aldığı not: {x}\")"
   ]
  },
  {
   "cell_type": "markdown",
   "id": "829fd223",
   "metadata": {},
   "source": [
    "Farklı sözlükler de, tıpkı listelerdeki gibi, aynı for döngüsünde **zip()** fonksiyonu ile birlikte kullanılabilirler."
   ]
  },
  {
   "cell_type": "markdown",
   "id": "6350dd46",
   "metadata": {},
   "source": [
    "## all(iterable)\n",
    "Parametrede verilen iterable'ın, **tüm elemanları** *True* ise, fonksiyon da *True* değerini döndürür. Aksi tüm durumlarda *False* değerini döndürür."
   ]
  },
  {
   "cell_type": "code",
   "execution_count": 23,
   "id": "7384bbdf",
   "metadata": {},
   "outputs": [
    {
     "data": {
      "text/plain": [
       "True"
      ]
     },
     "execution_count": 23,
     "metadata": {},
     "output_type": "execute_result"
    }
   ],
   "source": [
    "liste1 = [True, True, True]\n",
    "all(liste1)"
   ]
  },
  {
   "cell_type": "code",
   "execution_count": 24,
   "id": "b9e6e358",
   "metadata": {},
   "outputs": [
    {
     "data": {
      "text/plain": [
       "False"
      ]
     },
     "execution_count": 24,
     "metadata": {},
     "output_type": "execute_result"
    }
   ],
   "source": [
    "liste2 = [True, True, False]\n",
    "all(liste2)"
   ]
  },
  {
   "cell_type": "markdown",
   "id": "7f195df0",
   "metadata": {},
   "source": [
    "## any(iterable)\n",
    "Parametrede verilen iterable'ın, **herhangi bir elemanı** *True* ise, fonksiyon da *True* değerini döndürür. Aksi tüm durumlarda *False* değerini döndürür."
   ]
  },
  {
   "cell_type": "code",
   "execution_count": 25,
   "id": "a2d56966",
   "metadata": {},
   "outputs": [
    {
     "data": {
      "text/plain": [
       "False"
      ]
     },
     "execution_count": 25,
     "metadata": {},
     "output_type": "execute_result"
    }
   ],
   "source": [
    "liste1 = [False, False, False]\n",
    "any(liste1)"
   ]
  },
  {
   "cell_type": "code",
   "execution_count": 26,
   "id": "c2d53a29",
   "metadata": {},
   "outputs": [
    {
     "data": {
      "text/plain": [
       "True"
      ]
     },
     "execution_count": 26,
     "metadata": {},
     "output_type": "execute_result"
    }
   ],
   "source": [
    "liste2 = [False, True, False]\n",
    "any(liste2)"
   ]
  },
  {
   "cell_type": "markdown",
   "id": "e23b9367",
   "metadata": {},
   "source": [
    "<hr>\n",
    "<p style=\"text-align:center;font-size:12px\">\n",
    "<b>Öğr. Gör. Zeki ÇIPLAK</b><br>\n",
    "İstanbul Gedik Üniversitesi<br>\n",
    "Gedik MYO / Bilgisayar Programcılığı<br>\n",
    "<a href=\"https://linkedin.com/in/zkcplk\">LinkedIn</a> \n",
    "<a href=\"https://zkcplk.medium.com\">Blog</a> \n",
    "<a href=\"https://youtube.com/@zkcplk\">YouTube</a> \n",
    "</p>"
   ]
  }
 ],
 "metadata": {
  "kernelspec": {
   "display_name": "Python 3 (ipykernel)",
   "language": "python",
   "name": "python3"
  },
  "language_info": {
   "codemirror_mode": {
    "name": "ipython",
    "version": 3
   },
   "file_extension": ".py",
   "mimetype": "text/x-python",
   "name": "python",
   "nbconvert_exporter": "python",
   "pygments_lexer": "ipython3",
   "version": "3.9.13"
  }
 },
 "nbformat": 4,
 "nbformat_minor": 5
}
