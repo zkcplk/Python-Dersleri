{
 "cells": [
  {
   "cell_type": "markdown",
   "id": "95cb7507",
   "metadata": {},
   "source": [
    "# Python'da print fonksiyonunun özellikleri\n",
    "print() fonksiyonuna virgülle eklenen her nesne, otomatik olarak boşlukla ayrılmış olur."
   ]
  },
  {
   "cell_type": "code",
   "execution_count": 1,
   "id": "2af6a1b9",
   "metadata": {},
   "outputs": [
    {
     "name": "stdout",
     "output_type": "stream",
     "text": [
      "Art arda yazılacak şeyler arasına boşluk gelir.\n"
     ]
    }
   ],
   "source": [
    "print(\"Art\", \"arda\", \"yazılacak\", \"şeyler\", \"arasına\", \"boşluk\", \"gelir.\")"
   ]
  },
  {
   "cell_type": "markdown",
   "id": "0b9a6c7b",
   "metadata": {},
   "source": [
    "print() fonksiyonunda, tek veya çift tırnak kullanım farkı yoktur."
   ]
  },
  {
   "cell_type": "code",
   "execution_count": 2,
   "id": "71ed7a60",
   "metadata": {},
   "outputs": [
    {
     "name": "stdout",
     "output_type": "stream",
     "text": [
      "Tek tırnak da kullanabiliriz.\n",
      "Çift tırnak da kullanabiliriz.\n"
     ]
    }
   ],
   "source": [
    "print('Tek tırnak da kullanabiliriz.')\n",
    "print(\"Çift tırnak da kullanabiliriz.\")"
   ]
  },
  {
   "cell_type": "markdown",
   "id": "8f5af43e",
   "metadata": {},
   "source": [
    "Tek veya Çift tırnak kullanımının etkili olduğu örnekler:"
   ]
  },
  {
   "cell_type": "code",
   "execution_count": 3,
   "id": "df470687",
   "metadata": {},
   "outputs": [
    {
     "name": "stdout",
     "output_type": "stream",
     "text": [
      "Ali bügun okula 12'de geldi.\n",
      "Ali bügun okula 12'de geldi.\n",
      "Ali bügun okula 12\"de geldi.\n"
     ]
    }
   ],
   "source": [
    "print('Ali bügun okula 12\\'de geldi.')\n",
    "print(\"Ali bügun okula 12'de geldi.\")\n",
    "print('Ali bügun okula 12\"de geldi.')"
   ]
  },
  {
   "cell_type": "markdown",
   "id": "a03dd1dc",
   "metadata": {},
   "source": [
    "Python'da metinleri <b>+</b> operatörüyle de birleştirebiliriz."
   ]
  },
  {
   "cell_type": "code",
   "execution_count": 4,
   "id": "9edaf7e3",
   "metadata": {},
   "outputs": [
    {
     "name": "stdout",
     "output_type": "stream",
     "text": [
      "yazıları artı işaretiyle birleştirebiliriz başka bir yazı...\n",
      "alt satır\n"
     ]
    }
   ],
   "source": [
    "print(\"yazıları artı işaretiyle birleştirebiliriz\" + \" başka bir yazı...\" + \"\\n\" + \"alt satır\")"
   ]
  },
  {
   "cell_type": "markdown",
   "id": "5a7080c7",
   "metadata": {},
   "source": [
    "Yazacağımız kod ekrana sığmıyorsa,<br>\n",
    "print() fonksiyonu içerisindeki ifadeyi alt alta, aşağıdaki gibi de yazabiliriz."
   ]
  },
  {
   "cell_type": "code",
   "execution_count": 5,
   "id": "33948366",
   "metadata": {},
   "outputs": [
    {
     "name": "stdout",
     "output_type": "stream",
     "text": [
      "Yazdıracağımız kod ekrana sığmayacak kadar uzun olabilir. Böyle bir durumda, print fonksiyonu içerisindeki satırları bu şekilde alt alta yazarak da kullanabiliriz.\n"
     ]
    }
   ],
   "source": [
    "print(\"Yazdıracağımız kod ekrana sığmayacak kadar uzun olabilir. \"\n",
    "      \"Böyle bir durumda, print fonksiyonu içerisindeki satırları \"\n",
    "      \"bu şekilde alt alta yazarak da kullanabiliriz.\")"
   ]
  },
  {
   "cell_type": "markdown",
   "id": "1fb3db54",
   "metadata": {},
   "source": [
    "Konsola yazılan yazının da, print içerisindeki gibi olmasını istiyorsak <br>\n",
    "üç tırnak kullanabiliriz. Alttaki kullanımda metin, print() fonksiyonu içinde nasıl yazılmışsa, <br>konsolda da aynı şekilde yazılmış olur."
   ]
  },
  {
   "cell_type": "code",
   "execution_count": 6,
   "id": "b99d45f4",
   "metadata": {},
   "outputs": [
    {
     "name": "stdout",
     "output_type": "stream",
     "text": [
      "\n",
      "    Eğer görünümde de alt alta yazılmasını istiyorsak,\n",
      "    Bu şekilde alt alt gelmesini sağlayabiliriz...\n",
      "\n",
      "\n",
      "    Eğer görünümde de alt alta yazılmasını istiyorsak,\n",
      "    Bu şekilde alt alt gelmesini sağlayabiliriz...\n",
      "\n"
     ]
    }
   ],
   "source": [
    "print(\"\"\"\n",
    "    Eğer görünümde de alt alta yazılmasını istiyorsak,\n",
    "    Bu şekilde alt alt gelmesini sağlayabiliriz...\n",
    "\"\"\")\n",
    "\n",
    "print('''\n",
    "    Eğer görünümde de alt alta yazılmasını istiyorsak,\n",
    "    Bu şekilde alt alt gelmesini sağlayabiliriz...\n",
    "''')"
   ]
  },
  {
   "cell_type": "markdown",
   "id": "27548a22",
   "metadata": {},
   "source": [
    "print() fonksiyonundaki <i><b>sep=\"...\"</b></i> parametresi, print içerisinde virgülle ayrılmış şekilde verilen nesnelerin, hangi karakterle ayrılacağını belirler. Varsayılan (default) değeri tek boşluktur."
   ]
  },
  {
   "cell_type": "code",
   "execution_count": 7,
   "id": "858c8c33",
   "metadata": {},
   "outputs": [
    {
     "name": "stdout",
     "output_type": "stream",
     "text": [
      "bir yazı 1 sayı\n",
      "bir   yazı   1   sayı\n",
      "bir:yazı:1:sayı\n",
      "bir,yazı,1,sayı\n"
     ]
    }
   ],
   "source": [
    "print(\"bir\", \"yazı\", 1, \"sayı\") # default\n",
    "print(\"bir\", \"yazı\", 1, \"sayı\", sep='   ')\n",
    "print(\"bir\", \"yazı\", 1, \"sayı\", sep=':')\n",
    "print(\"bir\", \"yazı\", 1, \"sayı\", sep=',')"
   ]
  },
  {
   "cell_type": "markdown",
   "id": "9821b994",
   "metadata": {},
   "source": [
    "print() fonksiyonundaki <i><b>end=\"...\"</b></i> parametresi, print çalıştıktan sonra, yazdırılan metnin sonuna hangi karakterin ekleneceğini belirler. Varsayılan (default) değeri alt satıra geçme karakteri olan <b>\\n</b> dir."
   ]
  },
  {
   "cell_type": "code",
   "execution_count": 8,
   "id": "794388f0",
   "metadata": {},
   "outputs": [
    {
     "name": "stdout",
     "output_type": "stream",
     "text": [
      "deneme\n",
      "deneme1,deneme2     deneme3\n",
      "deneme4---"
     ]
    }
   ],
   "source": [
    "print(\"deneme\") #default\n",
    "print(\"deneme1\", end=',')\n",
    "print(\"deneme2\", end='     ')\n",
    "print(\"deneme3\", end='\\n')\n",
    "print(\"deneme4\", end='---')"
   ]
  },
  {
   "cell_type": "markdown",
   "id": "048309c1",
   "metadata": {},
   "source": [
    "# Python'da değişken oluşturma"
   ]
  },
  {
   "cell_type": "markdown",
   "id": "8c5da9a3",
   "metadata": {},
   "source": [
    "Python'da String değişkenler; tek tırnak, çift tırnak veya üç tırnakla oluşturulabilir."
   ]
  },
  {
   "cell_type": "code",
   "execution_count": 9,
   "id": "0fed0184",
   "metadata": {},
   "outputs": [
    {
     "name": "stdout",
     "output_type": "stream",
     "text": [
      "python programlama dili\n",
      "\n",
      "python programlama dili\n",
      "\n",
      "python\n",
      "programlama\n",
      "dili\n"
     ]
    }
   ],
   "source": [
    "a = \"python programlama dili\"\n",
    "b = 'python programlama dili'\n",
    "c = '''python\n",
    "programlama\n",
    "dili'''\n",
    "\n",
    "print(a, b, c, sep=\"\\n\\n\")"
   ]
  },
  {
   "cell_type": "code",
   "execution_count": 22,
   "id": "278fc67f",
   "metadata": {},
   "outputs": [
    {
     "name": "stdout",
     "output_type": "stream",
     "text": [
      "19\n"
     ]
    }
   ],
   "source": [
    "# integer değişken oluşturma\n",
    "x = 9\n",
    "y = 10\n",
    "\n",
    "print(x + y)"
   ]
  },
  {
   "cell_type": "code",
   "execution_count": 24,
   "id": "f579ffcb",
   "metadata": {},
   "outputs": [
    {
     "name": "stdout",
     "output_type": "stream",
     "text": [
      "3.15\n"
     ]
    }
   ],
   "source": [
    "# ondalıklı değişken (float) oluşturma\n",
    "z = 3.14\n",
    "t = 0.01\n",
    "\n",
    "print(z + t)"
   ]
  },
  {
   "cell_type": "markdown",
   "id": "153bae80",
   "metadata": {},
   "source": [
    "Artı işaretinin her iki tarafı da aynı veri türü olmalıdır!"
   ]
  },
  {
   "cell_type": "code",
   "execution_count": 27,
   "id": "5e6dd2b3",
   "metadata": {},
   "outputs": [
    {
     "ename": "TypeError",
     "evalue": "unsupported operand type(s) for +: 'float' and 'str'",
     "output_type": "error",
     "traceback": [
      "\u001b[1;31m---------------------------------------------------------------------------\u001b[0m",
      "\u001b[1;31mTypeError\u001b[0m                                 Traceback (most recent call last)",
      "\u001b[1;32m~\\AppData\\Local\\Temp\\ipykernel_7196\\1023770747.py\u001b[0m in \u001b[0;36m<module>\u001b[1;34m\u001b[0m\n\u001b[1;32m----> 1\u001b[1;33m \u001b[0mprint\u001b[0m\u001b[1;33m(\u001b[0m\u001b[0mz\u001b[0m \u001b[1;33m+\u001b[0m \u001b[1;34m\"0.1\"\u001b[0m\u001b[1;33m)\u001b[0m \u001b[1;31m# sağ tarafta float, sağ tarafta string ifade olduğu için hata meydana gelir!\u001b[0m\u001b[1;33m\u001b[0m\u001b[1;33m\u001b[0m\u001b[0m\n\u001b[0m",
      "\u001b[1;31mTypeError\u001b[0m: unsupported operand type(s) for +: 'float' and 'str'"
     ]
    }
   ],
   "source": [
    "print(z + \"0.1\") # sağ tarafta float, sağ tarafta string ifade olduğu için hata meydana gelir!"
   ]
  },
  {
   "cell_type": "code",
   "execution_count": 11,
   "id": "67d947f0",
   "metadata": {},
   "outputs": [
    {
     "ename": "TypeError",
     "evalue": "can only concatenate str (not \"int\") to str",
     "output_type": "error",
     "traceback": [
      "\u001b[1;31m---------------------------------------------------------------------------\u001b[0m",
      "\u001b[1;31mTypeError\u001b[0m                                 Traceback (most recent call last)",
      "\u001b[1;32m~\\AppData\\Local\\Temp\\ipykernel_7196\\317219399.py\u001b[0m in \u001b[0;36m<module>\u001b[1;34m\u001b[0m\n\u001b[1;32m----> 1\u001b[1;33m \u001b[0mprint\u001b[0m\u001b[1;33m(\u001b[0m\u001b[1;34m\"string\"\u001b[0m \u001b[1;33m+\u001b[0m \u001b[1;36m9\u001b[0m\u001b[1;33m)\u001b[0m \u001b[1;31m# sol tarafta string, sağ tarafta int ifade olduğu için hata meydana gelir!\u001b[0m\u001b[1;33m\u001b[0m\u001b[1;33m\u001b[0m\u001b[0m\n\u001b[0m",
      "\u001b[1;31mTypeError\u001b[0m: can only concatenate str (not \"int\") to str"
     ]
    }
   ],
   "source": [
    "print(\"string\" + 9) # sol tarafta string, sağ tarafta int ifade olduğu için hata meydana gelir!"
   ]
  },
  {
   "cell_type": "code",
   "execution_count": 12,
   "id": "840136bc",
   "metadata": {},
   "outputs": [
    {
     "name": "stdout",
     "output_type": "stream",
     "text": [
      "8\n",
      "35\n"
     ]
    }
   ],
   "source": [
    "print(3 + 5)\n",
    "print(\"3\" + \"5\")"
   ]
  },
  {
   "cell_type": "markdown",
   "id": "6ad8ac0a",
   "metadata": {},
   "source": [
    "# Değişken değerlerinin değişimi\n",
    "Değişken değerlerinin değişimi Python'da pratik olarak gerçekleştirilebilir.\n"
   ]
  },
  {
   "cell_type": "code",
   "execution_count": 13,
   "id": "fb06b8a9",
   "metadata": {},
   "outputs": [
    {
     "name": "stdout",
     "output_type": "stream",
     "text": [
      "a'nın değeri: 5\n",
      "b'nin değeri: 3\n"
     ]
    }
   ],
   "source": [
    "a = 3\n",
    "b = 5\n",
    "\n",
    "a,b = b,a\n",
    "\n",
    "print(\"a'nın değeri:\", a)\n",
    "print(\"b'nin değeri:\", b)"
   ]
  },
  {
   "cell_type": "markdown",
   "id": "7ca0c3cc",
   "metadata": {},
   "source": [
    "# Format metodunun özellikleri\n",
    "Format metodu, print fonksiyonu içerisinde, konsola yazdırılacak olan metnin düzenlenmesinde kullanılır. Bazı temel özellikleri aşağıda anlatılmıştır. Daha ayrıntılı bilgi almak için: http://pyformat.info adresi ziyaret edilebilir."
   ]
  },
  {
   "cell_type": "code",
   "execution_count": 14,
   "id": "dc31dda1",
   "metadata": {},
   "outputs": [
    {
     "name": "stdout",
     "output_type": "stream",
     "text": [
      "Ali İstanbul'a 3 defa gelmişti.\n"
     ]
    }
   ],
   "source": [
    "a = \"3\"\n",
    "yer = \"İstanbul\"\n",
    "\n",
    "# Aşağıdaki cümleyi, yukarıdaki değişkenleri kullanarak yazdıralım.\n",
    "# \n",
    "# \"Ali İstanbul'a 3 defa gelmişti.\"\n",
    "print(\"Ali \" + yer + \"'a \" + a + \" defa gelmişti.\")"
   ]
  },
  {
   "cell_type": "markdown",
   "id": "264e5e9f",
   "metadata": {},
   "source": [
    "Aynı cümleyi format metodu ile aşağıdaki gibi yazdırabiliriz."
   ]
  },
  {
   "cell_type": "code",
   "execution_count": 15,
   "id": "679d63d0",
   "metadata": {},
   "outputs": [
    {
     "name": "stdout",
     "output_type": "stream",
     "text": [
      "Ali İstanbul'a 3 defa gelmişti.\n"
     ]
    }
   ],
   "source": [
    "# İlk süslü parantez, format metodu içerisindeki \"yer\" değişkeninin değerini temsil eder.\n",
    "# İkinnci süslü parantez ise \"a\" değişkeninin değerini temsil eder.\n",
    "print(\"Ali {}'a {} defa gelmişti.\".format(yer, a))"
   ]
  },
  {
   "cell_type": "markdown",
   "id": "0eb18b89",
   "metadata": {},
   "source": [
    "Süslü parantezler numaralandırılabilir. Numaralandırma işlemi sıfırdan başlar."
   ]
  },
  {
   "cell_type": "code",
   "execution_count": 16,
   "id": "2dfb5bca",
   "metadata": {},
   "outputs": [
    {
     "name": "stdout",
     "output_type": "stream",
     "text": [
      "4 ile 3'ü çarptıktan sonra 5 eklersek sonuç 17 olur.\n"
     ]
    }
   ],
   "source": [
    "# {0} = 3\n",
    "# {1} = 4\n",
    "# {2} = 5\n",
    "# {3} = 3 * 4 + 5\n",
    "\n",
    "print(\"{1} ile {0}'ü çarptıktan sonra {2} eklersek sonuç {3} olur.\".format(3, 4, 5, 3 * 4 + 5))"
   ]
  },
  {
   "cell_type": "markdown",
   "id": "d85de09a",
   "metadata": {},
   "source": [
    "Python 3.6+'dan itibaren format metodu aşağıdaki gibi de çalışmaktadır."
   ]
  },
  {
   "cell_type": "code",
   "execution_count": 17,
   "id": "03fd26f2",
   "metadata": {},
   "outputs": [
    {
     "name": "stdout",
     "output_type": "stream",
     "text": [
      "Ali İstanbul'a 3 defa gelmişti.\n",
      "Ali İstanbul'a 3 defa gelmişti.\n"
     ]
    }
   ],
   "source": [
    "print(f\"Ali {yer}'a {a} defa gelmişti.\")\n",
    "print(f'Ali {yer}\\'a {a} defa gelmişti.')"
   ]
  },
  {
   "cell_type": "markdown",
   "id": "8a701d9f",
   "metadata": {},
   "source": [
    "# Input fonksiyonunun kullanımı\n",
    "Input fonksiyonu, kullanıcıdan veri almak için kullanılır."
   ]
  },
  {
   "cell_type": "code",
   "execution_count": 19,
   "id": "77cf136c",
   "metadata": {},
   "outputs": [
    {
     "name": "stdout",
     "output_type": "stream",
     "text": [
      "Lütfen bir değer giriniz: 20\n",
      "Girilen değer: 20\n"
     ]
    }
   ],
   "source": [
    "girilen = input(\"Lütfen bir değer giriniz: \")\n",
    "\n",
    "print(\"Girilen değer:\", girilen)"
   ]
  },
  {
   "cell_type": "markdown",
   "id": "c0031db9",
   "metadata": {},
   "source": [
    "input() fonksiyonu ile kullanıcıdan alınan değer, String veri türündedir."
   ]
  },
  {
   "cell_type": "code",
   "execution_count": 20,
   "id": "fa58da74",
   "metadata": {},
   "outputs": [
    {
     "name": "stdout",
     "output_type": "stream",
     "text": [
      "Lütfen bir sayı giriniz: 20\n",
      "202020\n"
     ]
    }
   ],
   "source": [
    "deger = input(\"Lütfen bir sayı giriniz: \")\n",
    "\n",
    "# deger değişkeni String veri türünde olduğu için, \n",
    "# yıldız operatörü aynı String ifadeyi 3 kere yan yana yazar.\n",
    "print(deger * 3)"
   ]
  },
  {
   "cell_type": "markdown",
   "id": "36beb24f",
   "metadata": {},
   "source": [
    "Kullanıcıdan alınan veriyi sayısal bir değer olarak kullanmak için <b>int()</b> fonksiyonunu kullanabiliriz."
   ]
  },
  {
   "cell_type": "code",
   "execution_count": 21,
   "id": "c637a3ea",
   "metadata": {},
   "outputs": [
    {
     "name": "stdout",
     "output_type": "stream",
     "text": [
      "60\n"
     ]
    }
   ],
   "source": [
    "# deger değişkeninin değeri, integer oldu.\n",
    "print(int(deger) * 3)"
   ]
  },
  {
   "cell_type": "markdown",
   "id": "75f8b19d",
   "metadata": {},
   "source": [
    "<hr>"
   ]
  },
  {
   "cell_type": "markdown",
   "id": "cd2eeee9",
   "metadata": {},
   "source": [
    "<p style=\"text-align:center;font-size:12px\">\n",
    "<b>Öğr. Gör. Zeki ÇIPLAK</b><br>\n",
    "İstanbul Gedik Üniversitesi<br>\n",
    "Gedik MYO / Bilgisayar Programcılığı<br>\n",
    "<a href=\"https://linkedin.com/in/zkcplk\">LinkedIn</a> \n",
    "<a href=\"https://zkcplk.medium.com\">Blog</a> \n",
    "<a href=\"https://youtube.com/@zkcplk\">YouTube</a> \n",
    "</p>"
   ]
  }
 ],
 "metadata": {
  "kernelspec": {
   "display_name": "Python 3 (ipykernel)",
   "language": "python",
   "name": "python3"
  },
  "language_info": {
   "codemirror_mode": {
    "name": "ipython",
    "version": 3
   },
   "file_extension": ".py",
   "mimetype": "text/x-python",
   "name": "python",
   "nbconvert_exporter": "python",
   "pygments_lexer": "ipython3",
   "version": "3.9.13"
  }
 },
 "nbformat": 4,
 "nbformat_minor": 5
}
