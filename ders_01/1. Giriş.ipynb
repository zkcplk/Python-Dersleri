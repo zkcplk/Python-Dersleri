{
 "cells": [
  {
   "cell_type": "code",
   "execution_count": 1,
   "id": "cd3d8a7d",
   "metadata": {},
   "outputs": [
    {
     "name": "stdout",
     "output_type": "stream",
     "text": [
      "deneme\n"
     ]
    }
   ],
   "source": [
    "# Bu hücrede çalıştırılan kodun sonucu, \n",
    "# bu hücrenin altında gözükür.\n",
    "print(\"deneme\")\n",
    "\n",
    "# Bu hücre CTRL+ENTER ile çalıştırılırsa, \n",
    "# çalışma sonrası yine aynı hücre seçili olur.\n",
    "\n",
    "# Eğer SHIFT+ENTER ile çalıştırılırsa,\n",
    "# çalışma sonrası, bir sonraki hücreye geçilir ve o hücre seçili hale gelir."
   ]
  },
  {
   "cell_type": "code",
   "execution_count": 2,
   "id": "64efb206",
   "metadata": {},
   "outputs": [],
   "source": [
    "# Üst menünün altında \"Code\" seçili iken hücre içindeki yazılar komut olarak kabul edilir.\n",
    "# \"Markdown\" seçili ise, komut olarak kabul edilmez ve özel stilli yazılar yazılmasına izin verilir.\n",
    "# Aşağıdaki hücre markdown hücresi olduğu için, içeriği komut olarak algılanmamıştır."
   ]
  },
  {
   "cell_type": "markdown",
   "id": "c98dceec",
   "metadata": {},
   "source": [
    "Markdown hücrede yazılanlar komut değildir! <br>\n",
    "Markdown olarak seçili hücre içerisinde HTML etiketleri kullanılabilir.\n",
    "<h1>Başlık etiketi</h1>\n",
    "<p>Paragraf etiketi ve Liste etiketleri gibi örnekler verilebilir.</p>\n",
    "<ul><li>İstanbul</li><li>Ankara</li><li>İzmir</li></ul>\n",
    "\n",
    "<p style=\"text-align:left\"><img src=\"https://www.google.com.tr/images/branding/googlelogo/1x/googlelogo_color_272x92dp.png\"></p>"
   ]
  },
  {
   "cell_type": "markdown",
   "id": "ebf28e1b",
   "metadata": {},
   "source": [
    "Heading (Başlık) için <b>#</b> karakteri kullanılabilir."
   ]
  },
  {
   "cell_type": "markdown",
   "id": "83c48077",
   "metadata": {},
   "source": [
    "# H1\n",
    "## H2\n",
    "### H3\n",
    "#### H4\n",
    "##### H5"
   ]
  },
  {
   "cell_type": "code",
   "execution_count": 3,
   "id": "244ad2ef",
   "metadata": {},
   "outputs": [],
   "source": [
    "# Oluşturduğumuz notebook'u istersek farklı uzantılara da çevirebiliriz."
   ]
  },
  {
   "cell_type": "markdown",
   "id": "fb648cd8",
   "metadata": {},
   "source": [
    "Bir hücredeki işlem sonucu, print kullanmadan yalnızca 1 defa yazdırılabilir."
   ]
  },
  {
   "cell_type": "code",
   "execution_count": 4,
   "id": "02c8eeec",
   "metadata": {},
   "outputs": [
    {
     "data": {
      "text/plain": [
       "7"
      ]
     },
     "execution_count": 4,
     "metadata": {},
     "output_type": "execute_result"
    }
   ],
   "source": [
    "# bu hücrede tek sonuç olduğu için, print kullanmaya gerek yoktur.\n",
    "3 + 4"
   ]
  },
  {
   "cell_type": "code",
   "execution_count": 5,
   "id": "4d6dfe06",
   "metadata": {},
   "outputs": [
    {
     "data": {
      "text/plain": [
       "12"
      ]
     },
     "execution_count": 5,
     "metadata": {},
     "output_type": "execute_result"
    }
   ],
   "source": [
    "# eğer iki ayrı işlem sonucu yazdırılacaksa, print kullanmak gerekir.\n",
    "# print kullanılmazsa, en son işlem sonucu yazdırılmış olur.\n",
    "\n",
    "3 + 4\n",
    "3 * 4"
   ]
  },
  {
   "cell_type": "code",
   "execution_count": 6,
   "id": "d94eb1f6",
   "metadata": {},
   "outputs": [
    {
     "name": "stdout",
     "output_type": "stream",
     "text": [
      "7\n",
      "12\n"
     ]
    }
   ],
   "source": [
    "print(3 + 4)\n",
    "print(3 * 4)"
   ]
  },
  {
   "cell_type": "code",
   "execution_count": 7,
   "id": "e2ac60fb",
   "metadata": {},
   "outputs": [],
   "source": [
    "# Sonuçlar ayrı ayrı hücrelere alınırsa, her bir hücre için print kullanma zorunluluğu kalkar."
   ]
  },
  {
   "cell_type": "code",
   "execution_count": 8,
   "id": "9a3719da",
   "metadata": {},
   "outputs": [
    {
     "data": {
      "text/plain": [
       "7"
      ]
     },
     "execution_count": 8,
     "metadata": {},
     "output_type": "execute_result"
    }
   ],
   "source": [
    "3 + 4"
   ]
  },
  {
   "cell_type": "code",
   "execution_count": 9,
   "id": "37689dec",
   "metadata": {},
   "outputs": [
    {
     "data": {
      "text/plain": [
       "12"
      ]
     },
     "execution_count": 9,
     "metadata": {},
     "output_type": "execute_result"
    }
   ],
   "source": [
    "3 * 4"
   ]
  }
 ],
 "metadata": {
  "kernelspec": {
   "display_name": "Python 3 (ipykernel)",
   "language": "python",
   "name": "python3"
  },
  "language_info": {
   "codemirror_mode": {
    "name": "ipython",
    "version": 3
   },
   "file_extension": ".py",
   "mimetype": "text/x-python",
   "name": "python",
   "nbconvert_exporter": "python",
   "pygments_lexer": "ipython3",
   "version": "3.9.13"
  }
 },
 "nbformat": 4,
 "nbformat_minor": 5
}
