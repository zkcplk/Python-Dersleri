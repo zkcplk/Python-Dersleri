{
 "cells": [
  {
   "cell_type": "markdown",
   "id": "eb3569d1",
   "metadata": {},
   "source": [
    "# SORU CEVAP 1"
   ]
  },
  {
   "cell_type": "markdown",
   "id": "113e4f2c",
   "metadata": {},
   "source": [
    "<hr>\n",
    "\n",
    "<span style=\"color:navy\"><b>SORU 1:</b></span> Kullanıcıdan adını ve soyadını ayrı ayrı isteyip, ekrana yazdıran Python kodunu yazınız."
   ]
  },
  {
   "cell_type": "code",
   "execution_count": 1,
   "id": "43b69f36",
   "metadata": {},
   "outputs": [
    {
     "name": "stdout",
     "output_type": "stream",
     "text": [
      "Lütfen adınızı girin: Zeki\n",
      "Lütfen soyadınızı girin: ÇIPLAK\n",
      "--------------\n",
      "Ad: Zeki\n",
      "Soyad: ÇIPLAK\n",
      "--------------\n"
     ]
    }
   ],
   "source": [
    "ad = input(\"Lütfen adınızı girin: \")\n",
    "soyad = input(\"Lütfen soyadınızı girin: \")\n",
    "\n",
    "print(\"--------------\")\n",
    "print(\"Ad:\",ad)\n",
    "print(\"Soyad:\",soyad)\n",
    "print(\"--------------\")"
   ]
  },
  {
   "cell_type": "markdown",
   "id": "19242543",
   "metadata": {},
   "source": [
    "<hr>\n",
    "\n",
    "<span style=\"color:navy\"><b>SORU 2:</b></span> Kullanıcı tarafından *ayrı ayrı* girilen 10 sayıdan, **en büyük 3** tanesini ve **en küçük 3** tanesini konsola yazdıran Python kodunu yazınız.<br>(Not: **En fazla 1 adet döngü kullanılmalıdır.**)"
   ]
  },
  {
   "cell_type": "code",
   "execution_count": 2,
   "id": "1496c6a2",
   "metadata": {},
   "outputs": [
    {
     "name": "stdout",
     "output_type": "stream",
     "text": [
      "Lütfen 1. sayıyı giriniz:55\n",
      "Lütfen 2. sayıyı giriniz:44\n",
      "Lütfen 3. sayıyı giriniz:33\n",
      "Lütfen 4. sayıyı giriniz:66\n",
      "Lütfen 5. sayıyı giriniz:77\n",
      "Lütfen 6. sayıyı giriniz:99\n",
      "Lütfen 7. sayıyı giriniz:101\n",
      "Lütfen 8. sayıyı giriniz:5\n",
      "Lütfen 9. sayıyı giriniz:7\n",
      "Lütfen 10. sayıyı giriniz:9\n",
      "Girilen sayıların en küçük 3 tanesi [5, 7, 9]\n",
      "Girilen sayıların en büyük 3 tanesi [77, 99, 101]\n"
     ]
    }
   ],
   "source": [
    "girilenler = []\n",
    "for i in range(10):\n",
    "    girilenler.append(int(input(f\"Lütfen {i+1}. sayıyı giriniz:\")))\n",
    "    \n",
    "girilenler.sort()\n",
    "print(\"Girilen sayıların en küçük 3 tanesi\", girilenler[0:3])\n",
    "print(\"Girilen sayıların en büyük 3 tanesi\", girilenler[-3::]) "
   ]
  },
  {
   "cell_type": "markdown",
   "id": "f392804c",
   "metadata": {},
   "source": [
    "<hr>\n",
    "\n",
    "<span style=\"color:navy\"><b>SORU 3:</b></span> Bir kullanıcının, aşağıda verilen örnekteki gibi, virgüllerle ayırarak girdiği tüm **sayıların toplamını** ve **ortalamasını** bulan Python kodunu yazınız. Kullanıcı, virgülden sonra boşluk bırakabilir, virgülleri sayı olmaksızın art arda dizebilir, sayı yerine yanlışlıkla harf girebilir. Tüm bu durumlar yazılacak kodda değerlendirilmelidir.<br>\n",
    "\n",
    "*1, 3,5, 7,q, 11,,*"
   ]
  },
  {
   "cell_type": "code",
   "execution_count": 3,
   "id": "f4b62b46",
   "metadata": {},
   "outputs": [
    {
     "name": "stdout",
     "output_type": "stream",
     "text": [
      "Lütfen toplanacak sayıları, aralarında virgül olacak şekilde giriniz: 1, 3,5, 7,q, 11,,\n",
      "Girilen sayıların toplamı: 27\n",
      "Girilen sayıların ortalaması: 5.4\n"
     ]
    }
   ],
   "source": [
    "girilen_veri = input(\"Lütfen toplanacak sayıları, aralarında virgül olacak şekilde giriniz: \").strip().replace(\" \", \"\")\n",
    "sayılar = girilen_veri.split(\",\")\n",
    "\n",
    "eleman_sayisi = 0\n",
    "toplam = 0\n",
    "\n",
    "for i in sayılar:\n",
    "    if i.isnumeric():\n",
    "        toplam += int(i)\n",
    "        eleman_sayisi += 1\n",
    "        \n",
    "ortalama = toplam / eleman_sayisi\n",
    "    \n",
    "print(f\"Girilen sayıların toplamı: {toplam}\")\n",
    "print(f\"Girilen sayıların ortalaması: {ortalama}\")"
   ]
  },
  {
   "cell_type": "markdown",
   "id": "9677673b",
   "metadata": {},
   "source": [
    "<hr>\n",
    "\n",
    "<span style=\"color:navy\"><b>SORU 4:</b></span> Aşağıda verilen sayılardan; çift ve 70'ten yüksek olanları, yeni bir listede toplayan Python kodunu, *List Comprehension* ile yazınız.\n",
    "\n",
    "*10, 23, 35, 46, 73, 89, 125, 637, 321, 478*"
   ]
  },
  {
   "cell_type": "code",
   "execution_count": 4,
   "id": "27950127",
   "metadata": {},
   "outputs": [
    {
     "data": {
      "text/plain": [
       "[86, 120, 478]"
      ]
     },
     "execution_count": 4,
     "metadata": {},
     "output_type": "execute_result"
    }
   ],
   "source": [
    "liste = [10, 23, 35, 46, 73, 86, 120, 637, 321, 478]\n",
    "\n",
    "yeni_liste = [ i for i in liste if i%2==0 and i>70 ]\n",
    "yeni_liste"
   ]
  },
  {
   "cell_type": "markdown",
   "id": "0ec6b313",
   "metadata": {},
   "source": [
    "<hr>\n",
    "\n",
    "<span style=\"color:navy\"><b>SORU 5:</b></span> Bir kullanıcının, aşağıdaki gibi virgüllerle ayırarak girdiği eşya listesini **alfabetik olarak sıralayan** Python kodunu yazınız.\n",
    "\n",
    "ütü, masa, ,, sandalye,, lamba,"
   ]
  },
  {
   "cell_type": "code",
   "execution_count": 5,
   "id": "0184e600",
   "metadata": {},
   "outputs": [
    {
     "name": "stdout",
     "output_type": "stream",
     "text": [
      "Lütfen eşya isimlerini, aralarında virgül olacak şekilde giriniz: ütü, masa, ,, sandalye,, lamba,\n"
     ]
    },
    {
     "data": {
      "text/plain": [
       "['lamba', 'masa', 'sandalye', 'ütü']"
      ]
     },
     "execution_count": 5,
     "metadata": {},
     "output_type": "execute_result"
    }
   ],
   "source": [
    "girilen_veri = input(\"Lütfen eşya isimlerini, aralarında virgül olacak şekilde giriniz: \").strip()\n",
    "eşyalar = girilen_veri.split(\",\")\n",
    "\n",
    "# for in döngüsü ile liste elemanları değiştirilemez! (açıklama: https://stackoverflow.com/a/19290848)\n",
    "# for eşya in eşyalar:\n",
    "#     eşya = eşya.strip()\n",
    "\n",
    "yeni_liste = []\n",
    "\n",
    "for i in range(len(eşyalar)):\n",
    "    eşyalar[i] = eşyalar[i].strip()\n",
    "    \n",
    "    if eşyalar[i] != \"\":\n",
    "        yeni_liste.append(eşyalar[i])\n",
    "\n",
    "yeni_liste.sort()\n",
    "yeni_liste"
   ]
  },
  {
   "cell_type": "markdown",
   "id": "4fb32905",
   "metadata": {},
   "source": [
    "<hr>\n",
    "\n",
    "<span style=\"color:navy\"><b>SORU 6:</b></span> Bir listedeki elemanların, eşsiz elemanlardan oluşup-oluşmadığını tespit eden ve buna göre *True* veya *False* değer döndüren **eşsiz_bul** adlı Python fonksiyonunu *lambda ifadesi* ile yazınız.\n",
    "\n",
    "[1,2,2,3,4,5,5,\"x\",\"x\"]  -> **False**<br>\n",
    "[1,3,5,\"a\",\"b\",7,9]      -> **True**"
   ]
  },
  {
   "cell_type": "code",
   "execution_count": 6,
   "id": "b1c1edb4",
   "metadata": {},
   "outputs": [
    {
     "name": "stdout",
     "output_type": "stream",
     "text": [
      "Liste1:  False\n",
      "Liste2:  True\n"
     ]
    }
   ],
   "source": [
    "\"\"\"\n",
    "# Lambda Expression olmadan çözüm:\n",
    "\n",
    "def eşsiz_bul(liste):\n",
    "    if len(liste) == len(set(liste)):\n",
    "        return True\n",
    "    else: \n",
    "        return False\n",
    "\"\"\"\n",
    "\n",
    "# lambda expression\n",
    "eşsiz_bul = lambda liste: len(liste) == len(set(liste))\n",
    "\n",
    "liste1 = [1,2,2,3,4,5,5,\"x\",\"x\"]\n",
    "liste2 = [1,3,5,\"a\",\"b\",7,9] \n",
    "\n",
    "print(\"Liste1: \", eşsiz_bul(liste1))\n",
    "print(\"Liste2: \", eşsiz_bul(liste2))"
   ]
  },
  {
   "cell_type": "markdown",
   "id": "18f1aa2e",
   "metadata": {},
   "source": [
    "<hr>\n",
    "<p style=\"text-align:center;font-size:12px\">\n",
    "<b>Öğr. Gör. Zeki ÇIPLAK</b><br>\n",
    "İstanbul Gedik Üniversitesi<br>\n",
    "Gedik MYO / Bilgisayar Programcılığı<br>\n",
    "<a href=\"https://linkedin.com/in/zkcplk\">LinkedIn</a> \n",
    "<a href=\"https://zkcplk.medium.com\">Blog</a> \n",
    "<a href=\"https://youtube.com/@zkcplk\">YouTube</a> \n",
    "</p>"
   ]
  }
 ],
 "metadata": {
  "kernelspec": {
   "display_name": "Python 3 (ipykernel)",
   "language": "python",
   "name": "python3"
  },
  "language_info": {
   "codemirror_mode": {
    "name": "ipython",
    "version": 3
   },
   "file_extension": ".py",
   "mimetype": "text/x-python",
   "name": "python",
   "nbconvert_exporter": "python",
   "pygments_lexer": "ipython3",
   "version": "3.9.13"
  }
 },
 "nbformat": 4,
 "nbformat_minor": 5
}
