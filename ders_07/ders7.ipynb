{
 "cells": [
  {
   "cell_type": "markdown",
   "id": "04058692",
   "metadata": {},
   "source": [
    "# HATA AYIKLAMA"
   ]
  },
  {
   "cell_type": "code",
   "execution_count": 18,
   "id": "aa83bc10",
   "metadata": {},
   "outputs": [
    {
     "name": "stdout",
     "output_type": "stream",
     "text": [
      "birinci sayıyı girin: 30\n",
      "ikinci sayıyı girin: 40\n"
     ]
    },
    {
     "data": {
      "text/plain": [
       "'3040'"
      ]
     },
     "execution_count": 18,
     "metadata": {},
     "output_type": "execute_result"
    }
   ],
   "source": [
    "s1 = input(\"birinci sayıyı girin: \")\n",
    "s2 = input(\"ikinci sayıyı girin: \")\n",
    "\n",
    "toplam = s1 + s2\n",
    "toplam"
   ]
  },
  {
   "cell_type": "code",
   "execution_count": 2,
   "id": "69c8ddcd",
   "metadata": {},
   "outputs": [
    {
     "ename": "SyntaxError",
     "evalue": "Missing parentheses in call to 'print'. Did you mean print(\"test\")? (3735958538.py, line 1)",
     "output_type": "error",
     "traceback": [
      "\u001b[1;36m  File \u001b[1;32m\"C:\\Users\\Zeki\\AppData\\Local\\Temp\\ipykernel_3140\\3735958538.py\"\u001b[1;36m, line \u001b[1;32m1\u001b[0m\n\u001b[1;33m    print \"test\"\u001b[0m\n\u001b[1;37m          ^\u001b[0m\n\u001b[1;31mSyntaxError\u001b[0m\u001b[1;31m:\u001b[0m Missing parentheses in call to 'print'. Did you mean print(\"test\")?\n"
     ]
    }
   ],
   "source": [
    "print \"test\""
   ]
  },
  {
   "cell_type": "code",
   "execution_count": null,
   "id": "60ac47a7",
   "metadata": {},
   "outputs": [],
   "source": []
  },
  {
   "cell_type": "code",
   "execution_count": 8,
   "id": "81ea12fe",
   "metadata": {},
   "outputs": [
    {
     "name": "stdout",
     "output_type": "stream",
     "text": [
      "Sayı 1: 10\n",
      "Sayı 2: 0\n"
     ]
    },
    {
     "ename": "ZeroDivisionError",
     "evalue": "division by zero",
     "output_type": "error",
     "traceback": [
      "\u001b[1;31m---------------------------------------------------------------------------\u001b[0m",
      "\u001b[1;31mZeroDivisionError\u001b[0m                         Traceback (most recent call last)",
      "\u001b[1;32m~\\AppData\\Local\\Temp\\ipykernel_3140\\3642816616.py\u001b[0m in \u001b[0;36m<module>\u001b[1;34m\u001b[0m\n\u001b[0;32m      1\u001b[0m \u001b[0ms1\u001b[0m \u001b[1;33m=\u001b[0m \u001b[0mint\u001b[0m\u001b[1;33m(\u001b[0m\u001b[0minput\u001b[0m\u001b[1;33m(\u001b[0m\u001b[1;34m\"Sayı 1: \"\u001b[0m\u001b[1;33m)\u001b[0m\u001b[1;33m)\u001b[0m\u001b[1;33m\u001b[0m\u001b[1;33m\u001b[0m\u001b[0m\n\u001b[0;32m      2\u001b[0m \u001b[0ms2\u001b[0m \u001b[1;33m=\u001b[0m \u001b[0mint\u001b[0m\u001b[1;33m(\u001b[0m\u001b[0minput\u001b[0m\u001b[1;33m(\u001b[0m\u001b[1;34m\"Sayı 2: \"\u001b[0m\u001b[1;33m)\u001b[0m\u001b[1;33m)\u001b[0m\u001b[1;33m\u001b[0m\u001b[1;33m\u001b[0m\u001b[0m\n\u001b[1;32m----> 3\u001b[1;33m \u001b[0msonuc\u001b[0m \u001b[1;33m=\u001b[0m \u001b[0ms1\u001b[0m \u001b[1;33m/\u001b[0m \u001b[0ms2\u001b[0m\u001b[1;33m\u001b[0m\u001b[1;33m\u001b[0m\u001b[0m\n\u001b[0m\u001b[0;32m      4\u001b[0m \u001b[1;33m\u001b[0m\u001b[0m\n\u001b[0;32m      5\u001b[0m \u001b[0mprint\u001b[0m\u001b[1;33m(\u001b[0m\u001b[1;34m\"Sonuç: \"\u001b[0m\u001b[1;33m,\u001b[0m \u001b[0msonuc\u001b[0m\u001b[1;33m)\u001b[0m\u001b[1;33m\u001b[0m\u001b[1;33m\u001b[0m\u001b[0m\n",
      "\u001b[1;31mZeroDivisionError\u001b[0m: division by zero"
     ]
    }
   ],
   "source": [
    "s1 = int(input(\"Sayı 1: \"))\n",
    "s2 = int(input(\"Sayı 2: \"))\n",
    "sonuc = s1 / s2\n",
    "\n",
    "print(\"Sonuç: \", sonuc)\n",
    "\n",
    "\n",
    "print(\"diğer kodlar...\")"
   ]
  },
  {
   "cell_type": "code",
   "execution_count": 17,
   "id": "416b1068",
   "metadata": {},
   "outputs": [
    {
     "name": "stdout",
     "output_type": "stream",
     "text": [
      "Sayı 1: 10\n",
      "Sayı 2: 0\n",
      "sıfıra bölme hatası meydana geldi!\n",
      "hata olsa da olmasa da çalışır...\n"
     ]
    }
   ],
   "source": [
    "try:\n",
    "    s1 = int(input(\"Sayı 1: \"))\n",
    "    s2 = int(input(\"Sayı 2: \"))\n",
    "    sonuc = s1 / s2\n",
    "    print(\"Sonuç: \", sonuc)\n",
    "    \n",
    "except ZeroDivisionError:\n",
    "    print(\"sıfıra bölme hatası meydana geldi!\")\n",
    "    \n",
    "except Exception as hata:\n",
    "    print(\"Hata mesajı: \", hata)\n",
    "    print(\"Hata türü: \", hata.__class__.__name__)\n",
    "    \n",
    "finally:\n",
    "    print(\"hata olsa da olmasa da çalışır...\")"
   ]
  },
  {
   "cell_type": "code",
   "execution_count": null,
   "id": "e3f16735",
   "metadata": {},
   "outputs": [],
   "source": []
  },
  {
   "cell_type": "code",
   "execution_count": 22,
   "id": "31f47d1d",
   "metadata": {},
   "outputs": [
    {
     "name": "stdout",
     "output_type": "stream",
     "text": [
      "birinci sayıyı girin: 10\n",
      "ikinci sayıyı girin: 20\n"
     ]
    },
    {
     "ename": "TypeError",
     "evalue": "burada bir tür dönüşüm hatası var!",
     "output_type": "error",
     "traceback": [
      "\u001b[1;31m---------------------------------------------------------------------------\u001b[0m",
      "\u001b[1;31mTypeError\u001b[0m                                 Traceback (most recent call last)",
      "\u001b[1;32m~\\AppData\\Local\\Temp\\ipykernel_3140\\3168326131.py\u001b[0m in \u001b[0;36m<module>\u001b[1;34m\u001b[0m\n\u001b[0;32m      4\u001b[0m \u001b[1;31m# raise\u001b[0m\u001b[1;33m\u001b[0m\u001b[1;33m\u001b[0m\u001b[0m\n\u001b[0;32m      5\u001b[0m \u001b[1;32mif\u001b[0m \u001b[0mtype\u001b[0m\u001b[1;33m(\u001b[0m\u001b[0ms1\u001b[0m\u001b[1;33m)\u001b[0m \u001b[1;33m!=\u001b[0m \u001b[0mint\u001b[0m \u001b[1;32mor\u001b[0m \u001b[0mtype\u001b[0m\u001b[1;33m(\u001b[0m\u001b[0ms2\u001b[0m\u001b[1;33m)\u001b[0m \u001b[1;33m!=\u001b[0m \u001b[0mint\u001b[0m\u001b[1;33m:\u001b[0m\u001b[1;33m\u001b[0m\u001b[1;33m\u001b[0m\u001b[0m\n\u001b[1;32m----> 6\u001b[1;33m     \u001b[1;32mraise\u001b[0m \u001b[0mTypeError\u001b[0m\u001b[1;33m(\u001b[0m\u001b[1;34m\"burada bir tür dönüşüm hatası var!\"\u001b[0m\u001b[1;33m)\u001b[0m\u001b[1;33m\u001b[0m\u001b[1;33m\u001b[0m\u001b[0m\n\u001b[0m\u001b[0;32m      7\u001b[0m \u001b[1;33m\u001b[0m\u001b[0m\n\u001b[0;32m      8\u001b[0m \u001b[0mtoplam\u001b[0m \u001b[1;33m=\u001b[0m \u001b[0ms1\u001b[0m \u001b[1;33m+\u001b[0m \u001b[0ms2\u001b[0m\u001b[1;33m\u001b[0m\u001b[1;33m\u001b[0m\u001b[0m\n",
      "\u001b[1;31mTypeError\u001b[0m: burada bir tür dönüşüm hatası var!"
     ]
    }
   ],
   "source": [
    "s1 = input(\"birinci sayıyı girin: \")\n",
    "s2 = input(\"ikinci sayıyı girin: \")\n",
    "\n",
    "# raise\n",
    "if type(s1) != int or type(s2) != int:\n",
    "    raise TypeError(\"burada bir tür dönüşüm hatası var!\")\n",
    "\n",
    "toplam = s1 + s2\n",
    "toplam\n",
    "\n",
    "print(\"kod devam ediyor...\")"
   ]
  },
  {
   "cell_type": "code",
   "execution_count": null,
   "id": "b09462dc",
   "metadata": {},
   "outputs": [],
   "source": [
    "# w modu"
   ]
  },
  {
   "cell_type": "code",
   "execution_count": 70,
   "id": "a03d3ae6",
   "metadata": {},
   "outputs": [],
   "source": [
    "file = open(\"C:/Users/Zeki/Desktop/ders7/deneme.txt\", \"w\", encoding=\"UTF-8\")\n",
    "file.close()"
   ]
  },
  {
   "cell_type": "code",
   "execution_count": 33,
   "id": "9d3e52b8",
   "metadata": {},
   "outputs": [],
   "source": [
    "with open(\"C:/Users/Zeki/Desktop/ders7/deneme.txt\", \"w\", encoding=\"UTF-8\") as file:\n",
    "    file.write(\"Merhaba Python. Dosyaya yazma işlemi bu kadar kolay!\")"
   ]
  },
  {
   "cell_type": "code",
   "execution_count": 36,
   "id": "b698fda0",
   "metadata": {},
   "outputs": [],
   "source": [
    "liste = [\"ali\", \"ebru\", \"ayşe\", \"buse\", \"mehmet\", \"emre\"]\n",
    "\n",
    "with open(\"C:/Users/Zeki/Desktop/ders7/deneme.txt\", \"w\", encoding=\"UTF-8\") as file:\n",
    "    file.writelines(\"\\n\".join(liste))"
   ]
  },
  {
   "cell_type": "code",
   "execution_count": null,
   "id": "ec394e35",
   "metadata": {},
   "outputs": [],
   "source": []
  },
  {
   "cell_type": "code",
   "execution_count": 46,
   "id": "e902a784",
   "metadata": {},
   "outputs": [],
   "source": [
    "with open(\"C:/Users/Zeki/Desktop/ders7/deneme.txt\", \"a\", encoding=\"UTF-8\") as file:\n",
    "    file.write(\"\\nMerhaba Python. Dosyaya yazma işlemi bu kadar kolay!\")"
   ]
  },
  {
   "cell_type": "code",
   "execution_count": 52,
   "id": "d2cd183a",
   "metadata": {},
   "outputs": [
    {
     "name": "stdout",
     "output_type": "stream",
     "text": [
      "Merhaba Python. Dosyaya yazma işlemi bu kadar kolay!\n",
      "Merhaba Python. Dosyaya yazma işlemi bu kadar kolay!\n",
      "Merhaba Python. Dosyaya yazma işlemi bu kadar kolay!\n"
     ]
    }
   ],
   "source": [
    "with open(\"C:/Users/Zeki/Desktop/ders7/deneme.txt\", \"r\", encoding=\"UTF-8\") as file:\n",
    "    okunanlar = file.readline()\n",
    "    print(okunanlar, end=\"\")\n",
    "    \n",
    "    okunanlar = file.readline()\n",
    "    print(okunanlar, end=\"\")\n",
    "    \n",
    "    okunanlar = file.readline()\n",
    "    print(okunanlar, end=\"\")"
   ]
  },
  {
   "cell_type": "code",
   "execution_count": 55,
   "id": "da17aec2",
   "metadata": {},
   "outputs": [
    {
     "data": {
      "text/plain": [
       "['Merhaba Python. Dosyaya yazma işlemi bu kadar kolay!\\n',\n",
       " 'Merhaba Python. Dosyaya yazma işlemi bu kadar kolay!\\n',\n",
       " 'Merhaba Python. Dosyaya yazma işlemi bu kadar kolay!\\n',\n",
       " 'Merhaba Python. Dosyaya yazma işlemi bu kadar kolay!\\n',\n",
       " 'Merhaba Python. Dosyaya yazma işlemi bu kadar kolay!\\n',\n",
       " 'Merhaba Python. Dosyaya yazma işlemi bu kadar kolay!']"
      ]
     },
     "execution_count": 55,
     "metadata": {},
     "output_type": "execute_result"
    }
   ],
   "source": [
    "with open(\"C:/Users/Zeki/Desktop/ders7/deneme.txt\", \"r\", encoding=\"UTF-8\") as file:\n",
    "    okunanlar = file.readlines()\n",
    "    \n",
    "okunanlar"
   ]
  },
  {
   "cell_type": "code",
   "execution_count": 61,
   "id": "ec4db5d2",
   "metadata": {},
   "outputs": [
    {
     "name": "stdout",
     "output_type": "stream",
     "text": [
      "Merhaba Python. Dosyaya yazma işlemi bu kadar kolay!Merhaba Python. Dosyaya yazma işlemi bu kadar kolay!Merhaba Python. Dosyaya yazma işlemi bu kadar kolay!Merhaba Python. Dosyaya yazma işlemi bu kadar kolay!Merhaba Python. Dosyaya yazma işlemi bu kadar kolay!Merhaba Python. Dosyaya yazma işlemi bu kadar kolay!"
     ]
    }
   ],
   "source": [
    "with open(\"C:/Users/Zeki/Desktop/ders7/deneme.txt\", \"r\", encoding=\"UTF-8\") as file:\n",
    "    for i in file:\n",
    "        print(i, end=\"\")"
   ]
  },
  {
   "cell_type": "code",
   "execution_count": null,
   "id": "87ce2ca9",
   "metadata": {},
   "outputs": [],
   "source": []
  },
  {
   "cell_type": "code",
   "execution_count": 66,
   "id": "ef1c51b4",
   "metadata": {},
   "outputs": [
    {
     "name": "stdout",
     "output_type": "stream",
     "text": [
      "Merhaba Python. Dosyaya yazma işlemi bu kadar kolay!\n",
      "Merhaba Python. Dosyaya yazma işlemi bu kadar kolay!\n",
      "Merhaba Python. Dosyaya yazma işlemi bu kadar kolay!\n",
      "Merhaba Python. Dosyaya yazma işlemi bu kadar kolay!\n",
      "Merhaba Python. Dosyaya yazma işlemi bu kadar kolay!\n",
      "Merhaba Python. Dosyaya yazma işlemi bu kadar kolay!\n",
      "eklenen içerik\n",
      "eklenen içerik\n",
      "eklenen içerik\n",
      "eklenen içerik\n"
     ]
    }
   ],
   "source": [
    "with open(\"C:/Users/Zeki/Desktop/ders7/deneme.txt\", \"r+\", encoding=\"UTF-8\") as file:\n",
    "    okunan = file.read()            \n",
    "    print(okunan)\n",
    "    file.write(\"\\neklenen içerik\")"
   ]
  },
  {
   "cell_type": "code",
   "execution_count": null,
   "id": "c0c166cc",
   "metadata": {},
   "outputs": [],
   "source": []
  },
  {
   "cell_type": "code",
   "execution_count": 69,
   "id": "b82da2c3",
   "metadata": {},
   "outputs": [],
   "source": [
    "with open(\"C:/Users/Zeki/Desktop/ders7/deneme.txt\", \"w\", encoding=\"UTF-8\") as file:\n",
    "    pass"
   ]
  },
  {
   "cell_type": "code",
   "execution_count": null,
   "id": "cecea1a2",
   "metadata": {},
   "outputs": [],
   "source": []
  },
  {
   "cell_type": "code",
   "execution_count": 71,
   "id": "20178e6a",
   "metadata": {},
   "outputs": [],
   "source": [
    "import os\n",
    "os.remove(\"C:/Users/Zeki/Desktop/ders7/deneme.txt\")"
   ]
  },
  {
   "cell_type": "code",
   "execution_count": null,
   "id": "e8700e98",
   "metadata": {},
   "outputs": [],
   "source": []
  },
  {
   "cell_type": "code",
   "execution_count": null,
   "id": "ea2ecee6",
   "metadata": {},
   "outputs": [],
   "source": []
  },
  {
   "cell_type": "code",
   "execution_count": null,
   "id": "b56f0705",
   "metadata": {},
   "outputs": [],
   "source": []
  },
  {
   "cell_type": "code",
   "execution_count": null,
   "id": "482f3635",
   "metadata": {},
   "outputs": [],
   "source": []
  },
  {
   "cell_type": "code",
   "execution_count": null,
   "id": "ca6a0acc",
   "metadata": {},
   "outputs": [],
   "source": [
    "# JSON"
   ]
  },
  {
   "cell_type": "code",
   "execution_count": 72,
   "id": "38218b48",
   "metadata": {},
   "outputs": [],
   "source": [
    "json_1 = '{\"anahtar1\":\"değer1\", \"anahtar2\":\"değer2\"}'"
   ]
  },
  {
   "cell_type": "code",
   "execution_count": 73,
   "id": "25ff326d",
   "metadata": {},
   "outputs": [
    {
     "data": {
      "text/plain": [
       "str"
      ]
     },
     "execution_count": 73,
     "metadata": {},
     "output_type": "execute_result"
    }
   ],
   "source": [
    "type(json_1)"
   ]
  },
  {
   "cell_type": "code",
   "execution_count": 75,
   "id": "9fa7b786",
   "metadata": {},
   "outputs": [],
   "source": [
    "json_2 = '[\"değer1\", \"değer2\", \"değer3\"]' "
   ]
  },
  {
   "cell_type": "code",
   "execution_count": 76,
   "id": "61280103",
   "metadata": {},
   "outputs": [
    {
     "data": {
      "text/plain": [
       "str"
      ]
     },
     "execution_count": 76,
     "metadata": {},
     "output_type": "execute_result"
    }
   ],
   "source": [
    "type(json_2)"
   ]
  },
  {
   "cell_type": "code",
   "execution_count": 77,
   "id": "e499524a",
   "metadata": {},
   "outputs": [],
   "source": [
    "import json"
   ]
  },
  {
   "cell_type": "code",
   "execution_count": 83,
   "id": "ba5ac4ab",
   "metadata": {},
   "outputs": [
    {
     "data": {
      "text/plain": [
       "dict"
      ]
     },
     "execution_count": 83,
     "metadata": {},
     "output_type": "execute_result"
    }
   ],
   "source": [
    "json_verisi = '{\"ad\":\"ali\", \"soyad\":\"öztürk\", \"yaş\":21, \"yer\":\"istanbul\"}'\n",
    "nesne = json.loads(json_verisi)   # JSON >> Python\n",
    "type(nesne)"
   ]
  },
  {
   "cell_type": "code",
   "execution_count": 81,
   "id": "42545d23",
   "metadata": {},
   "outputs": [
    {
     "data": {
      "text/plain": [
       "int"
      ]
     },
     "execution_count": 81,
     "metadata": {},
     "output_type": "execute_result"
    }
   ],
   "source": [
    "type(nesne[\"yaş\"])"
   ]
  },
  {
   "cell_type": "code",
   "execution_count": 84,
   "id": "0bce6fde",
   "metadata": {},
   "outputs": [
    {
     "data": {
      "text/plain": [
       "list"
      ]
     },
     "execution_count": 84,
     "metadata": {},
     "output_type": "execute_result"
    }
   ],
   "source": [
    "json_verisi = '[{\"isim\":\"ali\", \"no\":7264133, \"yer\":\"ankara\"}]'\n",
    "nesne = json.loads(json_verisi)\n",
    "type(nesne)"
   ]
  },
  {
   "cell_type": "code",
   "execution_count": 86,
   "id": "0c6b6f41",
   "metadata": {},
   "outputs": [
    {
     "data": {
      "text/plain": [
       "7264133"
      ]
     },
     "execution_count": 86,
     "metadata": {},
     "output_type": "execute_result"
    }
   ],
   "source": [
    "nesne[0][\"no\"]"
   ]
  },
  {
   "cell_type": "code",
   "execution_count": 87,
   "id": "f964de89",
   "metadata": {},
   "outputs": [
    {
     "data": {
      "text/plain": [
       "list"
      ]
     },
     "execution_count": 87,
     "metadata": {},
     "output_type": "execute_result"
    }
   ],
   "source": [
    "json_verisi = '[\"istanbul\", \"ankara\", \"izmir\"]'\n",
    "nesne = json.loads(json_verisi)\n",
    "type(nesne)"
   ]
  },
  {
   "cell_type": "code",
   "execution_count": 88,
   "id": "309ba388",
   "metadata": {},
   "outputs": [
    {
     "data": {
      "text/plain": [
       "'ankara'"
      ]
     },
     "execution_count": 88,
     "metadata": {},
     "output_type": "execute_result"
    }
   ],
   "source": [
    "nesne[1]"
   ]
  },
  {
   "cell_type": "code",
   "execution_count": null,
   "id": "f196957c",
   "metadata": {},
   "outputs": [],
   "source": []
  },
  {
   "cell_type": "code",
   "execution_count": 94,
   "id": "bcdbacb6",
   "metadata": {},
   "outputs": [
    {
     "data": {
      "text/plain": [
       "[{'id': 1, 'isim': 'zeki', 'yer': 'istanbul'},\n",
       " {'id': 2, 'isim': 'ali', 'yer': 'ankara'},\n",
       " {'id': 3, 'isim': 'mehmet', 'yer': 'izmir'}]"
      ]
     },
     "execution_count": 94,
     "metadata": {},
     "output_type": "execute_result"
    }
   ],
   "source": [
    "with open(\"veri1.json\", \"r\", encoding=\"UTF-8\") as file:\n",
    "    json_verisi = file.read()\n",
    "\n",
    "nesne = json.loads(json_verisi)"
   ]
  },
  {
   "cell_type": "code",
   "execution_count": null,
   "id": "5e22d701",
   "metadata": {},
   "outputs": [],
   "source": [
    "with open(\"veri1.json\", \"r\", encoding=\"UTF-8\") as file:\n",
    "    nesne = json.load(file)"
   ]
  },
  {
   "cell_type": "code",
   "execution_count": 101,
   "id": "0ca7b994",
   "metadata": {},
   "outputs": [
    {
     "data": {
      "text/plain": [
       "{'iller': ['istanbul', 'ankara', 'izmir'],\n",
       " 'puanlar': [30, 40, 50],\n",
       " 'isimler': {'id': 1, 'isim': 'zeki'}}"
      ]
     },
     "execution_count": 101,
     "metadata": {},
     "output_type": "execute_result"
    }
   ],
   "source": [
    "with open(\"veri2.json\", \"r\", encoding=\"UTF-8\") as file:\n",
    "    nesne = json.load(file)\n",
    "    \n",
    "nesne"
   ]
  },
  {
   "cell_type": "code",
   "execution_count": 105,
   "id": "729c4c0b",
   "metadata": {},
   "outputs": [
    {
     "data": {
      "text/plain": [
       "{'ali': {'no': 136, 'yer': 'istanbul', 'yas': 23},\n",
       " 'veli': {'no': 137, 'yer': 'istanbul', 'yas': 23}}"
      ]
     },
     "execution_count": 105,
     "metadata": {},
     "output_type": "execute_result"
    }
   ],
   "source": [
    "with open(\"veri3.json\", \"r\", encoding=\"UTF-8\") as file:\n",
    "    nesne = json.load(file)\n",
    "    \n",
    "nesne"
   ]
  },
  {
   "cell_type": "code",
   "execution_count": null,
   "id": "28f07244",
   "metadata": {},
   "outputs": [],
   "source": [
    "# Python >> JSON"
   ]
  },
  {
   "cell_type": "code",
   "execution_count": 106,
   "id": "70331de6",
   "metadata": {},
   "outputs": [],
   "source": [
    "nesne = [\"elma\", \"çilek\", \"muz\", \"portakal\"] \n",
    "\n",
    "with open(\"liste.json\", \"w\", encoding=\"UTF-8\") as file:\n",
    "    json.dump(nesne, file, indent=4)"
   ]
  },
  {
   "cell_type": "code",
   "execution_count": 108,
   "id": "2de543c5",
   "metadata": {},
   "outputs": [
    {
     "data": {
      "text/plain": [
       "['elma', 'Ã§ilek', 'muz', 'portakal']"
      ]
     },
     "execution_count": 108,
     "metadata": {},
     "output_type": "execute_result"
    }
   ],
   "source": [
    "with open(\"liste.json\", \"r\") as file:\n",
    "    nesne = json.load(file)\n",
    "    \n",
    "nesne"
   ]
  },
  {
   "cell_type": "code",
   "execution_count": 115,
   "id": "ea52978b",
   "metadata": {},
   "outputs": [
    {
     "data": {
      "text/plain": [
       "{'ad': 'zeki', 'no': 35231, 'puan': 3.14}"
      ]
     },
     "execution_count": 115,
     "metadata": {},
     "output_type": "execute_result"
    }
   ],
   "source": [
    "# Python >> JSON\n",
    "\n",
    "sozluk = {\"ad\":\"zeki\", \"no\":35231, \"puan\":3.14}\n",
    "\n",
    "with open(\"sozluk.json\", \"w\", encoding=\"UTF-8\") as file:\n",
    "    json.dump(sozluk, file, indent=4)\n",
    "    \n",
    "with open(\"sozluk.json\", \"r\") as file:\n",
    "    nesne = json.load(file)\n",
    "    \n",
    "nesne"
   ]
  },
  {
   "cell_type": "code",
   "execution_count": 116,
   "id": "35a771d0",
   "metadata": {},
   "outputs": [
    {
     "data": {
      "text/plain": [
       "{'ad': 'zeki', 'no': 35231, 'puan': 3.14}"
      ]
     },
     "execution_count": 116,
     "metadata": {},
     "output_type": "execute_result"
    }
   ],
   "source": [
    "sozluk"
   ]
  },
  {
   "cell_type": "code",
   "execution_count": null,
   "id": "6a17a4e3",
   "metadata": {},
   "outputs": [],
   "source": []
  },
  {
   "cell_type": "code",
   "execution_count": null,
   "id": "a1fa761b",
   "metadata": {},
   "outputs": [],
   "source": []
  },
  {
   "cell_type": "code",
   "execution_count": null,
   "id": "7e97bcce",
   "metadata": {},
   "outputs": [],
   "source": []
  }
 ],
 "metadata": {
  "kernelspec": {
   "display_name": "Python 3 (ipykernel)",
   "language": "python",
   "name": "python3"
  },
  "language_info": {
   "codemirror_mode": {
    "name": "ipython",
    "version": 3
   },
   "file_extension": ".py",
   "mimetype": "text/x-python",
   "name": "python",
   "nbconvert_exporter": "python",
   "pygments_lexer": "ipython3",
   "version": "3.9.13"
  }
 },
 "nbformat": 4,
 "nbformat_minor": 5
}
