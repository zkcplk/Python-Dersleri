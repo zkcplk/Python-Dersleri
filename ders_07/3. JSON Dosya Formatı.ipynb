{
 "cells": [
  {
   "cell_type": "markdown",
   "id": "abbff344",
   "metadata": {},
   "source": [
    "# JSON (JavaScript Object Notation)\n",
    "**JSON** dosya formatı, tüm programlama dillerinde; veri aktarımı, veri taşınımı ve benzeri birçok amaç için kullanılabilmektedir. JSON formatı, sözdizimsel olarak JavaScript nesneleri oluşturmak için kullanılan koda benzer. Yani JSON içeriği JavaScript programlama kodunda bir değişkene eşitlenerek, kolayca JavaScript nesnesi oluşturulabilir. Diğer programlama dilleri için JSON biçimi **yalnızca metin**dir. Birçok programlama dilinde, JSON dosya formatını nesnelere dönüştürmek için hazır kütüphanelerden faydalanılır."
   ]
  },
  {
   "cell_type": "markdown",
   "id": "55d27035",
   "metadata": {},
   "source": [
    "JSON nesnesindeki elemanların formatı, Python'daki *dict* veri türünde kullanılan **key:value** (yani anahtar:değer) şeklinde olabileceği gibi, **sadece değer** şeklinde de olabilir. Aşağıdaki *json_1* değişkeni, *dict* veri türüne; *json_2* değişkeni ise *list* veri türüne benzer."
   ]
  },
  {
   "cell_type": "code",
   "execution_count": 1,
   "id": "153bcca4",
   "metadata": {},
   "outputs": [],
   "source": [
    "json_1 = '{\"anahtar1\":\"değer1\", \"anahtar2\":\"değer2\"}' # key:value ile oluşturulan JSON nesnesi"
   ]
  },
  {
   "cell_type": "code",
   "execution_count": 2,
   "id": "6fb5fc2a",
   "metadata": {},
   "outputs": [],
   "source": [
    "json_2 = '[\"değer1\", \"değer2\", \"değer3\"]'             # sadece value ile oluşturulan JSON nesnesi"
   ]
  },
  {
   "cell_type": "markdown",
   "id": "4ae113f4",
   "metadata": {},
   "source": [
    "Python'da JSON dosya formatıyla işlemler yapabilmek amacıyla **json** modülü kullanılabilir."
   ]
  },
  {
   "cell_type": "code",
   "execution_count": 3,
   "id": "e4957516",
   "metadata": {},
   "outputs": [],
   "source": [
    "import json"
   ]
  },
  {
   "cell_type": "markdown",
   "id": "aec30bf4",
   "metadata": {},
   "source": [
    "*str* veri, json modülü ile JSON nesnesine dönüştürülür. <span style=\"color:navy\">Python'da JSON nesnesi ise, **dict** veya **list** veri türü olarak karşımıza çıkabilir.</span> *json_verisi* farklı şekillerde oluşturulursa, *list* veri türü de elde edilebilir. Hatta *liste içinde sözlük* veya *sözlük içinde liste* gibi iç içe yapılar elde etmek de mümkündür."
   ]
  },
  {
   "cell_type": "code",
   "execution_count": 4,
   "id": "20e6e613",
   "metadata": {},
   "outputs": [
    {
     "data": {
      "text/plain": [
       "str"
      ]
     },
     "execution_count": 4,
     "metadata": {},
     "output_type": "execute_result"
    }
   ],
   "source": [
    "json_verisi = '{\"ad\":\"ali\", \"soyad\":\"öztürk\", \"yaş\":21, \"yer\":\"istanbul\"}'\n",
    "\n",
    "type(json_verisi)"
   ]
  },
  {
   "cell_type": "markdown",
   "id": "6ffd5ebb",
   "metadata": {},
   "source": [
    "*str* bir veri üzerinden *JSON* nesnesi **.loads()** metodu ile oluşturulabilir. <span style=\"color:navy\">(<b>JSON</b> >> <b>Python</b>)</span>"
   ]
  },
  {
   "cell_type": "code",
   "execution_count": 5,
   "id": "d36f8806",
   "metadata": {},
   "outputs": [
    {
     "data": {
      "text/plain": [
       "dict"
      ]
     },
     "execution_count": 5,
     "metadata": {},
     "output_type": "execute_result"
    }
   ],
   "source": [
    "nesne = json.loads(json_verisi)\n",
    "\n",
    "type(nesne)"
   ]
  },
  {
   "cell_type": "markdown",
   "id": "0a0e6d62",
   "metadata": {},
   "source": [
    "*json_verisi* ile *dict* nesnesi elde edildi."
   ]
  },
  {
   "cell_type": "code",
   "execution_count": 6,
   "id": "c5261e10",
   "metadata": {},
   "outputs": [
    {
     "data": {
      "text/plain": [
       "{'ad': 'ali', 'soyad': 'öztürk', 'yaş': 21, 'yer': 'istanbul'}"
      ]
     },
     "execution_count": 6,
     "metadata": {},
     "output_type": "execute_result"
    }
   ],
   "source": [
    "nesne # bu değişken artık bir sözlüktür."
   ]
  },
  {
   "cell_type": "code",
   "execution_count": 7,
   "id": "513e2e6e",
   "metadata": {},
   "outputs": [
    {
     "data": {
      "text/plain": [
       "'ali'"
      ]
     },
     "execution_count": 7,
     "metadata": {},
     "output_type": "execute_result"
    }
   ],
   "source": [
    "nesne[\"ad\"]"
   ]
  },
  {
   "cell_type": "markdown",
   "id": "069d4d67",
   "metadata": {},
   "source": [
    "Şimdi JSON verimizi, *liste içinde sözlük* olacak şekilde oluşturalım."
   ]
  },
  {
   "cell_type": "code",
   "execution_count": 8,
   "id": "34ab292b",
   "metadata": {},
   "outputs": [
    {
     "data": {
      "text/plain": [
       "str"
      ]
     },
     "execution_count": 8,
     "metadata": {},
     "output_type": "execute_result"
    }
   ],
   "source": [
    "json_verisi = '[{\"isim\":\"ali\", \"no\":7264133, \"yer\":\"ankara\"}]'\n",
    "\n",
    "type(json_verisi)   # json_verisi bu haliyle yalnızca metindir."
   ]
  },
  {
   "cell_type": "code",
   "execution_count": 9,
   "id": "835b0fab",
   "metadata": {},
   "outputs": [
    {
     "data": {
      "text/plain": [
       "list"
      ]
     },
     "execution_count": 9,
     "metadata": {},
     "output_type": "execute_result"
    }
   ],
   "source": [
    "nesne = json.loads(json_verisi)\n",
    "\n",
    "type(nesne)         # nesne değişkeni bir listedir."
   ]
  },
  {
   "cell_type": "code",
   "execution_count": 10,
   "id": "528e6505",
   "metadata": {},
   "outputs": [
    {
     "data": {
      "text/plain": [
       "dict"
      ]
     },
     "execution_count": 10,
     "metadata": {},
     "output_type": "execute_result"
    }
   ],
   "source": [
    "type(nesne[0])      # liste olan nesne değişkeninin birinci elemanı ise bir sözlüktür."
   ]
  },
  {
   "cell_type": "markdown",
   "id": "df96d814",
   "metadata": {},
   "source": [
    "Şimdi de JSON verimiz, sadece değerlerden oluşsun."
   ]
  },
  {
   "cell_type": "code",
   "execution_count": 11,
   "id": "a6d4262c",
   "metadata": {},
   "outputs": [],
   "source": [
    "json_verisi = '[\"istanbul\", \"ankara\", \"izmir\"]'"
   ]
  },
  {
   "cell_type": "code",
   "execution_count": 12,
   "id": "c34a5036",
   "metadata": {},
   "outputs": [
    {
     "data": {
      "text/plain": [
       "list"
      ]
     },
     "execution_count": 12,
     "metadata": {},
     "output_type": "execute_result"
    }
   ],
   "source": [
    "nesne = json.loads(json_verisi)\n",
    "\n",
    "type(nesne)"
   ]
  },
  {
   "cell_type": "markdown",
   "id": "441b0929",
   "metadata": {},
   "source": [
    "Şimdi de **.json** uzantılı bir dosyadan veri okuyup, onu Python'da kullanılabilir bir nesneye dönüştürelim."
   ]
  },
  {
   "cell_type": "code",
   "execution_count": 13,
   "id": "b20f99a6",
   "metadata": {},
   "outputs": [
    {
     "data": {
      "text/plain": [
       "str"
      ]
     },
     "execution_count": 13,
     "metadata": {},
     "output_type": "execute_result"
    }
   ],
   "source": [
    "with open(\"veri1.json\", \"r\") as file:\n",
    "    json_verisi = file.read()\n",
    "\n",
    "type(json_verisi)"
   ]
  },
  {
   "cell_type": "markdown",
   "id": "decd1fa4",
   "metadata": {},
   "source": [
    "Görüldüğü gibi, dosyadan okunan veri *str* türündedir. *JSON* modülünden faydalanarak, *str* veriyi Python'da kullanılabilen bir nesneye dönüştürüyoruz. **veri1.json** dosyası, *liste içinde sözlük* barındıran bir *JSON* dosyasıdır."
   ]
  },
  {
   "cell_type": "code",
   "execution_count": 14,
   "id": "12305aae",
   "metadata": {},
   "outputs": [
    {
     "data": {
      "text/plain": [
       "list"
      ]
     },
     "execution_count": 14,
     "metadata": {},
     "output_type": "execute_result"
    }
   ],
   "source": [
    "nesne = json.loads(json_verisi)\n",
    "\n",
    "type(nesne)"
   ]
  },
  {
   "cell_type": "code",
   "execution_count": 15,
   "id": "471ca09c",
   "metadata": {},
   "outputs": [
    {
     "data": {
      "text/plain": [
       "[{'id': 1, 'isim': 'zeki', 'yer': 'istanbul'},\n",
       " {'id': 2, 'isim': 'ali', 'yer': 'ankara'},\n",
       " {'id': 3, 'isim': 'mehmet', 'yer': 'izmir'}]"
      ]
     },
     "execution_count": 15,
     "metadata": {},
     "output_type": "execute_result"
    }
   ],
   "source": [
    "nesne"
   ]
  },
  {
   "cell_type": "markdown",
   "id": "14a05b7f",
   "metadata": {},
   "source": [
    "**veri2.json** dosyası da, *sözlük içinde liste* barındıran bir JSON dosyasıdır."
   ]
  },
  {
   "cell_type": "code",
   "execution_count": 16,
   "id": "e25c2371",
   "metadata": {},
   "outputs": [
    {
     "data": {
      "text/plain": [
       "{'iller': ['istanbul', 'ankara', 'izmir'], 'puanlar': [30, 40, 50]}"
      ]
     },
     "execution_count": 16,
     "metadata": {},
     "output_type": "execute_result"
    }
   ],
   "source": [
    "with open(\"veri2.json\", \"r\") as file:\n",
    "    json_verisi = file.read()\n",
    "\n",
    "nesne = json.loads(json_verisi)\n",
    "\n",
    "nesne"
   ]
  },
  {
   "cell_type": "markdown",
   "id": "e7fd2964",
   "metadata": {},
   "source": [
    "**veri3.json** dosyası da, *sözlük içinde sözlük* barındıran bir JSON dosyasıdır."
   ]
  },
  {
   "cell_type": "code",
   "execution_count": 17,
   "id": "de8cb5c3",
   "metadata": {},
   "outputs": [
    {
     "data": {
      "text/plain": [
       "{'ali': {'no': 136, 'yer': 'istanbul', 'yas': 23},\n",
       " 'veli': {'no': 137, 'yer': 'istanbul', 'yas': 23}}"
      ]
     },
     "execution_count": 17,
     "metadata": {},
     "output_type": "execute_result"
    }
   ],
   "source": [
    "with open(\"veri3.json\", \"r\") as file:\n",
    "    json_verisi = file.read()\n",
    "\n",
    "nesne = json.loads(json_verisi)\n",
    "\n",
    "nesne"
   ]
  },
  {
   "cell_type": "code",
   "execution_count": 18,
   "id": "fb343688",
   "metadata": {},
   "outputs": [
    {
     "data": {
      "text/plain": [
       "{'no': 136, 'yer': 'istanbul', 'yas': 23}"
      ]
     },
     "execution_count": 18,
     "metadata": {},
     "output_type": "execute_result"
    }
   ],
   "source": [
    "nesne[\"ali\"]"
   ]
  },
  {
   "cell_type": "markdown",
   "id": "95b1e4bd",
   "metadata": {},
   "source": [
    "*JSON* verisi bulunan **.json** uzantılı dosyalardan okumak yaparken, **.loads()** metodu yerine **.load()** metodu da aşağıdaki gibi kullanılabilir."
   ]
  },
  {
   "cell_type": "code",
   "execution_count": 19,
   "id": "29ce9389",
   "metadata": {},
   "outputs": [
    {
     "data": {
      "text/plain": [
       "{'ali': {'no': 136, 'yer': 'istanbul', 'yas': 23},\n",
       " 'veli': {'no': 137, 'yer': 'istanbul', 'yas': 23}}"
      ]
     },
     "execution_count": 19,
     "metadata": {},
     "output_type": "execute_result"
    }
   ],
   "source": [
    "with open(\"veri3.json\", \"r\") as file:\n",
    "    nesne = json.load(file)\n",
    "\n",
    "nesne"
   ]
  },
  {
   "cell_type": "markdown",
   "id": "8dea0961",
   "metadata": {},
   "source": [
    "Buraya kadar, **str** veri türünden veya **.json** uzantılı dosyalardan okunan **JSON** verilerinin Python'da kullanılabilir bir nesneye nasıl dönüştürüleceğini görmüş olduk. Şimdi de, Python'da kullandığımız **dict** veya **list** veri türlerinin (veya iç içe yapılarının) **JSON** verisine nasıl dönüştürüleceğini veya bu yapıların **.json** uzantılı dosyaya nasıl yazdırılacağını görelim."
   ]
  },
  {
   "cell_type": "code",
   "execution_count": 20,
   "id": "915804df",
   "metadata": {},
   "outputs": [],
   "source": [
    "liste = [\"elma\", \"çilek\", \"muz\", \"portakal\"]  # Python'da bir list nesnesi"
   ]
  },
  {
   "cell_type": "markdown",
   "id": "cb26911d",
   "metadata": {},
   "source": [
    "Python'da bir *list* veya *dict* nesnesi üzerinden *JSON* verisi **.dumps()** metodu ile oluşturulabilir. <span style=\"color:navy\">(<b>Python</b> >> <b>JSON</b>)</span>"
   ]
  },
  {
   "cell_type": "code",
   "execution_count": 21,
   "id": "ef2f316f",
   "metadata": {},
   "outputs": [
    {
     "data": {
      "text/plain": [
       "str"
      ]
     },
     "execution_count": 21,
     "metadata": {},
     "output_type": "execute_result"
    }
   ],
   "source": [
    "json_verisi = json.dumps(liste)\n",
    "\n",
    "type(json_verisi)"
   ]
  },
  {
   "cell_type": "markdown",
   "id": "7eb520b1",
   "metadata": {},
   "source": [
    "**.dump()** metodu ile de dosyaya yazma işlemini gerçekleştirebiliriz. *indent=...* parametresi, verilerin dosyaya boşluklu yazılmasını sağlar."
   ]
  },
  {
   "cell_type": "code",
   "execution_count": 22,
   "id": "793c9964",
   "metadata": {},
   "outputs": [],
   "source": [
    "with open(\"liste.json\", \"w\") as file:\n",
    "    json.dump(liste, file, indent=4)    "
   ]
  },
  {
   "cell_type": "markdown",
   "id": "5b94379a",
   "metadata": {},
   "source": [
    "Şimdi en son yazdırdığımız dosyayı okuyalım."
   ]
  },
  {
   "cell_type": "code",
   "execution_count": 23,
   "id": "03ef19e8",
   "metadata": {},
   "outputs": [
    {
     "data": {
      "text/plain": [
       "['elma', 'çilek', 'muz', 'portakal']"
      ]
     },
     "execution_count": 23,
     "metadata": {},
     "output_type": "execute_result"
    }
   ],
   "source": [
    "with open(\"liste.json\", \"r\") as file:\n",
    "    nesne = json.load(file)\n",
    "    \n",
    "nesne"
   ]
  },
  {
   "cell_type": "code",
   "execution_count": 24,
   "id": "18f9e1a4",
   "metadata": {},
   "outputs": [
    {
     "data": {
      "text/plain": [
       "{'ad': 'zeki', 'no': 35231, 'puan': 3.14}"
      ]
     },
     "execution_count": 24,
     "metadata": {},
     "output_type": "execute_result"
    }
   ],
   "source": [
    "sozluk = {\"ad\":\"zeki\", \"no\":35231, \"puan\":3.14}\n",
    "\n",
    "# json dosyasına yazdırma işlemi\n",
    "with open(\"sozluk.json\", \"w\") as file:\n",
    "    json.dump(sozluk, file, indent=4) \n",
    "    \n",
    "# oluşturulan json dosyasından okuma işlemi\n",
    "with open(\"sozluk.json\", \"r\") as file:\n",
    "    nesne = json.load(file)\n",
    "    \n",
    "nesne"
   ]
  },
  {
   "cell_type": "markdown",
   "id": "b0b61261",
   "metadata": {},
   "source": [
    "<hr>\n",
    "<p style=\"text-align:center;font-size:12px\">\n",
    "<b>Öğr. Gör. Zeki ÇIPLAK</b><br>\n",
    "İstanbul Gedik Üniversitesi<br>\n",
    "Gedik MYO / Bilgisayar Programcılığı<br>\n",
    "<a href=\"https://linkedin.com/in/zkcplk\">LinkedIn</a> \n",
    "<a href=\"https://zkcplk.medium.com\">Blog</a> \n",
    "<a href=\"https://youtube.com/@zkcplk\">YouTube</a> \n",
    "</p>"
   ]
  }
 ],
 "metadata": {
  "kernelspec": {
   "display_name": "Python 3 (ipykernel)",
   "language": "python",
   "name": "python3"
  },
  "language_info": {
   "codemirror_mode": {
    "name": "ipython",
    "version": 3
   },
   "file_extension": ".py",
   "mimetype": "text/x-python",
   "name": "python",
   "nbconvert_exporter": "python",
   "pygments_lexer": "ipython3",
   "version": "3.9.13"
  }
 },
 "nbformat": 4,
 "nbformat_minor": 5
}
