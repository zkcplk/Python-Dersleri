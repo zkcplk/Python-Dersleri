{
 "cells": [
  {
   "cell_type": "markdown",
   "id": "b87c0def",
   "metadata": {},
   "source": [
    "# DOSYA İŞLEMLERİ"
   ]
  },
  {
   "cell_type": "markdown",
   "id": "79a6b81f",
   "metadata": {},
   "source": [
    "## 1. Dosya oluşturmak ve dosyaya yazmak\n",
    "Öncelikle bir dosya üzerinde işlem yapabilmek için **open()** fonksiyonu ile onun açılması gerekir. Ayrıca dosyalar üzerinde yapacağımız işlemlere göre çeşitli dosya kipleri bulunur. Dosya üzerinde işlem yapmadan önce, hangi kiple işlem yapılacağının da seçilmesi gerekir."
   ]
  },
  {
   "cell_type": "markdown",
   "id": "c33a7586",
   "metadata": {},
   "source": [
    "### <span style=\"color:navy\">w kipi (write)</span>\n",
    "Bir dosyayı yazmak amacıyla açmak için kullanılan kiptir. Eğer dosya yoksa, oluşturulur. Dosya varsa, eskisini siler, sıfırdan yeni bir dosya oluşturup içine yazar. *encoding* parametresi, dosyaya yazılacak metnin karakter setini belirler."
   ]
  },
  {
   "cell_type": "code",
   "execution_count": 2,
   "id": "bc639449",
   "metadata": {},
   "outputs": [],
   "source": [
    "file = open(\"w_kipi.txt\", \"w\", encoding=\"UTF-8\")\n",
    "file.close() # dosyayla işimiz bittiğinde "
   ]
  },
  {
   "cell_type": "markdown",
   "id": "a5acf614",
   "metadata": {},
   "source": [
    "Yukarıdaki kod çalıştırıldığında, *w_kipi.txt* adlı bir dosya, bu notebook'un bulunduğu dizinde oluşturulur. Dosya, **with open()** yapısı ile açılmamışsa, mutlaka kapatılması gerekir. Yukarıdaki kodda da **file.close()** ile dosya kapatılmıştır."
   ]
  },
  {
   "cell_type": "markdown",
   "id": "d1663e54",
   "metadata": {},
   "source": [
    "Üzerinde çalışacağımız dosya, belirli bir dizinde aşağıdaki gibi oluşturulabilir. Aşağıdaki kod çalıştığında, masaüstünde içeriği olmayan boş bir deneme.txt dosyası oluşturulmuş olur."
   ]
  },
  {
   "cell_type": "code",
   "execution_count": 3,
   "id": "323106c6",
   "metadata": {},
   "outputs": [],
   "source": [
    "file = open(\"C:/Users/Zeki/Desktop/deneme.txt\", \"w\", encoding=\"UTF-8\")\n",
    "file.close()"
   ]
  },
  {
   "cell_type": "markdown",
   "id": "398e13b3",
   "metadata": {},
   "source": [
    "Yukarıdaki kodda oluşturulan *file* nesnesi, dosyaya yazma işlemleriyle ilgili birçok metot barındırır. **.write()** metodu ile dosyaya içerik girme işlemi gerçekleştirilebilir."
   ]
  },
  {
   "cell_type": "code",
   "execution_count": 7,
   "id": "dac4eeaa",
   "metadata": {},
   "outputs": [],
   "source": [
    "file = open(\"C:/Users/Zeki/Desktop/deneme.txt\", \"w\", encoding=\"UTF-8\")\n",
    "file.write(\"Merhaba Python.\\nDosyaya yazma işlemi bu kadar kolay!\")\n",
    "file.close()"
   ]
  },
  {
   "cell_type": "markdown",
   "id": "58be74b0",
   "metadata": {},
   "source": [
    "Her seferinde *file.close()* metodunu kullanmamak ve yazma işlemi bittiğinde dosyanın otomatik olarak kapanması için **with open()** yapısı ile dosyayı açabiliriz. Bu şekilde açılan dosyayı kapatmaya ihtiyaç yoktur. Yazma işlemleri bittiğinde, dosya otomatik olarak kapatılır."
   ]
  },
  {
   "cell_type": "code",
   "execution_count": 10,
   "id": "fa9d2abc",
   "metadata": {},
   "outputs": [],
   "source": [
    "with open(\"C:/Users/Zeki/Desktop/deneme.txt\", \"w\", encoding=\"UTF-8\") as file:\n",
    "    file.write(\"Merhaba Python.\\nDosyaya yazma işlemi bitince, dosya otomatik olarak kapatılacaktır!\")"
   ]
  },
  {
   "cell_type": "markdown",
   "id": "526cc5fc",
   "metadata": {},
   "source": [
    "**.writelines()** metoduyla, örneğin bir listeyi direkt olarak bir dosyaya yazdırabiliriz. Aşağıdaki kodda listedeki tüm isimler, *deneme.txt* dosyasında yanyana olacak şekilde yazılmıştır."
   ]
  },
  {
   "cell_type": "code",
   "execution_count": 14,
   "id": "b6577cfa",
   "metadata": {},
   "outputs": [],
   "source": [
    "liste = [\"ali\", \"ebru\", \"ayşe\", \"buse\", \"mehmet\", \"emre\"]\n",
    "with open(\"C:/Users/Zeki/Desktop/deneme.txt\", \"w\", encoding=\"UTF-8\") as file:\n",
    "    file.writelines(liste)"
   ]
  },
  {
   "cell_type": "markdown",
   "id": "eb262ec8",
   "metadata": {},
   "source": [
    "Her satıra bir isim gelecek şekilde yazmak için aşağıdaki kodu kullanabiliriz."
   ]
  },
  {
   "cell_type": "code",
   "execution_count": 15,
   "id": "7e19cc90",
   "metadata": {},
   "outputs": [],
   "source": [
    "liste = [\"ali\", \"ebru\", \"ayşe\", \"buse\", \"mehmet\", \"emre\"]\n",
    "with open(\"C:/Users/Zeki/Desktop/deneme.txt\", \"w\", encoding=\"UTF-8\") as file:\n",
    "    file.writelines(\"\\n\".join(liste))"
   ]
  },
  {
   "cell_type": "markdown",
   "id": "5fc6b919",
   "metadata": {},
   "source": [
    "### <span style=\"color:navy\">a kipi (write)</span>\n",
    "*w kipi* gibi bir dosyaya yazma işlemi için kullanılan bir kiptir. Fakat *w kipi* gibi, dosyada eskiden var olan veriyi silmez. Üzerine ekleme yapar. Aşağıdaki kodda, *deneme.txt* dosyası **a**  kipinde açıldığı için, birkaç defa üst üste **.write()** işlemi yapılırsa, dosyadaki içeriğin her seferinde arttığı görülecektir."
   ]
  },
  {
   "cell_type": "code",
   "execution_count": 24,
   "id": "59f2ef64",
   "metadata": {},
   "outputs": [],
   "source": [
    "with open(\"C:/Users/Zeki/Desktop/deneme.txt\", \"a\", encoding=\"UTF-8\") as file:\n",
    "    file.write(\"Bu metin, dosyada var olan içeriğin ardında eklenecek!\\n\")"
   ]
  },
  {
   "cell_type": "markdown",
   "id": "e05a799f",
   "metadata": {},
   "source": [
    "## 2. Dosya okumak"
   ]
  },
  {
   "cell_type": "markdown",
   "id": "fec76142",
   "metadata": {},
   "source": [
    "### <span style=\"color:navy\">r kipi (read)</span>\n",
    "Dosya, okuma amacıyla açılır. Var olmayan bir dosya okunamaz. **.read()** metodu ile okuma işlemi aşağıdaki gibi yapılır."
   ]
  },
  {
   "cell_type": "code",
   "execution_count": 26,
   "id": "8a89a09b",
   "metadata": {},
   "outputs": [
    {
     "data": {
      "text/plain": [
       "'ali\\nebru\\nayşe\\nbuse\\nmehmet\\nemreMerhaba Python.\\nDosyaya yazma işlemi bitince, dosya otomatik olarak kapatılacaktır!Merhaba Python.\\nDosyaya yazma işlemi bitince, dosya otomatik olarak kapatılacaktır!Merhaba Python.\\nDosyaya yazma işlemi bitince, dosya otomatik olarak kapatılacaktır!Merhaba Python.\\nDosyaya yazma işlemi bitince, dosya otomatik olarak kapatılacaktır!Bu metin, dosyada var olan içeriğin ardında eklenecek!Bu metin, dosyada var olan içeriğin ardında eklenecek!Bu metin, dosyada var olan içeriğin ardında eklenecek!\\nBu metin, dosyada var olan içeriğin ardında eklenecek!\\nBu metin, dosyada var olan içeriğin ardında eklenecek!\\n'"
      ]
     },
     "execution_count": 26,
     "metadata": {},
     "output_type": "execute_result"
    }
   ],
   "source": [
    "with open(\"C:/Users/Zeki/Desktop/deneme.txt\", \"r\", encoding=\"UTF-8\") as file:\n",
    "    okunanlar = file.read()\n",
    "    \n",
    "okunanlar"
   ]
  },
  {
   "cell_type": "markdown",
   "id": "10951768",
   "metadata": {},
   "source": [
    "**.read()** metoduna limit eklenirse, dosyayı limit kadar okur. Aşağıdaki kodda dosyanın ilk 5 karakteri okunur."
   ]
  },
  {
   "cell_type": "code",
   "execution_count": 28,
   "id": "dd70bbb5",
   "metadata": {},
   "outputs": [
    {
     "data": {
      "text/plain": [
       "'ali\\ne'"
      ]
     },
     "execution_count": 28,
     "metadata": {},
     "output_type": "execute_result"
    }
   ],
   "source": [
    "with open(\"C:/Users/Zeki/Desktop/deneme.txt\", \"r\", encoding=\"UTF-8\") as file:\n",
    "    okunanlar = file.read(5)\n",
    "    \n",
    "okunanlar"
   ]
  },
  {
   "cell_type": "markdown",
   "id": "274cd83a",
   "metadata": {},
   "source": [
    "**.readline()** ile dosyadan satır satır okuma işlemi yapılabilir. Bu metot, tekrar tekrar çalıştırılarak, diğer satırlara geçilebilir."
   ]
  },
  {
   "cell_type": "code",
   "execution_count": 32,
   "id": "09806705",
   "metadata": {},
   "outputs": [
    {
     "name": "stdout",
     "output_type": "stream",
     "text": [
      "ali\n",
      "ebru\n",
      "ayşe\n"
     ]
    }
   ],
   "source": [
    "with open(\"C:/Users/Zeki/Desktop/deneme.txt\", \"r\", encoding=\"UTF-8\") as file:\n",
    "    okunanlar = file.readline()\n",
    "    print(okunanlar, end=\"\")\n",
    "    okunanlar = file.readline()\n",
    "    print(okunanlar, end=\"\")\n",
    "    okunanlar = file.readline()\n",
    "    print(okunanlar, end=\"\")"
   ]
  },
  {
   "cell_type": "markdown",
   "id": "ed2e8a7d",
   "metadata": {},
   "source": [
    "**.readlines()** metodu ile okuma işleminde, dosyadaki her satır bir liste elemanı olacak şekilde okunur ve bir listeye eklenir. Son olarak o liste döndürülür. Aşağıdaki *okunanlar* değişkeni o listedir."
   ]
  },
  {
   "cell_type": "code",
   "execution_count": 34,
   "id": "a34cc38a",
   "metadata": {},
   "outputs": [
    {
     "data": {
      "text/plain": [
       "['ali\\n',\n",
       " 'ebru\\n',\n",
       " 'ayşe\\n',\n",
       " 'buse\\n',\n",
       " 'mehmet\\n',\n",
       " 'emreMerhaba Python.\\n',\n",
       " 'Dosyaya yazma işlemi bitince, dosya otomatik olarak kapatılacaktır!Merhaba Python.\\n',\n",
       " 'Dosyaya yazma işlemi bitince, dosya otomatik olarak kapatılacaktır!Merhaba Python.\\n',\n",
       " 'Dosyaya yazma işlemi bitince, dosya otomatik olarak kapatılacaktır!Merhaba Python.\\n',\n",
       " 'Dosyaya yazma işlemi bitince, dosya otomatik olarak kapatılacaktır!Bu metin, dosyada var olan içeriğin ardında eklenecek!Bu metin, dosyada var olan içeriğin ardında eklenecek!Bu metin, dosyada var olan içeriğin ardında eklenecek!\\n',\n",
       " 'Bu metin, dosyada var olan içeriğin ardında eklenecek!\\n',\n",
       " 'Bu metin, dosyada var olan içeriğin ardında eklenecek!\\n']"
      ]
     },
     "execution_count": 34,
     "metadata": {},
     "output_type": "execute_result"
    }
   ],
   "source": [
    "with open(\"C:/Users/Zeki/Desktop/deneme.txt\", \"r\", encoding=\"UTF-8\") as file:\n",
    "    okunanlar = file.readlines()\n",
    "    \n",
    "okunanlar"
   ]
  },
  {
   "cell_type": "markdown",
   "id": "ee19a3c7",
   "metadata": {},
   "source": [
    "**for döngüsüyle** de bir dosya satır satır okunabilir."
   ]
  },
  {
   "cell_type": "code",
   "execution_count": 35,
   "id": "d0e25456",
   "metadata": {},
   "outputs": [
    {
     "name": "stdout",
     "output_type": "stream",
     "text": [
      "ali\n",
      "ebru\n",
      "ayşe\n",
      "buse\n",
      "mehmet\n",
      "emreMerhaba Python.\n",
      "Dosyaya yazma işlemi bitince, dosya otomatik olarak kapatılacaktır!Merhaba Python.\n",
      "Dosyaya yazma işlemi bitince, dosya otomatik olarak kapatılacaktır!Merhaba Python.\n",
      "Dosyaya yazma işlemi bitince, dosya otomatik olarak kapatılacaktır!Merhaba Python.\n",
      "Dosyaya yazma işlemi bitince, dosya otomatik olarak kapatılacaktır!Bu metin, dosyada var olan içeriğin ardında eklenecek!Bu metin, dosyada var olan içeriğin ardında eklenecek!Bu metin, dosyada var olan içeriğin ardında eklenecek!\n",
      "Bu metin, dosyada var olan içeriğin ardında eklenecek!\n",
      "Bu metin, dosyada var olan içeriğin ardında eklenecek!\n"
     ]
    }
   ],
   "source": [
    "with open(\"C:/Users/Zeki/Desktop/deneme.txt\", \"r\", encoding=\"UTF-8\") as file:\n",
    "    for i in file:\n",
    "        print(i,end=\"\")"
   ]
  },
  {
   "cell_type": "markdown",
   "id": "ab09e07d",
   "metadata": {},
   "source": [
    "## 3. Dosyada hem okuma hem de yazma işlemi"
   ]
  },
  {
   "cell_type": "markdown",
   "id": "24aa43da",
   "metadata": {},
   "source": [
    "### <span style=\"color:navy\">r+ kipi (read)</span>\n",
    "Bu kip, dosyayı hem okumak hem yazmak için açar. Yazma işleminde, içerik dosyanın sonuna eklenir."
   ]
  },
  {
   "cell_type": "code",
   "execution_count": 37,
   "id": "f2b747a1",
   "metadata": {},
   "outputs": [
    {
     "name": "stdout",
     "output_type": "stream",
     "text": [
      "ali\n",
      "ebru\n",
      "ayşe\n",
      "buse\n",
      "mehmet\n",
      "emreMerhaba Python.\n",
      "Dosyaya yazma işlemi bitince, dosya otomatik olarak kapatılacaktır!Merhaba Python.\n",
      "Dosyaya yazma işlemi bitince, dosya otomatik olarak kapatılacaktır!Merhaba Python.\n",
      "Dosyaya yazma işlemi bitince, dosya otomatik olarak kapatılacaktır!Merhaba Python.\n",
      "Dosyaya yazma işlemi bitince, dosya otomatik olarak kapatılacaktır!Bu metin, dosyada var olan içeriğin ardında eklenecek!Bu metin, dosyada var olan içeriğin ardında eklenecek!Bu metin, dosyada var olan içeriğin ardında eklenecek!\n",
      "Bu metin, dosyada var olan içeriğin ardında eklenecek!\n",
      "Bu metin, dosyada var olan içeriğin ardında eklenecek!\n",
      "\n",
      "eklenen içerik\n"
     ]
    }
   ],
   "source": [
    "with open(\"C:/Users/Zeki/Desktop/deneme.txt\", \"r+\", encoding=\"UTF-8\") as file:\n",
    "    okunan = file.read()            # dosya okunuyor...\n",
    "    print(okunan)\n",
    "    file.write(\"\\neklenen içerik\")  # dosyaya içerik ekleniyor..."
   ]
  },
  {
   "cell_type": "markdown",
   "id": "86bb1818",
   "metadata": {},
   "source": [
    "## 4. Dosyayı boşaltmak ve silmek\n",
    "Bir dosyanın içeriğini boşaltmak için, dosyayı *w* kipinde açıp, hiçbir işlem yapmayabiliriz. Bu şekilde, dosya *w* kipinde sıfırdan oluşturulmuş olacaktır ve hiçbir yazma işlemi yapmadığımız için boş kalmış olacaktır."
   ]
  },
  {
   "cell_type": "code",
   "execution_count": 39,
   "id": "0b502daf",
   "metadata": {},
   "outputs": [
    {
     "name": "stdout",
     "output_type": "stream",
     "text": [
      "Dosya içeriği silindi!\n"
     ]
    }
   ],
   "source": [
    "with open(\"C:/Users/Zeki/Desktop/deneme.txt\", \"w\", encoding=\"UTF-8\") as file:\n",
    "    pass\n",
    "\n",
    "print(\"Dosya içeriği silindi!\")"
   ]
  },
  {
   "cell_type": "markdown",
   "id": "d012a0cb",
   "metadata": {},
   "source": [
    "Bir dosyayı silmek için, **os** modülünden faydalanabiliriz."
   ]
  },
  {
   "cell_type": "code",
   "execution_count": 40,
   "id": "50a35eef",
   "metadata": {},
   "outputs": [
    {
     "name": "stdout",
     "output_type": "stream",
     "text": [
      "Dosya silindi!\n"
     ]
    }
   ],
   "source": [
    "import os\n",
    "os.remove(\"C:/Users/Zeki/Desktop/deneme.txt\")\n",
    "\n",
    "print(\"Dosya silindi!\")"
   ]
  },
  {
   "cell_type": "markdown",
   "id": "9d4f74c1",
   "metadata": {},
   "source": [
    "<hr>\n",
    "<p style=\"text-align:center;font-size:12px\">\n",
    "<b>Öğr. Gör. Zeki ÇIPLAK</b><br>\n",
    "İstanbul Gedik Üniversitesi<br>\n",
    "Gedik MYO / Bilgisayar Programcılığı<br>\n",
    "<a href=\"https://linkedin.com/in/zkcplk\">LinkedIn</a> \n",
    "<a href=\"https://zkcplk.medium.com\">Blog</a> \n",
    "<a href=\"https://youtube.com/@zkcplk\">YouTube</a> \n",
    "</p>"
   ]
  }
 ],
 "metadata": {
  "kernelspec": {
   "display_name": "Python 3 (ipykernel)",
   "language": "python",
   "name": "python3"
  },
  "language_info": {
   "codemirror_mode": {
    "name": "ipython",
    "version": 3
   },
   "file_extension": ".py",
   "mimetype": "text/x-python",
   "name": "python",
   "nbconvert_exporter": "python",
   "pygments_lexer": "ipython3",
   "version": "3.9.13"
  }
 },
 "nbformat": 4,
 "nbformat_minor": 5
}
