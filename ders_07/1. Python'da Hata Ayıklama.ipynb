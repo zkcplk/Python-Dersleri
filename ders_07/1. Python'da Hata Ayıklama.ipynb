{
 "cells": [
  {
   "cell_type": "markdown",
   "id": "f03230f4",
   "metadata": {},
   "source": [
    "# HATA AYIKLAMA\n",
    "Programlamada karşılaşılabilecek birçok hata türü vardır. Bunlar programcıdan kaynaklanan hatalar olduğu gibi, istisnai durumlar da olabilir."
   ]
  },
  {
   "cell_type": "markdown",
   "id": "03bb003d",
   "metadata": {},
   "source": [
    "## Program veya Programcı hatası\n",
    "Aşağıdaki kod hatalı yazılmıştır. Çünkü iki değer sayısal olarak toplanmak istenmiş fakat istenen elde edilememiştir."
   ]
  },
  {
   "cell_type": "code",
   "execution_count": 1,
   "id": "04e446b1",
   "metadata": {},
   "outputs": [
    {
     "name": "stdout",
     "output_type": "stream",
     "text": [
      "birinci sayıyı girin: 10\n",
      "ikinci sayıyı girin: 20\n"
     ]
    },
    {
     "data": {
      "text/plain": [
       "'1020'"
      ]
     },
     "execution_count": 1,
     "metadata": {},
     "output_type": "execute_result"
    }
   ],
   "source": [
    "s1 = input(\"birinci sayıyı girin: \")\n",
    "s2 = input(\"ikinci sayıyı girin: \")\n",
    "\n",
    "toplam = s1 + s2\n",
    "toplam"
   ]
  },
  {
   "cell_type": "markdown",
   "id": "94b95b80",
   "metadata": {},
   "source": [
    "Bu da bir programcı hatasıdır. (Örneğin, Python 2.7'de print fonksiyonu parantez olmadan da çalışıyordu.)"
   ]
  },
  {
   "cell_type": "code",
   "execution_count": 2,
   "id": "ac16063b",
   "metadata": {},
   "outputs": [
    {
     "ename": "SyntaxError",
     "evalue": "Missing parentheses in call to 'print'. Did you mean print(\"test\")? (3735958538.py, line 1)",
     "output_type": "error",
     "traceback": [
      "\u001b[1;36m  File \u001b[1;32m\"C:\\Users\\Zeki\\AppData\\Local\\Temp\\ipykernel_5972\\3735958538.py\"\u001b[1;36m, line \u001b[1;32m1\u001b[0m\n\u001b[1;33m    print \"test\"\u001b[0m\n\u001b[1;37m          ^\u001b[0m\n\u001b[1;31mSyntaxError\u001b[0m\u001b[1;31m:\u001b[0m Missing parentheses in call to 'print'. Did you mean print(\"test\")?\n"
     ]
    }
   ],
   "source": [
    "print \"test\""
   ]
  },
  {
   "cell_type": "markdown",
   "id": "ecaf412a",
   "metadata": {},
   "source": [
    "**İstisnai durumlar** ise her zaman hata oluşturmayan, belli şartlara göre hata oluşturan durumlardır. Örneğin aşağıdaki kod istisnai bir durum haricinde gayet iyi çalışır. O *istisnai durum* ise, ikinci sayının değerinin 0 (sıfır) olarak verilmesidir. Böyle bir durumda hata meydana gelir ve kod durur."
   ]
  },
  {
   "cell_type": "code",
   "execution_count": 5,
   "id": "148b3c99",
   "metadata": {},
   "outputs": [
    {
     "name": "stdout",
     "output_type": "stream",
     "text": [
      "Sayı 1: 20\n",
      "Sayı 2: 0\n"
     ]
    },
    {
     "ename": "ZeroDivisionError",
     "evalue": "division by zero",
     "output_type": "error",
     "traceback": [
      "\u001b[1;31m---------------------------------------------------------------------------\u001b[0m",
      "\u001b[1;31mZeroDivisionError\u001b[0m                         Traceback (most recent call last)",
      "\u001b[1;32m~\\AppData\\Local\\Temp\\ipykernel_5972\\3395633527.py\u001b[0m in \u001b[0;36m<module>\u001b[1;34m\u001b[0m\n\u001b[0;32m      1\u001b[0m \u001b[0ms1\u001b[0m \u001b[1;33m=\u001b[0m \u001b[0mint\u001b[0m\u001b[1;33m(\u001b[0m\u001b[0minput\u001b[0m\u001b[1;33m(\u001b[0m\u001b[1;34m\"Sayı 1: \"\u001b[0m\u001b[1;33m)\u001b[0m\u001b[1;33m)\u001b[0m\u001b[1;33m\u001b[0m\u001b[1;33m\u001b[0m\u001b[0m\n\u001b[0;32m      2\u001b[0m \u001b[0ms2\u001b[0m \u001b[1;33m=\u001b[0m \u001b[0mint\u001b[0m\u001b[1;33m(\u001b[0m\u001b[0minput\u001b[0m\u001b[1;33m(\u001b[0m\u001b[1;34m\"Sayı 2: \"\u001b[0m\u001b[1;33m)\u001b[0m\u001b[1;33m)\u001b[0m\u001b[1;33m\u001b[0m\u001b[1;33m\u001b[0m\u001b[0m\n\u001b[1;32m----> 3\u001b[1;33m \u001b[0msonuc\u001b[0m \u001b[1;33m=\u001b[0m \u001b[0ms1\u001b[0m \u001b[1;33m/\u001b[0m \u001b[0ms2\u001b[0m\u001b[1;33m\u001b[0m\u001b[1;33m\u001b[0m\u001b[0m\n\u001b[0m\u001b[0;32m      4\u001b[0m \u001b[1;33m\u001b[0m\u001b[0m\n\u001b[0;32m      5\u001b[0m \u001b[0mprint\u001b[0m\u001b[1;33m(\u001b[0m\u001b[1;34m\"Sonuç: \"\u001b[0m\u001b[1;33m,\u001b[0m \u001b[0msonuc\u001b[0m\u001b[1;33m)\u001b[0m\u001b[1;33m\u001b[0m\u001b[1;33m\u001b[0m\u001b[0m\n",
      "\u001b[1;31mZeroDivisionError\u001b[0m: division by zero"
     ]
    }
   ],
   "source": [
    "s1 = int(input(\"Sayı 1: \"))\n",
    "s2 = int(input(\"Sayı 2: \"))\n",
    "sonuc = s1 / s2\n",
    "\n",
    "print(\"Sonuç: \", sonuc)"
   ]
  },
  {
   "cell_type": "markdown",
   "id": "989cad4a",
   "metadata": {},
   "source": [
    "Böyle istisnai durumlar ve genel olarak hata durumları için, Python'da **try except** yapısını kullanarak ortaya çıkan hata mesajını manipüle edebilir, mesajı düzenleyebilir, kodun durmasını engelleyebilir ve hatayı düzeltici bir etki meydana getirebiliriz. **try except** yapısını kullanmak için, olası hatanın meydana gelebileceği kod parçası *try* kapsamında (*try scope*) yazılır. *except* bölümünde ise hatanın düzenlenmesi işlemleri yapılır."
   ]
  },
  {
   "cell_type": "code",
   "execution_count": 2,
   "id": "ac8ef495",
   "metadata": {},
   "outputs": [
    {
     "name": "stdout",
     "output_type": "stream",
     "text": [
      "Sayı 1: 10\n",
      "Sayı 2: A\n",
      "Bir hata meydana geldi!\n"
     ]
    }
   ],
   "source": [
    "try:\n",
    "    s1 = int(input(\"Sayı 1: \"))\n",
    "    s2 = int(input(\"Sayı 2: \"))\n",
    "    sonuc = s1 / s2\n",
    "    print(\"Sonuç: \", sonuc)\n",
    "\n",
    "except:\n",
    "    print(\"Bir hata meydana geldi!\")"
   ]
  },
  {
   "cell_type": "markdown",
   "id": "8b9e41de",
   "metadata": {},
   "source": [
    "Yukarıdaki **try except** yapısı, artık herhangi bir hata meydana geldiğinde konsola \"*Bir hata meydana geldi!*\" yazısını yazacaktır. Fakat ne tür bir hata meydana gelebileceğini önceden öngörmek ve o hataya göre çözüm bulmak gerektiğinde, hatanın türünü de bilmek gerekir. Örneğin, yukarıdaki kodda meydana gelen hatanın türü belirli değildir. Halbuki *ZeroDivisionError* hatası, (yani sıfıra bölme hatası) meydana geldiği açıktır. Bir dahakine böyle bir hata meydana geldiğinde, çözüm üretebilmek için bu hata türünü de elde etmek gerekir."
   ]
  },
  {
   "cell_type": "code",
   "execution_count": 13,
   "id": "f3837d30",
   "metadata": {},
   "outputs": [
    {
     "name": "stdout",
     "output_type": "stream",
     "text": [
      "Sayı 1: 10\n",
      "Sayı 2: 0\n",
      "Bir hata meydana geldi!\n",
      "Hata mesajı:  division by zero\n",
      "Hata türü:  ZeroDivisionError\n"
     ]
    }
   ],
   "source": [
    "try:\n",
    "    s1 = int(input(\"Sayı 1: \"))\n",
    "    s2 = int(input(\"Sayı 2: \"))\n",
    "    sonuc = s1 / s2\n",
    "    print(\"Sonuç: \", sonuc)\n",
    "\n",
    "except Exception as hata:\n",
    "    print(\"Bir hata meydana geldi!\")\n",
    "\n",
    "    # hatanın kısa mesajı\n",
    "    print(\"Hata mesajı: \", hata)\n",
    "\n",
    "    # hatanın türü\n",
    "    print(\"Hata türü: \", hata.__class__.__name__)"
   ]
  },
  {
   "cell_type": "markdown",
   "id": "89e394bb",
   "metadata": {},
   "source": [
    "Hata türü **ZeroDivisionError** olduğuna göre bu hatanın bir dahaki meydana gelişinde önlem olarak, sıfır girilen değere 0.000001 ekleyebiliriz. Böylece hatayı bir şekilde engellemiş oluruz. Bu sadece bir örnektir. Farklı hata türleri için farklı çözümler üretilebilir veya hiçbir çözüme gidilmeyip, sadece hata mesajı da düzenlenebilir."
   ]
  },
  {
   "cell_type": "code",
   "execution_count": 15,
   "id": "ea06e6bb",
   "metadata": {},
   "outputs": [
    {
     "name": "stdout",
     "output_type": "stream",
     "text": [
      "Sayı 1: a\n",
      "Bilinmeyen bir hata meydana geldi!\n",
      "Hata türü: ValueError\n"
     ]
    }
   ],
   "source": [
    "try:\n",
    "    s1 = int(input(\"Sayı 1: \"))\n",
    "    s2 = int(input(\"Sayı 2: \"))\n",
    "    sonuc = s1 / s2\n",
    "    print(\"Sonuç: \", sonuc)\n",
    "\n",
    "except ZeroDivisionError:\n",
    "    print(\"Sıfıra bölünme hatası meydana geldi!\")\n",
    "    print(\"İkinci sayıya 0.000001 eklenerek hata giderildi.\")\n",
    "    s2 += 0.000001\n",
    "    sonuc = s1 / s2\n",
    "    print(\"Sonuç: \", sonuc)\n",
    "\n",
    "except Exception as hata:\n",
    "    # daha önce planlanmamış bir hata da diyebiliriz.\n",
    "    # örnek: kullanıcının sayı yerine harf girmesi...\n",
    "    print(\"Bilinmeyen bir hata meydana geldi!\")\n",
    "    print(\"Hata türü:\", hata.__class__.__name__)"
   ]
  },
  {
   "cell_type": "markdown",
   "id": "76667acc",
   "metadata": {},
   "source": [
    "Yukarıdaki kodda, kullanıcıdan istenen değere harf girişi yapıldığında, **ValueError** meydana geldiğini görebiliriz. Bu durumda, **ValueError** için de ayrıca bir *except* kapsamı oluşturup, ona özel bir hata mesajı veya çözüm üretebiliriz."
   ]
  },
  {
   "cell_type": "code",
   "execution_count": 17,
   "id": "647f7623",
   "metadata": {},
   "outputs": [
    {
     "name": "stdout",
     "output_type": "stream",
     "text": [
      "Sayı 1: *\n",
      "Sayı yerine başka bir karakter girmemelisiniz!\n"
     ]
    }
   ],
   "source": [
    "try:\n",
    "    s1 = int(input(\"Sayı 1: \"))\n",
    "    s2 = int(input(\"Sayı 2: \"))\n",
    "    sonuc = s1 / s2\n",
    "    print(\"Sonuç: \", sonuc)\n",
    "\n",
    "except ZeroDivisionError:\n",
    "    print(\"Sıfıra bölünme hatası meydana geldi!\")\n",
    "    print(\"İkinci sayıya 0.000001 eklenerek hata giderildi.\")\n",
    "    s2 += 0.000001\n",
    "    sonuc = s1 / s2\n",
    "    print(\"Sonuç: \", sonuc)\n",
    "    \n",
    "except ValueError:\n",
    "    print(\"Sayı yerine başka bir karakter girmemelisiniz!\")\n",
    "\n",
    "except Exception as hata:\n",
    "    # daha önceden planlanmamış bir hata\n",
    "    print(\"Bilinmeyen bir hata meydana geldi!\")\n",
    "    print(\"Hata türü:\", hata.__class__.__name__)"
   ]
  },
  {
   "cell_type": "markdown",
   "id": "2949cd49",
   "metadata": {},
   "source": [
    "## finally"
   ]
  },
  {
   "cell_type": "markdown",
   "id": "6f7c66ba",
   "metadata": {},
   "source": [
    "*try except* yapısı, **finally** kapsamının eklenmesi ile üçlü bir yapı olarak da kullanılabilir. *finally* kapsamına, hatalardan bağımsız olarak *try* kapsamındaki kodlardan sonra çalışacak olan kodlar eklenir. Hata meydana gelse de, gelmese de **finally bölümü hep çalışır.**"
   ]
  },
  {
   "cell_type": "code",
   "execution_count": 18,
   "id": "0cd63d57",
   "metadata": {},
   "outputs": [
    {
     "name": "stdout",
     "output_type": "stream",
     "text": [
      "Sayı 1: 10\n",
      "Sayı 2: 20\n",
      "Sonuç:  0.5\n",
      "Hata olsa da olmasa da bu kısımdaki kodlar çalışır...\n"
     ]
    }
   ],
   "source": [
    "try:\n",
    "    s1 = int(input(\"Sayı 1: \"))\n",
    "    s2 = int(input(\"Sayı 2: \"))\n",
    "    sonuc = s1 / s2\n",
    "    print(\"Sonuç: \", sonuc)\n",
    "\n",
    "except ZeroDivisionError:\n",
    "    print(\"Sıfıra bölünme hatası meydana geldi!\")\n",
    "    print(\"İkinci sayıya 0.000001 eklenerek hata giderildi.\")\n",
    "    s2 += 0.000001\n",
    "    sonuc = s1 / s2\n",
    "    print(\"Sonuç: \", sonuc)\n",
    "    \n",
    "except ValueError:\n",
    "    print(\"Sayı yerine başka bir karakter girmemelisiniz!\")\n",
    "\n",
    "except Exception as hata:\n",
    "    # daha önceden planlanmamış bir hata\n",
    "    print(\"Bilinmeyen bir hata meydana geldi!\")\n",
    "    print(\"Hata türü:\", hata.__class__.__name__)\n",
    "\n",
    "finally:\n",
    "    print(\"Hata olsa da olmasa da bu kısımdaki kodlar çalışır...\")"
   ]
  },
  {
   "cell_type": "markdown",
   "id": "bad4b142",
   "metadata": {},
   "source": [
    "## Hata gibi gözükmeyen durumlarda, hata mesajı üretilmesi\n",
    "Yanlış olduğunu düşündüğümüz bir durumda, Python'ın hata mesajı üretmesini sağlayabiliriz. Örneğin bir üyelik sisteminiz olduğunu düşünelim. Size göre **üye isimlerinin sayı olması durumu, hatalı bir durum gibi** kabul edilsin. Yani üye isimleri tamamen rakamlardan oluşmamalıdır. Bu size göre hatalı bir durumdur ama Python bunu hatalı bir durum olarak görmez. <br>\n",
    "O yüzden bu durumu özellikle bir hata mesajı üretecek hale getirebiliriz. Böylece hata mesajı üretilmiş ve istenmeyen durumdan kaçınılmış olunacaktır. Bu amaçla, hata türüyle birlikte hata mesajı oluşturmak için, **raise** komutunu kullanabiliriz."
   ]
  },
  {
   "cell_type": "code",
   "execution_count": 20,
   "id": "e1021d0e",
   "metadata": {},
   "outputs": [
    {
     "name": "stdout",
     "output_type": "stream",
     "text": [
      "Yeni üye: 007\n"
     ]
    },
    {
     "ename": "ValueError",
     "evalue": "Lütfen sayı girmeyiniz!",
     "output_type": "error",
     "traceback": [
      "\u001b[1;31m---------------------------------------------------------------------------\u001b[0m",
      "\u001b[1;31mValueError\u001b[0m                                Traceback (most recent call last)",
      "\u001b[1;32m~\\AppData\\Local\\Temp\\ipykernel_5972\\1806097228.py\u001b[0m in \u001b[0;36m<module>\u001b[1;34m\u001b[0m\n\u001b[0;32m     11\u001b[0m \u001b[1;33m\u001b[0m\u001b[0m\n\u001b[0;32m     12\u001b[0m \u001b[0mgirilen\u001b[0m \u001b[1;33m=\u001b[0m \u001b[0minput\u001b[0m\u001b[1;33m(\u001b[0m\u001b[1;34m\"Yeni üye: \"\u001b[0m\u001b[1;33m)\u001b[0m\u001b[1;33m\u001b[0m\u001b[1;33m\u001b[0m\u001b[0m\n\u001b[1;32m---> 13\u001b[1;33m \u001b[0muye_kaydet\u001b[0m\u001b[1;33m(\u001b[0m\u001b[0mgirilen\u001b[0m\u001b[1;33m)\u001b[0m\u001b[1;33m\u001b[0m\u001b[1;33m\u001b[0m\u001b[0m\n\u001b[0m",
      "\u001b[1;32m~\\AppData\\Local\\Temp\\ipykernel_5972\\1806097228.py\u001b[0m in \u001b[0;36muye_kaydet\u001b[1;34m(isim)\u001b[0m\n\u001b[0;32m      4\u001b[0m          \u001b[1;31m# gerçek bir hata meydana gelmiş gibi gösterebiliriz.\u001b[0m\u001b[1;33m\u001b[0m\u001b[1;33m\u001b[0m\u001b[0m\n\u001b[0;32m      5\u001b[0m          \u001b[1;31m# girilen değer yanlış olduğu için ValueError olarak hata mesajı üretmesini sağladık.\u001b[0m\u001b[1;33m\u001b[0m\u001b[1;33m\u001b[0m\u001b[0m\n\u001b[1;32m----> 6\u001b[1;33m         \u001b[1;32mraise\u001b[0m \u001b[0mValueError\u001b[0m\u001b[1;33m(\u001b[0m\u001b[1;34m\"Lütfen sayı girmeyiniz!\"\u001b[0m\u001b[1;33m)\u001b[0m\u001b[1;33m\u001b[0m\u001b[1;33m\u001b[0m\u001b[0m\n\u001b[0m\u001b[0;32m      7\u001b[0m \u001b[1;33m\u001b[0m\u001b[0m\n\u001b[0;32m      8\u001b[0m     \u001b[1;32melse\u001b[0m\u001b[1;33m:\u001b[0m\u001b[1;33m\u001b[0m\u001b[1;33m\u001b[0m\u001b[0m\n",
      "\u001b[1;31mValueError\u001b[0m: Lütfen sayı girmeyiniz!"
     ]
    }
   ],
   "source": [
    "def uye_kaydet(isim):\n",
    "    if isim.isnumeric():\n",
    "        # girilen değer nümerik olduğu için ValueError olarak hata mesajı üretmesini sağladık.\n",
    "        raise ValueError(\"Lütfen tüm karakterleri sayı girmeyiniz!\")\n",
    "\n",
    "    else:\n",
    "         print(isim + \" yeni üye olarak kaydedildi!\")\n",
    "\n",
    "\n",
    "girilen = input(\"Yeni üye: \")\n",
    "uye_kaydet(girilen)"
   ]
  },
  {
   "cell_type": "markdown",
   "id": "689cfb41",
   "metadata": {},
   "source": [
    "<hr>\n",
    "<p style=\"text-align:center;font-size:12px\">\n",
    "<b>Öğr. Gör. Zeki ÇIPLAK</b><br>\n",
    "İstanbul Gedik Üniversitesi<br>\n",
    "Gedik MYO / Bilgisayar Programcılığı<br>\n",
    "<a href=\"https://linkedin.com/in/zkcplk\">LinkedIn</a> \n",
    "<a href=\"https://zkcplk.medium.com\">Blog</a> \n",
    "<a href=\"https://youtube.com/@zkcplk\">YouTube</a> \n",
    "</p>"
   ]
  }
 ],
 "metadata": {
  "kernelspec": {
   "display_name": "Python 3 (ipykernel)",
   "language": "python",
   "name": "python3"
  },
  "language_info": {
   "codemirror_mode": {
    "name": "ipython",
    "version": 3
   },
   "file_extension": ".py",
   "mimetype": "text/x-python",
   "name": "python",
   "nbconvert_exporter": "python",
   "pygments_lexer": "ipython3",
   "version": "3.9.13"
  }
 },
 "nbformat": 4,
 "nbformat_minor": 5
}
