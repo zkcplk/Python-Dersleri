{
 "cells": [
  {
   "cell_type": "markdown",
   "id": "c838be34",
   "metadata": {},
   "source": [
    "# SORU CEVAP 2"
   ]
  },
  {
   "cell_type": "markdown",
   "id": "cd31e1fe",
   "metadata": {},
   "source": [
    "<hr>\n",
    "\n",
    "<span style=\"color:navy\"><b>SORU 1:</b></span> Kullanıcının *ayrı ayrı* gireceği iki tam sayının, (*bu sayılardan biri diğerinden büyük olmalıdır, hangisinin büyük olduğu önemli değildir*) arasındaki bir tam sayıyı rastgele seçen, seçilen rastgele sayıyı konsola yazan, seçilen rastgele sayı kadar kullanıcıdan isim girmesini isteyen ve girilen isimleri toplu halde konsola yazdıran Python kodunu yazınız."
   ]
  },
  {
   "cell_type": "code",
   "execution_count": 4,
   "id": "49ad7d57",
   "metadata": {},
   "outputs": [
    {
     "name": "stdout",
     "output_type": "stream",
     "text": [
      "Lütfen birinci sayıyı giriniz: 1\n",
      "Lütfen ikinci sayıyı giriniz: 4\n",
      "Seçilen rastgele sayı: 3\n",
      "Lütfen 1. ismi giriniz: ali\n",
      "Lütfen 2. ismi giriniz: veli\n",
      "Lütfen 3. ismi giriniz: zeki\n",
      "--- İsim Listesi ---\n",
      "ali\n",
      "veli\n",
      "zeki\n"
     ]
    }
   ],
   "source": [
    "import random as r\n",
    "\n",
    "print(\"Biri diğerinden büyük, iki sayı girmeniz beklenmektedir...\")\n",
    "s1 = int(input(\"Lütfen birinci sayıyı giriniz: \"))\n",
    "s2 = int(input(\"Lütfen ikinci sayıyı giriniz: \"))\n",
    "\n",
    "if s1 == s2:\n",
    "    print(\"Lütfen iki eşit sayı girmeyin!\")\n",
    "else:\n",
    "    kucuk = min(s1,s2)\n",
    "    buyuk = max(s1,s2)\n",
    "    rastgele = r.randint(kucuk, buyuk)\n",
    "    print(\"Seçilen rastgele sayı:\", rastgele)\n",
    "\n",
    "    isim_listesi = []\n",
    "    for i in range(rastgele):\n",
    "        isim_listesi.append(input(f\"Lütfen {i+1}. ismi giriniz: \"))\n",
    "\n",
    "    print(\"--- İsim Listesi ---\")\n",
    "    for isim in isim_listesi:\n",
    "        print(isim)"
   ]
  },
  {
   "cell_type": "markdown",
   "id": "135c3f4a",
   "metadata": {},
   "source": [
    "<hr>\n",
    "\n",
    "<span style=\"color:navy\"><b>SORU 2:</b></span> Bir listedeki elemanların, tek tek **palindrom** olup olmadığını kontrol eden **palindrom_bul** adlı Python fonksiyonunu yazınız. Palindrom; tersten *okunuşu aynı* olan cümle, sözcük veya sayılardır. (11311 , \"neden\", \"radar\", 34543, \"ilaç iç ali\", ...)<br>\n",
    "\n",
    "*Liste:* [\"bu palindrom değil\", 11311, \"neden\", \"\", 0, 11, \"bu da değil\", \"radar\", \" \", 34543, \"ilaç iç ali\"]<br>\n",
    "\n",
    "*Sonuç:*<br>\n",
    "Palindrom: 11311<br>\n",
    "Palindrom: neden<br>\n",
    "Palindrom: radar<br>\n",
    "Palindrom: 34543<br>\n",
    "Palindrom: ilaç iç ali<br>"
   ]
  },
  {
   "cell_type": "code",
   "execution_count": 5,
   "id": "2868a8d0",
   "metadata": {},
   "outputs": [
    {
     "name": "stdout",
     "output_type": "stream",
     "text": [
      "Palindrom: 11311\n",
      "Palindrom: neden\n",
      "Palindrom: radar\n",
      "Palindrom: 34543\n",
      "Palindrom: ilaç iç ali\n"
     ]
    }
   ],
   "source": [
    "def palindrom_bul(liste):\n",
    "    for eleman in liste:\n",
    "        j = str(eleman).replace(\" \", \"\")\n",
    "        if j == j[::-1] and len(j) > 2:\n",
    "            print(\"Palindrom:\", eleman)\n",
    "\n",
    "liste = [\"bu palindrom değil\", 11311, \"neden\", \"\", 0, 11, \"bu da değil\", \"radar\", \" \", 34543, \"ilaç iç ali\"]\n",
    "palindrom_bul(liste)"
   ]
  },
  {
   "cell_type": "markdown",
   "id": "5e3ddb63",
   "metadata": {},
   "source": [
    "<hr>\n",
    "\n",
    "<span style=\"color:navy\"><b>SORU 3:</b></span> int, str ve bool verilerden oluşan bir listeyi;<br>\n",
    "1. Önce veri türlerine göre **en önde int değerler, en sonda bool değerler** olacak şekilde sıralayınız.\n",
    "2. Daha sonra her bir veri türünün kendi değerleri için, aşağıda söylenen şekilde ayrıca bir sıralama yapınız.\n",
    "* **int** veri türündeki değerler *büyükten küçüğe* sıralanmalıdır.\n",
    "* **str** veri türündeki değerler *çok harfliden, az harfli olana doğru* sıralanmalıdır.\n",
    "* **bool** veri türündeki değerlerde ise; *False değerler önce, True değerler sonra* olacak şekilde bir sıralama yapılmalıdır.\n",
    "\n",
    "*Test:*    [True, 1453, \"Python\", \"Java\", True, \"Dart\", False, \"JavaScript\", 2023, 1923, False, \"C++\"]<br>\n",
    "*Sonuç:*   [2023, 1923, 1453, \"JavaScript\", \"Python\", \"Java\", \"Dart\", \"C++\", False, False, True, True]"
   ]
  },
  {
   "cell_type": "code",
   "execution_count": 4,
   "id": "268732e9",
   "metadata": {},
   "outputs": [
    {
     "name": "stdout",
     "output_type": "stream",
     "text": [
      "[2023, 1923, 1453, 'JavaScript', 'Python', 'Java', 'Dart', 'C++', False, False, True, True]\n"
     ]
    }
   ],
   "source": [
    "liste = [True, 1453, \"Python\", \"Java\", True, \"Dart\", False, \"JavaScript\", 2023, 1923, False, \"C++\"]\n",
    "\n",
    "# önce listeyi verilere göre üç parçaya ayırıyoruz.\n",
    "liste_int, liste_str, liste_bool = [], [], []\n",
    "for i in liste:\n",
    "    if type(i) == int: liste_int.append(i)\n",
    "    elif type(i) == str: liste_str.append(i)\n",
    "    else: liste_bool.append(i)\n",
    "\n",
    "#print(liste_int, liste_str, liste_bool)\n",
    "\n",
    "# int listesini büyükten küçüğe sıralıyoruz.\n",
    "liste_int.sort(reverse=True)\n",
    "\n",
    "# str listesini çok harfliden, az harfliye sıralıyoruz.\n",
    "def coktan_aza(n):\n",
    "    return len(n)\n",
    "\n",
    "liste_str.sort(key=coktan_aza, reverse=True)\n",
    "\n",
    "# bool listesini sıralıyoruz.\n",
    "liste_bool.sort()\n",
    "\n",
    "print(liste_int + liste_str + liste_bool)"
   ]
  },
  {
   "cell_type": "markdown",
   "id": "2516922d",
   "metadata": {},
   "source": [
    "<b>List Comprehension ile Alternatif Çözüm</b>"
   ]
  },
  {
   "cell_type": "code",
   "execution_count": 1,
   "id": "ab3f38b5",
   "metadata": {},
   "outputs": [
    {
     "name": "stdout",
     "output_type": "stream",
     "text": [
      "[2023, 1923, 1453, 'JavaScript', 'Python', 'Java', 'Dart', 'C++', False, False, True, True]\n"
     ]
    }
   ],
   "source": [
    "liste = [True, 1453, \"Python\", \"Java\", True, \"Dart\", False, \"JavaScript\", 2023, 1923, False, \"C++\"]\n",
    "\n",
    "ints = [i for i in liste if type(i) == int]\n",
    "ints.sort(reverse=True)\n",
    "\n",
    "strs = [s for s in liste if type(s) == str]\n",
    "strs.sort(key=len, reverse=True)\n",
    "\n",
    "bools = [b for b in liste if type(b) == bool]\n",
    "bools.sort()\n",
    "\n",
    "print(ints + strs + bools)"
   ]
  },
  {
   "cell_type": "markdown",
   "id": "9decf0ea",
   "metadata": {},
   "source": [
    "<hr>\n",
    "\n",
    "<span style=\"color:navy\"><b>SORU 4:</b></span> Numaralandırılmış işlemler menüsünden, belli bir işlemi seçerek gerçekleştiren ve **sürekli çalışan** bir Python programı yazınız. Programın çalışması aşağıdaki gibi olmalıdır:<br>\n",
    "1. Program başlar ve Numaralandırılmış işlemler menüsü ekrana gelir. İşlemler listesinde; 1) *Toplama*, 2) *Çıkarma*, 3) *Çarpma*, 4) *Bölme* ve 0) *Çıkış* bulunur.\n",
    "2. Kullanıcı bu işlemlerden birini seçmek için işlem numarasını yazıp entera basar.\n",
    "3. İşleme göre kullanıcıdan yeni bilgiler istenir. Kullanıcı bunları da girerek, işlemin gerçekleşmesini bekler.\n",
    "4. İşlem bitince yeniden Numaralandırılmış işlemler menüsü ekrana gelir. \n",
    "5. Kullanıcı isterse, işlemine devam eder, isterse 0'a basarak programı sonlandırır.\n",
    "6. Her işlem, ayrı bir fonksiyon olarak tanımlanmalıdır.\n",
    "<br>\n",
    "\n",
    "*Not:* Program kodunu yazdıktan sonra, *exe* formatına dönüştürüp masaüstü uygulaması olarak da çalıştırınız."
   ]
  },
  {
   "cell_type": "code",
   "execution_count": 1,
   "id": "a4f53807",
   "metadata": {},
   "outputs": [
    {
     "name": "stdout",
     "output_type": "stream",
     "text": [
      "\n",
      "*** İşlemler ***\n",
      "1) Toplama\n",
      "2) Çıkarma\n",
      "3) Çarpma\n",
      "4) Bölme\n",
      "0) Çıkış\n",
      "****************\n",
      "Lütfen bir işlem seçiniz: 1\n",
      "\n",
      "Lütfen toplanacak sayıları, aralarında virgül olacak şekilde giriniz: 1,,,r,4,5\n",
      "Girilen sayıların toplamı: 10\n",
      "\n",
      "*** İşlemler ***\n",
      "1) Toplama\n",
      "2) Çıkarma\n",
      "3) Çarpma\n",
      "4) Bölme\n",
      "0) Çıkış\n",
      "****************\n",
      "Lütfen bir işlem seçiniz: 0\n",
      "\n",
      "Program sonlandırıldı!\n"
     ]
    }
   ],
   "source": [
    "def islem_sec():\n",
    "    print(\"\\n*** İşlemler ***\")\n",
    "    print(\"1) Toplama\")\n",
    "    print(\"2) Çıkarma\")\n",
    "    print(\"3) Çarpma\")\n",
    "    print(\"4) Bölme\")\n",
    "    print(\"0) Çıkış\")\n",
    "    print(\"****************\")\n",
    "    \n",
    "    return int(input(\"Lütfen bir işlem seçiniz: \"))\n",
    "   \n",
    "def toplama():\n",
    "    girilen_veri = input(\"Lütfen toplanacak sayıları, aralarında virgül olacak şekilde giriniz: \").strip().replace(\" \", \"\")\n",
    "    sayılar = girilen_veri.split(\",\")\n",
    "\n",
    "    toplam = 0\n",
    "    for i in sayılar:\n",
    "        if i.isnumeric():\n",
    "            toplam += int(i)\n",
    "    \n",
    "    print(f\"Girilen sayıların toplamı: {toplam}\")\n",
    "    \n",
    "def carpma():\n",
    "    girilen_veri = input(\"Lütfen çarpılacak sayıları, aralarında virgül olacak şekilde giriniz: \").strip().replace(\" \", \"\")\n",
    "    sayılar = girilen_veri.split(\",\")\n",
    "\n",
    "    carpim = 1\n",
    "    for i in sayılar:\n",
    "        if i.isnumeric():\n",
    "            carpim *= int(i)\n",
    "    \n",
    "    print(f\"Girilen sayıların çarpımı: {carpim}\")\n",
    "    \n",
    "def cikarma():\n",
    "    s1 = int(input(\"Birinci sayı:\"))\n",
    "    s2 = int(input(\"İkinci sayı:\"))\n",
    "    print(f\"Girilen sayıların farkı: {s1-s2}\")\n",
    "\n",
    "def bolme():\n",
    "    s1 = int(input(\"Birinci sayı:\"))\n",
    "    s2 = int(input(\"İkinci sayı:\")) \n",
    "    \n",
    "    if s2 == 0: s2 += 0.0000000001\n",
    "    print(f\"Girilen sayıların bölümü: {s1 / s2}\")\n",
    "    \n",
    "while True:\n",
    "    islem = islem_sec()\n",
    "    print(\"\")\n",
    "    \n",
    "    if islem == 0: print(\"Program sonlandırıldı!\"); break\n",
    "    elif islem == 1: toplama()\n",
    "    elif islem == 2: cikarma()\n",
    "    elif islem == 3: carpma()\n",
    "    elif islem == 4: bolme()\n",
    "    else: print(\"Menüde olmayan bir işlem seçtiniz! Lütfen yeniden seçim yapın.\")"
   ]
  },
  {
   "cell_type": "markdown",
   "id": "03e949a4",
   "metadata": {},
   "source": [
    "<hr>\n",
    "\n",
    "<span style=\"color:navy\"><b>SORU 5:</b></span> Adı, Soyadı, Telefon ve Şehir bilgilerinin yer aldığı bir **Kişiler Rehberi** uygulaması yazınız. Yazacağınız program, aşağıdaki şartları taşımalıdır.\n",
    "\n",
    "1. Program başladığında, **kisiler.json** dosyası varsa, o dosyadaki tüm bilgiler, **kisiler** adlı değişkene aktarılmalıdır. \n",
    "2. Daha sonra numaralandırılmış **işlemler** menüsü ekrana gelmelidir. \n",
    "3. Kullanıcı, işlemlerden birini seçip o işlemin gerektirdiği diğer işlemleri de gerçekleştirebilmelidir.\n",
    "4. İşlemler menüsünde; 0) *Çıkış*, 1) *Yeni kişi ekleme*, 2) *Kişi silme*, 3) *Kişi bilgilerini düzenleme*, 4) *Kişileri listeleme* ve 5) *Programı kapat* işlemleri olmalıdır.\n",
    "5. Herhangi bir işlem bitince, yeniden numaralandırılmış işlemler menüsü ekrana gelmelidir.\n",
    "6. 0 ile programdan çıkış yapılırken, yeni eklenen/güncellenen tüm bilgiler, yeniden bilgiler.json dosyasına aktarılmaldır.\n",
    "7. Program, 0 ile çıkış yapılmadan kapatılırsa, kisiler.json eski haliyle kalmalı ve yeni eklenen/güncellenen bilgiler kaybedilmelidir.\n",
    "\n",
    "*Not:* Program kodunu yazdıktan sonra, exe formatına dönüştürüp masaüstü uygulaması olarak da çalıştırınız."
   ]
  },
  {
   "cell_type": "code",
   "execution_count": 38,
   "id": "99335806",
   "metadata": {},
   "outputs": [
    {
     "name": "stdout",
     "output_type": "stream",
     "text": [
      "\n",
      "*** İşlemler ***\n",
      "0) Çıkış\n",
      "1) Ekle\n",
      "2) Sil\n",
      "3) Düzenle\n",
      "4) Listele\n",
      "****************\n",
      "Lütfen bir işlem seçiniz: 0\n",
      "\n",
      "Program sonlandırıldı!\n"
     ]
    }
   ],
   "source": [
    "import os\n",
    "import json\n",
    "\n",
    "def islem_sec():\n",
    "    print(\"\\n*** İşlemler ***\")\n",
    "    print(\"0) Çıkış\")\n",
    "    print(\"1) Ekle\")\n",
    "    print(\"2) Sil\")\n",
    "    print(\"3) Düzenle\")\n",
    "    print(\"4) Listele\")\n",
    "    print(\"****************\")\n",
    "    \n",
    "    return int(input(\"Lütfen bir işlem seçiniz: \"))\n",
    "\n",
    "def çıkış():\n",
    "    with open(dosya, \"w\") as file:\n",
    "        json.dump(kisiler, file, indent=4) \n",
    "        \n",
    "    print(\"Program sonlandırıldı!\");\n",
    "        \n",
    "\n",
    "def sonraki_id():\n",
    "    max_id = 0\n",
    "    for i in kisiler:\n",
    "        max_id = max(i.get(\"id\"), max_id)\n",
    "        \n",
    "    return max_id+1\n",
    "    \n",
    "    \n",
    "def ekle():\n",
    "    id_ = sonraki_id()\n",
    "    ad = input(\"Eklenecek kişinin Adı: \").capitalize()\n",
    "    soyad = input(\"Eklenecek kişinin Soyadı: \").capitalize()\n",
    "    tel = input(\"Eklenecek kişinin Telefonu: \")\n",
    "    şehir = input(\"Eklenecek kişinin Şehri: \").capitalize()\n",
    "    \n",
    "    kisiler.append({\"id\":id_, \"Ad\":ad, \"Soyad\":soyad, \"Telefon\":tel, \"Şehir\":şehir})\n",
    "    listele()\n",
    "    \n",
    "def listele():\n",
    "    print(\"\")\n",
    "    print(\"---------- Kişiler Listesi ----------\")\n",
    "    \n",
    "    if len(kisiler) < 1:\n",
    "        print(\"Listede kimse yok!\")\n",
    "    else:   \n",
    "        for i in kisiler:\n",
    "            for k,v in i.items():\n",
    "                print(v, end=\", \")\n",
    "            \n",
    "            print(\"\")\n",
    "    print(\"\")\n",
    "    \n",
    "def sil():\n",
    "    toplam = len(kisiler)\n",
    "    \n",
    "    if toplam < 1:\n",
    "        print(\"Listede silinecek kimse yok!\")\n",
    "    else: \n",
    "        id_ = int(input(\"Silinecek kişinin id'sini giriniz: \"))\n",
    "        for i in range(toplam):\n",
    "            if kisiler[i].get(\"id\") == id_:\n",
    "                kisiler.pop(i)\n",
    "                break # sileceğimizi sildikten sonra, diğerlerini dolaşmaya gerek yok!\n",
    "        \n",
    "        listele()\n",
    "        \n",
    "def duzenle():\n",
    "    toplam = len(kisiler)\n",
    "    \n",
    "    if toplam < 1:\n",
    "        print(\"Listede silinecek kimse yok!\")\n",
    "    else: \n",
    "        id_ = int(input(\"Düzenlenecek kişinin id'sini giriniz: \"))\n",
    "        for i in range(toplam):\n",
    "            if kisiler[i].get(\"id\") == id_:\n",
    "                kisiler.pop(i)\n",
    "                break\n",
    "        \n",
    "        ad = input(\"Eklenecek kişinin Adı: \").capitalize()\n",
    "        soyad = input(\"Eklenecek kişinin Soyadı: \").capitalize()\n",
    "        tel = input(\"Eklenecek kişinin Telefonu: \")\n",
    "        şehir = input(\"Eklenecek kişinin Şehri: \").capitalize()\n",
    "\n",
    "        kisiler.append({\"id\":id_, \"Ad\":ad, \"Soyad\":soyad, \"Telefon\":tel, \"Şehir\":şehir})\n",
    "        listele()\n",
    "\n",
    "kisiler = []\n",
    "dosya = \"kisiler.json\"\n",
    "\n",
    "# eğer dosya varsa, json modülü ile load ediyoruz.\n",
    "if os.path.exists(dosya):\n",
    "    with open(dosya, \"r\", encoding=\"UTF-8\") as file:\n",
    "        kisiler = json.load(file) # dosya varsa, tamamen boş olmamalıdır!\n",
    "        \n",
    "# eğer dosya yoksa, boş olarak oluşturuyoruz.\n",
    "else: \n",
    "    with open(dosya, \"w\", encoding=\"UTF-8\") as file:\n",
    "        pass\n",
    "        \n",
    "while True:\n",
    "    islem = islem_sec()\n",
    "    print(\"\")\n",
    "    \n",
    "    if islem == 0: çıkış(); break\n",
    "    elif islem == 1: ekle()\n",
    "    elif islem == 2: sil()\n",
    "    elif islem == 3: duzenle()\n",
    "    elif islem == 4: listele()\n",
    "    else: print(\"Menüde olmayan bir işlem seçtiniz! Lütfen yeniden seçim yapın.\")"
   ]
  },
  {
   "cell_type": "markdown",
   "id": "37a0c367",
   "metadata": {},
   "source": [
    "<hr>\n",
    "<p style=\"text-align:center;font-size:12px\">\n",
    "<b>Öğr. Gör. Zeki ÇIPLAK</b><br>\n",
    "İstanbul Gedik Üniversitesi<br>\n",
    "Gedik MYO / Bilgisayar Programcılığı<br>\n",
    "<a href=\"https://linkedin.com/in/zkcplk\">LinkedIn</a> \n",
    "<a href=\"https://zkcplk.medium.com\">Blog</a> \n",
    "<a href=\"https://youtube.com/@zkcplk\">YouTube</a> \n",
    "</p>"
   ]
  }
 ],
 "metadata": {
  "kernelspec": {
   "display_name": "Python 3 (ipykernel)",
   "language": "python",
   "name": "python3"
  },
  "language_info": {
   "codemirror_mode": {
    "name": "ipython",
    "version": 3
   },
   "file_extension": ".py",
   "mimetype": "text/x-python",
   "name": "python",
   "nbconvert_exporter": "python",
   "pygments_lexer": "ipython3",
   "version": "3.9.13"
  }
 },
 "nbformat": 4,
 "nbformat_minor": 5
}
