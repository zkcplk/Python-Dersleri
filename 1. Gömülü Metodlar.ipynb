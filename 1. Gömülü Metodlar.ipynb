{
 "cells": [
  {
   "cell_type": "markdown",
   "id": "0453e45d",
   "metadata": {},
   "source": [
    "# GÖMÜLÜ METODLAR (Built-in Methods)\n",
    "Tüm veri türlerinin tüm metotlarına değinilmemiştir. Sadece en çok kullanılan metotlar açıklanmıştır.\n",
    "\n",
    "## 1. String (*str*) Metodları"
   ]
  },
  {
   "cell_type": "markdown",
   "id": "8fc1a6f8",
   "metadata": {},
   "source": [
    "### .capitalize()\n",
    "İlk harfi büyüten ve diğer harfleri küçülten metottur."
   ]
  },
  {
   "cell_type": "code",
   "execution_count": 1,
   "id": "7953d55e",
   "metadata": {},
   "outputs": [
    {
     "data": {
      "text/plain": [
       "'Test'"
      ]
     },
     "execution_count": 1,
     "metadata": {},
     "output_type": "execute_result"
    }
   ],
   "source": [
    "\"tEST\".capitalize()"
   ]
  },
  {
   "cell_type": "markdown",
   "id": "e08db4a9",
   "metadata": {},
   "source": [
    "###  .lower()\n",
    "Tüm harfleri küçültür."
   ]
  },
  {
   "cell_type": "code",
   "execution_count": 2,
   "id": "18260164",
   "metadata": {},
   "outputs": [
    {
     "data": {
      "text/plain": [
       "'test'"
      ]
     },
     "execution_count": 2,
     "metadata": {},
     "output_type": "execute_result"
    }
   ],
   "source": [
    "\"TEST\".lower()"
   ]
  },
  {
   "cell_type": "markdown",
   "id": "65d215b4",
   "metadata": {},
   "source": [
    "### .count(\"aranan\", start, end)\n",
    "Aranan'ın text içerisinde kaç defa geçtiğini bulur. *start* ve *end* parametreleri ile text'in sadece belli bir bölgesinde arama yapılabilir."
   ]
  },
  {
   "cell_type": "code",
   "execution_count": 3,
   "id": "ec1aa2f1",
   "metadata": {},
   "outputs": [
    {
     "data": {
      "text/plain": [
       "1"
      ]
     },
     "execution_count": 3,
     "metadata": {},
     "output_type": "execute_result"
    }
   ],
   "source": [
    "text = \"Ankara\"\n",
    "text.count(\"n\")"
   ]
  },
  {
   "cell_type": "code",
   "execution_count": 4,
   "id": "46f912e6",
   "metadata": {},
   "outputs": [
    {
     "data": {
      "text/plain": [
       "2"
      ]
     },
     "execution_count": 4,
     "metadata": {},
     "output_type": "execute_result"
    }
   ],
   "source": [
    "text.count(\"a\")"
   ]
  },
  {
   "cell_type": "code",
   "execution_count": 5,
   "id": "80588673",
   "metadata": {},
   "outputs": [
    {
     "data": {
      "text/plain": [
       "1"
      ]
     },
     "execution_count": 5,
     "metadata": {},
     "output_type": "execute_result"
    }
   ],
   "source": [
    "text.count(\"k\", 1, 4)  #  text[1:4]"
   ]
  },
  {
   "cell_type": "markdown",
   "id": "462dab18",
   "metadata": {},
   "source": [
    "### .startswith(\"aranan\", start, end) \n",
    "String ifadenin baş kısmı aranan ile başlarsa, sonucu *True* döner."
   ]
  },
  {
   "cell_type": "code",
   "execution_count": 6,
   "id": "31cf4fff",
   "metadata": {},
   "outputs": [],
   "source": [
    "text = \"Gedik Üniversitesi\""
   ]
  },
  {
   "cell_type": "code",
   "execution_count": 7,
   "id": "918ec8ed",
   "metadata": {},
   "outputs": [
    {
     "data": {
      "text/plain": [
       "False"
      ]
     },
     "execution_count": 7,
     "metadata": {},
     "output_type": "execute_result"
    }
   ],
   "source": [
    "text.startswith(\"g\")"
   ]
  },
  {
   "cell_type": "code",
   "execution_count": 8,
   "id": "beb429b7",
   "metadata": {},
   "outputs": [
    {
     "data": {
      "text/plain": [
       "True"
      ]
     },
     "execution_count": 8,
     "metadata": {},
     "output_type": "execute_result"
    }
   ],
   "source": [
    "text.startswith(\"G\")"
   ]
  },
  {
   "cell_type": "markdown",
   "id": "a4067c7f",
   "metadata": {},
   "source": [
    "### .endswith(\"aranan\", start, end) \n",
    "String ifadenin son kısmı aranan ile biterse, sonucu *True* döner."
   ]
  },
  {
   "cell_type": "code",
   "execution_count": 9,
   "id": "d871896b",
   "metadata": {},
   "outputs": [],
   "source": [
    "text = \"Gedik Üniversitesi\""
   ]
  },
  {
   "cell_type": "code",
   "execution_count": 10,
   "id": "5ed27367",
   "metadata": {},
   "outputs": [
    {
     "data": {
      "text/plain": [
       "True"
      ]
     },
     "execution_count": 10,
     "metadata": {},
     "output_type": "execute_result"
    }
   ],
   "source": [
    "text.endswith(\"sitesi\")"
   ]
  },
  {
   "cell_type": "markdown",
   "id": "324e92b1",
   "metadata": {},
   "source": [
    "### .find(\"aranan\", start, end)\n",
    "String ifade içinde aranan'ın konumunu bulur. Bulamazsa sonucu *-1* döndürür."
   ]
  },
  {
   "cell_type": "code",
   "execution_count": 11,
   "id": "72e9fdd1",
   "metadata": {},
   "outputs": [
    {
     "data": {
      "text/plain": [
       "11"
      ]
     },
     "execution_count": 11,
     "metadata": {},
     "output_type": "execute_result"
    }
   ],
   "source": [
    "\"Bilgisayar Programcılığı\".find(\"Program\") # Program kelimesinin string ifadede başladığı yeri gösterir."
   ]
  },
  {
   "cell_type": "markdown",
   "id": "a6125e5c",
   "metadata": {},
   "source": [
    "### .index(\"aranan\", start, end)\n",
    "String ifade içinde aranan'ın konumunu bulur. Bulamazsa hata meydana gelir!"
   ]
  },
  {
   "cell_type": "code",
   "execution_count": 12,
   "id": "16767988",
   "metadata": {},
   "outputs": [
    {
     "ename": "ValueError",
     "evalue": "substring not found",
     "output_type": "error",
     "traceback": [
      "\u001b[1;31m---------------------------------------------------------------------------\u001b[0m",
      "\u001b[1;31mValueError\u001b[0m                                Traceback (most recent call last)",
      "\u001b[1;32m~\\AppData\\Local\\Temp\\ipykernel_13248\\2132170781.py\u001b[0m in \u001b[0;36m<module>\u001b[1;34m\u001b[0m\n\u001b[1;32m----> 1\u001b[1;33m \u001b[1;34m\"Gedik Üniversitesi\"\u001b[0m\u001b[1;33m.\u001b[0m\u001b[0mindex\u001b[0m\u001b[1;33m(\u001b[0m\u001b[1;34m\"Program\"\u001b[0m\u001b[1;33m)\u001b[0m \u001b[1;31m# hata mesajı oluşsun istiyorsak bunu, istemiyorsak .find() metodunu kullanabiliriz.\u001b[0m\u001b[1;33m\u001b[0m\u001b[1;33m\u001b[0m\u001b[0m\n\u001b[0m",
      "\u001b[1;31mValueError\u001b[0m: substring not found"
     ]
    }
   ],
   "source": [
    "\"Gedik Üniversitesi\".index(\"Program\") # hata mesajı oluşsun istiyorsak bunu, istemiyorsak .find() metodunu kullanabiliriz."
   ]
  },
  {
   "cell_type": "markdown",
   "id": "b492ded9",
   "metadata": {},
   "source": [
    "Hata mesajı oluşursa, program hatanın oluştuğu satırda durur. Sonraki satırlar çalıştırılmaz."
   ]
  },
  {
   "cell_type": "markdown",
   "id": "6dc6734e",
   "metadata": {},
   "source": [
    "### .islower()\n",
    "String ifade içindeki tüm harfler küçük harf ise *True* sonucunu döndürür."
   ]
  },
  {
   "cell_type": "code",
   "execution_count": 13,
   "id": "14a9f1c9",
   "metadata": {},
   "outputs": [
    {
     "data": {
      "text/plain": [
       "True"
      ]
     },
     "execution_count": 13,
     "metadata": {},
     "output_type": "execute_result"
    }
   ],
   "source": [
    "\"hepsi küçük harf\".islower()"
   ]
  },
  {
   "cell_type": "code",
   "execution_count": 15,
   "id": "6721e8e6",
   "metadata": {},
   "outputs": [
    {
     "data": {
      "text/plain": [
       "False"
      ]
     },
     "execution_count": 15,
     "metadata": {},
     "output_type": "execute_result"
    }
   ],
   "source": [
    "\"Deneme\".islower()"
   ]
  },
  {
   "cell_type": "markdown",
   "id": "3c4dcd4f",
   "metadata": {},
   "source": [
    "### .isupper() \n",
    "String ifade içindeki tüm harfler büyük harf ise *True* sonucunu döndürür."
   ]
  },
  {
   "cell_type": "code",
   "execution_count": 16,
   "id": "e038818b",
   "metadata": {},
   "outputs": [
    {
     "data": {
      "text/plain": [
       "True"
      ]
     },
     "execution_count": 16,
     "metadata": {},
     "output_type": "execute_result"
    }
   ],
   "source": [
    "\"DENEME\".isupper()"
   ]
  },
  {
   "cell_type": "markdown",
   "id": "eda78818",
   "metadata": {},
   "source": [
    "### .isnumeric()\n",
    "String ifade içindeki tüm karakterler rakam ise *True* sonucunu döndürür."
   ]
  },
  {
   "cell_type": "code",
   "execution_count": 17,
   "id": "a213d66d",
   "metadata": {},
   "outputs": [
    {
     "data": {
      "text/plain": [
       "True"
      ]
     },
     "execution_count": 17,
     "metadata": {},
     "output_type": "execute_result"
    }
   ],
   "source": [
    "\"2023\".isnumeric()"
   ]
  },
  {
   "cell_type": "code",
   "execution_count": 18,
   "id": "43cc5764",
   "metadata": {},
   "outputs": [
    {
     "data": {
      "text/plain": [
       "False"
      ]
     },
     "execution_count": 18,
     "metadata": {},
     "output_type": "execute_result"
    }
   ],
   "source": [
    "\"3.14\".isnumeric()"
   ]
  },
  {
   "cell_type": "markdown",
   "id": "12b8f227",
   "metadata": {},
   "source": [
    "### .replace(\"eski\", \"yeni\")\n",
    "Belirli karakterleri, farklı karakterlerle değiştirmek için kullanılır."
   ]
  },
  {
   "cell_type": "code",
   "execution_count": 19,
   "id": "a5bfed7c",
   "metadata": {},
   "outputs": [
    {
     "data": {
      "text/plain": [
       "'İstanbul'"
      ]
     },
     "execution_count": 19,
     "metadata": {},
     "output_type": "execute_result"
    }
   ],
   "source": [
    "\"istanbul\".replace(\"i\",\"İ\")"
   ]
  },
  {
   "cell_type": "markdown",
   "id": "2e6a5473",
   "metadata": {},
   "source": [
    "### .split()\n",
    "String ifadeyi belirli bir karaktere göre parçalar ve bir liste döndürür."
   ]
  },
  {
   "cell_type": "code",
   "execution_count": 20,
   "id": "2cfe74fa",
   "metadata": {},
   "outputs": [],
   "source": [
    "text=\"İstanbul Gedik Üniversitesi, Bilgisayar Programcılığı\""
   ]
  },
  {
   "cell_type": "code",
   "execution_count": 21,
   "id": "97ddb205",
   "metadata": {},
   "outputs": [
    {
     "data": {
      "text/plain": [
       "['İstanbul', 'Gedik', 'Üniversitesi,', 'Bilgisayar', 'Programcılığı']"
      ]
     },
     "execution_count": 21,
     "metadata": {},
     "output_type": "execute_result"
    }
   ],
   "source": [
    "text.split() # argüman kullanmazsak, varsayılan olarak boşluğa göre parçalama yapar."
   ]
  },
  {
   "cell_type": "code",
   "execution_count": 22,
   "id": "7273a34c",
   "metadata": {},
   "outputs": [
    {
     "data": {
      "text/plain": [
       "['İstanbul Gedik Üniversitesi', ' Bilgisayar Programcılığı']"
      ]
     },
     "execution_count": 22,
     "metadata": {},
     "output_type": "execute_result"
    }
   ],
   "source": [
    "text.split(\",\")"
   ]
  },
  {
   "cell_type": "code",
   "execution_count": 23,
   "id": "53dbce2f",
   "metadata": {},
   "outputs": [
    {
     "data": {
      "text/plain": [
       "['',\n",
       " 'string ifadedeki',\n",
       " 'her bir satırı',\n",
       " 'ayrı bir',\n",
       " 'liste elemanı olarak ',\n",
       " 'nasıl döndürürüz?',\n",
       " '']"
      ]
     },
     "execution_count": 23,
     "metadata": {},
     "output_type": "execute_result"
    }
   ],
   "source": [
    "text = \"\"\"\n",
    "string ifadedeki\n",
    "her bir satırı\n",
    "ayrı bir\n",
    "liste elemanı olarak \n",
    "nasıl döndürürüz?\n",
    "\"\"\"\n",
    "\n",
    "text.split(\"\\n\")"
   ]
  },
  {
   "cell_type": "markdown",
   "id": "b14db36a",
   "metadata": {},
   "source": [
    "### .strip()\n",
    "String ifadenin sağ ve sol kısımlarında bulunan WhiteSpace karakterleri siler."
   ]
  },
  {
   "cell_type": "code",
   "execution_count": 24,
   "id": "cfcd85f4",
   "metadata": {},
   "outputs": [
    {
     "data": {
      "text/plain": [
       "'test'"
      ]
     },
     "execution_count": 24,
     "metadata": {},
     "output_type": "execute_result"
    }
   ],
   "source": [
    "text= \"\"\"      \n",
    "        test   \n",
    "              \"\"\"\n",
    "\n",
    "text.strip()  # hem boşluklar, hem de newline karakterler, hem de tab karakteri silindi."
   ]
  },
  {
   "cell_type": "markdown",
   "id": "80ac9a50",
   "metadata": {},
   "source": [
    "**.strip()** metodu özel olarak, *.lstrip()* ve *.rstrip()* şeklinde de kullanılabilir. Bu metodlar, sadece sağdan ve sadece soldan aynı işlemi gerçekleştirirler."
   ]
  },
  {
   "cell_type": "code",
   "execution_count": 25,
   "id": "14a4f2f1",
   "metadata": {},
   "outputs": [
    {
     "data": {
      "text/plain": [
       "'test    '"
      ]
     },
     "execution_count": 25,
     "metadata": {},
     "output_type": "execute_result"
    }
   ],
   "source": [
    "\"    test    \".lstrip()   # left"
   ]
  },
  {
   "cell_type": "code",
   "execution_count": 26,
   "id": "39f857a6",
   "metadata": {},
   "outputs": [
    {
     "data": {
      "text/plain": [
       "'    test'"
      ]
     },
     "execution_count": 26,
     "metadata": {},
     "output_type": "execute_result"
    }
   ],
   "source": [
    "\"    test    \".rstrip()   # right"
   ]
  },
  {
   "cell_type": "markdown",
   "id": "9fd97eb2",
   "metadata": {},
   "source": [
    "## 2. Liste (*list*) Metodları"
   ]
  },
  {
   "cell_type": "code",
   "execution_count": 27,
   "id": "4675cce6",
   "metadata": {},
   "outputs": [],
   "source": [
    "liste = [10, 11, 12, \"Python\"]"
   ]
  },
  {
   "cell_type": "markdown",
   "id": "a91fa32e",
   "metadata": {},
   "source": [
    "### .index(aranan)\n",
    "Aranan elemanın, listede varsa ilk *indisini* döndürür. Listede yoksa hata meydana gelir."
   ]
  },
  {
   "cell_type": "code",
   "execution_count": 28,
   "id": "953c9dd7",
   "metadata": {},
   "outputs": [
    {
     "data": {
      "text/plain": [
       "2"
      ]
     },
     "execution_count": 28,
     "metadata": {},
     "output_type": "execute_result"
    }
   ],
   "source": [
    "liste.index(12)"
   ]
  },
  {
   "cell_type": "markdown",
   "id": "a69725b3",
   "metadata": {},
   "source": [
    "### .append(eklenen)\n",
    "Mevcut *listenin sonuna* yeni bir eleman ekler."
   ]
  },
  {
   "cell_type": "code",
   "execution_count": 29,
   "id": "865135ef",
   "metadata": {},
   "outputs": [
    {
     "data": {
      "text/plain": [
       "[10, 11, 12, 'Python', 'Java']"
      ]
     },
     "execution_count": 29,
     "metadata": {},
     "output_type": "execute_result"
    }
   ],
   "source": [
    "liste.append(\"Java\")\n",
    "\n",
    "liste"
   ]
  },
  {
   "cell_type": "markdown",
   "id": "41d881aa",
   "metadata": {},
   "source": [
    "**.append()** metodu ile eklenecek eleman her veri türünde olabilir."
   ]
  },
  {
   "cell_type": "code",
   "execution_count": 30,
   "id": "c04f9cd1",
   "metadata": {},
   "outputs": [],
   "source": [
    "liste.append([4,5,6])"
   ]
  },
  {
   "cell_type": "code",
   "execution_count": 31,
   "id": "e09a6349",
   "metadata": {},
   "outputs": [],
   "source": [
    "liste.append(True)"
   ]
  },
  {
   "cell_type": "code",
   "execution_count": 32,
   "id": "ae60c534",
   "metadata": {},
   "outputs": [],
   "source": [
    "liste.append({\"id\":100, \"ad\":\"ali\", \"soyadı\":\"aydın\"})"
   ]
  },
  {
   "cell_type": "code",
   "execution_count": 33,
   "id": "a45f2e22",
   "metadata": {},
   "outputs": [
    {
     "data": {
      "text/plain": [
       "[10,\n",
       " 11,\n",
       " 12,\n",
       " 'Python',\n",
       " 'Java',\n",
       " [4, 5, 6],\n",
       " True,\n",
       " {'id': 100, 'ad': 'ali', 'soyadı': 'aydın'}]"
      ]
     },
     "execution_count": 33,
     "metadata": {},
     "output_type": "execute_result"
    }
   ],
   "source": [
    "liste"
   ]
  },
  {
   "cell_type": "markdown",
   "id": "2916680b",
   "metadata": {},
   "source": [
    "### .extend(eklenen)\n",
    "Mevcut listeye eklenen yeni bir *liste **/** tuple **/** set* varsa, onun tüm elamanlarını mevcut listeye tek tek ekler."
   ]
  },
  {
   "cell_type": "code",
   "execution_count": 34,
   "id": "e114b272",
   "metadata": {},
   "outputs": [
    {
     "data": {
      "text/plain": [
       "[10, 11, 12, 'Python']"
      ]
     },
     "execution_count": 34,
     "metadata": {},
     "output_type": "execute_result"
    }
   ],
   "source": [
    "liste = [10, 11, 12, \"Python\"]\n",
    "liste"
   ]
  },
  {
   "cell_type": "code",
   "execution_count": 35,
   "id": "68085e77",
   "metadata": {},
   "outputs": [
    {
     "data": {
      "text/plain": [
       "[10, 11, 12, 'Python', [1, 2, 3]]"
      ]
     },
     "execution_count": 35,
     "metadata": {},
     "output_type": "execute_result"
    }
   ],
   "source": [
    "liste.append([1,2,3])\n",
    "liste"
   ]
  },
  {
   "cell_type": "code",
   "execution_count": 36,
   "id": "14859510",
   "metadata": {},
   "outputs": [
    {
     "data": {
      "text/plain": [
       "[10, 11, 12, 'Python', [1, 2, 3], 1, 2, 3]"
      ]
     },
     "execution_count": 36,
     "metadata": {},
     "output_type": "execute_result"
    }
   ],
   "source": [
    "liste.extend([1,2,3])\n",
    "liste"
   ]
  },
  {
   "cell_type": "code",
   "execution_count": 37,
   "id": "76caa86c",
   "metadata": {},
   "outputs": [
    {
     "data": {
      "text/plain": [
       "[10, 11, 12, 'Python', [1, 2, 3], 1, 2, 3, 4, 5, 6]"
      ]
     },
     "execution_count": 37,
     "metadata": {},
     "output_type": "execute_result"
    }
   ],
   "source": [
    "liste.extend((4,5,6))\n",
    "liste"
   ]
  },
  {
   "cell_type": "markdown",
   "id": "bd8931b6",
   "metadata": {},
   "source": [
    "### .insert(eklenen, konum)\n",
    "Listede belli bir indise ekleme yapabilmek için kullanılır."
   ]
  },
  {
   "cell_type": "code",
   "execution_count": 38,
   "id": "ab45d879",
   "metadata": {},
   "outputs": [],
   "source": [
    "liste = [10, 11, 12, \"Python\"]"
   ]
  },
  {
   "cell_type": "code",
   "execution_count": 39,
   "id": "e9d502d0",
   "metadata": {},
   "outputs": [
    {
     "data": {
      "text/plain": [
       "[10, 11, 'ikinci indise eklenecek', 12, 'Python']"
      ]
     },
     "execution_count": 39,
     "metadata": {},
     "output_type": "execute_result"
    }
   ],
   "source": [
    "liste.insert(2, \"ikinci indise eklenecek\") # ekleme yapınca, listedeki diğer elemanların indisleri birer kaydırılmış olur.\n",
    "liste"
   ]
  },
  {
   "cell_type": "code",
   "execution_count": 40,
   "id": "cd08deb6",
   "metadata": {},
   "outputs": [
    {
     "data": {
      "text/plain": [
       "[3.14, 10, 11, 'ikinci indise eklenecek', 12, 'Python']"
      ]
     },
     "execution_count": 40,
     "metadata": {},
     "output_type": "execute_result"
    }
   ],
   "source": [
    "liste.insert(0, 3.14)  \n",
    "liste"
   ]
  },
  {
   "cell_type": "markdown",
   "id": "0a98a79b",
   "metadata": {},
   "source": [
    "### .pop(konum)\n",
    "Listeden eleman çıkartma işlemleri için kullanılan metottur. **Konum belirtilmezse**, son elemanı listeden çıkartır ve çıkartılan elemanı sonuç olarak döndürür. **Konum belirtilirse**, o konuma sahip indisli elemanı listeden çıkartır ve çıkartılan elemanı sonuç olarak döndürür."
   ]
  },
  {
   "cell_type": "code",
   "execution_count": 41,
   "id": "0e4ec655",
   "metadata": {},
   "outputs": [
    {
     "data": {
      "text/plain": [
       "[12, 34, 45, 56, 67]"
      ]
     },
     "execution_count": 41,
     "metadata": {},
     "output_type": "execute_result"
    }
   ],
   "source": [
    "liste = [12, 34, 45, 56, 67]\n",
    "liste"
   ]
  },
  {
   "cell_type": "code",
   "execution_count": 42,
   "id": "787ec899",
   "metadata": {},
   "outputs": [
    {
     "name": "stdout",
     "output_type": "stream",
     "text": [
      "Çıkartılan eleman: 67\n",
      "Listenin son hali: [12, 34, 45, 56]\n"
     ]
    }
   ],
   "source": [
    "son = liste.pop() # konum belirtilmediği için son eleman listeden çıkartılır.\n",
    "\n",
    "print(\"Çıkartılan eleman:\", son)\n",
    "print(\"Listenin son hali:\", liste)"
   ]
  },
  {
   "cell_type": "code",
   "execution_count": 43,
   "id": "6db1b5f6",
   "metadata": {},
   "outputs": [
    {
     "name": "stdout",
     "output_type": "stream",
     "text": [
      "Çıkartılan eleman: 45\n",
      "Listenin son hali: [12, 34, 56]\n"
     ]
    }
   ],
   "source": [
    "eleman = liste.pop(2) # konum belirtilmiştir ve indisi 2 olan eleman listeden çıkartılır.\n",
    "\n",
    "print(\"Çıkartılan eleman:\", eleman)\n",
    "print(\"Listenin son hali:\", liste)"
   ]
  },
  {
   "cell_type": "markdown",
   "id": "8acaae43",
   "metadata": {},
   "source": [
    "### .remove(aranan)\n",
    "Listedeki aranan'lardan ilkini çıkartır."
   ]
  },
  {
   "cell_type": "code",
   "execution_count": 44,
   "id": "d9d8e18b",
   "metadata": {},
   "outputs": [],
   "source": [
    "liste = [\"Python\",\"Java\",\"C++\",\"Dart\",\"JavaScript\",\"Java\",\"PHP\"]"
   ]
  },
  {
   "cell_type": "code",
   "execution_count": 45,
   "id": "7c840015",
   "metadata": {},
   "outputs": [
    {
     "data": {
      "text/plain": [
       "['Python', 'C++', 'Dart', 'JavaScript', 'Java', 'PHP']"
      ]
     },
     "execution_count": 45,
     "metadata": {},
     "output_type": "execute_result"
    }
   ],
   "source": [
    "liste.remove(\"Java\") # üstte oluşturulan listede indisi 1 olan \"Java\" elemanını çıkartır.\n",
    "\n",
    "liste"
   ]
  },
  {
   "cell_type": "code",
   "execution_count": 46,
   "id": "cc15a935",
   "metadata": {},
   "outputs": [],
   "source": [
    "liste = [1,2,3,2,2,2,2,4,5]"
   ]
  },
  {
   "cell_type": "code",
   "execution_count": 47,
   "id": "2f173dc4",
   "metadata": {},
   "outputs": [
    {
     "data": {
      "text/plain": [
       "[1, 3, 2, 2, 2, 2, 4, 5]"
      ]
     },
     "execution_count": 47,
     "metadata": {},
     "output_type": "execute_result"
    }
   ],
   "source": [
    "liste.remove(2)  # listedeki ilk 2 elemanı listeden çıkartılır.\n",
    "\n",
    "liste"
   ]
  },
  {
   "cell_type": "markdown",
   "id": "714879ae",
   "metadata": {},
   "source": [
    "### .count(aranan)\n",
    "Listede aranan elemandan kaç tane olduğu bilgisini döndürür."
   ]
  },
  {
   "cell_type": "code",
   "execution_count": 48,
   "id": "b550309d",
   "metadata": {},
   "outputs": [],
   "source": [
    "liste = [\"Python\",\"Java\",\"C++\",\"Dart\",\"JavaScript\",\"Java\",\"PHP\"] # \"Java\" elemanından 2 tane var."
   ]
  },
  {
   "cell_type": "code",
   "execution_count": 49,
   "id": "70572475",
   "metadata": {},
   "outputs": [
    {
     "data": {
      "text/plain": [
       "2"
      ]
     },
     "execution_count": 49,
     "metadata": {},
     "output_type": "execute_result"
    }
   ],
   "source": [
    "liste.count(\"Java\")"
   ]
  },
  {
   "cell_type": "markdown",
   "id": "b3b8855e",
   "metadata": {},
   "source": [
    "### .reverse()\n",
    "Listeyi tersten sıralar. Liste içeriği değiştirilmiş olur."
   ]
  },
  {
   "cell_type": "code",
   "execution_count": 50,
   "id": "79614d1f",
   "metadata": {},
   "outputs": [
    {
     "data": {
      "text/plain": [
       "['PHP', 'Java', 'JavaScript', 'Dart', 'C++', 'Java', 'Python']"
      ]
     },
     "execution_count": 50,
     "metadata": {},
     "output_type": "execute_result"
    }
   ],
   "source": [
    "liste.reverse()\n",
    "liste"
   ]
  },
  {
   "cell_type": "markdown",
   "id": "d5746db5",
   "metadata": {},
   "source": [
    "### .sort(key, reverse)\n",
    "Listeyi nümerik ve alfabetik olarak sıralar. Hiçbir parametre girilmezse, küçükten büyüğe sıralama yapılır."
   ]
  },
  {
   "cell_type": "code",
   "execution_count": 51,
   "id": "b449405a",
   "metadata": {},
   "outputs": [
    {
     "data": {
      "text/plain": [
       "[15, 28, 37, 43, 51, 69]"
      ]
     },
     "execution_count": 51,
     "metadata": {},
     "output_type": "execute_result"
    }
   ],
   "source": [
    "liste = [43, 15, 37, 69, 51, 28]\n",
    "\n",
    "liste.sort()\n",
    "\n",
    "liste"
   ]
  },
  {
   "cell_type": "code",
   "execution_count": 52,
   "id": "4c1d9605",
   "metadata": {},
   "outputs": [
    {
     "data": {
      "text/plain": [
       "[69, 51, 43, 37, 28, 15]"
      ]
     },
     "execution_count": 52,
     "metadata": {},
     "output_type": "execute_result"
    }
   ],
   "source": [
    "liste.sort(reverse=True) # büyükten küçüğe sıralama yapar.\n",
    "\n",
    "liste"
   ]
  },
  {
   "cell_type": "markdown",
   "id": "98871939",
   "metadata": {},
   "source": [
    "**.sort()** metodunda *key* parametresi ile sıralama işlemine belirli bir şart koyabiliriz. Böylece sıralama işlemi belirlediğimiz şarta göre gerçekleşecektir."
   ]
  },
  {
   "cell_type": "code",
   "execution_count": 53,
   "id": "7885f970",
   "metadata": {},
   "outputs": [
    {
     "data": {
      "text/plain": [
       "['C++', 'Dart', 'Java', 'Java', 'JavaScript', 'PHP', 'Python']"
      ]
     },
     "execution_count": 53,
     "metadata": {},
     "output_type": "execute_result"
    }
   ],
   "source": [
    "liste = [\"Python\",\"Java\",\"C++\",\"Dart\",\"JavaScript\",\"Java\",\"PHP\"]\n",
    "liste.sort() # alfabetik sıralama \n",
    "liste"
   ]
  },
  {
   "cell_type": "code",
   "execution_count": 54,
   "id": "d19806d9",
   "metadata": {},
   "outputs": [
    {
     "data": {
      "text/plain": [
       "['Python', 'PHP', 'JavaScript', 'Java', 'Java', 'Dart', 'C++']"
      ]
     },
     "execution_count": 54,
     "metadata": {},
     "output_type": "execute_result"
    }
   ],
   "source": [
    "liste.sort(reverse=True) # ters alfabetik sıralama\n",
    "liste"
   ]
  },
  {
   "cell_type": "code",
   "execution_count": 55,
   "id": "237ee610",
   "metadata": {},
   "outputs": [],
   "source": [
    "def harf_sayisi(n):\n",
    "    return len(n) "
   ]
  },
  {
   "cell_type": "code",
   "execution_count": 56,
   "id": "65fcb3fa",
   "metadata": {},
   "outputs": [
    {
     "data": {
      "text/plain": [
       "['PHP', 'C++', 'Java', 'Java', 'Dart', 'Python', 'JavaScript']"
      ]
     },
     "execution_count": 56,
     "metadata": {},
     "output_type": "execute_result"
    }
   ],
   "source": [
    "liste.sort(key=harf_sayisi) # harf sayısı az olandan, harf sayısı çok olana sıralama yapar.\n",
    "liste"
   ]
  },
  {
   "cell_type": "code",
   "execution_count": 57,
   "id": "253487ab",
   "metadata": {},
   "outputs": [
    {
     "data": {
      "text/plain": [
       "['JavaScript', 'Python', 'Java', 'Java', 'Dart', 'PHP', 'C++']"
      ]
     },
     "execution_count": 57,
     "metadata": {},
     "output_type": "execute_result"
    }
   ],
   "source": [
    "liste.sort(key=harf_sayisi, reverse=True) # harf sayısı çok olandan, harf sayısı az olana sıralama yapar.\n",
    "liste"
   ]
  },
  {
   "cell_type": "markdown",
   "id": "495c14d3",
   "metadata": {},
   "source": [
    "<hr>"
   ]
  },
  {
   "cell_type": "markdown",
   "id": "40a64cc3",
   "metadata": {},
   "source": [
    "<span style=\"color:red\">**SORU:**</span> Aşağıda verilen sayıları; **tek olanlar önce, çift olanlar sonra** sıralanacak şekilde, yeniden sıralayan Python kodunu, listelerde bulunan *.sort()* metodunu kullanarak yazınız. Çözümünüzü https://www.online-python.com/ sitesi üzerinden *Share* butonuna basarak, online ders sohbet alanına gönderebilirsiniz.\n",
    "\n",
    "**11, 22, 33, 44, 55**"
   ]
  },
  {
   "cell_type": "code",
   "execution_count": 58,
   "id": "77014db9",
   "metadata": {},
   "outputs": [],
   "source": [
    "def sart(n):\n",
    "    if n % 2 == 0: return 1\n",
    "    else: return 0"
   ]
  },
  {
   "cell_type": "code",
   "execution_count": 59,
   "id": "1e701989",
   "metadata": {},
   "outputs": [
    {
     "data": {
      "text/plain": [
       "[11, 33, 55, 22, 44]"
      ]
     },
     "execution_count": 59,
     "metadata": {},
     "output_type": "execute_result"
    }
   ],
   "source": [
    "sayilar = [11, 22, 33, 44, 55]\n",
    "sayilar.sort(key=sart)\n",
    "sayilar"
   ]
  },
  {
   "cell_type": "markdown",
   "id": "58ed7733",
   "metadata": {},
   "source": [
    "<hr>"
   ]
  },
  {
   "cell_type": "markdown",
   "id": "d05f7077",
   "metadata": {},
   "source": [
    "### .clear()\n",
    "Listeyi boşaltır, tüm elemanları siler."
   ]
  },
  {
   "cell_type": "code",
   "execution_count": 60,
   "id": "ff174a71",
   "metadata": {},
   "outputs": [
    {
     "data": {
      "text/plain": [
       "[11, 33, 55, 22, 44]"
      ]
     },
     "execution_count": 60,
     "metadata": {},
     "output_type": "execute_result"
    }
   ],
   "source": [
    "sayilar"
   ]
  },
  {
   "cell_type": "code",
   "execution_count": 61,
   "id": "faddd6da",
   "metadata": {},
   "outputs": [
    {
     "data": {
      "text/plain": [
       "[]"
      ]
     },
     "execution_count": 61,
     "metadata": {},
     "output_type": "execute_result"
    }
   ],
   "source": [
    "sayilar.clear()\n",
    "sayilar"
   ]
  },
  {
   "cell_type": "markdown",
   "id": "4515ccbb",
   "metadata": {},
   "source": [
    "## 3. Demet (*tuple*) Metodları\n",
    "Sadece iki adettir."
   ]
  },
  {
   "cell_type": "code",
   "execution_count": 62,
   "id": "112efbd5",
   "metadata": {},
   "outputs": [],
   "source": [
    "isimler = (\"emre\", \"kemal\", \"burcu\", \"emre\", \"şebnem\", \"ayşe\")"
   ]
  },
  {
   "cell_type": "markdown",
   "id": "e845abb1",
   "metadata": {},
   "source": [
    "### .count(eleman)\n",
    "Belli bir elemandan demet içerisinde kaç adet olduğu bilgisini döndürür."
   ]
  },
  {
   "cell_type": "code",
   "execution_count": 63,
   "id": "c58a570d",
   "metadata": {},
   "outputs": [
    {
     "data": {
      "text/plain": [
       "2"
      ]
     },
     "execution_count": 63,
     "metadata": {},
     "output_type": "execute_result"
    }
   ],
   "source": [
    "isimler.count(\"emre\")"
   ]
  },
  {
   "cell_type": "code",
   "execution_count": 64,
   "id": "951cbe81",
   "metadata": {},
   "outputs": [
    {
     "data": {
      "text/plain": [
       "1"
      ]
     },
     "execution_count": 64,
     "metadata": {},
     "output_type": "execute_result"
    }
   ],
   "source": [
    "isimler.count(\"burcu\")"
   ]
  },
  {
   "cell_type": "markdown",
   "id": "5c95c888",
   "metadata": {},
   "source": [
    "### .index(aranan, start, end)\n",
    "Aranan elemanın, demet içerisinde *kaçıncı indiste* olduğu bilgisini döndürür. Aranan eleman bulunamazsa, hata meydana gelir. *start* ve *end* parametreleri de, demette belli bir bölgede arama yapmak için kullanılabilir."
   ]
  },
  {
   "cell_type": "code",
   "execution_count": 65,
   "id": "1fd9a891",
   "metadata": {},
   "outputs": [
    {
     "data": {
      "text/plain": [
       "4"
      ]
     },
     "execution_count": 65,
     "metadata": {},
     "output_type": "execute_result"
    }
   ],
   "source": [
    "isimler.index(\"şebnem\")"
   ]
  },
  {
   "cell_type": "code",
   "execution_count": 66,
   "id": "6d9e23df",
   "metadata": {},
   "outputs": [
    {
     "ename": "ValueError",
     "evalue": "tuple.index(x): x not in tuple",
     "output_type": "error",
     "traceback": [
      "\u001b[1;31m---------------------------------------------------------------------------\u001b[0m",
      "\u001b[1;31mValueError\u001b[0m                                Traceback (most recent call last)",
      "\u001b[1;32m~\\AppData\\Local\\Temp\\ipykernel_13248\\397228780.py\u001b[0m in \u001b[0;36m<module>\u001b[1;34m\u001b[0m\n\u001b[1;32m----> 1\u001b[1;33m \u001b[0misimler\u001b[0m\u001b[1;33m.\u001b[0m\u001b[0mindex\u001b[0m\u001b[1;33m(\u001b[0m\u001b[1;34m\"şebnem\"\u001b[0m\u001b[1;33m,\u001b[0m \u001b[1;36m0\u001b[0m\u001b[1;33m,\u001b[0m \u001b[1;36m3\u001b[0m\u001b[1;33m)\u001b[0m\u001b[1;33m\u001b[0m\u001b[1;33m\u001b[0m\u001b[0m\n\u001b[0m",
      "\u001b[1;31mValueError\u001b[0m: tuple.index(x): x not in tuple"
     ]
    }
   ],
   "source": [
    "isimler.index(\"şebnem\", 0, 3)"
   ]
  },
  {
   "cell_type": "markdown",
   "id": "990f2c00",
   "metadata": {},
   "source": [
    "## 4. Küme (*set*) Metodları"
   ]
  },
  {
   "cell_type": "code",
   "execution_count": 67,
   "id": "f1b695df",
   "metadata": {},
   "outputs": [],
   "source": [
    "küme = {1,2,3}"
   ]
  },
  {
   "cell_type": "markdown",
   "id": "0e4fafd5",
   "metadata": {},
   "source": [
    "### .add(eleman)\n",
    "Kümeye yeni eleman ekler. Fakat eklenecek eleman, kümede zaten varsa eklenmez."
   ]
  },
  {
   "cell_type": "code",
   "execution_count": 68,
   "id": "405953c4",
   "metadata": {},
   "outputs": [
    {
     "data": {
      "text/plain": [
       "{1, 2, 3, 4}"
      ]
     },
     "execution_count": 68,
     "metadata": {},
     "output_type": "execute_result"
    }
   ],
   "source": [
    "küme.add(4)\n",
    "küme"
   ]
  },
  {
   "cell_type": "code",
   "execution_count": 69,
   "id": "f6c2393c",
   "metadata": {},
   "outputs": [
    {
     "data": {
      "text/plain": [
       "{1, 2, 3, 4}"
      ]
     },
     "execution_count": 69,
     "metadata": {},
     "output_type": "execute_result"
    }
   ],
   "source": [
    "küme.add(3)\n",
    "küme"
   ]
  },
  {
   "cell_type": "markdown",
   "id": "eeff06f7",
   "metadata": {},
   "source": [
    "### .update(küme)\n",
    "Bir küme ile bir başka kümeyi birleştirir."
   ]
  },
  {
   "cell_type": "code",
   "execution_count": 70,
   "id": "c597f043",
   "metadata": {},
   "outputs": [
    {
     "data": {
      "text/plain": [
       "{1, 2, 3, 4, 5, 6}"
      ]
     },
     "execution_count": 70,
     "metadata": {},
     "output_type": "execute_result"
    }
   ],
   "source": [
    "kume1 = {1,2,3}\n",
    "kume2 = {3,4,5,6}\n",
    "kume1.update(kume2)\n",
    "\n",
    "kume1"
   ]
  },
  {
   "cell_type": "markdown",
   "id": "829d00ba",
   "metadata": {},
   "source": [
    "### .pop()\n",
    "Kümeden herhangi bir elemanı çıkartır. Çıkartılan elemanın kendisini sonuç olarak döndürür."
   ]
  },
  {
   "cell_type": "code",
   "execution_count": 71,
   "id": "b2985723",
   "metadata": {},
   "outputs": [
    {
     "name": "stdout",
     "output_type": "stream",
     "text": [
      "Çıkartılan eleman: 89\n",
      "Kümenin son hali: {67, 45, 33}\n"
     ]
    }
   ],
   "source": [
    "kume = {33, 45, 67, 89}\n",
    "çıkartılan = kume.pop()\n",
    "\n",
    "print(\"Çıkartılan eleman:\", çıkartılan)\n",
    "print(\"Kümenin son hali:\", kume)"
   ]
  },
  {
   "cell_type": "markdown",
   "id": "7ce4898c",
   "metadata": {},
   "source": [
    "### .discard(eleman)\n",
    "Kümeden belirli bir elemanı çıkartmak için kullanılır. Belirtilen eleman kümede yoksa herhangi birşey olmaz."
   ]
  },
  {
   "cell_type": "code",
   "execution_count": 72,
   "id": "71e3e7dd",
   "metadata": {},
   "outputs": [
    {
     "name": "stdout",
     "output_type": "stream",
     "text": [
      "Kümenin son hali: {89, 45, 33}\n"
     ]
    }
   ],
   "source": [
    "kume = {33, 45, 67, 89}\n",
    "kume.discard(67)\n",
    "\n",
    "print(\"Kümenin son hali:\", kume)"
   ]
  },
  {
   "cell_type": "markdown",
   "id": "44d62140",
   "metadata": {},
   "source": [
    "### .remove(eleman)\n",
    "Kümeden belirli bir elemanı çıkartmak için kullanılır. Belirtilen eleman kümede yoksa hata meydana gelir. *.discard()* ile farkı, hata mesajı oluşturmasıdır."
   ]
  },
  {
   "cell_type": "code",
   "execution_count": 73,
   "id": "b31a5cff",
   "metadata": {},
   "outputs": [
    {
     "name": "stdout",
     "output_type": "stream",
     "text": [
      "Kümenin son hali: {89, 67, 33}\n"
     ]
    }
   ],
   "source": [
    "kume = {33, 45, 67, 89}\n",
    "kume.remove(45)\n",
    "\n",
    "print(\"Kümenin son hali:\", kume)"
   ]
  },
  {
   "cell_type": "code",
   "execution_count": 74,
   "id": "943bb007",
   "metadata": {},
   "outputs": [
    {
     "ename": "KeyError",
     "evalue": "100",
     "output_type": "error",
     "traceback": [
      "\u001b[1;31m---------------------------------------------------------------------------\u001b[0m",
      "\u001b[1;31mKeyError\u001b[0m                                  Traceback (most recent call last)",
      "\u001b[1;32m~\\AppData\\Local\\Temp\\ipykernel_13248\\2157656691.py\u001b[0m in \u001b[0;36m<module>\u001b[1;34m\u001b[0m\n\u001b[0;32m      1\u001b[0m \u001b[0mkume\u001b[0m \u001b[1;33m=\u001b[0m \u001b[1;33m{\u001b[0m\u001b[1;36m33\u001b[0m\u001b[1;33m,\u001b[0m \u001b[1;36m45\u001b[0m\u001b[1;33m,\u001b[0m \u001b[1;36m67\u001b[0m\u001b[1;33m,\u001b[0m \u001b[1;36m89\u001b[0m\u001b[1;33m}\u001b[0m\u001b[1;33m\u001b[0m\u001b[1;33m\u001b[0m\u001b[0m\n\u001b[1;32m----> 2\u001b[1;33m \u001b[0mkume\u001b[0m\u001b[1;33m.\u001b[0m\u001b[0mremove\u001b[0m\u001b[1;33m(\u001b[0m\u001b[1;36m100\u001b[0m\u001b[1;33m)\u001b[0m\u001b[1;33m\u001b[0m\u001b[1;33m\u001b[0m\u001b[0m\n\u001b[0m\u001b[0;32m      3\u001b[0m \u001b[1;33m\u001b[0m\u001b[0m\n\u001b[0;32m      4\u001b[0m \u001b[0mprint\u001b[0m\u001b[1;33m(\u001b[0m\u001b[1;34m\"Kümenin son hali:\"\u001b[0m\u001b[1;33m,\u001b[0m \u001b[0mkume\u001b[0m\u001b[1;33m)\u001b[0m\u001b[1;33m\u001b[0m\u001b[1;33m\u001b[0m\u001b[0m\n",
      "\u001b[1;31mKeyError\u001b[0m: 100"
     ]
    }
   ],
   "source": [
    "kume = {33, 45, 67, 89}\n",
    "kume.remove(100)\n",
    "\n",
    "print(\"Kümenin son hali:\", kume)"
   ]
  },
  {
   "cell_type": "markdown",
   "id": "f02ec02e",
   "metadata": {},
   "source": [
    "### .intersection(kume)\n",
    "Bir kümenin diğer başka bir küme ile kesişimini bulur ve yeni bir küme oluşturur."
   ]
  },
  {
   "cell_type": "code",
   "execution_count": 75,
   "id": "649c4f99",
   "metadata": {},
   "outputs": [
    {
     "data": {
      "text/plain": [
       "{34, 69}"
      ]
     },
     "execution_count": 75,
     "metadata": {},
     "output_type": "execute_result"
    }
   ],
   "source": [
    "kume1 = {12, 34, 55, 69, 95}\n",
    "kume2 = {7, 69, 5, 8, 34, 53, 2}\n",
    "\n",
    "yeni = kume1.intersection(kume2)  # bu işlemde kume1 ve kume2 değişmez!\n",
    "yeni"
   ]
  },
  {
   "cell_type": "markdown",
   "id": "346cd424",
   "metadata": {},
   "source": [
    "### .difference(kume)\n",
    "Bür kümenin diğer başka bir kümeden farklı olan elemanlarını bulur ve yeni bir küme oluşturur."
   ]
  },
  {
   "cell_type": "code",
   "execution_count": 76,
   "id": "772eea3b",
   "metadata": {},
   "outputs": [
    {
     "data": {
      "text/plain": [
       "{12, 55, 95}"
      ]
     },
     "execution_count": 76,
     "metadata": {},
     "output_type": "execute_result"
    }
   ],
   "source": [
    "kume1 = {12, 34, 55, 69, 95}\n",
    "kume2 = {7, 69, 5, 8, 34, 53, 2}\n",
    "\n",
    "yeni = kume1.difference(kume2)  # kume1 - kume2 (kume1'in kume2'den farklı olan elemanları)\n",
    "yeni"
   ]
  },
  {
   "cell_type": "code",
   "execution_count": 77,
   "id": "9406797d",
   "metadata": {},
   "outputs": [
    {
     "data": {
      "text/plain": [
       "{2, 5, 7, 8, 53}"
      ]
     },
     "execution_count": 77,
     "metadata": {},
     "output_type": "execute_result"
    }
   ],
   "source": [
    "yeni = kume2.difference(kume1)  # kume2 - kume1  (kume2'nin kume1'den farklı olan elemanları)\n",
    "yeni"
   ]
  },
  {
   "cell_type": "markdown",
   "id": "eeb71f54",
   "metadata": {},
   "source": [
    "### .clear()\n",
    "Kümeyi boşaltır, tüm elemanları siler."
   ]
  },
  {
   "cell_type": "code",
   "execution_count": 78,
   "id": "74b1e582",
   "metadata": {},
   "outputs": [
    {
     "data": {
      "text/plain": [
       "0"
      ]
     },
     "execution_count": 78,
     "metadata": {},
     "output_type": "execute_result"
    }
   ],
   "source": [
    "kume = {33, 45, 67, 89}\n",
    "kume.clear()\n",
    "len(kume)"
   ]
  },
  {
   "cell_type": "markdown",
   "id": "33dda0cc",
   "metadata": {},
   "source": [
    "## 5. Sözlük (*dict*) Metodları"
   ]
  },
  {
   "cell_type": "code",
   "execution_count": 79,
   "id": "21386154",
   "metadata": {},
   "outputs": [
    {
     "data": {
      "text/plain": [
       "{'Adı': 'Adem', 'Soyadı': 'Demir', 'No': 22298371, 'Yer': 'İstanbul'}"
      ]
     },
     "execution_count": 79,
     "metadata": {},
     "output_type": "execute_result"
    }
   ],
   "source": [
    "ogrenci = {\"Adı\":\"Adem\", \"Soyadı\":\"Demir\", \"No\":22298371, \"Yer\":\"İstanbul\"}\n",
    "ogrenci"
   ]
  },
  {
   "cell_type": "markdown",
   "id": "b67ad574",
   "metadata": {},
   "source": [
    "### .items()\n",
    "Sözlükteki her bir **anahtar:değer** ikilisini *tuple* yapan, yeni bir liste döndürür."
   ]
  },
  {
   "cell_type": "code",
   "execution_count": 82,
   "id": "d3bd77f9",
   "metadata": {},
   "outputs": [
    {
     "data": {
      "text/plain": [
       "dict_items([('Adı', 'Adem'), ('Soyadı', 'Demir'), ('No', 22298371), ('Yer', 'İstanbul')])"
      ]
     },
     "execution_count": 82,
     "metadata": {},
     "output_type": "execute_result"
    }
   ],
   "source": [
    "liste = ogrenci.items()\n",
    "liste"
   ]
  },
  {
   "cell_type": "markdown",
   "id": "37702571",
   "metadata": {},
   "source": [
    "### .keys()\n",
    "Sözlükteki her bir anahtarın bulunduğu bir liste döndürür."
   ]
  },
  {
   "cell_type": "code",
   "execution_count": 83,
   "id": "db59110a",
   "metadata": {},
   "outputs": [
    {
     "data": {
      "text/plain": [
       "dict_keys(['Adı', 'Soyadı', 'No', 'Yer'])"
      ]
     },
     "execution_count": 83,
     "metadata": {},
     "output_type": "execute_result"
    }
   ],
   "source": [
    "liste = ogrenci.keys()\n",
    "liste"
   ]
  },
  {
   "cell_type": "markdown",
   "id": "775e34d4",
   "metadata": {},
   "source": [
    "### .values()\n",
    "Sözlükteki her bir değerin bulunduğu bir liste döndürür."
   ]
  },
  {
   "cell_type": "code",
   "execution_count": 84,
   "id": "43b02399",
   "metadata": {},
   "outputs": [
    {
     "data": {
      "text/plain": [
       "dict_values(['Adem', 'Demir', 22298371, 'İstanbul'])"
      ]
     },
     "execution_count": 84,
     "metadata": {},
     "output_type": "execute_result"
    }
   ],
   "source": [
    "liste = ogrenci.values()\n",
    "liste"
   ]
  },
  {
   "cell_type": "markdown",
   "id": "cc46368c",
   "metadata": {},
   "source": [
    "### .get(key)\n",
    "Sözlükteki belirli bir anahtarın değerini döndürür. O anahtar sözlükte yoksa, hata meydana gelmez!"
   ]
  },
  {
   "cell_type": "code",
   "execution_count": 85,
   "id": "5c2f622a",
   "metadata": {},
   "outputs": [
    {
     "data": {
      "text/plain": [
       "'Adem'"
      ]
     },
     "execution_count": 85,
     "metadata": {},
     "output_type": "execute_result"
    }
   ],
   "source": [
    "ogrenci.get(\"Adı\")"
   ]
  },
  {
   "cell_type": "code",
   "execution_count": 86,
   "id": "1eb28d6c",
   "metadata": {},
   "outputs": [
    {
     "data": {
      "text/plain": [
       "'Adem'"
      ]
     },
     "execution_count": 86,
     "metadata": {},
     "output_type": "execute_result"
    }
   ],
   "source": [
    "ogrenci[\"Adı\"] # bu şekilde de anahtara göre değer çekebiliriz."
   ]
  },
  {
   "cell_type": "code",
   "execution_count": 87,
   "id": "dd36d513",
   "metadata": {},
   "outputs": [
    {
     "name": "stdout",
     "output_type": "stream",
     "text": [
      "None\n"
     ]
    }
   ],
   "source": [
    "print(ogrenci.get(\"Dersler\")) # hata oluşmaz, None döndürür."
   ]
  },
  {
   "cell_type": "code",
   "execution_count": 88,
   "id": "ed560a2b",
   "metadata": {},
   "outputs": [
    {
     "ename": "KeyError",
     "evalue": "'Dersler'",
     "output_type": "error",
     "traceback": [
      "\u001b[1;31m---------------------------------------------------------------------------\u001b[0m",
      "\u001b[1;31mKeyError\u001b[0m                                  Traceback (most recent call last)",
      "\u001b[1;32m~\\AppData\\Local\\Temp\\ipykernel_13248\\314118617.py\u001b[0m in \u001b[0;36m<module>\u001b[1;34m\u001b[0m\n\u001b[1;32m----> 1\u001b[1;33m \u001b[0mogrenci\u001b[0m\u001b[1;33m[\u001b[0m\u001b[1;34m\"Dersler\"\u001b[0m\u001b[1;33m]\u001b[0m \u001b[1;31m# anahtar, sözlükte bulunamadığı için hata meydana gelir!\u001b[0m\u001b[1;33m\u001b[0m\u001b[1;33m\u001b[0m\u001b[0m\n\u001b[0m",
      "\u001b[1;31mKeyError\u001b[0m: 'Dersler'"
     ]
    }
   ],
   "source": [
    "ogrenci[\"Dersler\"] # anahtar, sözlükte bulunamadığı için hata meydana gelir!"
   ]
  },
  {
   "cell_type": "markdown",
   "id": "ebdc8143",
   "metadata": {},
   "source": [
    "### .update(dict)\n",
    "Parametrede sunulan anahtar, mevcut **sözlükte zaten varsa, o anahtarın değeri güncellenir**. Parametrede sunulan anahtar sözlükte **yoksa, anahtar:değer ikilisi sözlüğe yeni bir eleman olarak eklenir**. Parametre sözlük şeklinde verilir."
   ]
  },
  {
   "cell_type": "code",
   "execution_count": 89,
   "id": "31eaabbc",
   "metadata": {},
   "outputs": [
    {
     "data": {
      "text/plain": [
       "{'Adı': 'Ali', 'Soyadı': 'Demir', 'No': 22298371, 'Yer': 'İstanbul'}"
      ]
     },
     "execution_count": 89,
     "metadata": {},
     "output_type": "execute_result"
    }
   ],
   "source": [
    "ogrenci.update({\"Adı\":\"Ali\"}) # öğrencinin adı değiştirilmiş oldu.\n",
    "ogrenci"
   ]
  },
  {
   "cell_type": "code",
   "execution_count": 90,
   "id": "7b940827",
   "metadata": {},
   "outputs": [
    {
     "data": {
      "text/plain": [
       "{'Adı': 'Ali',\n",
       " 'Soyadı': 'Demir',\n",
       " 'No': 22298371,\n",
       " 'Yer': 'İstanbul',\n",
       " 'GANO': 3.14}"
      ]
     },
     "execution_count": 90,
     "metadata": {},
     "output_type": "execute_result"
    }
   ],
   "source": [
    "ogrenci.update({\"GANO\":3.14}) # sözlüğe yeni bir key:value ikilisi eklenmiş oldu.\n",
    "ogrenci"
   ]
  },
  {
   "cell_type": "markdown",
   "id": "0c786e88",
   "metadata": {},
   "source": [
    "### .setdefault(key, value)\n",
    "Parametrede verilen anahtar, sözlükte **varsa hiçbir işlem yapılmaz.** Sözlükte **yoksa, verilen anahtar:değer ikilisi sözlüğe yeni bir eleman olarak eklenir**."
   ]
  },
  {
   "cell_type": "code",
   "execution_count": 91,
   "id": "8567dd3c",
   "metadata": {},
   "outputs": [
    {
     "data": {
      "text/plain": [
       "{'Adı': 'Ali',\n",
       " 'Soyadı': 'Demir',\n",
       " 'No': 22298371,\n",
       " 'Yer': 'İstanbul',\n",
       " 'GANO': 3.14}"
      ]
     },
     "execution_count": 91,
     "metadata": {},
     "output_type": "execute_result"
    }
   ],
   "source": [
    "ogrenci"
   ]
  },
  {
   "cell_type": "code",
   "execution_count": 92,
   "id": "c127bdad",
   "metadata": {},
   "outputs": [
    {
     "data": {
      "text/plain": [
       "{'Adı': 'Ali',\n",
       " 'Soyadı': 'Demir',\n",
       " 'No': 22298371,\n",
       " 'Yer': 'İstanbul',\n",
       " 'GANO': 3.14}"
      ]
     },
     "execution_count": 92,
     "metadata": {},
     "output_type": "execute_result"
    }
   ],
   "source": [
    "ogrenci.setdefault(\"Adı\",\"Ahmet\") # \"Adı\" anahtarı zaten var olduğu için ekleme yapılmaz.\n",
    "ogrenci"
   ]
  },
  {
   "cell_type": "code",
   "execution_count": 93,
   "id": "53e05f11",
   "metadata": {},
   "outputs": [
    {
     "data": {
      "text/plain": [
       "{'Adı': 'Ali',\n",
       " 'Soyadı': 'Demir',\n",
       " 'No': 22298371,\n",
       " 'Yer': 'İstanbul',\n",
       " 'GANO': 3.14,\n",
       " 'Sınıf': 3}"
      ]
     },
     "execution_count": 93,
     "metadata": {},
     "output_type": "execute_result"
    }
   ],
   "source": [
    "ogrenci.setdefault(\"Sınıf\", 3) # \"Sınıf\" anahtarı sözlükte olmadığı için, \"Sınıf\":3 sözlüğe eklenir.\n",
    "ogrenci"
   ]
  },
  {
   "cell_type": "markdown",
   "id": "59ad2ae3",
   "metadata": {},
   "source": [
    "### .pop(key)\n",
    "Anahtarı verilen sözlük elemanını çıkartır ve çıkartılan sözlük elemanının değerini döndürür."
   ]
  },
  {
   "cell_type": "code",
   "execution_count": 94,
   "id": "f40ef74c",
   "metadata": {},
   "outputs": [
    {
     "data": {
      "text/plain": [
       "3.14"
      ]
     },
     "execution_count": 94,
     "metadata": {},
     "output_type": "execute_result"
    }
   ],
   "source": [
    "ogrenci.pop(\"GANO\")"
   ]
  },
  {
   "cell_type": "markdown",
   "id": "f96e7653",
   "metadata": {},
   "source": [
    "### .popitem()\n",
    "Sözlüğe *en son* girilen **anahtar:değer** ikilisini çıkartır ve çıkartılan elemanı *demet* olarak döndürür."
   ]
  },
  {
   "cell_type": "code",
   "execution_count": 95,
   "id": "e8a66024",
   "metadata": {},
   "outputs": [
    {
     "data": {
      "text/plain": [
       "('Sınıf', 3)"
      ]
     },
     "execution_count": 95,
     "metadata": {},
     "output_type": "execute_result"
    }
   ],
   "source": [
    "ogrenci.popitem()"
   ]
  },
  {
   "cell_type": "markdown",
   "id": "83b27fed",
   "metadata": {},
   "source": [
    "### .clear()\n",
    "Sözlüğü boşaltır, tüm anahtar ve değerleri siler."
   ]
  },
  {
   "cell_type": "code",
   "execution_count": 96,
   "id": "747180ea",
   "metadata": {},
   "outputs": [
    {
     "data": {
      "text/plain": [
       "{}"
      ]
     },
     "execution_count": 96,
     "metadata": {},
     "output_type": "execute_result"
    }
   ],
   "source": [
    "ogrenci.clear()\n",
    "ogrenci"
   ]
  },
  {
   "cell_type": "markdown",
   "id": "167d9bae",
   "metadata": {},
   "source": [
    "<hr>\n",
    "<p style=\"text-align:center;font-size:12px\">\n",
    "<b>Öğr. Gör. Zeki ÇIPLAK</b><br>\n",
    "İstanbul Gedik Üniversitesi<br>\n",
    "Gedik MYO / Bilgisayar Programcılığı<br>\n",
    "<a href=\"https://linkedin.com/in/zkcplk\">LinkedIn</a> \n",
    "<a href=\"https://zkcplk.medium.com\">Blog</a> \n",
    "<a href=\"https://youtube.com/@zkcplk\">YouTube</a> \n",
    "</p>"
   ]
  }
 ],
 "metadata": {
  "kernelspec": {
   "display_name": "Python 3 (ipykernel)",
   "language": "python",
   "name": "python3"
  },
  "language_info": {
   "codemirror_mode": {
    "name": "ipython",
    "version": 3
   },
   "file_extension": ".py",
   "mimetype": "text/x-python",
   "name": "python",
   "nbconvert_exporter": "python",
   "pygments_lexer": "ipython3",
   "version": "3.9.13"
  }
 },
 "nbformat": 4,
 "nbformat_minor": 5
}
