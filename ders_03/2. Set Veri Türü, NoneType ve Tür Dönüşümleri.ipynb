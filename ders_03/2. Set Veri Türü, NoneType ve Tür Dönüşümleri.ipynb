{
 "cells": [
  {
   "cell_type": "markdown",
   "id": "8b1796a5",
   "metadata": {},
   "source": [
    "# SET Veri Türü\n",
    "Küme anlamına gelen set, aynı elemandan sadece bir tane barındıran sırasız listelerdir.<br>\n",
    "Elemanlar sırasız olduğu için, indisleme mantığı yoktur. "
   ]
  },
  {
   "cell_type": "markdown",
   "id": "e758b8ad",
   "metadata": {},
   "source": [
    "# Dolu bir küme oluşturmak\n",
    "Küme oluşturulurken de, sözlük oluştururken kullanılan süslü parantezler kullanılır.<br>\n",
    "Fakat sözlük yapısından farklı olarak, her eleman tekli yapıdadır. Yani anahtar:değer şeklinde değildir!"
   ]
  },
  {
   "cell_type": "code",
   "execution_count": 1,
   "id": "c966d9da",
   "metadata": {},
   "outputs": [
    {
     "name": "stdout",
     "output_type": "stream",
     "text": [
      "<class 'set'> <class 'set'>\n"
     ]
    }
   ],
   "source": [
    "dolu1 = set({1, 2, 3, 4, 5})\n",
    "dolu2 = {1, 2, 3, 4, 5}\n",
    "\n",
    "print(type(dolu1), type(dolu2))"
   ]
  },
  {
   "cell_type": "markdown",
   "id": "6520deb0",
   "metadata": {},
   "source": [
    "# Boş bir küme oluşturmak"
   ]
  },
  {
   "cell_type": "code",
   "execution_count": 2,
   "id": "1563bd4b",
   "metadata": {},
   "outputs": [
    {
     "data": {
      "text/plain": [
       "set"
      ]
     },
     "execution_count": 2,
     "metadata": {},
     "output_type": "execute_result"
    }
   ],
   "source": [
    "bos1 = set() # boş küme sadece bu şekilde oluşturulur.\n",
    "\n",
    "type(bos1)"
   ]
  },
  {
   "cell_type": "markdown",
   "id": "7d5e42dc",
   "metadata": {},
   "source": [
    "Aşağıdaki kod, boş küme oluşturmaz!"
   ]
  },
  {
   "cell_type": "code",
   "execution_count": 3,
   "id": "ec2faaca",
   "metadata": {},
   "outputs": [
    {
     "data": {
      "text/plain": [
       "dict"
      ]
     },
     "execution_count": 3,
     "metadata": {},
     "output_type": "execute_result"
    }
   ],
   "source": [
    "bos2 = {}  # bu bir sözlüktür.\n",
    "\n",
    "type(bos2)"
   ]
  },
  {
   "cell_type": "markdown",
   "id": "7d57202a",
   "metadata": {},
   "source": [
    "Küme (**set**) veri türünde, tekrar eden elemanlar küme oluşturulurken, otomatik olarak silinir."
   ]
  },
  {
   "cell_type": "code",
   "execution_count": 4,
   "id": "5f413a4c",
   "metadata": {},
   "outputs": [
    {
     "data": {
      "text/plain": [
       "{1, 2, 3, 4}"
      ]
     },
     "execution_count": 4,
     "metadata": {},
     "output_type": "execute_result"
    }
   ],
   "source": [
    "küme = {1, 1, 1, 2, 2, 2, 3, 4, 1, 2} # tekrar eden elemanlar kümeye yeniden eklenmez!\n",
    "\n",
    "küme"
   ]
  },
  {
   "cell_type": "markdown",
   "id": "f3970e76",
   "metadata": {},
   "source": [
    "Küme elemanları, kümeye sırasız olarak eklenir. O yüzden indis mantığı yoktur."
   ]
  },
  {
   "cell_type": "code",
   "execution_count": 5,
   "id": "dec2857f",
   "metadata": {},
   "outputs": [],
   "source": [
    "küme = {\"Ali\", \"Esra\", \"Ayşe\", \"Buse\", \"Mehmet\", \"Serkan\"}"
   ]
  },
  {
   "cell_type": "code",
   "execution_count": 6,
   "id": "bf80b39a",
   "metadata": {},
   "outputs": [
    {
     "ename": "TypeError",
     "evalue": "'set' object is not subscriptable",
     "output_type": "error",
     "traceback": [
      "\u001b[1;31m---------------------------------------------------------------------------\u001b[0m",
      "\u001b[1;31mTypeError\u001b[0m                                 Traceback (most recent call last)",
      "\u001b[1;32m~\\AppData\\Local\\Temp\\ipykernel_2112\\189106162.py\u001b[0m in \u001b[0;36m<module>\u001b[1;34m\u001b[0m\n\u001b[1;32m----> 1\u001b[1;33m \u001b[0mküme\u001b[0m\u001b[1;33m[\u001b[0m\u001b[1;36m2\u001b[0m\u001b[1;33m]\u001b[0m  \u001b[1;31m# hata meydana gelir!\u001b[0m\u001b[1;33m\u001b[0m\u001b[1;33m\u001b[0m\u001b[0m\n\u001b[0m",
      "\u001b[1;31mTypeError\u001b[0m: 'set' object is not subscriptable"
     ]
    }
   ],
   "source": [
    "küme[2]  # hata meydana gelir!"
   ]
  },
  {
   "cell_type": "markdown",
   "id": "f33851dd",
   "metadata": {},
   "source": [
    "# NoneType"
   ]
  },
  {
   "cell_type": "markdown",
   "id": "f3ffca24",
   "metadata": {},
   "source": [
    "Değer almamış bir değişken oluşturmak için kullanılır. Diğer programlama dillerindeki NULL değerine benzerlik gösterir. None olarak belirlenmiş bir değişken, somut olarak oluşturulmuştur ama daha değer almamış sayılır. Çünkü **None** bir değer değildir, tam tersine, söz konusu değişkenin hiç değer almadığını belirtmek için kullanılır."
   ]
  },
  {
   "cell_type": "code",
   "execution_count": 7,
   "id": "042a65b4",
   "metadata": {},
   "outputs": [
    {
     "name": "stdout",
     "output_type": "stream",
     "text": [
      "None\n"
     ]
    }
   ],
   "source": [
    "degisken = None\n",
    "\n",
    "print(degisken)"
   ]
  },
  {
   "cell_type": "code",
   "execution_count": 8,
   "id": "db5b535d",
   "metadata": {},
   "outputs": [
    {
     "data": {
      "text/plain": [
       "NoneType"
      ]
     },
     "execution_count": 8,
     "metadata": {},
     "output_type": "execute_result"
    }
   ],
   "source": [
    "type(degisken)"
   ]
  },
  {
   "cell_type": "markdown",
   "id": "bd1cf6d5",
   "metadata": {},
   "source": [
    "Aşağıdaki değişken **NoneType** değildir! "
   ]
  },
  {
   "cell_type": "code",
   "execution_count": 9,
   "id": "2e4926ce",
   "metadata": {},
   "outputs": [
    {
     "data": {
      "text/plain": [
       "str"
      ]
     },
     "execution_count": 9,
     "metadata": {},
     "output_type": "execute_result"
    }
   ],
   "source": [
    "degisken = \"None\"\n",
    "\n",
    "type(degisken)"
   ]
  },
  {
   "cell_type": "markdown",
   "id": "56e91ca3",
   "metadata": {},
   "source": [
    "# TÜR DÖNÜŞÜMLERİ\n",
    "Python'da veri türlerini birbirlerine dönüştürmek için, veri türlerinin isimlerinden oluşan fonksiyonları kullanabiliriz."
   ]
  },
  {
   "cell_type": "code",
   "execution_count": 10,
   "id": "0439b112",
   "metadata": {},
   "outputs": [],
   "source": [
    "yazi = \"Deneme 1 2 3\" # str"
   ]
  },
  {
   "cell_type": "markdown",
   "id": "2e2c6ce2",
   "metadata": {},
   "source": [
    "## String veri türünden diğer veri türlerine dönüşümler:"
   ]
  },
  {
   "cell_type": "markdown",
   "id": "f1657bd0",
   "metadata": {},
   "source": [
    "# str ▶ bool"
   ]
  },
  {
   "cell_type": "code",
   "execution_count": 11,
   "id": "84cf421c",
   "metadata": {},
   "outputs": [
    {
     "name": "stdout",
     "output_type": "stream",
     "text": [
      "True\n"
     ]
    }
   ],
   "source": [
    "boolean = bool(yazi)\n",
    "print(boolean)"
   ]
  },
  {
   "cell_type": "code",
   "execution_count": 12,
   "id": "c62b21e3",
   "metadata": {},
   "outputs": [
    {
     "data": {
      "text/plain": [
       "False"
      ]
     },
     "execution_count": 12,
     "metadata": {},
     "output_type": "execute_result"
    }
   ],
   "source": [
    "yazi = \"\"            # hiçbir karakteri olmayan string ifade bool veri türüne False olarak dönüşür.\n",
    "\n",
    "bool(yazi)"
   ]
  },
  {
   "cell_type": "markdown",
   "id": "f3f5bbab",
   "metadata": {},
   "source": [
    "# str ▶ list"
   ]
  },
  {
   "cell_type": "code",
   "execution_count": 13,
   "id": "091de324",
   "metadata": {},
   "outputs": [
    {
     "data": {
      "text/plain": [
       "['d', 'e', 'n', 'e', 'm', 'e', ' ', 't', 'e', 's', 't']"
      ]
     },
     "execution_count": 13,
     "metadata": {},
     "output_type": "execute_result"
    }
   ],
   "source": [
    "yazi = \"deneme test\"  # her bir karakteri, listenin bir elemanı olur.\n",
    "\n",
    "list(yazi)"
   ]
  },
  {
   "cell_type": "markdown",
   "id": "a83017b9",
   "metadata": {},
   "source": [
    "# str ▶ tuple"
   ]
  },
  {
   "cell_type": "code",
   "execution_count": 14,
   "id": "55669a83",
   "metadata": {},
   "outputs": [
    {
     "name": "stdout",
     "output_type": "stream",
     "text": [
      "('d', 'e', 'n', 'e', 'm', 'e', ' ', 't', 'e', 's', 't')\n"
     ]
    }
   ],
   "source": [
    "demet = tuple(yazi)  # her bir karakteri, demetin bir elemanı olur.\n",
    "\n",
    "print(demet)"
   ]
  },
  {
   "cell_type": "markdown",
   "id": "80612704",
   "metadata": {},
   "source": [
    "# str ▶ dict\n",
    "Sözlükteki her bir eleman ikili yapıda (**key:value**) olduğu için, **str** bir ifade direkt olarak sözlüğe dönüştürülemez!<br>\n",
    "Fakat **str** ifade, önce ikili yapıya sonra sözlüğe dönüştürülebilir."
   ]
  },
  {
   "cell_type": "code",
   "execution_count": 15,
   "id": "638268b4",
   "metadata": {},
   "outputs": [
    {
     "ename": "ValueError",
     "evalue": "dictionary update sequence element #0 has length 1; 2 is required",
     "output_type": "error",
     "traceback": [
      "\u001b[1;31m---------------------------------------------------------------------------\u001b[0m",
      "\u001b[1;31mValueError\u001b[0m                                Traceback (most recent call last)",
      "\u001b[1;32m~\\AppData\\Local\\Temp\\ipykernel_2112\\3855093288.py\u001b[0m in \u001b[0;36m<module>\u001b[1;34m\u001b[0m\n\u001b[1;32m----> 1\u001b[1;33m \u001b[0mdict\u001b[0m\u001b[1;33m(\u001b[0m\u001b[0myazi\u001b[0m\u001b[1;33m)\u001b[0m\u001b[1;33m\u001b[0m\u001b[1;33m\u001b[0m\u001b[0m\n\u001b[0m",
      "\u001b[1;31mValueError\u001b[0m: dictionary update sequence element #0 has length 1; 2 is required"
     ]
    }
   ],
   "source": [
    "dict(yazi)"
   ]
  },
  {
   "cell_type": "code",
   "execution_count": 16,
   "id": "0887ac9b",
   "metadata": {},
   "outputs": [
    {
     "data": {
      "text/plain": [
       "{'yazi': 'deneme test'}"
      ]
     },
     "execution_count": 16,
     "metadata": {},
     "output_type": "execute_result"
    }
   ],
   "source": [
    "dict(yazi=yazi)  # dikkat edilirse, key kısmı değişkenin ismi, diğer kısım da o değişkene ait değerdir."
   ]
  },
  {
   "cell_type": "markdown",
   "id": "292d1ca7",
   "metadata": {},
   "source": [
    "# str ▶ set\n",
    "Özellikle **str** ifadedeki tekrarlanan karakterlerden kurtulmak adına iyi bir kullanımı vardır."
   ]
  },
  {
   "cell_type": "code",
   "execution_count": 17,
   "id": "6d5969af",
   "metadata": {},
   "outputs": [
    {
     "data": {
      "text/plain": [
       "{' ', 'd', 'e', 'm', 'n', 's', 't'}"
      ]
     },
     "execution_count": 17,
     "metadata": {},
     "output_type": "execute_result"
    }
   ],
   "source": [
    "set(yazi)"
   ]
  },
  {
   "cell_type": "markdown",
   "id": "4f939278",
   "metadata": {},
   "source": [
    "# str ▶ int"
   ]
  },
  {
   "cell_type": "code",
   "execution_count": 18,
   "id": "7b574241",
   "metadata": {},
   "outputs": [
    {
     "data": {
      "text/plain": [
       "300"
      ]
     },
     "execution_count": 18,
     "metadata": {},
     "output_type": "execute_result"
    }
   ],
   "source": [
    "num = \"300\"\n",
    "\n",
    "int(num)"
   ]
  },
  {
   "cell_type": "markdown",
   "id": "3c22e24a",
   "metadata": {},
   "source": [
    "# str ▶ float"
   ]
  },
  {
   "cell_type": "code",
   "execution_count": 19,
   "id": "327de740",
   "metadata": {},
   "outputs": [
    {
     "data": {
      "text/plain": [
       "3.14"
      ]
     },
     "execution_count": 19,
     "metadata": {},
     "output_type": "execute_result"
    }
   ],
   "source": [
    "num = \"3.14\"\n",
    "\n",
    "float(num)"
   ]
  },
  {
   "cell_type": "markdown",
   "id": "bb14c2b3",
   "metadata": {},
   "source": [
    "## Diğer veri türlerinden, String veri türüne dönüşümler:"
   ]
  },
  {
   "cell_type": "markdown",
   "id": "02efcd6e",
   "metadata": {},
   "source": [
    "# bool ▶ str"
   ]
  },
  {
   "cell_type": "code",
   "execution_count": 20,
   "id": "bf92ebae",
   "metadata": {},
   "outputs": [
    {
     "data": {
      "text/plain": [
       "'True'"
      ]
     },
     "execution_count": 20,
     "metadata": {},
     "output_type": "execute_result"
    }
   ],
   "source": [
    "bl = True\n",
    "\n",
    "str(bl)"
   ]
  },
  {
   "cell_type": "markdown",
   "id": "df37e075",
   "metadata": {},
   "source": [
    "# list ▶ str"
   ]
  },
  {
   "cell_type": "code",
   "execution_count": 21,
   "id": "ae9b773b",
   "metadata": {},
   "outputs": [
    {
     "data": {
      "text/plain": [
       "'[1, 2, 3]'"
      ]
     },
     "execution_count": 21,
     "metadata": {},
     "output_type": "execute_result"
    }
   ],
   "source": [
    "liste = [1,2,3]\n",
    "\n",
    "str(liste)"
   ]
  },
  {
   "cell_type": "markdown",
   "id": "bf73f959",
   "metadata": {},
   "source": [
    "# tuple ▶ str"
   ]
  },
  {
   "cell_type": "code",
   "execution_count": 22,
   "id": "5d9552cc",
   "metadata": {},
   "outputs": [
    {
     "data": {
      "text/plain": [
       "'(1, 2, 3)'"
      ]
     },
     "execution_count": 22,
     "metadata": {},
     "output_type": "execute_result"
    }
   ],
   "source": [
    "demet = (1,2,3)\n",
    "\n",
    "str(demet)"
   ]
  },
  {
   "cell_type": "markdown",
   "id": "119ca904",
   "metadata": {},
   "source": [
    "# dict ▶ str"
   ]
  },
  {
   "cell_type": "code",
   "execution_count": 23,
   "id": "5e47bec7",
   "metadata": {},
   "outputs": [
    {
     "data": {
      "text/plain": [
       "\"{'test': 123}\""
      ]
     },
     "execution_count": 23,
     "metadata": {},
     "output_type": "execute_result"
    }
   ],
   "source": [
    "sozluk = { \"test\": 123 }\n",
    "\n",
    "str(sozluk)"
   ]
  },
  {
   "cell_type": "markdown",
   "id": "61512454",
   "metadata": {},
   "source": [
    "# set ▶ str"
   ]
  },
  {
   "cell_type": "code",
   "execution_count": 24,
   "id": "1f93cc32",
   "metadata": {},
   "outputs": [
    {
     "data": {
      "text/plain": [
       "'{1, 2, 3}'"
      ]
     },
     "execution_count": 24,
     "metadata": {},
     "output_type": "execute_result"
    }
   ],
   "source": [
    "küme = {1, 2, 3, 3, 2, 1}\n",
    "\n",
    "str(küme)"
   ]
  },
  {
   "cell_type": "markdown",
   "id": "009b932e",
   "metadata": {},
   "source": [
    "# int ▶ str"
   ]
  },
  {
   "cell_type": "code",
   "execution_count": 25,
   "id": "536ea544",
   "metadata": {},
   "outputs": [
    {
     "data": {
      "text/plain": [
       "'300'"
      ]
     },
     "execution_count": 25,
     "metadata": {},
     "output_type": "execute_result"
    }
   ],
   "source": [
    "num = 300\n",
    "\n",
    "str(num)"
   ]
  },
  {
   "cell_type": "markdown",
   "id": "ffd9c176",
   "metadata": {},
   "source": [
    "# float ▶ str"
   ]
  },
  {
   "cell_type": "code",
   "execution_count": 26,
   "id": "540f2660",
   "metadata": {},
   "outputs": [
    {
     "data": {
      "text/plain": [
       "'3.14'"
      ]
     },
     "execution_count": 26,
     "metadata": {},
     "output_type": "execute_result"
    }
   ],
   "source": [
    "pi = 3.14\n",
    "\n",
    "str(pi)"
   ]
  },
  {
   "cell_type": "markdown",
   "id": "86a2da2a",
   "metadata": {},
   "source": [
    "<hr>\n",
    "<p style=\"text-align:center;font-size:12px\">\n",
    "<b>Öğr. Gör. Zeki ÇIPLAK</b><br>\n",
    "İstanbul Gedik Üniversitesi<br>\n",
    "Gedik MYO / Bilgisayar Programcılığı<br>\n",
    "<a href=\"https://linkedin.com/in/zkcplk\">LinkedIn</a> \n",
    "<a href=\"https://zkcplk.medium.com\">Blog</a> \n",
    "<a href=\"https://youtube.com/@zkcplk\">YouTube</a> \n",
    "</p>"
   ]
  }
 ],
 "metadata": {
  "kernelspec": {
   "display_name": "Python 3 (ipykernel)",
   "language": "python",
   "name": "python3"
  },
  "language_info": {
   "codemirror_mode": {
    "name": "ipython",
    "version": 3
   },
   "file_extension": ".py",
   "mimetype": "text/x-python",
   "name": "python",
   "nbconvert_exporter": "python",
   "pygments_lexer": "ipython3",
   "version": "3.9.13"
  }
 },
 "nbformat": 4,
 "nbformat_minor": 5
}
