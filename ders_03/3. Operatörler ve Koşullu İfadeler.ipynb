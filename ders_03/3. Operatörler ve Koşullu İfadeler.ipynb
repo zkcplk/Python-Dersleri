{
 "cells": [
  {
   "cell_type": "markdown",
   "id": "e895e7eb",
   "metadata": {},
   "source": [
    "# OPERATÖRLER\n",
    "## 1. Aritmetik Operatörler (+   -   \\*   **   /   //   %)"
   ]
  },
  {
   "cell_type": "markdown",
   "id": "30a487c6",
   "metadata": {},
   "source": [
    "### + Operatörü\n",
    "Her iki tarafındaki ifadenin veri türü aynı olmalıdır. Aksi durumda hata meydana gelir."
   ]
  },
  {
   "cell_type": "code",
   "execution_count": 1,
   "id": "1541ac10",
   "metadata": {},
   "outputs": [
    {
     "data": {
      "text/plain": [
       "7"
      ]
     },
     "execution_count": 1,
     "metadata": {},
     "output_type": "execute_result"
    }
   ],
   "source": [
    "toplam = 3 + 4\n",
    "\n",
    "toplam"
   ]
  },
  {
   "cell_type": "markdown",
   "id": "ad874131",
   "metadata": {},
   "source": [
    "**str**, **list** ve **tuple** veri türlerinde **+** operatörünün kullanımı daha önce gösterilmişti. **set** ve **dict** veri türlerinde **+** operatörü kullanılamaz!"
   ]
  },
  {
   "cell_type": "code",
   "execution_count": 2,
   "id": "63cdabaf",
   "metadata": {},
   "outputs": [
    {
     "ename": "TypeError",
     "evalue": "unsupported operand type(s) for +: 'set' and 'set'",
     "output_type": "error",
     "traceback": [
      "\u001b[1;31m---------------------------------------------------------------------------\u001b[0m",
      "\u001b[1;31mTypeError\u001b[0m                                 Traceback (most recent call last)",
      "\u001b[1;32m~\\AppData\\Local\\Temp\\ipykernel_11820\\901507779.py\u001b[0m in \u001b[0;36m<module>\u001b[1;34m\u001b[0m\n\u001b[1;32m----> 1\u001b[1;33m \u001b[0mküme\u001b[0m \u001b[1;33m=\u001b[0m \u001b[1;33m{\u001b[0m\u001b[1;36m1\u001b[0m\u001b[1;33m,\u001b[0m\u001b[1;36m2\u001b[0m\u001b[1;33m,\u001b[0m\u001b[1;36m3\u001b[0m\u001b[1;33m}\u001b[0m \u001b[1;33m+\u001b[0m \u001b[1;33m{\u001b[0m\u001b[1;36m4\u001b[0m\u001b[1;33m,\u001b[0m\u001b[1;36m5\u001b[0m\u001b[1;33m,\u001b[0m\u001b[1;36m6\u001b[0m\u001b[1;33m}\u001b[0m \u001b[1;31m# hata meydana gelir.\u001b[0m\u001b[1;33m\u001b[0m\u001b[1;33m\u001b[0m\u001b[0m\n\u001b[0m",
      "\u001b[1;31mTypeError\u001b[0m: unsupported operand type(s) for +: 'set' and 'set'"
     ]
    }
   ],
   "source": [
    "küme = {1,2,3} + {4,5,6} # hata meydana gelir."
   ]
  },
  {
   "cell_type": "code",
   "execution_count": 3,
   "id": "49f02ec8",
   "metadata": {},
   "outputs": [
    {
     "ename": "TypeError",
     "evalue": "unsupported operand type(s) for +: 'dict' and 'dict'",
     "output_type": "error",
     "traceback": [
      "\u001b[1;31m---------------------------------------------------------------------------\u001b[0m",
      "\u001b[1;31mTypeError\u001b[0m                                 Traceback (most recent call last)",
      "\u001b[1;32m~\\AppData\\Local\\Temp\\ipykernel_11820\\2689325702.py\u001b[0m in \u001b[0;36m<module>\u001b[1;34m\u001b[0m\n\u001b[1;32m----> 1\u001b[1;33m \u001b[0msozluk\u001b[0m \u001b[1;33m=\u001b[0m \u001b[1;33m{\u001b[0m\u001b[1;34m\"puan\"\u001b[0m\u001b[1;33m:\u001b[0m\u001b[1;36m5\u001b[0m\u001b[1;33m}\u001b[0m \u001b[1;33m+\u001b[0m \u001b[1;33m{\u001b[0m\u001b[1;34m\"puan\"\u001b[0m\u001b[1;33m:\u001b[0m\u001b[1;36m6\u001b[0m\u001b[1;33m}\u001b[0m \u001b[1;31m# hata meydana gelir.\u001b[0m\u001b[1;33m\u001b[0m\u001b[1;33m\u001b[0m\u001b[0m\n\u001b[0m",
      "\u001b[1;31mTypeError\u001b[0m: unsupported operand type(s) for +: 'dict' and 'dict'"
     ]
    }
   ],
   "source": [
    "sozluk = {\"puan\":5} + {\"puan\":6} # hata meydana gelir."
   ]
  },
  {
   "cell_type": "markdown",
   "id": "a181b77b",
   "metadata": {},
   "source": [
    "### - Operatörü\n",
    "Genellikle sayısal veri türlerinde (**int** ve **float**) kullanılır. Nadiren **set** veri türünde de kullanılır.<br>\n",
    "Diğer veri türlerinde kullanılamaz."
   ]
  },
  {
   "cell_type": "code",
   "execution_count": 4,
   "id": "30953cf2",
   "metadata": {},
   "outputs": [
    {
     "data": {
      "text/plain": [
       "2"
      ]
     },
     "execution_count": 4,
     "metadata": {},
     "output_type": "execute_result"
    }
   ],
   "source": [
    "fark = 5 - 3\n",
    "\n",
    "fark"
   ]
  },
  {
   "cell_type": "markdown",
   "id": "4faf4f6a",
   "metadata": {},
   "source": [
    "**- operatörünün set veri türündeki kullanımı**"
   ]
  },
  {
   "cell_type": "code",
   "execution_count": 5,
   "id": "9762de86",
   "metadata": {},
   "outputs": [
    {
     "data": {
      "text/plain": [
       "{4, 5, 6}"
      ]
     },
     "execution_count": 5,
     "metadata": {},
     "output_type": "execute_result"
    }
   ],
   "source": [
    "kume1 = {4,5,6}\n",
    "kume2 = {1,2,3}\n",
    "\n",
    "kume1 - kume2  # sayısal sonuç vermez!"
   ]
  },
  {
   "cell_type": "code",
   "execution_count": 6,
   "id": "5772f939",
   "metadata": {},
   "outputs": [
    {
     "data": {
      "text/plain": [
       "{1, 3, 4}"
      ]
     },
     "execution_count": 6,
     "metadata": {},
     "output_type": "execute_result"
    }
   ],
   "source": [
    "sonuc = {1,2,3,4,5,6} - {2,5,6}\n",
    "\n",
    "sonuc   # çıkartma işlemi, *kümeden eleman çıkartma* şeklinde gerçekleşir. (Küme Farkı)"
   ]
  },
  {
   "cell_type": "code",
   "execution_count": 7,
   "id": "ee11161c",
   "metadata": {},
   "outputs": [
    {
     "ename": "TypeError",
     "evalue": "unsupported operand type(s) for -: 'list' and 'list'",
     "output_type": "error",
     "traceback": [
      "\u001b[1;31m---------------------------------------------------------------------------\u001b[0m",
      "\u001b[1;31mTypeError\u001b[0m                                 Traceback (most recent call last)",
      "\u001b[1;32m~\\AppData\\Local\\Temp\\ipykernel_11820\\868418055.py\u001b[0m in \u001b[0;36m<module>\u001b[1;34m\u001b[0m\n\u001b[1;32m----> 1\u001b[1;33m \u001b[0mlisteler\u001b[0m \u001b[1;33m=\u001b[0m \u001b[1;33m[\u001b[0m\u001b[1;36m1\u001b[0m\u001b[1;33m,\u001b[0m \u001b[1;36m2\u001b[0m\u001b[1;33m,\u001b[0m \u001b[1;36m3\u001b[0m\u001b[1;33m,\u001b[0m \u001b[1;36m4\u001b[0m\u001b[1;33m,\u001b[0m \u001b[1;36m5\u001b[0m\u001b[1;33m]\u001b[0m \u001b[1;33m-\u001b[0m \u001b[1;33m[\u001b[0m\u001b[1;36m1\u001b[0m\u001b[1;33m,\u001b[0m \u001b[1;36m2\u001b[0m\u001b[1;33m,\u001b[0m \u001b[1;36m3\u001b[0m\u001b[1;33m]\u001b[0m \u001b[1;31m# hata meydana gelir. str, tuple ve dict veri türünde de hata meydana gelir.\u001b[0m\u001b[1;33m\u001b[0m\u001b[1;33m\u001b[0m\u001b[0m\n\u001b[0m",
      "\u001b[1;31mTypeError\u001b[0m: unsupported operand type(s) for -: 'list' and 'list'"
     ]
    }
   ],
   "source": [
    "listeler = [1, 2, 3, 4, 5] - [1, 2, 3] # hata meydana gelir. str, tuple ve dict veri türünde de hata meydana gelir."
   ]
  },
  {
   "cell_type": "markdown",
   "id": "2d25d872",
   "metadata": {},
   "source": [
    "### * Operatörü\n",
    "Çarpma operatörü **set** ve **dict** veri türlerinde çalışmaz. Sayısal veri türlerinde matematiksel çarpma işlemi anlamına gelir.<br>Diğer veri türlerinde de (çarpılan sayıya göre) veriyi çoğaltıcı bir etkisi vardır."
   ]
  },
  {
   "cell_type": "code",
   "execution_count": 8,
   "id": "326f2d63",
   "metadata": {},
   "outputs": [
    {
     "data": {
      "text/plain": [
       "2.0"
      ]
     },
     "execution_count": 8,
     "metadata": {},
     "output_type": "execute_result"
    }
   ],
   "source": [
    "carpma = 4 * 0.5\n",
    "\n",
    "carpma"
   ]
  },
  {
   "cell_type": "markdown",
   "id": "5aabd3a8",
   "metadata": {},
   "source": [
    "**str, list ve tuple veri türünde çarpma işlemleri**"
   ]
  },
  {
   "cell_type": "code",
   "execution_count": 9,
   "id": "e1feca24",
   "metadata": {},
   "outputs": [
    {
     "name": "stdout",
     "output_type": "stream",
     "text": [
      "kelime kelime kelime \n",
      "[1, 2, 3, 1, 2, 3, 1, 2, 3]\n",
      "(1, 2, 3, 1, 2, 3, 1, 2, 3)\n"
     ]
    }
   ],
   "source": [
    "yazilar = \"kelime \" * 3\n",
    "print(yazilar)\n",
    "\n",
    "listeler = [1, 2, 3] * 3\n",
    "print(listeler)\n",
    "\n",
    "demetler = (1, 2, 3) * 3\n",
    "print(demetler)"
   ]
  },
  {
   "cell_type": "markdown",
   "id": "2fec6112",
   "metadata": {},
   "source": [
    "### ** Operatörü\n",
    "Matematiksel üs alma işlemlerinde kullanılır. Sadece sayısal veri türlerinde çalışır."
   ]
  },
  {
   "cell_type": "code",
   "execution_count": 10,
   "id": "8995e3db",
   "metadata": {},
   "outputs": [
    {
     "data": {
      "text/plain": [
       "9"
      ]
     },
     "execution_count": 10,
     "metadata": {},
     "output_type": "execute_result"
    }
   ],
   "source": [
    "3 ** 2 # 3 üssü 2"
   ]
  },
  {
   "cell_type": "markdown",
   "id": "33a79c75",
   "metadata": {},
   "source": [
    "### / ve // Operatörleri\n",
    "/ operatörü ondalıklı işlem sonucu verir. // operatörü ise sadece tam sayı (int) sonucu verir. Sadece sayısal veri türlerinde çalışır."
   ]
  },
  {
   "cell_type": "code",
   "execution_count": 11,
   "id": "5ee3abc1",
   "metadata": {},
   "outputs": [
    {
     "data": {
      "text/plain": [
       "1.5"
      ]
     },
     "execution_count": 11,
     "metadata": {},
     "output_type": "execute_result"
    }
   ],
   "source": [
    "3 / 2"
   ]
  },
  {
   "cell_type": "code",
   "execution_count": 12,
   "id": "b8cd9e06",
   "metadata": {},
   "outputs": [
    {
     "data": {
      "text/plain": [
       "1"
      ]
     },
     "execution_count": 12,
     "metadata": {},
     "output_type": "execute_result"
    }
   ],
   "source": [
    "3 // 2"
   ]
  },
  {
   "cell_type": "markdown",
   "id": "676070a6",
   "metadata": {},
   "source": [
    "### % Operatörü\n",
    "Mod alma işlemi için kullanılır. Bölme işleminde kalanı tespit eder. Sadece sayısal veri türlerinde çalışır."
   ]
  },
  {
   "cell_type": "code",
   "execution_count": 13,
   "id": "b06c41c6",
   "metadata": {},
   "outputs": [
    {
     "data": {
      "text/plain": [
       "1"
      ]
     },
     "execution_count": 13,
     "metadata": {},
     "output_type": "execute_result"
    }
   ],
   "source": [
    "10 % 3 # 10'un 3'e bölümünden kalan 1'dir."
   ]
  },
  {
   "cell_type": "markdown",
   "id": "ea6b85e8",
   "metadata": {},
   "source": [
    "## 2. Atama Operatörleri (=,+=,-=,*=,**=,/=,//=,%=)"
   ]
  },
  {
   "cell_type": "markdown",
   "id": "d83f17cc",
   "metadata": {},
   "source": [
    "### = Operatörü\n",
    "Değişkenlere değer atama işlemi için kullanılır."
   ]
  },
  {
   "cell_type": "code",
   "execution_count": 14,
   "id": "5d3fb7b0",
   "metadata": {},
   "outputs": [],
   "source": [
    "sayi = 9\n",
    "yazi = \"Kelimeler...\"\n",
    "liste = [1, 2]\n",
    "demet = (1, 2)\n",
    "kume = {1, 2}\n",
    "sozluk = {\"bir\": 2}"
   ]
  },
  {
   "cell_type": "markdown",
   "id": "44a153c1",
   "metadata": {},
   "source": [
    "### += Operatörü\n",
    "Pratik olarak değer arttırma işlemi için kullanılır. + Operatörünün kullanıldığı veri türlerinde kullanılabilir. **set** ve **dict** veri türlerinde çalışmaz."
   ]
  },
  {
   "cell_type": "code",
   "execution_count": 15,
   "id": "c0cc2ab2",
   "metadata": {},
   "outputs": [
    {
     "data": {
      "text/plain": [
       "11"
      ]
     },
     "execution_count": 15,
     "metadata": {},
     "output_type": "execute_result"
    }
   ],
   "source": [
    "sayi = 10\n",
    "sayi += 1 #  sayi = sayi + 1 yazmakla aynı şeyi ifade eder.\n",
    "\n",
    "sayi"
   ]
  },
  {
   "cell_type": "code",
   "execution_count": 16,
   "id": "a82dad5a",
   "metadata": {},
   "outputs": [
    {
     "data": {
      "text/plain": [
       "'Kelimeler yetmez bazen...'"
      ]
     },
     "execution_count": 16,
     "metadata": {},
     "output_type": "execute_result"
    }
   ],
   "source": [
    "soz = \"Kelimeler \"\n",
    "soz += \"yetmez bazen...\"\n",
    "\n",
    "soz"
   ]
  },
  {
   "cell_type": "code",
   "execution_count": 17,
   "id": "476b8708",
   "metadata": {},
   "outputs": [
    {
     "data": {
      "text/plain": [
       "[1, 2, 3, 4]"
      ]
     },
     "execution_count": 17,
     "metadata": {},
     "output_type": "execute_result"
    }
   ],
   "source": [
    "liste = [1, 2]\n",
    "liste += [3, 4]\n",
    "liste               # tuple'da da aynı şekilde çalışır."
   ]
  },
  {
   "cell_type": "markdown",
   "id": "68cab7bf",
   "metadata": {},
   "source": [
    "### -= Operatörü\n",
    "Eksi (-) operatörünün çalıştığı veri türlerinde çalışır."
   ]
  },
  {
   "cell_type": "code",
   "execution_count": 18,
   "id": "c505b03c",
   "metadata": {},
   "outputs": [
    {
     "data": {
      "text/plain": [
       "8"
      ]
     },
     "execution_count": 18,
     "metadata": {},
     "output_type": "execute_result"
    }
   ],
   "source": [
    "sayi = 9\n",
    "sayi -= 1\n",
    "\n",
    "sayi"
   ]
  },
  {
   "cell_type": "code",
   "execution_count": 19,
   "id": "2bbefa9c",
   "metadata": {},
   "outputs": [
    {
     "data": {
      "text/plain": [
       "{2, 4}"
      ]
     },
     "execution_count": 19,
     "metadata": {},
     "output_type": "execute_result"
    }
   ],
   "source": [
    "kume = {1,2,3,4,5}\n",
    "kume -= {1,3,5}\n",
    "\n",
    "kume"
   ]
  },
  {
   "cell_type": "markdown",
   "id": "af898973",
   "metadata": {},
   "source": [
    "### *= Operatörü\n",
    "Çarpım (*) operatörünün çalıştığı veri türlerinde çalışır."
   ]
  },
  {
   "cell_type": "code",
   "execution_count": 20,
   "id": "3558436e",
   "metadata": {},
   "outputs": [
    {
     "data": {
      "text/plain": [
       "9"
      ]
     },
     "execution_count": 20,
     "metadata": {},
     "output_type": "execute_result"
    }
   ],
   "source": [
    "sayi = 3\n",
    "sayi *= 3 # sayi = sayi * 3 yazmakla aynı şeyi ifade eder.\n",
    "sayi"
   ]
  },
  {
   "cell_type": "code",
   "execution_count": 21,
   "id": "d43601cb",
   "metadata": {},
   "outputs": [
    {
     "name": "stdout",
     "output_type": "stream",
     "text": [
      "kelime kelime kelime \n"
     ]
    }
   ],
   "source": [
    "yazi = \"kelime \"\n",
    "yazi *= 3\n",
    "print(yazi)"
   ]
  },
  {
   "cell_type": "code",
   "execution_count": 22,
   "id": "f197fd5c",
   "metadata": {},
   "outputs": [
    {
     "name": "stdout",
     "output_type": "stream",
     "text": [
      "[1, 2, 3, 1, 2, 3, 1, 2, 3]\n"
     ]
    }
   ],
   "source": [
    "liste = [1, 2, 3]\n",
    "liste *= 3 \n",
    "print(liste)"
   ]
  },
  {
   "cell_type": "code",
   "execution_count": 23,
   "id": "e2d14cbe",
   "metadata": {},
   "outputs": [
    {
     "name": "stdout",
     "output_type": "stream",
     "text": [
      "(1, 2, 3, 1, 2, 3, 1, 2, 3)\n"
     ]
    }
   ],
   "source": [
    "demet = (1, 2, 3)\n",
    "demet *= 3\n",
    "print(demet)"
   ]
  },
  {
   "cell_type": "markdown",
   "id": "d1024ec7",
   "metadata": {},
   "source": [
    "### **= Operatörü\n",
    "Matematiksel üs alma işlemlerinde kullanılır. Sadece sayısal veri türlerinde çalışır."
   ]
  },
  {
   "cell_type": "code",
   "execution_count": 24,
   "id": "91303a62",
   "metadata": {},
   "outputs": [
    {
     "data": {
      "text/plain": [
       "9"
      ]
     },
     "execution_count": 24,
     "metadata": {},
     "output_type": "execute_result"
    }
   ],
   "source": [
    "sayi = 3\n",
    "sayi **= 2\n",
    "sayi"
   ]
  },
  {
   "cell_type": "markdown",
   "id": "67aed333",
   "metadata": {},
   "source": [
    "### /= ve //= Operatörleri\n",
    "/ operatörü ondalıklı işlem sonucu verir. // operatörü ise sadece tam sayı (int) sonucu verir. Sadece sayısal veri türlerinde çalışır."
   ]
  },
  {
   "cell_type": "code",
   "execution_count": 25,
   "id": "7504eff2",
   "metadata": {},
   "outputs": [
    {
     "data": {
      "text/plain": [
       "1.5"
      ]
     },
     "execution_count": 25,
     "metadata": {},
     "output_type": "execute_result"
    }
   ],
   "source": [
    "sayi = 3\n",
    "sayi /= 2 # (sayi = sayi / 2)\n",
    "sayi"
   ]
  },
  {
   "cell_type": "code",
   "execution_count": 26,
   "id": "37848fb8",
   "metadata": {},
   "outputs": [
    {
     "data": {
      "text/plain": [
       "1"
      ]
     },
     "execution_count": 26,
     "metadata": {},
     "output_type": "execute_result"
    }
   ],
   "source": [
    "sayi = 3\n",
    "sayi //= 2 # (sayi = sayi // 2)\n",
    "sayi"
   ]
  },
  {
   "cell_type": "markdown",
   "id": "c19601fa",
   "metadata": {},
   "source": [
    "### %= Operatörü\n",
    "Mod alma işlemi için kullanılır. Bölme işleminde kalanı tespit eder. Sadece sayısal veri türlerinde çalışır."
   ]
  },
  {
   "cell_type": "code",
   "execution_count": 27,
   "id": "721dbeff",
   "metadata": {},
   "outputs": [
    {
     "data": {
      "text/plain": [
       "1"
      ]
     },
     "execution_count": 27,
     "metadata": {},
     "output_type": "execute_result"
    }
   ],
   "source": [
    "sayi = 10\n",
    "sayi %= 3 # (sayi = sayi % 3)\n",
    "sayi"
   ]
  },
  {
   "cell_type": "markdown",
   "id": "30482ca3",
   "metadata": {},
   "source": [
    "## 3. Eşitlik ve İlişkisel Operatörler (==,!=,>,<,>=,<=)\n",
    "Sonucu **True** veya **False** olarak döndüren yapılardır."
   ]
  },
  {
   "cell_type": "markdown",
   "id": "f3b95d25",
   "metadata": {},
   "source": [
    "### == Operatörü\n",
    "Eşitlik varsa **True**, yoksa **False** sonucunu döndürür."
   ]
  },
  {
   "cell_type": "code",
   "execution_count": 28,
   "id": "5d16baf3",
   "metadata": {},
   "outputs": [
    {
     "data": {
      "text/plain": [
       "False"
      ]
     },
     "execution_count": 28,
     "metadata": {},
     "output_type": "execute_result"
    }
   ],
   "source": [
    "5 == 2 # eşitlik yok, sonucu False olarak döner."
   ]
  },
  {
   "cell_type": "code",
   "execution_count": 29,
   "id": "b5a71d60",
   "metadata": {},
   "outputs": [
    {
     "data": {
      "text/plain": [
       "True"
      ]
     },
     "execution_count": 29,
     "metadata": {},
     "output_type": "execute_result"
    }
   ],
   "source": [
    "sayi1 = 2\n",
    "sayi2 = 2\n",
    "\n",
    "sayi1 == sayi2 # eşitlk var, sonucu True olarak döner."
   ]
  },
  {
   "cell_type": "markdown",
   "id": "491663de",
   "metadata": {},
   "source": [
    "### != Operatörü\n",
    "Eşitlik yoksa **True**, varsa **False** sonucunu döndürür."
   ]
  },
  {
   "cell_type": "code",
   "execution_count": 30,
   "id": "3ab8de37",
   "metadata": {},
   "outputs": [
    {
     "data": {
      "text/plain": [
       "True"
      ]
     },
     "execution_count": 30,
     "metadata": {},
     "output_type": "execute_result"
    }
   ],
   "source": [
    "5 != 2"
   ]
  },
  {
   "cell_type": "code",
   "execution_count": 31,
   "id": "4a1cceb8",
   "metadata": {},
   "outputs": [
    {
     "data": {
      "text/plain": [
       "False"
      ]
     },
     "execution_count": 31,
     "metadata": {},
     "output_type": "execute_result"
    }
   ],
   "source": [
    "2 != 2"
   ]
  },
  {
   "cell_type": "markdown",
   "id": "e982824b",
   "metadata": {},
   "source": [
    "### > Operatörü\n",
    "Soldaki ifade büyükse **True**, değilse **False** sonucunu döndürür. İki ifade de aynı veri türünde olmalıdır."
   ]
  },
  {
   "cell_type": "code",
   "execution_count": 32,
   "id": "7daeea6d",
   "metadata": {},
   "outputs": [
    {
     "data": {
      "text/plain": [
       "True"
      ]
     },
     "execution_count": 32,
     "metadata": {},
     "output_type": "execute_result"
    }
   ],
   "source": [
    "5 > 2"
   ]
  },
  {
   "cell_type": "markdown",
   "id": "d388683e",
   "metadata": {},
   "source": [
    "### < Operatörü\n",
    "Sağdaki ifade büyükse **True**, değilse **False** sonucunu döndürür. İki ifade de aynı veri türünde olmalıdır."
   ]
  },
  {
   "cell_type": "code",
   "execution_count": 33,
   "id": "e3708072",
   "metadata": {},
   "outputs": [
    {
     "data": {
      "text/plain": [
       "False"
      ]
     },
     "execution_count": 33,
     "metadata": {},
     "output_type": "execute_result"
    }
   ],
   "source": [
    "5 < 2"
   ]
  },
  {
   "cell_type": "markdown",
   "id": "15137487",
   "metadata": {},
   "source": [
    "### >= Operatörü\n",
    "Soldaki ifade diğerinden büyük veya diğerine eşitse **True**, aksi halde **False** sonucunu döndürür. İki ifade de aynı veri türünde olmalıdır."
   ]
  },
  {
   "cell_type": "code",
   "execution_count": 34,
   "id": "9aa34e58",
   "metadata": {},
   "outputs": [
    {
     "data": {
      "text/plain": [
       "True"
      ]
     },
     "execution_count": 34,
     "metadata": {},
     "output_type": "execute_result"
    }
   ],
   "source": [
    "5 >= 2"
   ]
  },
  {
   "cell_type": "markdown",
   "id": "a097be08",
   "metadata": {},
   "source": [
    "**Not:** Bu operatör **=>** ile karıştırılmamalıdır."
   ]
  },
  {
   "cell_type": "code",
   "execution_count": 35,
   "id": "240be107",
   "metadata": {},
   "outputs": [
    {
     "ename": "SyntaxError",
     "evalue": "cannot assign to literal (1651598423.py, line 1)",
     "output_type": "error",
     "traceback": [
      "\u001b[1;36m  File \u001b[1;32m\"C:\\Users\\Zeki\\AppData\\Local\\Temp\\ipykernel_11820\\1651598423.py\"\u001b[1;36m, line \u001b[1;32m1\u001b[0m\n\u001b[1;33m    5 => 2 # hata meydana gelir!\u001b[0m\n\u001b[1;37m    ^\u001b[0m\n\u001b[1;31mSyntaxError\u001b[0m\u001b[1;31m:\u001b[0m cannot assign to literal\n"
     ]
    }
   ],
   "source": [
    "5 => 2 # hata meydana gelir!"
   ]
  },
  {
   "cell_type": "markdown",
   "id": "94839b38",
   "metadata": {},
   "source": [
    "### <= Operatörü\n",
    "Soldaki ifade diğerinden küçük veya diğerine eşitse **True**, aksi halde **False** sonucunu döndürür. İki ifade de aynı veri türünde olmalıdır."
   ]
  },
  {
   "cell_type": "code",
   "execution_count": 36,
   "id": "3af46c9a",
   "metadata": {},
   "outputs": [
    {
     "data": {
      "text/plain": [
       "True"
      ]
     },
     "execution_count": 36,
     "metadata": {},
     "output_type": "execute_result"
    }
   ],
   "source": [
    "2 <= 10"
   ]
  },
  {
   "cell_type": "markdown",
   "id": "0cba3a1f",
   "metadata": {},
   "source": [
    "## 4. Mantıksal Operatörler (and, or, not)\n",
    "Diğer birçok programlama diline göre, karakterlerle değil, kelimelerle ifade edilirler."
   ]
  },
  {
   "cell_type": "markdown",
   "id": "707b737d",
   "metadata": {},
   "source": [
    "### and Operatörü\n",
    "İki koşul arasına yazılır. İki koşul da sağlanıyorsa, sonucu **True** döndürür. Aksi durumda **False** döndürür."
   ]
  },
  {
   "cell_type": "code",
   "execution_count": 37,
   "id": "e8d695a7",
   "metadata": {},
   "outputs": [
    {
     "data": {
      "text/plain": [
       "True"
      ]
     },
     "execution_count": 37,
     "metadata": {},
     "output_type": "execute_result"
    }
   ],
   "source": [
    "(5 > 2) and (10 < 33)"
   ]
  },
  {
   "cell_type": "code",
   "execution_count": 38,
   "id": "d9bcf53b",
   "metadata": {},
   "outputs": [
    {
     "data": {
      "text/plain": [
       "False"
      ]
     },
     "execution_count": 38,
     "metadata": {},
     "output_type": "execute_result"
    }
   ],
   "source": [
    "(5 > 2) and (100 < 33)"
   ]
  },
  {
   "cell_type": "markdown",
   "id": "47b29f46",
   "metadata": {},
   "source": [
    "### or Operatörü\n",
    "İki koşul arasına yazılır. İki koşuldan en az biri sağlanıyorsa, sonucu **True** döndürür. Aksi durumda **False** döndürür."
   ]
  },
  {
   "cell_type": "code",
   "execution_count": 39,
   "id": "01285fcc",
   "metadata": {},
   "outputs": [
    {
     "data": {
      "text/plain": [
       "True"
      ]
     },
     "execution_count": 39,
     "metadata": {},
     "output_type": "execute_result"
    }
   ],
   "source": [
    "(5 > 2) or (10 < 33)"
   ]
  },
  {
   "cell_type": "code",
   "execution_count": 40,
   "id": "b6d3f708",
   "metadata": {},
   "outputs": [
    {
     "data": {
      "text/plain": [
       "True"
      ]
     },
     "execution_count": 40,
     "metadata": {},
     "output_type": "execute_result"
    }
   ],
   "source": [
    "(5 > 2) or (100 < 33)"
   ]
  },
  {
   "cell_type": "code",
   "execution_count": 41,
   "id": "52b1eddb",
   "metadata": {},
   "outputs": [
    {
     "data": {
      "text/plain": [
       "False"
      ]
     },
     "execution_count": 41,
     "metadata": {},
     "output_type": "execute_result"
    }
   ],
   "source": [
    "(5 < 2) or (100 < 33) # iki koşul da sağlanmıyor."
   ]
  },
  {
   "cell_type": "markdown",
   "id": "fba6c730",
   "metadata": {},
   "source": [
    "### not Operatörü\n",
    "**True** olan sonucu **False**, **False** olan bir sonucu **True** yapar."
   ]
  },
  {
   "cell_type": "code",
   "execution_count": 42,
   "id": "8f8aaf2c",
   "metadata": {},
   "outputs": [
    {
     "data": {
      "text/plain": [
       "False"
      ]
     },
     "execution_count": 42,
     "metadata": {},
     "output_type": "execute_result"
    }
   ],
   "source": [
    "sonuc = True\n",
    "not sonuc"
   ]
  },
  {
   "cell_type": "code",
   "execution_count": 43,
   "id": "d8a0ae36",
   "metadata": {},
   "outputs": [
    {
     "data": {
      "text/plain": [
       "True"
      ]
     },
     "execution_count": 43,
     "metadata": {},
     "output_type": "execute_result"
    }
   ],
   "source": [
    "not 5 < 2"
   ]
  },
  {
   "cell_type": "markdown",
   "id": "89e43b83",
   "metadata": {},
   "source": [
    "## 5. Diğer Operatörler (in)"
   ]
  },
  {
   "cell_type": "markdown",
   "id": "220c8e52",
   "metadata": {},
   "source": [
    "### in Operatörü\n",
    "Aranan değer, aranan yerde ise **True** döndürür, aksi durumda **False** döndürür.<br>\n",
    "Aranan yerin; str, list, tuple, dict olduğu durumda (yani iterable) çalışır. Aksi durumda çalışmaz!"
   ]
  },
  {
   "cell_type": "code",
   "execution_count": 44,
   "id": "385aa8b6",
   "metadata": {},
   "outputs": [
    {
     "name": "stdout",
     "output_type": "stream",
     "text": [
      "True\n",
      "False\n"
     ]
    }
   ],
   "source": [
    "aranan = \"a\"\n",
    "aranan_yer = \"merhaba\"\n",
    "\n",
    "print(aranan in aranan_yer)\n",
    "print(\"z\" in \"istanbul\")"
   ]
  },
  {
   "cell_type": "code",
   "execution_count": 45,
   "id": "ec9705f0",
   "metadata": {},
   "outputs": [
    {
     "ename": "TypeError",
     "evalue": "argument of type 'int' is not iterable",
     "output_type": "error",
     "traceback": [
      "\u001b[1;31m---------------------------------------------------------------------------\u001b[0m",
      "\u001b[1;31mTypeError\u001b[0m                                 Traceback (most recent call last)",
      "\u001b[1;32m~\\AppData\\Local\\Temp\\ipykernel_11820\\667819169.py\u001b[0m in \u001b[0;36m<module>\u001b[1;34m\u001b[0m\n\u001b[0;32m      2\u001b[0m \u001b[0msayi\u001b[0m \u001b[1;33m=\u001b[0m \u001b[1;36m300\u001b[0m\u001b[1;33m\u001b[0m\u001b[1;33m\u001b[0m\u001b[0m\n\u001b[0;32m      3\u001b[0m \u001b[1;33m\u001b[0m\u001b[0m\n\u001b[1;32m----> 4\u001b[1;33m \u001b[0maranan\u001b[0m \u001b[1;32min\u001b[0m \u001b[0msayi\u001b[0m \u001b[1;31m# int veya float iterable değildir!\u001b[0m\u001b[1;33m\u001b[0m\u001b[1;33m\u001b[0m\u001b[0m\n\u001b[0m",
      "\u001b[1;31mTypeError\u001b[0m: argument of type 'int' is not iterable"
     ]
    }
   ],
   "source": [
    "aranan = 3\n",
    "sayi = 300\n",
    "\n",
    "aranan in sayi # int veya float iterable değildir!"
   ]
  },
  {
   "cell_type": "code",
   "execution_count": 46,
   "id": "e7c5eebd",
   "metadata": {},
   "outputs": [
    {
     "name": "stdout",
     "output_type": "stream",
     "text": [
      "True\n",
      "False\n"
     ]
    }
   ],
   "source": [
    "print(5 in [3, 4, 5])                                 # liste içinde arama sonucu: True\n",
    "print(\"ayşe\" in (\"erdal\", \"ebru\", \"ahmet\", \"burcu\"))  # demet içinde arama sonucu: True"
   ]
  },
  {
   "cell_type": "markdown",
   "id": "43ba546e",
   "metadata": {},
   "source": [
    "**Not:** in operatörü sözlükler içinde de çalışır. Ancak sadece anahtar (key) araması yapabilir."
   ]
  },
  {
   "cell_type": "code",
   "execution_count": 47,
   "id": "b8db96f9",
   "metadata": {},
   "outputs": [
    {
     "name": "stdout",
     "output_type": "stream",
     "text": [
      "True\n",
      "False\n"
     ]
    }
   ],
   "source": [
    "print(\"bir\" in {\"bir\": \"python\", \"iki\": \"java\"})              # sözlük içinde \"anahtar\" araması sonucu: True\n",
    "print(\"python\" in {\"bir\": \"python\", \"iki\": \"java\"})           # sözlük içinde \"anahtar\" araması sonucu: False"
   ]
  },
  {
   "cell_type": "markdown",
   "id": "91cf8cab",
   "metadata": {},
   "source": [
    "# KOŞULLU İFADELER\n",
    "if ... elif ... else"
   ]
  },
  {
   "cell_type": "markdown",
   "id": "2413937f",
   "metadata": {},
   "source": [
    "## IF\n",
    "Koşul sağlanıyorsa, koşullu ifadeye bağlı olan kodlar çalışır."
   ]
  },
  {
   "cell_type": "code",
   "execution_count": 48,
   "id": "3e494c07",
   "metadata": {},
   "outputs": [
    {
     "name": "stdout",
     "output_type": "stream",
     "text": [
      "5, 2'den büyüktür.\n"
     ]
    }
   ],
   "source": [
    "if 5 > 2: \n",
    "    print(\"5, 2'den büyüktür.\") # indent (4 adet boşluk veya Tab)"
   ]
  },
  {
   "cell_type": "code",
   "execution_count": 49,
   "id": "1916a6ba",
   "metadata": {},
   "outputs": [
    {
     "name": "stdout",
     "output_type": "stream",
     "text": [
      "5, 2'den büyüktür.\n",
      "ikinci satır\n"
     ]
    }
   ],
   "source": [
    "if 5 > 2: print(\"5, 2'den büyüktür.\"); print(\"ikinci satır\")"
   ]
  },
  {
   "cell_type": "code",
   "execution_count": 50,
   "id": "9b05f6e8",
   "metadata": {},
   "outputs": [
    {
     "name": "stdout",
     "output_type": "stream",
     "text": [
      "Lütfen bir sayı giriniz:\n",
      "30\n",
      "Girdiğiniz sayı 10'dan büyüktür.\n"
     ]
    }
   ],
   "source": [
    "girilen = int(input(\"Lütfen bir sayı giriniz:\\n\"))\n",
    "\n",
    "if girilen > 10:\n",
    "    print(\"Girdiğiniz sayı 10'dan büyüktür.\")\n",
    "\n",
    "#   sadece if kullanıldığında,\n",
    "#   10 veya 10'dan küçük değerler girilirse,\n",
    "#   konsola herhangi bir cevap yazılmaz."
   ]
  },
  {
   "cell_type": "markdown",
   "id": "8708f414",
   "metadata": {},
   "source": [
    "## ELIF\n",
    "Öncesinde **if** olmadan kullanılamaz. **if** kısmında verilen koşulun sağlanmaması durumunda, alternatif koşulun denendiği bölümdür. Eğer alternatif koşul sağlanırsa, **elif**'e bağlı olan kodlar da çalışır."
   ]
  },
  {
   "cell_type": "code",
   "execution_count": 51,
   "id": "65c12877",
   "metadata": {},
   "outputs": [
    {
     "name": "stdout",
     "output_type": "stream",
     "text": [
      "Lütfen bir sayı giriniz:\n",
      "10\n",
      "Girdiğiniz sayı 10'dur.\n"
     ]
    }
   ],
   "source": [
    "girilen = int(input(\"Lütfen bir sayı giriniz:\\n\"))\n",
    "\n",
    "if girilen > 10:\n",
    "    print(\"Girdiğiniz sayı 10'dan büyüktür.\")\n",
    "\n",
    "elif girilen < 10:\n",
    "    print(\"Girdiğiniz sayı 10'dan küçüktür.\")\n",
    "\n",
    "elif girilen == 10:\n",
    "    print(\"Girdiğiniz sayı 10'dur.\")"
   ]
  },
  {
   "cell_type": "markdown",
   "id": "fc0f89f6",
   "metadata": {},
   "source": [
    "## ELSE\n",
    "Öncesinde mutlaka **if**, bazen de **elif** bulunur. **if** ve **elif**'te belirtilen koşulların sağlanmaması durumunda, geriye kalan tüm durumları temsil ederek, kendisine bağlı olan kodları çalıştırır."
   ]
  },
  {
   "cell_type": "code",
   "execution_count": 52,
   "id": "f53be228",
   "metadata": {},
   "outputs": [
    {
     "name": "stdout",
     "output_type": "stream",
     "text": [
      "Lütfen bir sayı giriniz:\n",
      "333\n",
      "Girdiğiniz sayı 1, 5 ve 10'dan farklı pozitif bir sayıdır.\n"
     ]
    }
   ],
   "source": [
    "girilen = int(input(\"Lütfen bir sayı giriniz:\\n\"))\n",
    "\n",
    "if girilen < 0:\n",
    "    print(\"Girdiğiniz sayı negatiftir.\")\n",
    "\n",
    "elif girilen == 10:\n",
    "    print(\"Girdiğiniz sayı 10'dur.\")\n",
    "\n",
    "elif girilen == 5:\n",
    "    print(\"Girdiğiniz sayı 5'tir.\")\n",
    "\n",
    "elif girilen == 1:\n",
    "    print(\"Girdiğiniz sayı 1'dir.\")\n",
    "\n",
    "#   Bu bölüm negatif girilen değerlerin, 1, 5 ve 10 değerlerinin dışında \n",
    "#   geriye kalan tüm durumları kapsar.\n",
    "else:\n",
    "    print(\"Girdiğiniz sayı 1, 5 ve 10'dan farklı pozitif bir sayıdır.\")"
   ]
  },
  {
   "cell_type": "code",
   "execution_count": 53,
   "id": "54462c87",
   "metadata": {},
   "outputs": [
    {
     "name": "stdout",
     "output_type": "stream",
     "text": [
      "Lütfen bir sayı giriniz:\n",
      "-99\n",
      "Girdiğiniz sayı negatiftir.\n"
     ]
    }
   ],
   "source": [
    "girilen = int(input(\"Lütfen bir sayı giriniz:\\n\"))\n",
    "\n",
    "if girilen < 0:\n",
    "    print(\"Girdiğiniz sayı negatiftir.\")\n",
    "else:\n",
    "    print(\"Girdiğiniz sayı pozitiftir.\")"
   ]
  },
  {
   "cell_type": "markdown",
   "id": "cf477d11",
   "metadata": {},
   "source": [
    "<hr>\n",
    "<p style=\"text-align:center;font-size:12px\">\n",
    "<b>Öğr. Gör. Zeki ÇIPLAK</b><br>\n",
    "İstanbul Gedik Üniversitesi<br>\n",
    "Gedik MYO / Bilgisayar Programcılığı<br>\n",
    "<a href=\"https://linkedin.com/in/zkcplk\">LinkedIn</a> \n",
    "<a href=\"https://zkcplk.medium.com\">Blog</a> \n",
    "<a href=\"https://youtube.com/@zkcplk\">YouTube</a> \n",
    "</p>"
   ]
  }
 ],
 "metadata": {
  "kernelspec": {
   "display_name": "Python 3 (ipykernel)",
   "language": "python",
   "name": "python3"
  },
  "language_info": {
   "codemirror_mode": {
    "name": "ipython",
    "version": 3
   },
   "file_extension": ".py",
   "mimetype": "text/x-python",
   "name": "python",
   "nbconvert_exporter": "python",
   "pygments_lexer": "ipython3",
   "version": "3.9.13"
  }
 },
 "nbformat": 4,
 "nbformat_minor": 5
}
