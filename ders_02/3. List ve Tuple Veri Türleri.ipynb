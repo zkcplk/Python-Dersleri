{
 "cells": [
  {
   "cell_type": "markdown",
   "id": "23da4778",
   "metadata": {},
   "source": [
    "# LIST Veri Türü"
   ]
  },
  {
   "cell_type": "markdown",
   "id": "88fcb915",
   "metadata": {},
   "source": [
    "Diğer programlama dillerinde Array (Dizi) olarak da adlandırılan çok amaçlı veri türüdür. Listelerde, belli bir veri türüne ait değerler olabildiği gibi, birçok farklı veri türüne ait değerler de bulunabilir."
   ]
  },
  {
   "cell_type": "markdown",
   "id": "004f0402",
   "metadata": {},
   "source": [
    "# Boş bir liste oluşturmak"
   ]
  },
  {
   "cell_type": "code",
   "execution_count": 1,
   "id": "1f10bc18",
   "metadata": {},
   "outputs": [
    {
     "name": "stdout",
     "output_type": "stream",
     "text": [
      "<class 'list'> <class 'list'>\n"
     ]
    }
   ],
   "source": [
    "liste1 = list() # Shift + Tab tuşları ile nasıl çalıştığı hakkında bilgi edinilebilir.\n",
    "liste2 = [   ]\n",
    "\n",
    "print(type(liste1), type(liste2))"
   ]
  },
  {
   "cell_type": "markdown",
   "id": "a2b68402",
   "metadata": {},
   "source": [
    "# Dolu bir liste oluşturmak"
   ]
  },
  {
   "cell_type": "code",
   "execution_count": 2,
   "id": "4db64139",
   "metadata": {},
   "outputs": [
    {
     "name": "stdout",
     "output_type": "stream",
     "text": [
      "['ekmek', 'gazete', 'süt']\n"
     ]
    }
   ],
   "source": [
    "listem = list([\"ekmek\",\"gazete\",\"süt\"]) # list() fonksiyonu kullanılsa da, [ ... ] şeklinde yazılır.\n",
    "print(listem)"
   ]
  },
  {
   "cell_type": "code",
   "execution_count": 3,
   "id": "6feb90c7",
   "metadata": {},
   "outputs": [
    {
     "name": "stdout",
     "output_type": "stream",
     "text": [
      "['ali', 'veli', 49, 50, 3.14, True]\n",
      "['elma', 'portakal', 'muz', 'çilek']\n",
      "[3, 5, 7, 29, 34, 102, 315]\n"
     ]
    }
   ],
   "source": [
    "liste = list([\"ali\", \"veli\", 49, 50, 3.14, True])  # her tür veri barındıran liste\n",
    "meyveler = [\"elma\", \"portakal\", \"muz\", \"çilek\"]  # sadece String veri barındıran liste\n",
    "sayilar = [3, 5, 7, 29, 34, 102, 315]  # sadece Int veri barındıran liste\n",
    "\n",
    "print(liste,meyveler,sayilar, sep=\"\\n\")"
   ]
  },
  {
   "cell_type": "markdown",
   "id": "a6c22b3e",
   "metadata": {},
   "source": [
    "# Liste indisleri"
   ]
  },
  {
   "cell_type": "markdown",
   "id": "963eb1a1",
   "metadata": {},
   "source": [
    "String veri türünde her harfin bir indis numarası olduğu gibi, bir liste içerisindeki her elemanın da bir indis numarası vardır. Bu indis numarası sıfırdan başlar. Negatif indisleme sondan başlar ve ilk değeri yine -1'dir. "
   ]
  },
  {
   "cell_type": "code",
   "execution_count": 4,
   "id": "86ca1477",
   "metadata": {},
   "outputs": [
    {
     "name": "stdout",
     "output_type": "stream",
     "text": [
      "['elma', 'portakal', 'muz', 'çilek']\n"
     ]
    }
   ],
   "source": [
    "print(meyveler)"
   ]
  },
  {
   "cell_type": "code",
   "execution_count": 5,
   "id": "247c31a5",
   "metadata": {},
   "outputs": [
    {
     "name": "stdout",
     "output_type": "stream",
     "text": [
      "meyveler listesinin 1. elemanı:  elma\n"
     ]
    }
   ],
   "source": [
    "print(\"meyveler listesinin 1. elemanı: \", meyveler[0])"
   ]
  },
  {
   "cell_type": "code",
   "execution_count": 6,
   "id": "2e0e0b8f",
   "metadata": {},
   "outputs": [
    {
     "name": "stdout",
     "output_type": "stream",
     "text": [
      "meyveler listesinin son elemanı:  çilek\n"
     ]
    }
   ],
   "source": [
    "print(\"meyveler listesinin son elemanı: \", meyveler[-1])"
   ]
  },
  {
   "cell_type": "code",
   "execution_count": 7,
   "id": "6a9c3f4e",
   "metadata": {},
   "outputs": [
    {
     "name": "stdout",
     "output_type": "stream",
     "text": [
      "meyveler listesinin sondan bir önceki elemanı:  muz\n"
     ]
    }
   ],
   "source": [
    "print(\"meyveler listesinin sondan bir önceki elemanı: \", meyveler[-2])"
   ]
  },
  {
   "cell_type": "code",
   "execution_count": 8,
   "id": "e383c741",
   "metadata": {},
   "outputs": [
    {
     "name": "stdout",
     "output_type": "stream",
     "text": [
      "4\n"
     ]
    }
   ],
   "source": [
    "# listenin toplam eleman sayısı\n",
    "print(len(meyveler))"
   ]
  },
  {
   "cell_type": "code",
   "execution_count": 9,
   "id": "1f76cded",
   "metadata": {},
   "outputs": [
    {
     "ename": "IndexError",
     "evalue": "list index out of range",
     "output_type": "error",
     "traceback": [
      "\u001b[1;31m---------------------------------------------------------------------------\u001b[0m",
      "\u001b[1;31mIndexError\u001b[0m                                Traceback (most recent call last)",
      "\u001b[1;32m~\\AppData\\Local\\Temp\\ipykernel_5720\\3839306047.py\u001b[0m in \u001b[0;36m<module>\u001b[1;34m\u001b[0m\n\u001b[1;32m----> 1\u001b[1;33m \u001b[0mmeyveler\u001b[0m\u001b[1;33m[\u001b[0m\u001b[0mlen\u001b[0m\u001b[1;33m(\u001b[0m\u001b[0mmeyveler\u001b[0m\u001b[1;33m)\u001b[0m\u001b[1;33m]\u001b[0m \u001b[1;31m# indisler sıfırdan başladığı için, toplam eleman sayısı indis değeri olamaz!\u001b[0m\u001b[1;33m\u001b[0m\u001b[1;33m\u001b[0m\u001b[0m\n\u001b[0m",
      "\u001b[1;31mIndexError\u001b[0m: list index out of range"
     ]
    }
   ],
   "source": [
    "meyveler[len(meyveler)] # indisler sıfırdan başladığı için, toplam eleman sayısı indis değeri olamaz!"
   ]
  },
  {
   "cell_type": "code",
   "execution_count": 10,
   "id": "40cf3f90",
   "metadata": {},
   "outputs": [
    {
     "data": {
      "text/plain": [
       "'çilek'"
      ]
     },
     "execution_count": 10,
     "metadata": {},
     "output_type": "execute_result"
    }
   ],
   "source": [
    "meyveler[len(meyveler)-1] # veya daha kısa yoldan meyveler[-1]"
   ]
  },
  {
   "cell_type": "code",
   "execution_count": 11,
   "id": "5e96f1a8",
   "metadata": {},
   "outputs": [
    {
     "data": {
      "text/plain": [
       "'çilek'"
      ]
     },
     "execution_count": 11,
     "metadata": {},
     "output_type": "execute_result"
    }
   ],
   "source": [
    "meyveler[-1]"
   ]
  },
  {
   "cell_type": "markdown",
   "id": "53113389",
   "metadata": {},
   "source": [
    "# Liste indislerinin değiştirilmesi\n",
    "Listelerin indislerindeki değerler, (String veri türünün aksine) değiştirilebilir. "
   ]
  },
  {
   "cell_type": "code",
   "execution_count": 12,
   "id": "a8abef69",
   "metadata": {},
   "outputs": [
    {
     "name": "stdout",
     "output_type": "stream",
     "text": [
      "['umut', 'furkan', 'muhammed', 'hasan', 'ali', 'yusuf']\n"
     ]
    }
   ],
   "source": [
    "ogrenciler = [\"umut\", \"furkan\", \"muhammed\", \"hasan\", \"ali\", \"yusuf\"]\n",
    "print(ogrenciler)"
   ]
  },
  {
   "cell_type": "code",
   "execution_count": 13,
   "id": "78c2a2f1",
   "metadata": {},
   "outputs": [
    {
     "name": "stdout",
     "output_type": "stream",
     "text": [
      "['ümit', 'furkan', 'muhammed', 'hasan', 'ali', 'yusuf']\n"
     ]
    }
   ],
   "source": [
    "ogrenciler[0] = \"ümit\"\n",
    "print(ogrenciler)"
   ]
  },
  {
   "cell_type": "markdown",
   "id": "02ae24d4",
   "metadata": {},
   "source": [
    "Listeye yeni eleman eklemek için toplam eleman sayısını kullanamayız. Listeye yeni eleman eklemek için  ayrıca bir metot kullanmak gerekir. Tüm liste metotlarının anlatıldığı konuda bundan bahsedilecektir."
   ]
  },
  {
   "cell_type": "code",
   "execution_count": 14,
   "id": "f6115caa",
   "metadata": {},
   "outputs": [
    {
     "data": {
      "text/plain": [
       "6"
      ]
     },
     "execution_count": 14,
     "metadata": {},
     "output_type": "execute_result"
    }
   ],
   "source": [
    "len(ogrenciler)"
   ]
  },
  {
   "cell_type": "code",
   "execution_count": 15,
   "id": "e92270ec",
   "metadata": {},
   "outputs": [
    {
     "ename": "IndexError",
     "evalue": "list assignment index out of range",
     "output_type": "error",
     "traceback": [
      "\u001b[1;31m---------------------------------------------------------------------------\u001b[0m",
      "\u001b[1;31mIndexError\u001b[0m                                Traceback (most recent call last)",
      "\u001b[1;32m~\\AppData\\Local\\Temp\\ipykernel_5720\\3996728202.py\u001b[0m in \u001b[0;36m<module>\u001b[1;34m\u001b[0m\n\u001b[1;32m----> 1\u001b[1;33m \u001b[0mogrenciler\u001b[0m\u001b[1;33m[\u001b[0m\u001b[1;36m6\u001b[0m\u001b[1;33m]\u001b[0m \u001b[1;33m=\u001b[0m \u001b[1;34m\"yeni öğrenci\"\u001b[0m\u001b[1;33m\u001b[0m\u001b[1;33m\u001b[0m\u001b[0m\n\u001b[0m",
      "\u001b[1;31mIndexError\u001b[0m: list assignment index out of range"
     ]
    }
   ],
   "source": [
    "ogrenciler[6] = \"yeni öğrenci\""
   ]
  },
  {
   "cell_type": "markdown",
   "id": "3ea286cf",
   "metadata": {},
   "source": [
    "# Liste parçalama\n",
    "Liste parçalama üç bölümden oluşur.<br>\n",
    "<b>[</b><font color=\"green\">başlangıç</font> <b style=\"color:red\">:</b> <font color=\"navy\">bitiş (<u>dahil değil</u>)</font> <b style=\"color:red\">:</b> atlama<b>]</b><br>\n",
    "\n",
    "* **başlangıç** değeri belirtilmezse, <b>0</b> sayılır.\n",
    "* **bitiş** değeri belirtilmezse, ifadenin <b>sonuna kadar</b> sayılır.\n",
    "* **atlama** değeri belirtilmezse, <b>1</b>  sayılır."
   ]
  },
  {
   "cell_type": "code",
   "execution_count": 16,
   "id": "76b5ffd4",
   "metadata": {},
   "outputs": [
    {
     "name": "stdout",
     "output_type": "stream",
     "text": [
      "['istanbul', 'ankara', 'izmir', 'konya', 'bursa', 'van', 'sivas', 'diyarbakır', 'antalya']\n"
     ]
    }
   ],
   "source": [
    "şehirler = [\"istanbul\",\"ankara\",\"izmir\",\"konya\",\"bursa\",\"van\",\"sivas\",\"diyarbakır\",\"antalya\"]\n",
    "print(şehirler)"
   ]
  },
  {
   "cell_type": "code",
   "execution_count": 17,
   "id": "6f3e08e3",
   "metadata": {},
   "outputs": [
    {
     "data": {
      "text/plain": [
       "['konya', 'bursa', 'van', 'sivas', 'diyarbakır', 'antalya']"
      ]
     },
     "execution_count": 17,
     "metadata": {},
     "output_type": "execute_result"
    }
   ],
   "source": [
    "şehirler[3:]"
   ]
  },
  {
   "cell_type": "code",
   "execution_count": 18,
   "id": "d394447a",
   "metadata": {},
   "outputs": [
    {
     "data": {
      "text/plain": [
       "['konya', 'bursa']"
      ]
     },
     "execution_count": 18,
     "metadata": {},
     "output_type": "execute_result"
    }
   ],
   "source": [
    "şehirler[3:5] # 3. ve 4. indise sahip şehirler yazdırılır. (çünkü 5. dahil değil!)"
   ]
  },
  {
   "cell_type": "code",
   "execution_count": 19,
   "id": "9b72a291",
   "metadata": {},
   "outputs": [
    {
     "data": {
      "text/plain": [
       "['izmir', 'bursa', 'sivas', 'antalya']"
      ]
     },
     "execution_count": 19,
     "metadata": {},
     "output_type": "execute_result"
    }
   ],
   "source": [
    "şehirler[2::2]"
   ]
  },
  {
   "cell_type": "code",
   "execution_count": 20,
   "id": "13a2a4e1",
   "metadata": {},
   "outputs": [
    {
     "data": {
      "text/plain": [
       "['istanbul', 'izmir', 'bursa', 'sivas', 'antalya']"
      ]
     },
     "execution_count": 20,
     "metadata": {},
     "output_type": "execute_result"
    }
   ],
   "source": [
    "şehirler[::2] # 2şer eleman atlayarak sonuç üretir."
   ]
  },
  {
   "cell_type": "code",
   "execution_count": 21,
   "id": "1291b08c",
   "metadata": {},
   "outputs": [
    {
     "data": {
      "text/plain": [
       "['antalya',\n",
       " 'diyarbakır',\n",
       " 'sivas',\n",
       " 'van',\n",
       " 'bursa',\n",
       " 'konya',\n",
       " 'izmir',\n",
       " 'ankara',\n",
       " 'istanbul']"
      ]
     },
     "execution_count": 21,
     "metadata": {},
     "output_type": "execute_result"
    }
   ],
   "source": [
    "şehirler[::-1] # listenin ters çevrilmiş halini döndürür ama şehirler değişkeni değişmez!"
   ]
  },
  {
   "cell_type": "code",
   "execution_count": 22,
   "id": "83c4614e",
   "metadata": {},
   "outputs": [
    {
     "data": {
      "text/plain": [
       "['istanbul',\n",
       " 'ankara',\n",
       " 'izmir',\n",
       " 'konya',\n",
       " 'bursa',\n",
       " 'van',\n",
       " 'sivas',\n",
       " 'diyarbakır',\n",
       " 'antalya']"
      ]
     },
     "execution_count": 22,
     "metadata": {},
     "output_type": "execute_result"
    }
   ],
   "source": [
    "şehirler"
   ]
  },
  {
   "cell_type": "markdown",
   "id": "b870f8ed",
   "metadata": {},
   "source": [
    "# Listelerde toplama"
   ]
  },
  {
   "cell_type": "code",
   "execution_count": 23,
   "id": "3657e518",
   "metadata": {},
   "outputs": [],
   "source": [
    "liste1 = [1, 2, 3, 4, 5]\n",
    "liste2 = [6, 7, 8, 9]"
   ]
  },
  {
   "cell_type": "code",
   "execution_count": 24,
   "id": "029cd85f",
   "metadata": {},
   "outputs": [
    {
     "name": "stdout",
     "output_type": "stream",
     "text": [
      "[1, 2, 3, 4, 5, 6, 7, 8, 9]\n"
     ]
    }
   ],
   "source": [
    "toplam = liste1 + liste2 # bir listeyi diğerine ekleyerek, \n",
    "# iki listenin de elemanlarından oluşan yeni bir liste oluşturur.\n",
    "\n",
    "print(toplam) "
   ]
  },
  {
   "cell_type": "code",
   "execution_count": 25,
   "id": "18f92784",
   "metadata": {},
   "outputs": [
    {
     "data": {
      "text/plain": [
       "list"
      ]
     },
     "execution_count": 25,
     "metadata": {},
     "output_type": "execute_result"
    }
   ],
   "source": [
    "type(toplam) # toplam değişkeni de bir listedir."
   ]
  },
  {
   "cell_type": "markdown",
   "id": "1c72f914",
   "metadata": {},
   "source": [
    "# Listelerde çarpma"
   ]
  },
  {
   "cell_type": "code",
   "execution_count": 26,
   "id": "59f5de29",
   "metadata": {},
   "outputs": [],
   "source": [
    "carpma = liste1 * 3 # üç adet liste1 elemanlarından oluşan yeni bir liste oluşturulur."
   ]
  },
  {
   "cell_type": "code",
   "execution_count": 27,
   "id": "28c222bb",
   "metadata": {},
   "outputs": [
    {
     "data": {
      "text/plain": [
       "[1, 2, 3, 4, 5, 1, 2, 3, 4, 5, 1, 2, 3, 4, 5]"
      ]
     },
     "execution_count": 27,
     "metadata": {},
     "output_type": "execute_result"
    }
   ],
   "source": [
    "carpma"
   ]
  },
  {
   "cell_type": "code",
   "execution_count": 28,
   "id": "c9c84ec3",
   "metadata": {},
   "outputs": [
    {
     "ename": "TypeError",
     "evalue": "can't multiply sequence by non-int of type 'list'",
     "output_type": "error",
     "traceback": [
      "\u001b[1;31m---------------------------------------------------------------------------\u001b[0m",
      "\u001b[1;31mTypeError\u001b[0m                                 Traceback (most recent call last)",
      "\u001b[1;32m~\\AppData\\Local\\Temp\\ipykernel_5720\\409166796.py\u001b[0m in \u001b[0;36m<module>\u001b[1;34m\u001b[0m\n\u001b[1;32m----> 1\u001b[1;33m \u001b[0mliste1\u001b[0m \u001b[1;33m*\u001b[0m \u001b[0mliste2\u001b[0m \u001b[1;31m# listeler birbirleriyle çarpılamaz!\u001b[0m\u001b[1;33m\u001b[0m\u001b[1;33m\u001b[0m\u001b[0m\n\u001b[0m",
      "\u001b[1;31mTypeError\u001b[0m: can't multiply sequence by non-int of type 'list'"
     ]
    }
   ],
   "source": [
    "liste1 * liste2 # listeler birbirleriyle çarpılamaz!"
   ]
  },
  {
   "cell_type": "markdown",
   "id": "7c74bf66",
   "metadata": {},
   "source": [
    "# Liste içinde Liste"
   ]
  },
  {
   "cell_type": "code",
   "execution_count": 29,
   "id": "d46b1457",
   "metadata": {},
   "outputs": [],
   "source": [
    "iciceListe = [1, 2, [\"ali\", \"ayşe\", [True, False], \"esra\", \"emre\"], 7, 8, 9]"
   ]
  },
  {
   "cell_type": "code",
   "execution_count": 30,
   "id": "315f16e7",
   "metadata": {},
   "outputs": [
    {
     "name": "stdout",
     "output_type": "stream",
     "text": [
      "1\n"
     ]
    }
   ],
   "source": [
    "print(iciceListe[0])"
   ]
  },
  {
   "cell_type": "code",
   "execution_count": 31,
   "id": "54c35628",
   "metadata": {},
   "outputs": [
    {
     "name": "stdout",
     "output_type": "stream",
     "text": [
      "['ali', 'ayşe', [True, False], 'esra', 'emre']\n"
     ]
    }
   ],
   "source": [
    "print(iciceListe[2]) # liste içindeki listeye ulaşmak"
   ]
  },
  {
   "cell_type": "code",
   "execution_count": 32,
   "id": "0dc1e859",
   "metadata": {},
   "outputs": [
    {
     "name": "stdout",
     "output_type": "stream",
     "text": [
      "[True, False]\n"
     ]
    }
   ],
   "source": [
    "print(iciceListe[2][2]) # liste içindeki listenin bir elemanına ulaşmak"
   ]
  },
  {
   "cell_type": "code",
   "execution_count": 33,
   "id": "1a5b7e99",
   "metadata": {},
   "outputs": [
    {
     "name": "stdout",
     "output_type": "stream",
     "text": [
      "False\n"
     ]
    }
   ],
   "source": [
    "print(iciceListe[2][2][1])"
   ]
  },
  {
   "cell_type": "markdown",
   "id": "aa8f1b4e",
   "metadata": {},
   "source": [
    "Konuyu daha iyi anlayabilmek adına, liste içindeki diğer listeyi ayrı bir değişkenle kaydedebiliriz."
   ]
  },
  {
   "cell_type": "code",
   "execution_count": 34,
   "id": "a0f90488",
   "metadata": {},
   "outputs": [
    {
     "name": "stdout",
     "output_type": "stream",
     "text": [
      "[1, 2, ['ali', 'ayşe', [True, False], 'esra', 'emre'], 7, 8, 9]\n"
     ]
    }
   ],
   "source": [
    "print(iciceListe)"
   ]
  },
  {
   "cell_type": "code",
   "execution_count": 35,
   "id": "91e41dd9",
   "metadata": {},
   "outputs": [
    {
     "name": "stdout",
     "output_type": "stream",
     "text": [
      "['ali', 'ayşe', [True, False], 'esra', 'emre']\n"
     ]
    }
   ],
   "source": [
    "digerListe = iciceListe[2]\n",
    "print(digerListe)"
   ]
  },
  {
   "cell_type": "code",
   "execution_count": 36,
   "id": "570b0d41",
   "metadata": {},
   "outputs": [
    {
     "data": {
      "text/plain": [
       "[True, False]"
      ]
     },
     "execution_count": 36,
     "metadata": {},
     "output_type": "execute_result"
    }
   ],
   "source": [
    "digerListe[2] # içteki listeyi ayrı bir liste olarak kaydettiğimiz için, \n",
    "# o listenin 2 nolu indisini çağırabiliriz."
   ]
  },
  {
   "cell_type": "markdown",
   "id": "4cde6403",
   "metadata": {},
   "source": [
    "# Listeler ile Matris oluşturmak\n",
    "Python'da iç içe liste mantığıyla, basit bir matris oluşturabiliriz. Daha sonraki derslerimizde, daha performanslı çalışan matrisler ve çeşitli matris işlemleri için <b>Numpy</b> ve <b>Pandas</b> kütüphanelerini kullanacağız."
   ]
  },
  {
   "cell_type": "markdown",
   "id": "63f78eef",
   "metadata": {},
   "source": [
    "<img src=\"data:image/jpeg;base64,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\">"
   ]
  },
  {
   "cell_type": "code",
   "execution_count": 37,
   "id": "227dc49e",
   "metadata": {},
   "outputs": [],
   "source": [
    "# 3x3'lük bir matris örneği\n",
    "matris = [\n",
    "    [1,2,3],\n",
    "    [4,5,6],\n",
    "    [7,8,9]\n",
    "]"
   ]
  },
  {
   "cell_type": "code",
   "execution_count": 38,
   "id": "c6fc3afe",
   "metadata": {},
   "outputs": [
    {
     "data": {
      "text/plain": [
       "[[1, 2, 3], [4, 5, 6], [7, 8, 9]]"
      ]
     },
     "execution_count": 38,
     "metadata": {},
     "output_type": "execute_result"
    }
   ],
   "source": [
    "matris  # yanyana da yazılabilir, fark etmez."
   ]
  },
  {
   "cell_type": "code",
   "execution_count": 39,
   "id": "88baa4fc",
   "metadata": {},
   "outputs": [
    {
     "data": {
      "text/plain": [
       "6"
      ]
     },
     "execution_count": 39,
     "metadata": {},
     "output_type": "execute_result"
    }
   ],
   "source": [
    "# matrisin 2. satır 3. elemanını seçmek\n",
    "matris[1][2]"
   ]
  },
  {
   "cell_type": "markdown",
   "id": "5e294d14",
   "metadata": {},
   "source": [
    "# TUPLE Veri Türü"
   ]
  },
  {
   "cell_type": "markdown",
   "id": "4157704a",
   "metadata": {},
   "source": [
    "Tuple (demet), yapısı itibariyle listelere benzer ama içeriği değiştirilemeyen listeler gibidirler."
   ]
  },
  {
   "cell_type": "markdown",
   "id": "b19fc25e",
   "metadata": {},
   "source": [
    "#   Boş bir tuple oluşturmak"
   ]
  },
  {
   "cell_type": "code",
   "execution_count": 40,
   "id": "76671f06",
   "metadata": {},
   "outputs": [
    {
     "name": "stdout",
     "output_type": "stream",
     "text": [
      "<class 'tuple'> <class 'tuple'>\n"
     ]
    }
   ],
   "source": [
    "demet1 = tuple()\n",
    "demet2 = ()\n",
    "\n",
    "print(type(demet1), type(demet2))"
   ]
  },
  {
   "cell_type": "markdown",
   "id": "b8081c22",
   "metadata": {},
   "source": [
    "#   Dolu bir tuple oluşturmak\n",
    "Listelere benzer şekilde oluşturulur. Köşeli parantez yerine normal parantez kullanılır."
   ]
  },
  {
   "cell_type": "code",
   "execution_count": 41,
   "id": "1d7f3775",
   "metadata": {},
   "outputs": [
    {
     "name": "stdout",
     "output_type": "stream",
     "text": [
      "('masa', 'sandalye', 'bardak', 'tabak', 'çatal', 'kaşık')\n"
     ]
    }
   ],
   "source": [
    "demet = (\"masa\", \"sandalye\", \"bardak\", \"tabak\", \"çatal\", \"kaşık\")\n",
    "print(demet)"
   ]
  },
  {
   "cell_type": "code",
   "execution_count": 42,
   "id": "6aaa8cbb",
   "metadata": {},
   "outputs": [
    {
     "name": "stdout",
     "output_type": "stream",
     "text": [
      "(1, 2, 3, 4, 5, 6)\n"
     ]
    }
   ],
   "source": [
    "sayilar = (1,2,3,4,5,6)\n",
    "print(sayilar)"
   ]
  },
  {
   "cell_type": "code",
   "execution_count": 43,
   "id": "de587346",
   "metadata": {},
   "outputs": [
    {
     "name": "stdout",
     "output_type": "stream",
     "text": [
      "(True, 3.14, 1000, 'Test')\n"
     ]
    }
   ],
   "source": [
    "multi = (True, 3.14, 1000, \"Test\")\n",
    "print(multi)"
   ]
  },
  {
   "cell_type": "code",
   "execution_count": 44,
   "id": "1599e115",
   "metadata": {},
   "outputs": [
    {
     "name": "stdout",
     "output_type": "stream",
     "text": [
      "6 6 4\n"
     ]
    }
   ],
   "source": [
    "print(len(demet), len(sayilar), len(multi)) # toplam eleman sayısı len() fonksiyonu ile bulunur."
   ]
  },
  {
   "cell_type": "markdown",
   "id": "0294c97b",
   "metadata": {},
   "source": [
    "# Tuple indisleri"
   ]
  },
  {
   "cell_type": "code",
   "execution_count": 45,
   "id": "dc464807",
   "metadata": {},
   "outputs": [
    {
     "name": "stdout",
     "output_type": "stream",
     "text": [
      "('masa', 'sandalye', 'bardak', 'tabak', 'çatal', 'kaşık')\n"
     ]
    }
   ],
   "source": [
    "print(demet)"
   ]
  },
  {
   "cell_type": "code",
   "execution_count": 46,
   "id": "4d55e8ec",
   "metadata": {},
   "outputs": [
    {
     "data": {
      "text/plain": [
       "'masa'"
      ]
     },
     "execution_count": 46,
     "metadata": {},
     "output_type": "execute_result"
    }
   ],
   "source": [
    "demet[0] # demet adlı tuple değişkenin 1. elemanını döndürür."
   ]
  },
  {
   "cell_type": "code",
   "execution_count": 47,
   "id": "64fd7e8b",
   "metadata": {},
   "outputs": [
    {
     "data": {
      "text/plain": [
       "'kaşık'"
      ]
     },
     "execution_count": 47,
     "metadata": {},
     "output_type": "execute_result"
    }
   ],
   "source": [
    "demet[-1]"
   ]
  },
  {
   "cell_type": "markdown",
   "id": "5fd58dc2",
   "metadata": {},
   "source": [
    "# Tuple parçalama"
   ]
  },
  {
   "cell_type": "code",
   "execution_count": 48,
   "id": "15f9686f",
   "metadata": {},
   "outputs": [
    {
     "data": {
      "text/plain": [
       "('kaşık', 'çatal', 'tabak', 'bardak', 'sandalye', 'masa')"
      ]
     },
     "execution_count": 48,
     "metadata": {},
     "output_type": "execute_result"
    }
   ],
   "source": [
    "demet[::-1] # demeti tersten dizer ama demet değişkeni değişmez!"
   ]
  },
  {
   "cell_type": "code",
   "execution_count": 49,
   "id": "3e850981",
   "metadata": {},
   "outputs": [
    {
     "data": {
      "text/plain": [
       "('masa', 'sandalye', 'bardak', 'tabak', 'çatal', 'kaşık')"
      ]
     },
     "execution_count": 49,
     "metadata": {},
     "output_type": "execute_result"
    }
   ],
   "source": [
    "demet"
   ]
  },
  {
   "cell_type": "code",
   "execution_count": 50,
   "id": "7812a60b",
   "metadata": {},
   "outputs": [
    {
     "data": {
      "text/plain": [
       "('bardak', 'tabak', 'çatal', 'kaşık')"
      ]
     },
     "execution_count": 50,
     "metadata": {},
     "output_type": "execute_result"
    }
   ],
   "source": [
    "demet[2::]"
   ]
  },
  {
   "cell_type": "code",
   "execution_count": 51,
   "id": "d723e37e",
   "metadata": {},
   "outputs": [
    {
     "data": {
      "text/plain": [
       "('bardak', 'çatal')"
      ]
     },
     "execution_count": 51,
     "metadata": {},
     "output_type": "execute_result"
    }
   ],
   "source": [
    "demet[2:5:2]"
   ]
  },
  {
   "cell_type": "markdown",
   "id": "be94966b",
   "metadata": {},
   "source": [
    "# Tuple toplama"
   ]
  },
  {
   "cell_type": "code",
   "execution_count": 52,
   "id": "5c6f9c79",
   "metadata": {},
   "outputs": [
    {
     "name": "stdout",
     "output_type": "stream",
     "text": [
      "(1, 2, 3, 4, 5, 6)\n"
     ]
    }
   ],
   "source": [
    "dmt1 = (1,2,3)\n",
    "dmt2 = (4,5,6)\n",
    "\n",
    "print(dmt1 + dmt2) # Listelerdeki gibi iki nesneyi bir araya getirir."
   ]
  },
  {
   "cell_type": "markdown",
   "id": "60b0fd31",
   "metadata": {},
   "source": [
    "# Tuple çarpma"
   ]
  },
  {
   "cell_type": "code",
   "execution_count": 53,
   "id": "6abf7d9c",
   "metadata": {},
   "outputs": [
    {
     "name": "stdout",
     "output_type": "stream",
     "text": [
      "(11, 22, 33, 11, 22, 33, 11, 22, 33)\n"
     ]
    }
   ],
   "source": [
    "dt = (11, 22, 33)\n",
    "print(dt * 3) # Yine liste ve string veri türündeki gibi çalışır."
   ]
  },
  {
   "cell_type": "markdown",
   "id": "68024120",
   "metadata": {},
   "source": [
    "# Tuple elemanlarının değeri değiştirilemez!"
   ]
  },
  {
   "cell_type": "code",
   "execution_count": 54,
   "id": "532e383c",
   "metadata": {},
   "outputs": [
    {
     "name": "stdout",
     "output_type": "stream",
     "text": [
      "('kalem', 'defter', 'silgi', 'kimlik')\n"
     ]
    }
   ],
   "source": [
    "t = (\"kalem\",\"defter\",\"silgi\",\"kimlik\")\n",
    "print(t)"
   ]
  },
  {
   "cell_type": "code",
   "execution_count": 55,
   "id": "e45e15ff",
   "metadata": {},
   "outputs": [
    {
     "ename": "TypeError",
     "evalue": "'tuple' object does not support item assignment",
     "output_type": "error",
     "traceback": [
      "\u001b[1;31m---------------------------------------------------------------------------\u001b[0m",
      "\u001b[1;31mTypeError\u001b[0m                                 Traceback (most recent call last)",
      "\u001b[1;32m~\\AppData\\Local\\Temp\\ipykernel_5720\\2133443063.py\u001b[0m in \u001b[0;36m<module>\u001b[1;34m\u001b[0m\n\u001b[1;32m----> 1\u001b[1;33m \u001b[0mt\u001b[0m\u001b[1;33m[\u001b[0m\u001b[1;36m3\u001b[0m\u001b[1;33m]\u001b[0m \u001b[1;33m=\u001b[0m \u001b[1;34m\"öğrenci kimliği\"\u001b[0m \u001b[1;31m# herhangi bir elemanın değerini değiştiremeyiz!\u001b[0m\u001b[1;33m\u001b[0m\u001b[1;33m\u001b[0m\u001b[0m\n\u001b[0m",
      "\u001b[1;31mTypeError\u001b[0m: 'tuple' object does not support item assignment"
     ]
    }
   ],
   "source": [
    "t[3] = \"öğrenci kimliği\" # herhangi bir elemanın değerini değiştiremeyiz!"
   ]
  },
  {
   "cell_type": "markdown",
   "id": "a320c9a1",
   "metadata": {},
   "source": [
    "# Tek elemanlı Tuple oluşturmak"
   ]
  },
  {
   "cell_type": "code",
   "execution_count": 56,
   "id": "677d3c56",
   "metadata": {},
   "outputs": [
    {
     "data": {
      "text/plain": [
       "int"
      ]
     },
     "execution_count": 56,
     "metadata": {},
     "output_type": "execute_result"
    }
   ],
   "source": [
    "dem1 = (100) # BU ŞEKİLDE TEK ELEMANLI TUPLE OLUŞTURULAMAZ, dem1 DEĞİŞKENİ int OLUR!\n",
    "type(dem1)"
   ]
  },
  {
   "cell_type": "code",
   "execution_count": 57,
   "id": "b5600309",
   "metadata": {},
   "outputs": [
    {
     "data": {
      "text/plain": [
       "tuple"
      ]
     },
     "execution_count": 57,
     "metadata": {},
     "output_type": "execute_result"
    }
   ],
   "source": [
    "dem2 = (100, ) # Tek elemanlı Tuple oluşturmak için elemanın yanına MUTLAKA bir virgül eklenmelidir!\n",
    "type(dem2)"
   ]
  },
  {
   "cell_type": "markdown",
   "id": "816c5129",
   "metadata": {},
   "source": [
    "<hr>\n",
    "<p style=\"text-align:center;font-size:12px\">\n",
    "<b>Öğr. Gör. Zeki ÇIPLAK</b><br>\n",
    "İstanbul Gedik Üniversitesi<br>\n",
    "Gedik MYO / Bilgisayar Programcılığı<br>\n",
    "<a href=\"https://linkedin.com/in/zkcplk\">LinkedIn</a> \n",
    "<a href=\"https://zkcplk.medium.com\">Blog</a> \n",
    "<a href=\"https://youtube.com/@zkcplk\">YouTube</a> \n",
    "</p>"
   ]
  }
 ],
 "metadata": {
  "kernelspec": {
   "display_name": "Python 3 (ipykernel)",
   "language": "python",
   "name": "python3"
  },
  "language_info": {
   "codemirror_mode": {
    "name": "ipython",
    "version": 3
   },
   "file_extension": ".py",
   "mimetype": "text/x-python",
   "name": "python",
   "nbconvert_exporter": "python",
   "pygments_lexer": "ipython3",
   "version": "3.9.13"
  }
 },
 "nbformat": 4,
 "nbformat_minor": 5
}
