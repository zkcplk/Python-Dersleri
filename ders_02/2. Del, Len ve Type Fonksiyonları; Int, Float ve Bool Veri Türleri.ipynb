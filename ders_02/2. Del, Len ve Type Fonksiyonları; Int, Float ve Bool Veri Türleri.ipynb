{
 "cells": [
  {
   "cell_type": "markdown",
   "id": "c92ee6ce",
   "metadata": {},
   "source": [
    "# Del fonksiyonu"
   ]
  },
  {
   "cell_type": "markdown",
   "id": "79584352",
   "metadata": {},
   "source": [
    "Python'da oluşturulan bir nesneyi (String, Liste, Tuple ve diğerleri olabilir) silmek için kullanılır. Artık kullanılmayacak olan nesnelerin, hafızada yer israf etmemesi için silinmesi faydalı olabilmektedir."
   ]
  },
  {
   "cell_type": "code",
   "execution_count": 14,
   "id": "7aca47b0",
   "metadata": {},
   "outputs": [
    {
     "name": "stdout",
     "output_type": "stream",
     "text": [
      "String\n"
     ]
    }
   ],
   "source": [
    "test = \"String\"\n",
    "print(test)"
   ]
  },
  {
   "cell_type": "code",
   "execution_count": 15,
   "id": "9dc733b2",
   "metadata": {},
   "outputs": [],
   "source": [
    "del(test) # test değişkeni silniyor..."
   ]
  },
  {
   "cell_type": "code",
   "execution_count": 17,
   "id": "a9c20433",
   "metadata": {},
   "outputs": [
    {
     "ename": "NameError",
     "evalue": "name 'test' is not defined",
     "output_type": "error",
     "traceback": [
      "\u001b[1;31m---------------------------------------------------------------------------\u001b[0m",
      "\u001b[1;31mNameError\u001b[0m                                 Traceback (most recent call last)",
      "\u001b[1;32m~\\AppData\\Local\\Temp\\ipykernel_9224\\3864682188.py\u001b[0m in \u001b[0;36m<module>\u001b[1;34m\u001b[0m\n\u001b[1;32m----> 1\u001b[1;33m \u001b[0mprint\u001b[0m\u001b[1;33m(\u001b[0m\u001b[0mtest\u001b[0m\u001b[1;33m)\u001b[0m \u001b[1;31m# test diye bir değişken artık yok, o yüzden hata verir!\u001b[0m\u001b[1;33m\u001b[0m\u001b[1;33m\u001b[0m\u001b[0m\n\u001b[0m",
      "\u001b[1;31mNameError\u001b[0m: name 'test' is not defined"
     ]
    }
   ],
   "source": [
    "print(test) # test diye bir değişken artık yok, o yüzden hata verir!"
   ]
  },
  {
   "cell_type": "markdown",
   "id": "cd2d4d94",
   "metadata": {},
   "source": [
    "# Len fonksiyonu"
   ]
  },
  {
   "cell_type": "markdown",
   "id": "4410f938",
   "metadata": {},
   "source": [
    "Herhangi bir nesnenin içerdiği toplam eleman sayısını verir. Nesne eğer String ise harf sayısını, Liste ise listedeki eleman sayısını verir. Diğer tüm veri türlerinde de aynı mantıkla çalışır."
   ]
  },
  {
   "cell_type": "code",
   "execution_count": 18,
   "id": "9db2e945",
   "metadata": {},
   "outputs": [],
   "source": [
    "kelime = \"Python\""
   ]
  },
  {
   "cell_type": "code",
   "execution_count": 19,
   "id": "42abc92d",
   "metadata": {},
   "outputs": [
    {
     "data": {
      "text/plain": [
       "6"
      ]
     },
     "execution_count": 19,
     "metadata": {},
     "output_type": "execute_result"
    }
   ],
   "source": [
    "len(kelime)"
   ]
  },
  {
   "cell_type": "markdown",
   "id": "22e8e845",
   "metadata": {},
   "source": [
    "# Type fonksiyonu"
   ]
  },
  {
   "cell_type": "markdown",
   "id": "d343d5b7",
   "metadata": {},
   "source": [
    "Bir değişkenin/değerin/verinin hangi veri türüne ait olduğunu gösteren fonksiyondur."
   ]
  },
  {
   "cell_type": "code",
   "execution_count": 20,
   "id": "dd01b369",
   "metadata": {},
   "outputs": [
    {
     "data": {
      "text/plain": [
       "str"
      ]
     },
     "execution_count": 20,
     "metadata": {},
     "output_type": "execute_result"
    }
   ],
   "source": [
    "cumle = \"Merhaba Arkadaşlar\"\n",
    "type(cumle)"
   ]
  },
  {
   "cell_type": "code",
   "execution_count": 21,
   "id": "3b409031",
   "metadata": {},
   "outputs": [
    {
     "data": {
      "text/plain": [
       "int"
      ]
     },
     "execution_count": 21,
     "metadata": {},
     "output_type": "execute_result"
    }
   ],
   "source": [
    "sayisal = 100\n",
    "type(sayisal)"
   ]
  },
  {
   "cell_type": "code",
   "execution_count": 23,
   "id": "333a176b",
   "metadata": {},
   "outputs": [
    {
     "data": {
      "text/plain": [
       "float"
      ]
     },
     "execution_count": 23,
     "metadata": {},
     "output_type": "execute_result"
    }
   ],
   "source": [
    "ondalik = 3.14\n",
    "type(ondalik)"
   ]
  },
  {
   "cell_type": "code",
   "execution_count": 24,
   "id": "28e180e6",
   "metadata": {},
   "outputs": [
    {
     "data": {
      "text/plain": [
       "bool"
      ]
     },
     "execution_count": 24,
     "metadata": {},
     "output_type": "execute_result"
    }
   ],
   "source": [
    "sonuc = True\n",
    "type(sonuc)"
   ]
  },
  {
   "cell_type": "markdown",
   "id": "37b8fd19",
   "metadata": {},
   "source": [
    "# INT Veri Türü"
   ]
  },
  {
   "cell_type": "markdown",
   "id": "18f2852f",
   "metadata": {},
   "source": [
    "Python'da **pozitif ve negatif tam sayıları** ifade etmek için kulanılır. Python'daki int veri türü; int16, int32 veya int64 olabileceği gibi, bellek boyutuna göre dinamik olarak boyutlandırılabilir. 64 bit sistemlerde 64 bit'lik (int64) bir integer veri türü kullanılabilir. Aynı zamanda bellek boyutunun yetersiz olduğu durumlarda, daha küçük bir veri türü olan int16 kullanılabilir."
   ]
  },
  {
   "cell_type": "code",
   "execution_count": 25,
   "id": "b0505a6d",
   "metadata": {},
   "outputs": [
    {
     "data": {
      "text/plain": [
       "int"
      ]
     },
     "execution_count": 25,
     "metadata": {},
     "output_type": "execute_result"
    }
   ],
   "source": [
    "type(300)"
   ]
  },
  {
   "cell_type": "code",
   "execution_count": 26,
   "id": "e2c35b4d",
   "metadata": {},
   "outputs": [
    {
     "data": {
      "text/plain": [
       "int"
      ]
     },
     "execution_count": 26,
     "metadata": {},
     "output_type": "execute_result"
    }
   ],
   "source": [
    "type(298362543573849594736)"
   ]
  },
  {
   "cell_type": "code",
   "execution_count": 27,
   "id": "04830ec9",
   "metadata": {},
   "outputs": [
    {
     "name": "stdout",
     "output_type": "stream",
     "text": [
      "8\n",
      "3\n",
      "14\n",
      "14\n"
     ]
    }
   ],
   "source": [
    "print(3 + 5)\n",
    "print(7 - 4)\n",
    "print(11 - -3)\n",
    "print(11 - (-3))  # ekstra parantez kullanılabilir."
   ]
  },
  {
   "cell_type": "markdown",
   "id": "ddb4b47b",
   "metadata": {},
   "source": [
    "# FLOAT Veri Türü"
   ]
  },
  {
   "cell_type": "markdown",
   "id": "171051db",
   "metadata": {},
   "source": [
    "Python'da ondalıklı sayıları ifade etmek için kullanılan veri türüdür. Float veri türünün kümesi, Int veri türü kümesini kapsar. O yüzden Float bir ifade ile Int bir ifade toplanabilir."
   ]
  },
  {
   "cell_type": "code",
   "execution_count": 28,
   "id": "fe62f7c3",
   "metadata": {},
   "outputs": [
    {
     "name": "stdout",
     "output_type": "stream",
     "text": [
      "3.14\n",
      "<class 'float'>\n"
     ]
    }
   ],
   "source": [
    "ondalikli = 3.14\n",
    "print(ondalikli)\n",
    "print(type(ondalikli))"
   ]
  },
  {
   "cell_type": "code",
   "execution_count": 31,
   "id": "9a2ce90a",
   "metadata": {},
   "outputs": [
    {
     "name": "stdout",
     "output_type": "stream",
     "text": [
      "<class 'float'>\n",
      "<class 'int'>\n",
      "23.14\n"
     ]
    }
   ],
   "source": [
    "#   Toplama\n",
    "a = 3.14  # float\n",
    "b = 20  # int\n",
    "\n",
    "print(type(a))\n",
    "print(type(b))\n",
    "print(a + b)"
   ]
  },
  {
   "cell_type": "markdown",
   "id": "c7c3e8fa",
   "metadata": {},
   "source": [
    "# BOOL Veri Türü\n",
    "Sadece **True** veya **False** değeri alan değişkenler içeren veri türüdür."
   ]
  },
  {
   "cell_type": "code",
   "execution_count": 32,
   "id": "da4ba9cc",
   "metadata": {},
   "outputs": [
    {
     "name": "stdout",
     "output_type": "stream",
     "text": [
      "<class 'bool'>\n"
     ]
    }
   ],
   "source": [
    "sonuc = True\n",
    "print(type(sonuc))"
   ]
  },
  {
   "cell_type": "code",
   "execution_count": 33,
   "id": "da903ca6",
   "metadata": {},
   "outputs": [
    {
     "name": "stdout",
     "output_type": "stream",
     "text": [
      "<class 'bool'>\n"
     ]
    }
   ],
   "source": [
    "sonuc = False\n",
    "print(type(sonuc))"
   ]
  }
 ],
 "metadata": {
  "kernelspec": {
   "display_name": "Python 3 (ipykernel)",
   "language": "python",
   "name": "python3"
  },
  "language_info": {
   "codemirror_mode": {
    "name": "ipython",
    "version": 3
   },
   "file_extension": ".py",
   "mimetype": "text/x-python",
   "name": "python",
   "nbconvert_exporter": "python",
   "pygments_lexer": "ipython3",
   "version": "3.9.13"
  }
 },
 "nbformat": 4,
 "nbformat_minor": 5
}
