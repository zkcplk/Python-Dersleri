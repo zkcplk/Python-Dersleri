{
 "cells": [
  {
   "cell_type": "markdown",
   "id": "03e1a3d7",
   "metadata": {},
   "source": [
    "# STRING Veri Türü"
   ]
  },
  {
   "cell_type": "code",
   "execution_count": 1,
   "id": "b7df4010",
   "metadata": {},
   "outputs": [
    {
     "name": "stdout",
     "output_type": "stream",
     "text": [
      "Merhaba\n",
      "Merhaba\n",
      "multi line \n",
      "değer içeren \n",
      "değişken oluşturur\n"
     ]
    }
   ],
   "source": [
    "# String değişken oluşturmak\n",
    "s1 = \"Merhaba\"\n",
    "s2 = 'Merhaba'\n",
    "s3 = \"\"\"multi line \n",
    "değer içeren \n",
    "değişken oluşturur\"\"\"\n",
    "\n",
    "print(s1,s2,s3, sep=\"\\n\")"
   ]
  },
  {
   "cell_type": "code",
   "execution_count": 2,
   "id": "00c1eac5",
   "metadata": {},
   "outputs": [
    {
     "name": "stdout",
     "output_type": "stream",
     "text": [
      "Ali bugün saat 12'de okula geldi\n"
     ]
    }
   ],
   "source": [
    "cumle = 'Ali bugün saat 12\\'de okula geldi'\n",
    "print(cumle)"
   ]
  },
  {
   "cell_type": "markdown",
   "id": "97760e73",
   "metadata": {},
   "source": [
    "# String verinin indisleri"
   ]
  },
  {
   "cell_type": "code",
   "execution_count": 3,
   "id": "b1c38774",
   "metadata": {},
   "outputs": [],
   "source": [
    "kelime = \"Python\" "
   ]
  },
  {
   "cell_type": "markdown",
   "id": "22cd6f8f",
   "metadata": {},
   "source": [
    "<b>kelime</b> değişkeninin harflerine tek tek indisler yoluyla ulaşabiliriz. 0 nolu indis ilk harfi temsil eder."
   ]
  },
  {
   "cell_type": "code",
   "execution_count": 4,
   "id": "371f11b9",
   "metadata": {},
   "outputs": [
    {
     "data": {
      "text/plain": [
       "'P'"
      ]
     },
     "execution_count": 4,
     "metadata": {},
     "output_type": "execute_result"
    }
   ],
   "source": [
    "# kelime değişkeninin ilk harfi \n",
    "kelime[0]"
   ]
  },
  {
   "cell_type": "code",
   "execution_count": 5,
   "id": "b5b2344c",
   "metadata": {},
   "outputs": [
    {
     "name": "stdout",
     "output_type": "stream",
     "text": [
      "Python kelimesinin 2. harfi:  y\n"
     ]
    }
   ],
   "source": [
    "print(kelime,\"kelimesinin 2. harfi: \",kelime[1])"
   ]
  },
  {
   "cell_type": "code",
   "execution_count": 6,
   "id": "af3491b1",
   "metadata": {},
   "outputs": [
    {
     "name": "stdout",
     "output_type": "stream",
     "text": [
      "P y t h o n\n"
     ]
    }
   ],
   "source": [
    "print(kelime[0], kelime[1], kelime[2], kelime[3], kelime[4], kelime[5])"
   ]
  },
  {
   "cell_type": "markdown",
   "id": "acd20404",
   "metadata": {},
   "source": [
    "String ifadelerde negatif indisleme de yapılabilir. Negatif indisleme <b>-1'den başlar</b>."
   ]
  },
  {
   "cell_type": "code",
   "execution_count": 7,
   "id": "90a1dcab",
   "metadata": {},
   "outputs": [
    {
     "name": "stdout",
     "output_type": "stream",
     "text": [
      "Python kelimesinin son harfi: n\n"
     ]
    }
   ],
   "source": [
    "print(kelime, \"kelimesinin son harfi:\", kelime[-1])"
   ]
  },
  {
   "cell_type": "markdown",
   "id": "cc026f0e",
   "metadata": {},
   "source": [
    "Üstteki sonucu negatif indisleme yapmadan, aşağıdaki gibi de bulabiliriz."
   ]
  },
  {
   "cell_type": "code",
   "execution_count": 8,
   "id": "9e3a8399",
   "metadata": {},
   "outputs": [
    {
     "name": "stdout",
     "output_type": "stream",
     "text": [
      "Python kelimesinin son harfi: n\n"
     ]
    }
   ],
   "source": [
    "print(kelime, \"kelimesinin son harfi:\", kelime[5])"
   ]
  },
  {
   "cell_type": "code",
   "execution_count": 9,
   "id": "b16d6ebe",
   "metadata": {},
   "outputs": [
    {
     "name": "stdout",
     "output_type": "stream",
     "text": [
      "Python kelimesinin ilk harfi: P\n",
      "Python kelimesinin ilk harfi: P\n"
     ]
    }
   ],
   "source": [
    "print(kelime, \"kelimesinin ilk harfi:\", kelime[-6])\n",
    "print(kelime, \"kelimesinin ilk harfi:\", kelime[0])"
   ]
  },
  {
   "cell_type": "code",
   "execution_count": 10,
   "id": "fb663fca",
   "metadata": {},
   "outputs": [
    {
     "ename": "IndexError",
     "evalue": "string index out of range",
     "output_type": "error",
     "traceback": [
      "\u001b[1;31m---------------------------------------------------------------------------\u001b[0m",
      "\u001b[1;31mIndexError\u001b[0m                                Traceback (most recent call last)",
      "\u001b[1;32m~\\AppData\\Local\\Temp\\ipykernel_9164\\1039042198.py\u001b[0m in \u001b[0;36m<module>\u001b[1;34m\u001b[0m\n\u001b[1;32m----> 1\u001b[1;33m \u001b[0mprint\u001b[0m\u001b[1;33m(\u001b[0m\u001b[0mkelime\u001b[0m\u001b[1;33m,\u001b[0m \u001b[1;34m\"kelimesinin herhangi bir harfi:\"\u001b[0m\u001b[1;33m,\u001b[0m \u001b[0mkelime\u001b[0m\u001b[1;33m[\u001b[0m\u001b[1;36m6\u001b[0m\u001b[1;33m]\u001b[0m\u001b[1;33m)\u001b[0m\u001b[1;33m\u001b[0m\u001b[1;33m\u001b[0m\u001b[0m\n\u001b[0m",
      "\u001b[1;31mIndexError\u001b[0m: string index out of range"
     ]
    }
   ],
   "source": [
    "print(kelime, \"kelimesinin herhangi bir harfi:\", kelime[6])"
   ]
  },
  {
   "cell_type": "markdown",
   "id": "347a9160",
   "metadata": {},
   "source": [
    "Yukarıdaki hatanın sebebi, 6. indisin tanımlı olmamasıdır. \"Python\" ifadesi 6 harflidir ve indis değerleri sıfırdan başladığı için en büyük indis değeri 5 olur. Negatif indisleme yapıldığında da, indis değeri -1'den başladığı için, minimum indis değeri -6 olur. Bunun için aşağıdaki örnek de aynı hatayı verecektir."
   ]
  },
  {
   "cell_type": "code",
   "execution_count": 11,
   "id": "a01673eb",
   "metadata": {},
   "outputs": [
    {
     "ename": "IndexError",
     "evalue": "string index out of range",
     "output_type": "error",
     "traceback": [
      "\u001b[1;31m---------------------------------------------------------------------------\u001b[0m",
      "\u001b[1;31mIndexError\u001b[0m                                Traceback (most recent call last)",
      "\u001b[1;32m~\\AppData\\Local\\Temp\\ipykernel_9164\\1761219515.py\u001b[0m in \u001b[0;36m<module>\u001b[1;34m\u001b[0m\n\u001b[1;32m----> 1\u001b[1;33m \u001b[0mprint\u001b[0m\u001b[1;33m(\u001b[0m\u001b[0mkelime\u001b[0m\u001b[1;33m,\u001b[0m \u001b[1;34m\"kelimesinin herhangi bir harfi:\"\u001b[0m\u001b[1;33m,\u001b[0m \u001b[0mkelime\u001b[0m\u001b[1;33m[\u001b[0m\u001b[1;33m-\u001b[0m\u001b[1;36m7\u001b[0m\u001b[1;33m]\u001b[0m\u001b[1;33m)\u001b[0m\u001b[1;33m\u001b[0m\u001b[1;33m\u001b[0m\u001b[0m\n\u001b[0m",
      "\u001b[1;31mIndexError\u001b[0m: string index out of range"
     ]
    }
   ],
   "source": [
    "print(kelime, \"kelimesinin herhangi bir harfi:\", kelime[-7])"
   ]
  },
  {
   "cell_type": "code",
   "execution_count": 12,
   "id": "839e6368",
   "metadata": {},
   "outputs": [],
   "source": [
    "# -6 -5 -4 -3 -2 -1 \n",
    "#  P  y  t  h  o  n\n",
    "\n",
    "# 0 1 2 3 4 5 \n",
    "# P y t h o n"
   ]
  },
  {
   "cell_type": "markdown",
   "id": "c38f3b4b",
   "metadata": {},
   "source": [
    "# String parçalama "
   ]
  },
  {
   "cell_type": "markdown",
   "id": "5f8bf7f1",
   "metadata": {},
   "source": [
    "String parçalama üç bölümden oluşur.<br>\n",
    "<b>[</b><font color=\"green\">başlangıç</font> <b style=\"color:red\">:</b> <font color=\"navy\">bitiş (<u>dahil değil</u>)</font> <b style=\"color:red\">:</b> atlama<b>]</b><br>\n",
    "\n",
    "* **başlangıç** değeri belirtilmezse, <b>0</b> sayılır.\n",
    "* **bitiş** değeri belirtilmezse, ifadenin <b>sonuna kadar</b> sayılır.\n",
    "* **atlama** değeri belirtilmezse, <b>1</b>  sayılır.\n"
   ]
  },
  {
   "cell_type": "code",
   "execution_count": 13,
   "id": "429f3e2f",
   "metadata": {},
   "outputs": [],
   "source": [
    "cumle = \"İstanbul Gedik Üniversitesi, Bilgisayar Programcılığı\""
   ]
  },
  {
   "cell_type": "code",
   "execution_count": 14,
   "id": "0b53a4a4",
   "metadata": {},
   "outputs": [
    {
     "data": {
      "text/plain": [
       "'bul Ged'"
      ]
     },
     "execution_count": 14,
     "metadata": {},
     "output_type": "execute_result"
    }
   ],
   "source": [
    "cumle[5:12] # 5 dahil, 12 dahil değil!"
   ]
  },
  {
   "cell_type": "code",
   "execution_count": 15,
   "id": "e141f6c7",
   "metadata": {},
   "outputs": [
    {
     "name": "stdout",
     "output_type": "stream",
     "text": [
      "İstanbul G\n"
     ]
    }
   ],
   "source": [
    "print(cumle[:10]) # başlangıç belirtilmediği için 0 sayılır. (Sanki cumle[0:10] yazılmış gibi olur.)"
   ]
  },
  {
   "cell_type": "code",
   "execution_count": 16,
   "id": "56218b7c",
   "metadata": {},
   "outputs": [
    {
     "name": "stdout",
     "output_type": "stream",
     "text": [
      "tnu \n"
     ]
    }
   ],
   "source": [
    "print(cumle[2:10:2]) # en sondaki 2, atlama sayısıdır, 2şer atlayarak ilerlenir."
   ]
  },
  {
   "cell_type": "code",
   "execution_count": 17,
   "id": "acb5783d",
   "metadata": {},
   "outputs": [
    {
     "name": "stdout",
     "output_type": "stream",
     "text": [
      "l Gedik Üniversitesi, Bilgisayar Programcılığı\n"
     ]
    }
   ],
   "source": [
    "print(cumle[7:]) # bitiş ve atlama değerleri girilmemiş o yüzden sonuna kadar 1er atlanarak gidilir."
   ]
  },
  {
   "cell_type": "code",
   "execution_count": 18,
   "id": "be09af9c",
   "metadata": {},
   "outputs": [
    {
     "name": "stdout",
     "output_type": "stream",
     "text": [
      "l Gedik Üniversitesi, Bilgisayar Programcılığı\n"
     ]
    }
   ],
   "source": [
    "print(cumle[7::])"
   ]
  },
  {
   "cell_type": "markdown",
   "id": "14435a3d",
   "metadata": {},
   "source": [
    "Parçalamada kullanılan değerlerin uyumlu olmasına dikkat edilmelidir. Aksi halde, hata oluşmaz ama beklenmeyen veya istenmeyen sonuçlar alınabilir."
   ]
  },
  {
   "cell_type": "code",
   "execution_count": 19,
   "id": "187ba3fb",
   "metadata": {},
   "outputs": [
    {
     "data": {
      "text/plain": [
       "'t'"
      ]
     },
     "execution_count": 19,
     "metadata": {},
     "output_type": "execute_result"
    }
   ],
   "source": [
    "cumle[2:3] # bitiş değeri her zaman başlangıç değerinden büyük olmak zorunda değildir!"
   ]
  },
  {
   "cell_type": "code",
   "execution_count": 20,
   "id": "0f38db0c",
   "metadata": {},
   "outputs": [
    {
     "data": {
      "text/plain": [
       "''"
      ]
     },
     "execution_count": 20,
     "metadata": {},
     "output_type": "execute_result"
    }
   ],
   "source": [
    "cumle[2:2]"
   ]
  },
  {
   "cell_type": "code",
   "execution_count": 21,
   "id": "ee4ad1ae",
   "metadata": {},
   "outputs": [
    {
     "data": {
      "text/plain": [
       "'tanbul Gedik Üniversitesi, Bilgisayar Programcılığ'"
      ]
     },
     "execution_count": 21,
     "metadata": {},
     "output_type": "execute_result"
    }
   ],
   "source": [
    "cumle[2:-1] # -1 son harf demekti."
   ]
  },
  {
   "cell_type": "code",
   "execution_count": 22,
   "id": "fc01afe1",
   "metadata": {},
   "outputs": [
    {
     "data": {
      "text/plain": [
       "'İtnu ei nvriei igsyrPormııı'"
      ]
     },
     "execution_count": 22,
     "metadata": {},
     "output_type": "execute_result"
    }
   ],
   "source": [
    "cumle[::2]"
   ]
  },
  {
   "cell_type": "code",
   "execution_count": 23,
   "id": "6228f6ab",
   "metadata": {},
   "outputs": [
    {
     "data": {
      "text/plain": [
       "'ığılıcmargorP rayasigliB ,isetisrevinÜ kideG lubnatsİ'"
      ]
     },
     "execution_count": 23,
     "metadata": {},
     "output_type": "execute_result"
    }
   ],
   "source": [
    "cumle[::-1] # String bir ifadeyi tersine çevirmek."
   ]
  },
  {
   "cell_type": "code",
   "execution_count": 24,
   "id": "871c17a7",
   "metadata": {},
   "outputs": [
    {
     "data": {
      "text/plain": [
       "'ı'"
      ]
     },
     "execution_count": 24,
     "metadata": {},
     "output_type": "execute_result"
    }
   ],
   "source": [
    "cumle[-1::] # veya cumle[-1:53:] veya cumle[-1:len(cumle):] yazılabilir."
   ]
  },
  {
   "cell_type": "code",
   "execution_count": 25,
   "id": "b860c180",
   "metadata": {},
   "outputs": [
    {
     "data": {
      "text/plain": [
       "'ı'"
      ]
     },
     "execution_count": 25,
     "metadata": {},
     "output_type": "execute_result"
    }
   ],
   "source": [
    "cumle[-1:53:]"
   ]
  },
  {
   "cell_type": "code",
   "execution_count": 26,
   "id": "a6f667cf",
   "metadata": {},
   "outputs": [
    {
     "data": {
      "text/plain": [
       "'ı'"
      ]
     },
     "execution_count": 26,
     "metadata": {},
     "output_type": "execute_result"
    }
   ],
   "source": [
    "cumle[-1:len(cumle):]"
   ]
  },
  {
   "cell_type": "markdown",
   "id": "460f0e3e",
   "metadata": {},
   "source": [
    "# String değişkenin indisindeki değer değiştirilemez!"
   ]
  },
  {
   "cell_type": "markdown",
   "id": "454ca040",
   "metadata": {},
   "source": [
    "String değişkenin indisi kullanılarak, harf harf değişiklik yapıldığında hata meydana gelir. Bu tip işlemler için String metodları kullanılabilir. (İlerideki derslerde değinilecektir)"
   ]
  },
  {
   "cell_type": "code",
   "execution_count": 27,
   "id": "f67666fd",
   "metadata": {},
   "outputs": [
    {
     "name": "stdout",
     "output_type": "stream",
     "text": [
      "Python\n"
     ]
    }
   ],
   "source": [
    "print(kelime)"
   ]
  },
  {
   "cell_type": "code",
   "execution_count": 28,
   "id": "88b7bb88",
   "metadata": {},
   "outputs": [
    {
     "ename": "TypeError",
     "evalue": "'str' object does not support item assignment",
     "output_type": "error",
     "traceback": [
      "\u001b[1;31m---------------------------------------------------------------------------\u001b[0m",
      "\u001b[1;31mTypeError\u001b[0m                                 Traceback (most recent call last)",
      "\u001b[1;32m~\\AppData\\Local\\Temp\\ipykernel_9164\\252109515.py\u001b[0m in \u001b[0;36m<module>\u001b[1;34m\u001b[0m\n\u001b[1;32m----> 1\u001b[1;33m \u001b[0mkelime\u001b[0m\u001b[1;33m[\u001b[0m\u001b[1;36m0\u001b[0m\u001b[1;33m]\u001b[0m \u001b[1;33m=\u001b[0m \u001b[1;34m\"F\"\u001b[0m\u001b[1;33m\u001b[0m\u001b[1;33m\u001b[0m\u001b[0m\n\u001b[0m",
      "\u001b[1;31mTypeError\u001b[0m: 'str' object does not support item assignment"
     ]
    }
   ],
   "source": [
    "kelime[0] = \"F\""
   ]
  },
  {
   "cell_type": "code",
   "execution_count": 29,
   "id": "de46b19c",
   "metadata": {},
   "outputs": [
    {
     "ename": "TypeError",
     "evalue": "'str' object does not support item assignment",
     "output_type": "error",
     "traceback": [
      "\u001b[1;31m---------------------------------------------------------------------------\u001b[0m",
      "\u001b[1;31mTypeError\u001b[0m                                 Traceback (most recent call last)",
      "\u001b[1;32m~\\AppData\\Local\\Temp\\ipykernel_9164\\1538252147.py\u001b[0m in \u001b[0;36m<module>\u001b[1;34m\u001b[0m\n\u001b[1;32m----> 1\u001b[1;33m \u001b[0mkelime\u001b[0m\u001b[1;33m[\u001b[0m\u001b[1;36m3\u001b[0m\u001b[1;33m]\u001b[0m \u001b[1;33m=\u001b[0m \u001b[1;34m\"H\"\u001b[0m\u001b[1;33m\u001b[0m\u001b[1;33m\u001b[0m\u001b[0m\n\u001b[0m",
      "\u001b[1;31mTypeError\u001b[0m: 'str' object does not support item assignment"
     ]
    }
   ],
   "source": [
    "kelime[3] = \"H\""
   ]
  },
  {
   "cell_type": "markdown",
   "id": "67b2cea9",
   "metadata": {},
   "source": [
    "# String değişkenlerin toplanması ve çarpılması"
   ]
  },
  {
   "cell_type": "code",
   "execution_count": 30,
   "id": "fb6f9659",
   "metadata": {},
   "outputs": [
    {
     "name": "stdout",
     "output_type": "stream",
     "text": [
      "Merhaba... Nasılsın? İyi misin?\n",
      "Merhaba... Merhaba... Merhaba... \n"
     ]
    }
   ],
   "source": [
    "str1 = \"Merhaba... \"\n",
    "str2 = \"Nasılsın? \"\n",
    "\n",
    "#   Toplama\n",
    "print(str1 + str2 + \"İyi misin?\")\n",
    "\n",
    "#   Çarpma\n",
    "print(str1 * 3)"
   ]
  },
  {
   "cell_type": "markdown",
   "id": "dd944b93",
   "metadata": {},
   "source": [
    "<hr>\n",
    "<p style=\"text-align:center;font-size:12px\">\n",
    "<b>Öğr. Gör. Zeki ÇIPLAK</b><br>\n",
    "İstanbul Gedik Üniversitesi<br>\n",
    "Gedik MYO / Bilgisayar Programcılığı<br>\n",
    "<a href=\"https://linkedin.com/in/zkcplk\">LinkedIn</a> \n",
    "<a href=\"https://zkcplk.medium.com\">Blog</a> \n",
    "<a href=\"https://youtube.com/@zkcplk\">YouTube</a> \n",
    "</p>"
   ]
  }
 ],
 "metadata": {
  "kernelspec": {
   "display_name": "Python 3 (ipykernel)",
   "language": "python",
   "name": "python3"
  },
  "language_info": {
   "codemirror_mode": {
    "name": "ipython",
    "version": 3
   },
   "file_extension": ".py",
   "mimetype": "text/x-python",
   "name": "python",
   "nbconvert_exporter": "python",
   "pygments_lexer": "ipython3",
   "version": "3.9.13"
  }
 },
 "nbformat": 4,
 "nbformat_minor": 5
}
